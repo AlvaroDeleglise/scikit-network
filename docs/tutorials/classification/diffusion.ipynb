{
 "cells": [
  {
   "cell_type": "markdown",
   "metadata": {},
   "source": [
    "# Diffusion"
   ]
  },
  {
   "cell_type": "markdown",
   "metadata": {},
   "source": [
    "This notebook illustrates the classification of the nodes of a graph by [diffusion](https://scikit-network.readthedocs.io/en/latest/reference/classification.html), based on the labels of a few nodes."
   ]
  },
  {
   "cell_type": "code",
   "execution_count": 1,
   "metadata": {},
   "outputs": [],
   "source": [
    "from IPython.display import SVG"
   ]
  },
  {
   "cell_type": "code",
   "execution_count": 2,
   "metadata": {},
   "outputs": [],
   "source": [
    "import numpy as np"
   ]
  },
  {
   "cell_type": "code",
   "execution_count": 3,
   "metadata": {},
   "outputs": [],
   "source": [
    "from sknetwork.data import karate_club, painters, movie_actor\n",
    "from sknetwork.classification import DiffusionClassifier, BiDiffusionClassifier\n",
    "from sknetwork.visualization import svg_graph, svg_digraph, svg_bigraph"
   ]
  },
  {
   "cell_type": "markdown",
   "metadata": {},
   "source": [
    "## Graphs"
   ]
  },
  {
   "cell_type": "markdown",
   "metadata": {},
   "source": [
    "**Loading**"
   ]
  },
  {
   "cell_type": "code",
   "execution_count": 4,
   "metadata": {},
   "outputs": [],
   "source": [
    "graph = karate_club(metadata=True)\n",
    "adjacency = graph.adjacency\n",
    "position = graph.position\n",
    "labels_true = graph.labels"
   ]
  },
  {
   "cell_type": "markdown",
   "metadata": {},
   "source": [
    "**Classification**"
   ]
  },
  {
   "cell_type": "code",
   "execution_count": 5,
   "metadata": {},
   "outputs": [],
   "source": [
    "seeds = {i: labels_true[i] for i in [0, 33]}"
   ]
  },
  {
   "cell_type": "code",
   "execution_count": 6,
   "metadata": {},
   "outputs": [],
   "source": [
    "diffusion = DiffusionClassifier()\n",
    "labels_pred = diffusion.fit_transform(adjacency, seeds)"
   ]
  },
  {
   "cell_type": "code",
   "execution_count": 7,
   "metadata": {},
   "outputs": [
    {
     "data": {
      "text/plain": [
       "0.97"
      ]
     },
     "execution_count": 7,
     "metadata": {},
     "output_type": "execute_result"
    }
   ],
   "source": [
    "precision = np.round(np.mean(labels_pred == labels_true), 2)\n",
    "precision"
   ]
  },
  {
   "cell_type": "markdown",
   "metadata": {},
   "source": [
    "**Visualization**"
   ]
  },
  {
   "cell_type": "code",
   "execution_count": 8,
   "metadata": {},
   "outputs": [],
   "source": [
    "image = svg_graph(adjacency, position, labels=labels_pred, seeds=seeds)"
   ]
  },
  {
   "cell_type": "code",
   "execution_count": 9,
   "metadata": {},
   "outputs": [
    {
     "data": {
      "image/svg+xml": [
       "<svg height=\"340\" width=\"440\"><path d=\"M 264.44444444444446 200.35714285714286 353.3333333333333 168.21428571428572\" stroke=\"black\" stroke-width=\"1\"/><path d=\"M 264.44444444444446 200.35714285714286 251.11111111111114 143.21428571428572\" stroke=\"black\" stroke-width=\"1\"/><path d=\"M 264.44444444444446 200.35714285714286 304.44444444444446 191.42857142857142\" stroke=\"black\" stroke-width=\"1\"/><path d=\"M 264.44444444444446 200.35714285714286 255.55555555555557 255.71428571428572\" stroke=\"black\" stroke-width=\"1\"/><path d=\"M 264.44444444444446 200.35714285714286 211.1111111111111 275.3571428571429\" stroke=\"black\" stroke-width=\"1\"/><path d=\"M 264.44444444444446 200.35714285714286 264.44444444444446 277.1428571428571\" stroke=\"black\" stroke-width=\"1\"/><path d=\"M 264.44444444444446 200.35714285714286 340.0 186.07142857142858\" stroke=\"black\" stroke-width=\"1\"/><path d=\"M 264.44444444444446 200.35714285714286 282.22222222222223 125.35714285714286\" stroke=\"black\" stroke-width=\"1\"/><path d=\"M 264.44444444444446 200.35714285714286 188.88888888888889 252.1428571428571\" stroke=\"black\" stroke-width=\"1\"/><path d=\"M 264.44444444444446 200.35714285714286 122.22222222222221 212.85714285714283\" stroke=\"black\" stroke-width=\"1\"/><path d=\"M 264.44444444444446 200.35714285714286 335.55555555555554 236.07142857142853\" stroke=\"black\" stroke-width=\"1\"/><path d=\"M 264.44444444444446 200.35714285714286 282.22222222222223 153.92857142857142\" stroke=\"black\" stroke-width=\"1\"/><path d=\"M 264.44444444444446 200.35714285714286 388.8888888888889 216.42857142857142\" stroke=\"black\" stroke-width=\"1\"/><path d=\"M 264.44444444444446 200.35714285714286 331.1111111111111 143.21428571428572\" stroke=\"black\" stroke-width=\"1\"/><path d=\"M 264.44444444444446 200.35714285714286 420.0 202.14285714285714\" stroke=\"black\" stroke-width=\"1\"/><path d=\"M 264.44444444444446 200.35714285714286 153.33333333333334 125.35714285714286\" stroke=\"black\" stroke-width=\"1\"/><path d=\"M 353.3333333333333 168.21428571428572 264.44444444444446 200.35714285714286\" stroke=\"black\" stroke-width=\"1\"/><path d=\"M 353.3333333333333 168.21428571428572 251.11111111111114 143.21428571428572\" stroke=\"black\" stroke-width=\"1\"/><path d=\"M 353.3333333333333 168.21428571428572 304.44444444444446 191.42857142857142\" stroke=\"black\" stroke-width=\"1\"/><path d=\"M 353.3333333333333 168.21428571428572 340.0 186.07142857142858\" stroke=\"black\" stroke-width=\"1\"/><path d=\"M 353.3333333333333 168.21428571428572 282.22222222222223 153.92857142857142\" stroke=\"black\" stroke-width=\"1\"/><path d=\"M 353.3333333333333 168.21428571428572 388.8888888888889 216.42857142857142\" stroke=\"black\" stroke-width=\"1\"/><path d=\"M 353.3333333333333 168.21428571428572 331.1111111111111 143.21428571428572\" stroke=\"black\" stroke-width=\"1\"/><path d=\"M 353.3333333333333 168.21428571428572 420.0 202.14285714285714\" stroke=\"black\" stroke-width=\"1\"/><path d=\"M 353.3333333333333 168.21428571428572 344.44444444444446 107.5\" stroke=\"black\" stroke-width=\"1\"/><path d=\"M 251.11111111111114 143.21428571428572 264.44444444444446 200.35714285714286\" stroke=\"black\" stroke-width=\"1\"/><path d=\"M 251.11111111111114 143.21428571428572 353.3333333333333 168.21428571428572\" stroke=\"black\" stroke-width=\"1\"/><path d=\"M 251.11111111111114 143.21428571428572 304.44444444444446 191.42857142857142\" stroke=\"black\" stroke-width=\"1\"/><path d=\"M 251.11111111111114 143.21428571428572 340.0 186.07142857142858\" stroke=\"black\" stroke-width=\"1\"/><path d=\"M 251.11111111111114 143.21428571428572 282.22222222222223 125.35714285714286\" stroke=\"black\" stroke-width=\"1\"/><path d=\"M 251.11111111111114 143.21428571428572 197.7777777777778 100.35714285714286\" stroke=\"black\" stroke-width=\"1\"/><path d=\"M 251.11111111111114 143.21428571428572 282.22222222222223 153.92857142857142\" stroke=\"black\" stroke-width=\"1\"/><path d=\"M 251.11111111111114 143.21428571428572 122.22222222222221 103.92857142857143\" stroke=\"black\" stroke-width=\"1\"/><path d=\"M 251.11111111111114 143.21428571428572 197.7777777777778 120.0\" stroke=\"black\" stroke-width=\"1\"/><path d=\"M 251.11111111111114 143.21428571428572 260.0 73.57142857142857\" stroke=\"black\" stroke-width=\"1\"/><path d=\"M 304.44444444444446 191.42857142857142 264.44444444444446 200.35714285714286\" stroke=\"black\" stroke-width=\"1\"/><path d=\"M 304.44444444444446 191.42857142857142 353.3333333333333 168.21428571428572\" stroke=\"black\" stroke-width=\"1\"/><path d=\"M 304.44444444444446 191.42857142857142 251.11111111111114 143.21428571428572\" stroke=\"black\" stroke-width=\"1\"/><path d=\"M 304.44444444444446 191.42857142857142 340.0 186.07142857142858\" stroke=\"black\" stroke-width=\"1\"/><path d=\"M 304.44444444444446 191.42857142857142 335.55555555555554 236.07142857142853\" stroke=\"black\" stroke-width=\"1\"/><path d=\"M 304.44444444444446 191.42857142857142 282.22222222222223 153.92857142857142\" stroke=\"black\" stroke-width=\"1\"/><path d=\"M 255.55555555555557 255.71428571428572 264.44444444444446 200.35714285714286\" stroke=\"black\" stroke-width=\"1\"/><path d=\"M 255.55555555555557 255.71428571428572 264.44444444444446 277.1428571428571\" stroke=\"black\" stroke-width=\"1\"/><path d=\"M 255.55555555555557 255.71428571428572 188.88888888888889 252.1428571428571\" stroke=\"black\" stroke-width=\"1\"/><path d=\"M 211.1111111111111 275.3571428571429 264.44444444444446 200.35714285714286\" stroke=\"black\" stroke-width=\"1\"/><path d=\"M 211.1111111111111 275.3571428571429 264.44444444444446 277.1428571428571\" stroke=\"black\" stroke-width=\"1\"/><path d=\"M 211.1111111111111 275.3571428571429 188.88888888888889 252.1428571428571\" stroke=\"black\" stroke-width=\"1\"/><path d=\"M 211.1111111111111 275.3571428571429 220.0 320.0\" stroke=\"black\" stroke-width=\"1\"/><path d=\"M 264.44444444444446 277.1428571428571 264.44444444444446 200.35714285714286\" stroke=\"black\" stroke-width=\"1\"/><path d=\"M 264.44444444444446 277.1428571428571 255.55555555555557 255.71428571428572\" stroke=\"black\" stroke-width=\"1\"/><path d=\"M 264.44444444444446 277.1428571428571 211.1111111111111 275.3571428571429\" stroke=\"black\" stroke-width=\"1\"/><path d=\"M 264.44444444444446 277.1428571428571 220.0 320.0\" stroke=\"black\" stroke-width=\"1\"/><path d=\"M 340.0 186.07142857142858 264.44444444444446 200.35714285714286\" stroke=\"black\" stroke-width=\"1\"/><path d=\"M 340.0 186.07142857142858 353.3333333333333 168.21428571428572\" stroke=\"black\" stroke-width=\"1\"/><path d=\"M 340.0 186.07142857142858 251.11111111111114 143.21428571428572\" stroke=\"black\" stroke-width=\"1\"/><path d=\"M 340.0 186.07142857142858 304.44444444444446 191.42857142857142\" stroke=\"black\" stroke-width=\"1\"/><path d=\"M 282.22222222222223 125.35714285714286 264.44444444444446 200.35714285714286\" stroke=\"black\" stroke-width=\"1\"/><path d=\"M 282.22222222222223 125.35714285714286 251.11111111111114 143.21428571428572\" stroke=\"black\" stroke-width=\"1\"/><path d=\"M 282.22222222222223 125.35714285714286 344.44444444444446 107.5\" stroke=\"black\" stroke-width=\"1\"/><path d=\"M 282.22222222222223 125.35714285714286 260.0 73.57142857142857\" stroke=\"black\" stroke-width=\"1\"/><path d=\"M 282.22222222222223 125.35714285714286 246.66666666666666 82.5\" stroke=\"black\" stroke-width=\"1\"/><path d=\"M 197.7777777777778 100.35714285714286 251.11111111111114 143.21428571428572\" stroke=\"black\" stroke-width=\"1\"/><path d=\"M 197.7777777777778 100.35714285714286 246.66666666666666 82.5\" stroke=\"black\" stroke-width=\"1\"/><path d=\"M 188.88888888888889 252.1428571428571 264.44444444444446 200.35714285714286\" stroke=\"black\" stroke-width=\"1\"/><path d=\"M 188.88888888888889 252.1428571428571 255.55555555555557 255.71428571428572\" stroke=\"black\" stroke-width=\"1\"/><path d=\"M 188.88888888888889 252.1428571428571 211.1111111111111 275.3571428571429\" stroke=\"black\" stroke-width=\"1\"/><path d=\"M 122.22222222222221 212.85714285714283 264.44444444444446 200.35714285714286\" stroke=\"black\" stroke-width=\"1\"/><path d=\"M 335.55555555555554 236.07142857142853 264.44444444444446 200.35714285714286\" stroke=\"black\" stroke-width=\"1\"/><path d=\"M 335.55555555555554 236.07142857142853 304.44444444444446 191.42857142857142\" stroke=\"black\" stroke-width=\"1\"/><path d=\"M 282.22222222222223 153.92857142857142 264.44444444444446 200.35714285714286\" stroke=\"black\" stroke-width=\"1\"/><path d=\"M 282.22222222222223 153.92857142857142 353.3333333333333 168.21428571428572\" stroke=\"black\" stroke-width=\"1\"/><path d=\"M 282.22222222222223 153.92857142857142 251.11111111111114 143.21428571428572\" stroke=\"black\" stroke-width=\"1\"/><path d=\"M 282.22222222222223 153.92857142857142 304.44444444444446 191.42857142857142\" stroke=\"black\" stroke-width=\"1\"/><path d=\"M 282.22222222222223 153.92857142857142 246.66666666666666 82.5\" stroke=\"black\" stroke-width=\"1\"/><path d=\"M 348.88888888888886 43.21428571428571 260.0 73.57142857142857\" stroke=\"black\" stroke-width=\"1\"/><path d=\"M 348.88888888888886 43.21428571428571 246.66666666666666 82.5\" stroke=\"black\" stroke-width=\"1\"/><path d=\"M 273.33333333333337 27.14285714285715 260.0 73.57142857142857\" stroke=\"black\" stroke-width=\"1\"/><path d=\"M 273.33333333333337 27.14285714285715 246.66666666666666 82.5\" stroke=\"black\" stroke-width=\"1\"/><path d=\"M 220.0 320.0 211.1111111111111 275.3571428571429\" stroke=\"black\" stroke-width=\"1\"/><path d=\"M 220.0 320.0 264.44444444444446 277.1428571428571\" stroke=\"black\" stroke-width=\"1\"/><path d=\"M 388.8888888888889 216.42857142857142 264.44444444444446 200.35714285714286\" stroke=\"black\" stroke-width=\"1\"/><path d=\"M 388.8888888888889 216.42857142857142 353.3333333333333 168.21428571428572\" stroke=\"black\" stroke-width=\"1\"/><path d=\"M 313.33333333333337 34.2857142857143 260.0 73.57142857142857\" stroke=\"black\" stroke-width=\"1\"/><path d=\"M 313.33333333333337 34.2857142857143 246.66666666666666 82.5\" stroke=\"black\" stroke-width=\"1\"/><path d=\"M 331.1111111111111 143.21428571428572 264.44444444444446 200.35714285714286\" stroke=\"black\" stroke-width=\"1\"/><path d=\"M 331.1111111111111 143.21428571428572 353.3333333333333 168.21428571428572\" stroke=\"black\" stroke-width=\"1\"/><path d=\"M 331.1111111111111 143.21428571428572 246.66666666666666 82.5\" stroke=\"black\" stroke-width=\"1\"/><path d=\"M 366.6666666666667 61.07142857142858 260.0 73.57142857142857\" stroke=\"black\" stroke-width=\"1\"/><path d=\"M 366.6666666666667 61.07142857142858 246.66666666666666 82.5\" stroke=\"black\" stroke-width=\"1\"/><path d=\"M 420.0 202.14285714285714 264.44444444444446 200.35714285714286\" stroke=\"black\" stroke-width=\"1\"/><path d=\"M 420.0 202.14285714285714 353.3333333333333 168.21428571428572\" stroke=\"black\" stroke-width=\"1\"/><path d=\"M 228.8888888888889 32.50000000000001 260.0 73.57142857142857\" stroke=\"black\" stroke-width=\"1\"/><path d=\"M 228.8888888888889 32.50000000000001 246.66666666666666 82.5\" stroke=\"black\" stroke-width=\"1\"/><path d=\"M 131.11111111111111 68.21428571428572 28.888888888888896 91.42857142857143\" stroke=\"black\" stroke-width=\"1\"/><path d=\"M 131.11111111111111 68.21428571428572 122.22222222222221 103.92857142857143\" stroke=\"black\" stroke-width=\"1\"/><path d=\"M 131.11111111111111 68.21428571428572 171.1111111111111 45.0\" stroke=\"black\" stroke-width=\"1\"/><path d=\"M 131.11111111111111 68.21428571428572 260.0 73.57142857142857\" stroke=\"black\" stroke-width=\"1\"/><path d=\"M 131.11111111111111 68.21428571428572 246.66666666666666 82.5\" stroke=\"black\" stroke-width=\"1\"/><path d=\"M 20.0 116.42857142857142 28.888888888888896 91.42857142857143\" stroke=\"black\" stroke-width=\"1\"/><path d=\"M 20.0 116.42857142857142 122.22222222222221 103.92857142857143\" stroke=\"black\" stroke-width=\"1\"/><path d=\"M 20.0 116.42857142857142 153.33333333333334 125.35714285714286\" stroke=\"black\" stroke-width=\"1\"/><path d=\"M 28.888888888888896 91.42857142857143 131.11111111111111 68.21428571428572\" stroke=\"black\" stroke-width=\"1\"/><path d=\"M 28.888888888888896 91.42857142857143 20.0 116.42857142857142\" stroke=\"black\" stroke-width=\"1\"/><path d=\"M 28.888888888888896 91.42857142857143 153.33333333333334 125.35714285714286\" stroke=\"black\" stroke-width=\"1\"/><path d=\"M 162.22222222222223 20.0 171.1111111111111 45.0\" stroke=\"black\" stroke-width=\"1\"/><path d=\"M 162.22222222222223 20.0 246.66666666666666 82.5\" stroke=\"black\" stroke-width=\"1\"/><path d=\"M 122.22222222222221 103.92857142857143 251.11111111111114 143.21428571428572\" stroke=\"black\" stroke-width=\"1\"/><path d=\"M 122.22222222222221 103.92857142857143 131.11111111111111 68.21428571428572\" stroke=\"black\" stroke-width=\"1\"/><path d=\"M 122.22222222222221 103.92857142857143 20.0 116.42857142857142\" stroke=\"black\" stroke-width=\"1\"/><path d=\"M 122.22222222222221 103.92857142857143 246.66666666666666 82.5\" stroke=\"black\" stroke-width=\"1\"/><path d=\"M 197.7777777777778 120.0 251.11111111111114 143.21428571428572\" stroke=\"black\" stroke-width=\"1\"/><path d=\"M 197.7777777777778 120.0 153.33333333333334 125.35714285714286\" stroke=\"black\" stroke-width=\"1\"/><path d=\"M 197.7777777777778 120.0 246.66666666666666 82.5\" stroke=\"black\" stroke-width=\"1\"/><path d=\"M 171.1111111111111 45.0 131.11111111111111 68.21428571428572\" stroke=\"black\" stroke-width=\"1\"/><path d=\"M 171.1111111111111 45.0 162.22222222222223 20.0\" stroke=\"black\" stroke-width=\"1\"/><path d=\"M 171.1111111111111 45.0 260.0 73.57142857142857\" stroke=\"black\" stroke-width=\"1\"/><path d=\"M 171.1111111111111 45.0 246.66666666666666 82.5\" stroke=\"black\" stroke-width=\"1\"/><path d=\"M 344.44444444444446 107.5 353.3333333333333 168.21428571428572\" stroke=\"black\" stroke-width=\"1\"/><path d=\"M 344.44444444444446 107.5 282.22222222222223 125.35714285714286\" stroke=\"black\" stroke-width=\"1\"/><path d=\"M 344.44444444444446 107.5 260.0 73.57142857142857\" stroke=\"black\" stroke-width=\"1\"/><path d=\"M 344.44444444444446 107.5 246.66666666666666 82.5\" stroke=\"black\" stroke-width=\"1\"/><path d=\"M 153.33333333333334 125.35714285714286 264.44444444444446 200.35714285714286\" stroke=\"black\" stroke-width=\"1\"/><path d=\"M 153.33333333333334 125.35714285714286 20.0 116.42857142857142\" stroke=\"black\" stroke-width=\"1\"/><path d=\"M 153.33333333333334 125.35714285714286 28.888888888888896 91.42857142857143\" stroke=\"black\" stroke-width=\"1\"/><path d=\"M 153.33333333333334 125.35714285714286 197.7777777777778 120.0\" stroke=\"black\" stroke-width=\"1\"/><path d=\"M 153.33333333333334 125.35714285714286 260.0 73.57142857142857\" stroke=\"black\" stroke-width=\"1\"/><path d=\"M 153.33333333333334 125.35714285714286 246.66666666666666 82.5\" stroke=\"black\" stroke-width=\"1\"/><path d=\"M 260.0 73.57142857142857 251.11111111111114 143.21428571428572\" stroke=\"black\" stroke-width=\"1\"/><path d=\"M 260.0 73.57142857142857 282.22222222222223 125.35714285714286\" stroke=\"black\" stroke-width=\"1\"/><path d=\"M 260.0 73.57142857142857 348.88888888888886 43.21428571428571\" stroke=\"black\" stroke-width=\"1\"/><path d=\"M 260.0 73.57142857142857 273.33333333333337 27.14285714285715\" stroke=\"black\" stroke-width=\"1\"/><path d=\"M 260.0 73.57142857142857 313.33333333333337 34.2857142857143\" stroke=\"black\" stroke-width=\"1\"/><path d=\"M 260.0 73.57142857142857 366.6666666666667 61.07142857142858\" stroke=\"black\" stroke-width=\"1\"/><path d=\"M 260.0 73.57142857142857 228.8888888888889 32.50000000000001\" stroke=\"black\" stroke-width=\"1\"/><path d=\"M 260.0 73.57142857142857 131.11111111111111 68.21428571428572\" stroke=\"black\" stroke-width=\"1\"/><path d=\"M 260.0 73.57142857142857 171.1111111111111 45.0\" stroke=\"black\" stroke-width=\"1\"/><path d=\"M 260.0 73.57142857142857 344.44444444444446 107.5\" stroke=\"black\" stroke-width=\"1\"/><path d=\"M 260.0 73.57142857142857 153.33333333333334 125.35714285714286\" stroke=\"black\" stroke-width=\"1\"/><path d=\"M 260.0 73.57142857142857 246.66666666666666 82.5\" stroke=\"black\" stroke-width=\"1\"/><path d=\"M 246.66666666666666 82.5 282.22222222222223 125.35714285714286\" stroke=\"black\" stroke-width=\"1\"/><path d=\"M 246.66666666666666 82.5 197.7777777777778 100.35714285714286\" stroke=\"black\" stroke-width=\"1\"/><path d=\"M 246.66666666666666 82.5 282.22222222222223 153.92857142857142\" stroke=\"black\" stroke-width=\"1\"/><path d=\"M 246.66666666666666 82.5 348.88888888888886 43.21428571428571\" stroke=\"black\" stroke-width=\"1\"/><path d=\"M 246.66666666666666 82.5 273.33333333333337 27.14285714285715\" stroke=\"black\" stroke-width=\"1\"/><path d=\"M 246.66666666666666 82.5 313.33333333333337 34.2857142857143\" stroke=\"black\" stroke-width=\"1\"/><path d=\"M 246.66666666666666 82.5 331.1111111111111 143.21428571428572\" stroke=\"black\" stroke-width=\"1\"/><path d=\"M 246.66666666666666 82.5 366.6666666666667 61.07142857142858\" stroke=\"black\" stroke-width=\"1\"/><path d=\"M 246.66666666666666 82.5 228.8888888888889 32.50000000000001\" stroke=\"black\" stroke-width=\"1\"/><path d=\"M 246.66666666666666 82.5 131.11111111111111 68.21428571428572\" stroke=\"black\" stroke-width=\"1\"/><path d=\"M 246.66666666666666 82.5 162.22222222222223 20.0\" stroke=\"black\" stroke-width=\"1\"/><path d=\"M 246.66666666666666 82.5 122.22222222222221 103.92857142857143\" stroke=\"black\" stroke-width=\"1\"/><path d=\"M 246.66666666666666 82.5 197.7777777777778 120.0\" stroke=\"black\" stroke-width=\"1\"/><path d=\"M 246.66666666666666 82.5 171.1111111111111 45.0\" stroke=\"black\" stroke-width=\"1\"/><path d=\"M 246.66666666666666 82.5 344.44444444444446 107.5\" stroke=\"black\" stroke-width=\"1\"/><path d=\"M 246.66666666666666 82.5 153.33333333333334 125.35714285714286\" stroke=\"black\" stroke-width=\"1\"/><path d=\"M 246.66666666666666 82.5 260.0 73.57142857142857\" stroke=\"black\" stroke-width=\"1\"/><circle cx=\"264.44444444444446\" cy=\"200.35714285714286\" r=\"7\" style=\"fill:red;stroke:black;stroke-width:1\"/><circle cx=\"353.3333333333333\" cy=\"168.21428571428572\" r=\"7\" style=\"fill:red;stroke:black;stroke-width:1\"/><circle cx=\"251.11111111111114\" cy=\"143.21428571428572\" r=\"7\" style=\"fill:red;stroke:black;stroke-width:1\"/><circle cx=\"304.44444444444446\" cy=\"191.42857142857142\" r=\"7\" style=\"fill:red;stroke:black;stroke-width:1\"/><circle cx=\"255.55555555555557\" cy=\"255.71428571428572\" r=\"7\" style=\"fill:red;stroke:black;stroke-width:1\"/><circle cx=\"211.1111111111111\" cy=\"275.3571428571429\" r=\"7\" style=\"fill:red;stroke:black;stroke-width:1\"/><circle cx=\"264.44444444444446\" cy=\"277.1428571428571\" r=\"7\" style=\"fill:red;stroke:black;stroke-width:1\"/><circle cx=\"340.0\" cy=\"186.07142857142858\" r=\"7\" style=\"fill:red;stroke:black;stroke-width:1\"/><circle cx=\"282.22222222222223\" cy=\"125.35714285714286\" r=\"7\" style=\"fill:blue;stroke:black;stroke-width:1\"/><circle cx=\"197.7777777777778\" cy=\"100.35714285714286\" r=\"7\" style=\"fill:blue;stroke:black;stroke-width:1\"/><circle cx=\"188.88888888888889\" cy=\"252.1428571428571\" r=\"7\" style=\"fill:red;stroke:black;stroke-width:1\"/><circle cx=\"122.22222222222221\" cy=\"212.85714285714283\" r=\"7\" style=\"fill:red;stroke:black;stroke-width:1\"/><circle cx=\"335.55555555555554\" cy=\"236.07142857142853\" r=\"7\" style=\"fill:red;stroke:black;stroke-width:1\"/><circle cx=\"282.22222222222223\" cy=\"153.92857142857142\" r=\"7\" style=\"fill:red;stroke:black;stroke-width:1\"/><circle cx=\"348.88888888888886\" cy=\"43.21428571428571\" r=\"7\" style=\"fill:blue;stroke:black;stroke-width:1\"/><circle cx=\"273.33333333333337\" cy=\"27.14285714285715\" r=\"7\" style=\"fill:blue;stroke:black;stroke-width:1\"/><circle cx=\"220.0\" cy=\"320.0\" r=\"7\" style=\"fill:red;stroke:black;stroke-width:1\"/><circle cx=\"388.8888888888889\" cy=\"216.42857142857142\" r=\"7\" style=\"fill:red;stroke:black;stroke-width:1\"/><circle cx=\"313.33333333333337\" cy=\"34.2857142857143\" r=\"7\" style=\"fill:blue;stroke:black;stroke-width:1\"/><circle cx=\"331.1111111111111\" cy=\"143.21428571428572\" r=\"7\" style=\"fill:red;stroke:black;stroke-width:1\"/><circle cx=\"366.6666666666667\" cy=\"61.07142857142858\" r=\"7\" style=\"fill:blue;stroke:black;stroke-width:1\"/><circle cx=\"420.0\" cy=\"202.14285714285714\" r=\"7\" style=\"fill:red;stroke:black;stroke-width:1\"/><circle cx=\"228.8888888888889\" cy=\"32.50000000000001\" r=\"7\" style=\"fill:blue;stroke:black;stroke-width:1\"/><circle cx=\"131.11111111111111\" cy=\"68.21428571428572\" r=\"7\" style=\"fill:blue;stroke:black;stroke-width:1\"/><circle cx=\"20.0\" cy=\"116.42857142857142\" r=\"7\" style=\"fill:blue;stroke:black;stroke-width:1\"/><circle cx=\"28.888888888888896\" cy=\"91.42857142857143\" r=\"7\" style=\"fill:blue;stroke:black;stroke-width:1\"/><circle cx=\"162.22222222222223\" cy=\"20.0\" r=\"7\" style=\"fill:blue;stroke:black;stroke-width:1\"/><circle cx=\"122.22222222222221\" cy=\"103.92857142857143\" r=\"7\" style=\"fill:blue;stroke:black;stroke-width:1\"/><circle cx=\"197.7777777777778\" cy=\"120.0\" r=\"7\" style=\"fill:blue;stroke:black;stroke-width:1\"/><circle cx=\"171.1111111111111\" cy=\"45.0\" r=\"7\" style=\"fill:blue;stroke:black;stroke-width:1\"/><circle cx=\"344.44444444444446\" cy=\"107.5\" r=\"7\" style=\"fill:blue;stroke:black;stroke-width:1\"/><circle cx=\"153.33333333333334\" cy=\"125.35714285714286\" r=\"7\" style=\"fill:blue;stroke:black;stroke-width:1\"/><circle cx=\"260.0\" cy=\"73.57142857142857\" r=\"7\" style=\"fill:blue;stroke:black;stroke-width:1\"/><circle cx=\"246.66666666666666\" cy=\"82.5\" r=\"7\" style=\"fill:blue;stroke:black;stroke-width:1\"/></svg>"
      ],
      "text/plain": [
       "<IPython.core.display.SVG object>"
      ]
     },
     "execution_count": 9,
     "metadata": {},
     "output_type": "execute_result"
    }
   ],
   "source": [
    "SVG(image)"
   ]
  },
  {
   "cell_type": "markdown",
   "metadata": {},
   "source": [
    "**Soft classification**"
   ]
  },
  {
   "cell_type": "code",
   "execution_count": 10,
   "metadata": {},
   "outputs": [],
   "source": [
    "membership = diffusion.membership_"
   ]
  },
  {
   "cell_type": "code",
   "execution_count": 20,
   "metadata": {},
   "outputs": [],
   "source": [
    "scores = membership[:,1].toarray().ravel()"
   ]
  },
  {
   "cell_type": "markdown",
   "metadata": {},
   "source": [
    "**Visualization**"
   ]
  },
  {
   "cell_type": "code",
   "execution_count": 21,
   "metadata": {},
   "outputs": [],
   "source": [
    "image = svg_graph(adjacency, position, scores=scores, seeds=seeds)"
   ]
  },
  {
   "cell_type": "code",
   "execution_count": 22,
   "metadata": {},
   "outputs": [
    {
     "data": {
      "image/svg+xml": [
       "<svg height=\"340\" width=\"440\"><path d=\"M 264.44444444444446 200.35714285714286 353.3333333333333 168.21428571428572\" stroke=\"black\" stroke-width=\"1\"/><path d=\"M 264.44444444444446 200.35714285714286 251.11111111111114 143.21428571428572\" stroke=\"black\" stroke-width=\"1\"/><path d=\"M 264.44444444444446 200.35714285714286 304.44444444444446 191.42857142857142\" stroke=\"black\" stroke-width=\"1\"/><path d=\"M 264.44444444444446 200.35714285714286 255.55555555555557 255.71428571428572\" stroke=\"black\" stroke-width=\"1\"/><path d=\"M 264.44444444444446 200.35714285714286 211.1111111111111 275.3571428571429\" stroke=\"black\" stroke-width=\"1\"/><path d=\"M 264.44444444444446 200.35714285714286 264.44444444444446 277.1428571428571\" stroke=\"black\" stroke-width=\"1\"/><path d=\"M 264.44444444444446 200.35714285714286 340.0 186.07142857142858\" stroke=\"black\" stroke-width=\"1\"/><path d=\"M 264.44444444444446 200.35714285714286 282.22222222222223 125.35714285714286\" stroke=\"black\" stroke-width=\"1\"/><path d=\"M 264.44444444444446 200.35714285714286 188.88888888888889 252.1428571428571\" stroke=\"black\" stroke-width=\"1\"/><path d=\"M 264.44444444444446 200.35714285714286 122.22222222222221 212.85714285714283\" stroke=\"black\" stroke-width=\"1\"/><path d=\"M 264.44444444444446 200.35714285714286 335.55555555555554 236.07142857142853\" stroke=\"black\" stroke-width=\"1\"/><path d=\"M 264.44444444444446 200.35714285714286 282.22222222222223 153.92857142857142\" stroke=\"black\" stroke-width=\"1\"/><path d=\"M 264.44444444444446 200.35714285714286 388.8888888888889 216.42857142857142\" stroke=\"black\" stroke-width=\"1\"/><path d=\"M 264.44444444444446 200.35714285714286 331.1111111111111 143.21428571428572\" stroke=\"black\" stroke-width=\"1\"/><path d=\"M 264.44444444444446 200.35714285714286 420.0 202.14285714285714\" stroke=\"black\" stroke-width=\"1\"/><path d=\"M 264.44444444444446 200.35714285714286 153.33333333333334 125.35714285714286\" stroke=\"black\" stroke-width=\"1\"/><path d=\"M 353.3333333333333 168.21428571428572 264.44444444444446 200.35714285714286\" stroke=\"black\" stroke-width=\"1\"/><path d=\"M 353.3333333333333 168.21428571428572 251.11111111111114 143.21428571428572\" stroke=\"black\" stroke-width=\"1\"/><path d=\"M 353.3333333333333 168.21428571428572 304.44444444444446 191.42857142857142\" stroke=\"black\" stroke-width=\"1\"/><path d=\"M 353.3333333333333 168.21428571428572 340.0 186.07142857142858\" stroke=\"black\" stroke-width=\"1\"/><path d=\"M 353.3333333333333 168.21428571428572 282.22222222222223 153.92857142857142\" stroke=\"black\" stroke-width=\"1\"/><path d=\"M 353.3333333333333 168.21428571428572 388.8888888888889 216.42857142857142\" stroke=\"black\" stroke-width=\"1\"/><path d=\"M 353.3333333333333 168.21428571428572 331.1111111111111 143.21428571428572\" stroke=\"black\" stroke-width=\"1\"/><path d=\"M 353.3333333333333 168.21428571428572 420.0 202.14285714285714\" stroke=\"black\" stroke-width=\"1\"/><path d=\"M 353.3333333333333 168.21428571428572 344.44444444444446 107.5\" stroke=\"black\" stroke-width=\"1\"/><path d=\"M 251.11111111111114 143.21428571428572 264.44444444444446 200.35714285714286\" stroke=\"black\" stroke-width=\"1\"/><path d=\"M 251.11111111111114 143.21428571428572 353.3333333333333 168.21428571428572\" stroke=\"black\" stroke-width=\"1\"/><path d=\"M 251.11111111111114 143.21428571428572 304.44444444444446 191.42857142857142\" stroke=\"black\" stroke-width=\"1\"/><path d=\"M 251.11111111111114 143.21428571428572 340.0 186.07142857142858\" stroke=\"black\" stroke-width=\"1\"/><path d=\"M 251.11111111111114 143.21428571428572 282.22222222222223 125.35714285714286\" stroke=\"black\" stroke-width=\"1\"/><path d=\"M 251.11111111111114 143.21428571428572 197.7777777777778 100.35714285714286\" stroke=\"black\" stroke-width=\"1\"/><path d=\"M 251.11111111111114 143.21428571428572 282.22222222222223 153.92857142857142\" stroke=\"black\" stroke-width=\"1\"/><path d=\"M 251.11111111111114 143.21428571428572 122.22222222222221 103.92857142857143\" stroke=\"black\" stroke-width=\"1\"/><path d=\"M 251.11111111111114 143.21428571428572 197.7777777777778 120.0\" stroke=\"black\" stroke-width=\"1\"/><path d=\"M 251.11111111111114 143.21428571428572 260.0 73.57142857142857\" stroke=\"black\" stroke-width=\"1\"/><path d=\"M 304.44444444444446 191.42857142857142 264.44444444444446 200.35714285714286\" stroke=\"black\" stroke-width=\"1\"/><path d=\"M 304.44444444444446 191.42857142857142 353.3333333333333 168.21428571428572\" stroke=\"black\" stroke-width=\"1\"/><path d=\"M 304.44444444444446 191.42857142857142 251.11111111111114 143.21428571428572\" stroke=\"black\" stroke-width=\"1\"/><path d=\"M 304.44444444444446 191.42857142857142 340.0 186.07142857142858\" stroke=\"black\" stroke-width=\"1\"/><path d=\"M 304.44444444444446 191.42857142857142 335.55555555555554 236.07142857142853\" stroke=\"black\" stroke-width=\"1\"/><path d=\"M 304.44444444444446 191.42857142857142 282.22222222222223 153.92857142857142\" stroke=\"black\" stroke-width=\"1\"/><path d=\"M 255.55555555555557 255.71428571428572 264.44444444444446 200.35714285714286\" stroke=\"black\" stroke-width=\"1\"/><path d=\"M 255.55555555555557 255.71428571428572 264.44444444444446 277.1428571428571\" stroke=\"black\" stroke-width=\"1\"/><path d=\"M 255.55555555555557 255.71428571428572 188.88888888888889 252.1428571428571\" stroke=\"black\" stroke-width=\"1\"/><path d=\"M 211.1111111111111 275.3571428571429 264.44444444444446 200.35714285714286\" stroke=\"black\" stroke-width=\"1\"/><path d=\"M 211.1111111111111 275.3571428571429 264.44444444444446 277.1428571428571\" stroke=\"black\" stroke-width=\"1\"/><path d=\"M 211.1111111111111 275.3571428571429 188.88888888888889 252.1428571428571\" stroke=\"black\" stroke-width=\"1\"/><path d=\"M 211.1111111111111 275.3571428571429 220.0 320.0\" stroke=\"black\" stroke-width=\"1\"/><path d=\"M 264.44444444444446 277.1428571428571 264.44444444444446 200.35714285714286\" stroke=\"black\" stroke-width=\"1\"/><path d=\"M 264.44444444444446 277.1428571428571 255.55555555555557 255.71428571428572\" stroke=\"black\" stroke-width=\"1\"/><path d=\"M 264.44444444444446 277.1428571428571 211.1111111111111 275.3571428571429\" stroke=\"black\" stroke-width=\"1\"/><path d=\"M 264.44444444444446 277.1428571428571 220.0 320.0\" stroke=\"black\" stroke-width=\"1\"/><path d=\"M 340.0 186.07142857142858 264.44444444444446 200.35714285714286\" stroke=\"black\" stroke-width=\"1\"/><path d=\"M 340.0 186.07142857142858 353.3333333333333 168.21428571428572\" stroke=\"black\" stroke-width=\"1\"/><path d=\"M 340.0 186.07142857142858 251.11111111111114 143.21428571428572\" stroke=\"black\" stroke-width=\"1\"/><path d=\"M 340.0 186.07142857142858 304.44444444444446 191.42857142857142\" stroke=\"black\" stroke-width=\"1\"/><path d=\"M 282.22222222222223 125.35714285714286 264.44444444444446 200.35714285714286\" stroke=\"black\" stroke-width=\"1\"/><path d=\"M 282.22222222222223 125.35714285714286 251.11111111111114 143.21428571428572\" stroke=\"black\" stroke-width=\"1\"/><path d=\"M 282.22222222222223 125.35714285714286 344.44444444444446 107.5\" stroke=\"black\" stroke-width=\"1\"/><path d=\"M 282.22222222222223 125.35714285714286 260.0 73.57142857142857\" stroke=\"black\" stroke-width=\"1\"/><path d=\"M 282.22222222222223 125.35714285714286 246.66666666666666 82.5\" stroke=\"black\" stroke-width=\"1\"/><path d=\"M 197.7777777777778 100.35714285714286 251.11111111111114 143.21428571428572\" stroke=\"black\" stroke-width=\"1\"/><path d=\"M 197.7777777777778 100.35714285714286 246.66666666666666 82.5\" stroke=\"black\" stroke-width=\"1\"/><path d=\"M 188.88888888888889 252.1428571428571 264.44444444444446 200.35714285714286\" stroke=\"black\" stroke-width=\"1\"/><path d=\"M 188.88888888888889 252.1428571428571 255.55555555555557 255.71428571428572\" stroke=\"black\" stroke-width=\"1\"/><path d=\"M 188.88888888888889 252.1428571428571 211.1111111111111 275.3571428571429\" stroke=\"black\" stroke-width=\"1\"/><path d=\"M 122.22222222222221 212.85714285714283 264.44444444444446 200.35714285714286\" stroke=\"black\" stroke-width=\"1\"/><path d=\"M 335.55555555555554 236.07142857142853 264.44444444444446 200.35714285714286\" stroke=\"black\" stroke-width=\"1\"/><path d=\"M 335.55555555555554 236.07142857142853 304.44444444444446 191.42857142857142\" stroke=\"black\" stroke-width=\"1\"/><path d=\"M 282.22222222222223 153.92857142857142 264.44444444444446 200.35714285714286\" stroke=\"black\" stroke-width=\"1\"/><path d=\"M 282.22222222222223 153.92857142857142 353.3333333333333 168.21428571428572\" stroke=\"black\" stroke-width=\"1\"/><path d=\"M 282.22222222222223 153.92857142857142 251.11111111111114 143.21428571428572\" stroke=\"black\" stroke-width=\"1\"/><path d=\"M 282.22222222222223 153.92857142857142 304.44444444444446 191.42857142857142\" stroke=\"black\" stroke-width=\"1\"/><path d=\"M 282.22222222222223 153.92857142857142 246.66666666666666 82.5\" stroke=\"black\" stroke-width=\"1\"/><path d=\"M 348.88888888888886 43.21428571428571 260.0 73.57142857142857\" stroke=\"black\" stroke-width=\"1\"/><path d=\"M 348.88888888888886 43.21428571428571 246.66666666666666 82.5\" stroke=\"black\" stroke-width=\"1\"/><path d=\"M 273.33333333333337 27.14285714285715 260.0 73.57142857142857\" stroke=\"black\" stroke-width=\"1\"/><path d=\"M 273.33333333333337 27.14285714285715 246.66666666666666 82.5\" stroke=\"black\" stroke-width=\"1\"/><path d=\"M 220.0 320.0 211.1111111111111 275.3571428571429\" stroke=\"black\" stroke-width=\"1\"/><path d=\"M 220.0 320.0 264.44444444444446 277.1428571428571\" stroke=\"black\" stroke-width=\"1\"/><path d=\"M 388.8888888888889 216.42857142857142 264.44444444444446 200.35714285714286\" stroke=\"black\" stroke-width=\"1\"/><path d=\"M 388.8888888888889 216.42857142857142 353.3333333333333 168.21428571428572\" stroke=\"black\" stroke-width=\"1\"/><path d=\"M 313.33333333333337 34.2857142857143 260.0 73.57142857142857\" stroke=\"black\" stroke-width=\"1\"/><path d=\"M 313.33333333333337 34.2857142857143 246.66666666666666 82.5\" stroke=\"black\" stroke-width=\"1\"/><path d=\"M 331.1111111111111 143.21428571428572 264.44444444444446 200.35714285714286\" stroke=\"black\" stroke-width=\"1\"/><path d=\"M 331.1111111111111 143.21428571428572 353.3333333333333 168.21428571428572\" stroke=\"black\" stroke-width=\"1\"/><path d=\"M 331.1111111111111 143.21428571428572 246.66666666666666 82.5\" stroke=\"black\" stroke-width=\"1\"/><path d=\"M 366.6666666666667 61.07142857142858 260.0 73.57142857142857\" stroke=\"black\" stroke-width=\"1\"/><path d=\"M 366.6666666666667 61.07142857142858 246.66666666666666 82.5\" stroke=\"black\" stroke-width=\"1\"/><path d=\"M 420.0 202.14285714285714 264.44444444444446 200.35714285714286\" stroke=\"black\" stroke-width=\"1\"/><path d=\"M 420.0 202.14285714285714 353.3333333333333 168.21428571428572\" stroke=\"black\" stroke-width=\"1\"/><path d=\"M 228.8888888888889 32.50000000000001 260.0 73.57142857142857\" stroke=\"black\" stroke-width=\"1\"/><path d=\"M 228.8888888888889 32.50000000000001 246.66666666666666 82.5\" stroke=\"black\" stroke-width=\"1\"/><path d=\"M 131.11111111111111 68.21428571428572 28.888888888888896 91.42857142857143\" stroke=\"black\" stroke-width=\"1\"/><path d=\"M 131.11111111111111 68.21428571428572 122.22222222222221 103.92857142857143\" stroke=\"black\" stroke-width=\"1\"/><path d=\"M 131.11111111111111 68.21428571428572 171.1111111111111 45.0\" stroke=\"black\" stroke-width=\"1\"/><path d=\"M 131.11111111111111 68.21428571428572 260.0 73.57142857142857\" stroke=\"black\" stroke-width=\"1\"/><path d=\"M 131.11111111111111 68.21428571428572 246.66666666666666 82.5\" stroke=\"black\" stroke-width=\"1\"/><path d=\"M 20.0 116.42857142857142 28.888888888888896 91.42857142857143\" stroke=\"black\" stroke-width=\"1\"/><path d=\"M 20.0 116.42857142857142 122.22222222222221 103.92857142857143\" stroke=\"black\" stroke-width=\"1\"/><path d=\"M 20.0 116.42857142857142 153.33333333333334 125.35714285714286\" stroke=\"black\" stroke-width=\"1\"/><path d=\"M 28.888888888888896 91.42857142857143 131.11111111111111 68.21428571428572\" stroke=\"black\" stroke-width=\"1\"/><path d=\"M 28.888888888888896 91.42857142857143 20.0 116.42857142857142\" stroke=\"black\" stroke-width=\"1\"/><path d=\"M 28.888888888888896 91.42857142857143 153.33333333333334 125.35714285714286\" stroke=\"black\" stroke-width=\"1\"/><path d=\"M 162.22222222222223 20.0 171.1111111111111 45.0\" stroke=\"black\" stroke-width=\"1\"/><path d=\"M 162.22222222222223 20.0 246.66666666666666 82.5\" stroke=\"black\" stroke-width=\"1\"/><path d=\"M 122.22222222222221 103.92857142857143 251.11111111111114 143.21428571428572\" stroke=\"black\" stroke-width=\"1\"/><path d=\"M 122.22222222222221 103.92857142857143 131.11111111111111 68.21428571428572\" stroke=\"black\" stroke-width=\"1\"/><path d=\"M 122.22222222222221 103.92857142857143 20.0 116.42857142857142\" stroke=\"black\" stroke-width=\"1\"/><path d=\"M 122.22222222222221 103.92857142857143 246.66666666666666 82.5\" stroke=\"black\" stroke-width=\"1\"/><path d=\"M 197.7777777777778 120.0 251.11111111111114 143.21428571428572\" stroke=\"black\" stroke-width=\"1\"/><path d=\"M 197.7777777777778 120.0 153.33333333333334 125.35714285714286\" stroke=\"black\" stroke-width=\"1\"/><path d=\"M 197.7777777777778 120.0 246.66666666666666 82.5\" stroke=\"black\" stroke-width=\"1\"/><path d=\"M 171.1111111111111 45.0 131.11111111111111 68.21428571428572\" stroke=\"black\" stroke-width=\"1\"/><path d=\"M 171.1111111111111 45.0 162.22222222222223 20.0\" stroke=\"black\" stroke-width=\"1\"/><path d=\"M 171.1111111111111 45.0 260.0 73.57142857142857\" stroke=\"black\" stroke-width=\"1\"/><path d=\"M 171.1111111111111 45.0 246.66666666666666 82.5\" stroke=\"black\" stroke-width=\"1\"/><path d=\"M 344.44444444444446 107.5 353.3333333333333 168.21428571428572\" stroke=\"black\" stroke-width=\"1\"/><path d=\"M 344.44444444444446 107.5 282.22222222222223 125.35714285714286\" stroke=\"black\" stroke-width=\"1\"/><path d=\"M 344.44444444444446 107.5 260.0 73.57142857142857\" stroke=\"black\" stroke-width=\"1\"/><path d=\"M 344.44444444444446 107.5 246.66666666666666 82.5\" stroke=\"black\" stroke-width=\"1\"/><path d=\"M 153.33333333333334 125.35714285714286 264.44444444444446 200.35714285714286\" stroke=\"black\" stroke-width=\"1\"/><path d=\"M 153.33333333333334 125.35714285714286 20.0 116.42857142857142\" stroke=\"black\" stroke-width=\"1\"/><path d=\"M 153.33333333333334 125.35714285714286 28.888888888888896 91.42857142857143\" stroke=\"black\" stroke-width=\"1\"/><path d=\"M 153.33333333333334 125.35714285714286 197.7777777777778 120.0\" stroke=\"black\" stroke-width=\"1\"/><path d=\"M 153.33333333333334 125.35714285714286 260.0 73.57142857142857\" stroke=\"black\" stroke-width=\"1\"/><path d=\"M 153.33333333333334 125.35714285714286 246.66666666666666 82.5\" stroke=\"black\" stroke-width=\"1\"/><path d=\"M 260.0 73.57142857142857 251.11111111111114 143.21428571428572\" stroke=\"black\" stroke-width=\"1\"/><path d=\"M 260.0 73.57142857142857 282.22222222222223 125.35714285714286\" stroke=\"black\" stroke-width=\"1\"/><path d=\"M 260.0 73.57142857142857 348.88888888888886 43.21428571428571\" stroke=\"black\" stroke-width=\"1\"/><path d=\"M 260.0 73.57142857142857 273.33333333333337 27.14285714285715\" stroke=\"black\" stroke-width=\"1\"/><path d=\"M 260.0 73.57142857142857 313.33333333333337 34.2857142857143\" stroke=\"black\" stroke-width=\"1\"/><path d=\"M 260.0 73.57142857142857 366.6666666666667 61.07142857142858\" stroke=\"black\" stroke-width=\"1\"/><path d=\"M 260.0 73.57142857142857 228.8888888888889 32.50000000000001\" stroke=\"black\" stroke-width=\"1\"/><path d=\"M 260.0 73.57142857142857 131.11111111111111 68.21428571428572\" stroke=\"black\" stroke-width=\"1\"/><path d=\"M 260.0 73.57142857142857 171.1111111111111 45.0\" stroke=\"black\" stroke-width=\"1\"/><path d=\"M 260.0 73.57142857142857 344.44444444444446 107.5\" stroke=\"black\" stroke-width=\"1\"/><path d=\"M 260.0 73.57142857142857 153.33333333333334 125.35714285714286\" stroke=\"black\" stroke-width=\"1\"/><path d=\"M 260.0 73.57142857142857 246.66666666666666 82.5\" stroke=\"black\" stroke-width=\"1\"/><path d=\"M 246.66666666666666 82.5 282.22222222222223 125.35714285714286\" stroke=\"black\" stroke-width=\"1\"/><path d=\"M 246.66666666666666 82.5 197.7777777777778 100.35714285714286\" stroke=\"black\" stroke-width=\"1\"/><path d=\"M 246.66666666666666 82.5 282.22222222222223 153.92857142857142\" stroke=\"black\" stroke-width=\"1\"/><path d=\"M 246.66666666666666 82.5 348.88888888888886 43.21428571428571\" stroke=\"black\" stroke-width=\"1\"/><path d=\"M 246.66666666666666 82.5 273.33333333333337 27.14285714285715\" stroke=\"black\" stroke-width=\"1\"/><path d=\"M 246.66666666666666 82.5 313.33333333333337 34.2857142857143\" stroke=\"black\" stroke-width=\"1\"/><path d=\"M 246.66666666666666 82.5 331.1111111111111 143.21428571428572\" stroke=\"black\" stroke-width=\"1\"/><path d=\"M 246.66666666666666 82.5 366.6666666666667 61.07142857142858\" stroke=\"black\" stroke-width=\"1\"/><path d=\"M 246.66666666666666 82.5 228.8888888888889 32.50000000000001\" stroke=\"black\" stroke-width=\"1\"/><path d=\"M 246.66666666666666 82.5 131.11111111111111 68.21428571428572\" stroke=\"black\" stroke-width=\"1\"/><path d=\"M 246.66666666666666 82.5 162.22222222222223 20.0\" stroke=\"black\" stroke-width=\"1\"/><path d=\"M 246.66666666666666 82.5 122.22222222222221 103.92857142857143\" stroke=\"black\" stroke-width=\"1\"/><path d=\"M 246.66666666666666 82.5 197.7777777777778 120.0\" stroke=\"black\" stroke-width=\"1\"/><path d=\"M 246.66666666666666 82.5 171.1111111111111 45.0\" stroke=\"black\" stroke-width=\"1\"/><path d=\"M 246.66666666666666 82.5 344.44444444444446 107.5\" stroke=\"black\" stroke-width=\"1\"/><path d=\"M 246.66666666666666 82.5 153.33333333333334 125.35714285714286\" stroke=\"black\" stroke-width=\"1\"/><path d=\"M 246.66666666666666 82.5 260.0 73.57142857142857\" stroke=\"black\" stroke-width=\"1\"/><circle cx=\"264.44444444444446\" cy=\"200.35714285714286\" r=\"7\" style=\"fill:rgb(179, 3, 38);stroke:black;stroke-width:1\"/><circle cx=\"353.3333333333333\" cy=\"168.21428571428572\" r=\"7\" style=\"fill:rgb(222, 98, 78);stroke:black;stroke-width:1\"/><circle cx=\"251.11111111111114\" cy=\"143.21428571428572\" r=\"7\" style=\"fill:rgb(234, 211, 199);stroke:black;stroke-width:1\"/><circle cx=\"304.44444444444446\" cy=\"191.42857142857142\" r=\"7\" style=\"fill:rgb(207, 70, 61);stroke:black;stroke-width:1\"/><circle cx=\"255.55555555555557\" cy=\"255.71428571428572\" r=\"7\" style=\"fill:rgb(182, 13, 40);stroke:black;stroke-width:1\"/><circle cx=\"211.1111111111111\" cy=\"275.3571428571429\" r=\"7\" style=\"fill:rgb(182, 13, 40);stroke:black;stroke-width:1\"/><circle cx=\"264.44444444444446\" cy=\"277.1428571428571\" r=\"7\" style=\"fill:rgb(182, 13, 40);stroke:black;stroke-width:1\"/><circle cx=\"340.0\" cy=\"186.07142857142858\" r=\"7\" style=\"fill:rgb(207, 70, 61);stroke:black;stroke-width:1\"/><circle cx=\"282.22222222222223\" cy=\"125.35714285714286\" r=\"7\" style=\"fill:rgb(159, 190, 254);stroke:black;stroke-width:1\"/><circle cx=\"197.7777777777778\" cy=\"100.35714285714286\" r=\"7\" style=\"fill:rgb(82, 110, 220);stroke:black;stroke-width:1\"/><circle cx=\"188.88888888888889\" cy=\"252.1428571428571\" r=\"7\" style=\"fill:rgb(182, 13, 40);stroke:black;stroke-width:1\"/><circle cx=\"122.22222222222221\" cy=\"212.85714285714283\" r=\"7\" style=\"fill:rgb(179, 3, 38);stroke:black;stroke-width:1\"/><circle cx=\"335.55555555555554\" cy=\"236.07142857142853\" r=\"7\" style=\"fill:rgb(187, 26, 43);stroke:black;stroke-width:1\"/><circle cx=\"282.22222222222223\" cy=\"153.92857142857142\" r=\"7\" style=\"fill:rgb(246, 166, 135);stroke:black;stroke-width:1\"/><circle cx=\"348.88888888888886\" cy=\"43.21428571428571\" r=\"7\" style=\"fill:rgb(60, 79, 195);stroke:black;stroke-width:1\"/><circle cx=\"273.33333333333337\" cy=\"27.14285714285715\" r=\"7\" style=\"fill:rgb(60, 79, 195);stroke:black;stroke-width:1\"/><circle cx=\"220.0\" cy=\"320.0\" r=\"7\" style=\"fill:rgb(182, 13, 40);stroke:black;stroke-width:1\"/><circle cx=\"388.8888888888889\" cy=\"216.42857142857142\" r=\"7\" style=\"fill:rgb(190, 35, 45);stroke:black;stroke-width:1\"/><circle cx=\"313.33333333333337\" cy=\"34.2857142857143\" r=\"7\" style=\"fill:rgb(60, 79, 195);stroke:black;stroke-width:1\"/><circle cx=\"331.1111111111111\" cy=\"143.21428571428572\" r=\"7\" style=\"fill:rgb(246, 183, 156);stroke:black;stroke-width:1\"/><circle cx=\"366.6666666666667\" cy=\"61.07142857142858\" r=\"7\" style=\"fill:rgb(60, 79, 195);stroke:black;stroke-width:1\"/><circle cx=\"420.0\" cy=\"202.14285714285714\" r=\"7\" style=\"fill:rgb(190, 35, 45);stroke:black;stroke-width:1\"/><circle cx=\"228.8888888888889\" cy=\"32.50000000000001\" r=\"7\" style=\"fill:rgb(60, 79, 195);stroke:black;stroke-width:1\"/><circle cx=\"131.11111111111111\" cy=\"68.21428571428572\" r=\"7\" style=\"fill:rgb(66, 88, 202);stroke:black;stroke-width:1\"/><circle cx=\"20.0\" cy=\"116.42857142857142\" r=\"7\" style=\"fill:rgb(96, 128, 232);stroke:black;stroke-width:1\"/><circle cx=\"28.888888888888896\" cy=\"91.42857142857143\" r=\"7\" style=\"fill:rgb(88, 118, 226);stroke:black;stroke-width:1\"/><circle cx=\"162.22222222222223\" cy=\"20.0\" r=\"7\" style=\"fill:rgb(58, 76, 192);stroke:black;stroke-width:1\"/><circle cx=\"122.22222222222221\" cy=\"103.92857142857143\" r=\"7\" style=\"fill:rgb(80, 107, 218);stroke:black;stroke-width:1\"/><circle cx=\"197.7777777777778\" cy=\"120.0\" r=\"7\" style=\"fill:rgb(92, 123, 229);stroke:black;stroke-width:1\"/><circle cx=\"171.1111111111111\" cy=\"45.0\" r=\"7\" style=\"fill:rgb(60, 79, 195);stroke:black;stroke-width:1\"/><circle cx=\"344.44444444444446\" cy=\"107.5\" r=\"7\" style=\"fill:rgb(105, 139, 239);stroke:black;stroke-width:1\"/><circle cx=\"153.33333333333334\" cy=\"125.35714285714286\" r=\"7\" style=\"fill:rgb(116, 151, 245);stroke:black;stroke-width:1\"/><circle cx=\"260.0\" cy=\"73.57142857142857\" r=\"7\" style=\"fill:rgb(70, 93, 207);stroke:black;stroke-width:1\"/><circle cx=\"246.66666666666666\" cy=\"82.5\" r=\"7\" style=\"fill:rgb(58, 76, 192);stroke:black;stroke-width:1\"/></svg>"
      ],
      "text/plain": [
       "<IPython.core.display.SVG object>"
      ]
     },
     "execution_count": 22,
     "metadata": {},
     "output_type": "execute_result"
    }
   ],
   "source": [
    "SVG(image)"
   ]
  },
  {
   "cell_type": "markdown",
   "metadata": {},
   "source": [
    "## Digraphs"
   ]
  },
  {
   "cell_type": "markdown",
   "metadata": {},
   "source": [
    "**Loading**"
   ]
  },
  {
   "cell_type": "code",
   "execution_count": 25,
   "metadata": {},
   "outputs": [],
   "source": [
    "graph = painters(metadata=True)\n",
    "adjacency = graph.adjacency\n",
    "position = graph.position\n",
    "names = graph.names"
   ]
  },
  {
   "cell_type": "markdown",
   "metadata": {},
   "source": [
    "**Classification**"
   ]
  },
  {
   "cell_type": "code",
   "execution_count": 26,
   "metadata": {},
   "outputs": [],
   "source": [
    "rembrandt = 5\n",
    "klimt = 6\n",
    "cezanne = 11\n",
    "seeds = {cezanne: 0, rembrandt: 1, klimt: 2}"
   ]
  },
  {
   "cell_type": "code",
   "execution_count": 27,
   "metadata": {},
   "outputs": [],
   "source": [
    "diffusion = DiffusionClassifier()\n",
    "labels_pred = diffusion.fit_transform(adjacency, seeds)"
   ]
  },
  {
   "cell_type": "markdown",
   "metadata": {},
   "source": [
    "**Visualization**"
   ]
  },
  {
   "cell_type": "code",
   "execution_count": 28,
   "metadata": {},
   "outputs": [],
   "source": [
    "image = svg_digraph(adjacency, position, names=names, labels=labels_pred, seeds=seeds)"
   ]
  },
  {
   "cell_type": "code",
   "execution_count": 29,
   "metadata": {},
   "outputs": [
    {
     "data": {
      "image/svg+xml": [
       "<svg height=\"340\" width=\"566.0\"><defs><marker id=\"arrow\" markerHeight=\"10\" markerWidth=\"10\" orient=\"auto-start-reverse\" refX=\"5\" refY=\"5\" viewBox=\"0 0 10 10\"><path d=\"M 0 0 L 10 5 L 0 10 z\"/></marker></defs><path d=\"M 247.2 48.402366863905314 81.15905273286575 63.474669097003165\" marker-end=\"url(#arrow)\" stroke=\"black\" stroke-width=\"1\"/><path d=\"M 247.2 48.402366863905314 173.9637800440852 54.65261321881384\" marker-end=\"url(#arrow)\" stroke=\"black\" stroke-width=\"1\"/><path d=\"M 20.0 108.75739644970413 63.643501062831774 70.92845576330916\" marker-end=\"url(#arrow)\" stroke=\"black\" stroke-width=\"1\"/><path d=\"M 20.0 108.75739644970413 84.05804376954278 128.84248542426815\" marker-end=\"url(#arrow)\" stroke=\"black\" stroke-width=\"1\"/><path d=\"M 74.39999999999999 268.5207100591716 142.8934652346054 314.43210271365473\" marker-end=\"url(#arrow)\" stroke=\"black\" stroke-width=\"1\"/><path d=\"M 71.19999999999999 64.37869822485206 237.24094726713423 49.30639599175421\" marker-end=\"url(#arrow)\" stroke=\"black\" stroke-width=\"1\"/><path d=\"M 71.19999999999999 64.37869822485206 27.556498937168215 102.20763891124703\" marker-end=\"url(#arrow)\" stroke=\"black\" stroke-width=\"1\"/><path d=\"M 71.19999999999999 64.37869822485206 56.81721557830073 152.14347002886015\" marker-end=\"url(#arrow)\" stroke=\"black\" stroke-width=\"1\"/><path d=\"M 71.19999999999999 64.37869822485206 122.93982724670515 88.54865800998371\" marker-end=\"url(#arrow)\" stroke=\"black\" stroke-width=\"1\"/><path d=\"M 71.19999999999999 64.37869822485206 90.44851349756793 122.34389631030074\" marker-end=\"url(#arrow)\" stroke=\"black\" stroke-width=\"1\"/><path d=\"M 144.79999999999998 227.69230769230768 83.05050374306862 263.503859952665\" marker-end=\"url(#arrow)\" stroke=\"black\" stroke-width=\"1\"/><path d=\"M 144.79999999999998 227.69230769230768 199.75507536228338 253.60492643746724\" marker-end=\"url(#arrow)\" stroke=\"black\" stroke-width=\"1\"/><path d=\"M 144.79999999999998 227.69230769230768 150.50832714765681 310.02394924505035\" marker-end=\"url(#arrow)\" stroke=\"black\" stroke-width=\"1\"/><path d=\"M 208.79999999999998 257.8698224852071 84.36874616303675 267.7307100990831\" marker-end=\"url(#arrow)\" stroke=\"black\" stroke-width=\"1\"/><path d=\"M 208.79999999999998 257.8698224852071 153.8449246377166 231.95720374004756\" marker-end=\"url(#arrow)\" stroke=\"black\" stroke-width=\"1\"/><path d=\"M 208.79999999999998 257.8698224852071 205.87302949114255 150.7063312215654\" marker-end=\"url(#arrow)\" stroke=\"black\" stroke-width=\"1\"/><path d=\"M 208.79999999999998 257.8698224852071 157.9986582058237 312.6666347015585\" marker-end=\"url(#arrow)\" stroke=\"black\" stroke-width=\"1\"/><path d=\"M 420.0 20.0 257.06759663236 46.78047392630505\" marker-end=\"url(#arrow)\" stroke=\"black\" stroke-width=\"1\"/><path d=\"M 420.0 20.0 406.09825845321603 84.7788252549844\" marker-end=\"url(#arrow)\" stroke=\"black\" stroke-width=\"1\"/><path d=\"M 55.199999999999996 162.01183431952663 25.514102721471275 117.09973851755673\" marker-end=\"url(#arrow)\" stroke=\"black\" stroke-width=\"1\"/><path d=\"M 55.199999999999996 162.01183431952663 72.62592807016503 258.67933470875585\" marker-end=\"url(#arrow)\" stroke=\"black\" stroke-width=\"1\"/><path d=\"M 55.199999999999996 162.01183431952663 69.58278442169926 74.24706251551854\" marker-end=\"url(#arrow)\" stroke=\"black\" stroke-width=\"1\"/><path d=\"M 55.199999999999996 162.01183431952663 195.69881689611668 142.11240475788352\" marker-end=\"url(#arrow)\" stroke=\"black\" stroke-width=\"1\"/><path d=\"M 55.199999999999996 162.01183431952663 124.57238775151123 99.47662901467875\" marker-end=\"url(#arrow)\" stroke=\"black\" stroke-width=\"1\"/><path d=\"M 55.199999999999996 162.01183431952663 85.73742205027045 138.0133055263222\" marker-end=\"url(#arrow)\" stroke=\"black\" stroke-width=\"1\"/><path d=\"M 205.6 140.71005917159763 243.09129942092386 57.519306018660025\" marker-end=\"url(#arrow)\" stroke=\"black\" stroke-width=\"1\"/><path d=\"M 205.6 140.71005917159763 29.85502171063211 110.45402460076428\" marker-end=\"url(#arrow)\" stroke=\"black\" stroke-width=\"1\"/><path d=\"M 205.6 140.71005917159763 150.52908391141983 219.49611360383525\" marker-end=\"url(#arrow)\" stroke=\"black\" stroke-width=\"1\"/><path d=\"M 205.6 140.71005917159763 208.52697050885743 247.87355043523937\" marker-end=\"url(#arrow)\" stroke=\"black\" stroke-width=\"1\"/><path d=\"M 205.6 140.71005917159763 65.10118310388332 160.60948873324074\" marker-end=\"url(#arrow)\" stroke=\"black\" stroke-width=\"1\"/><path d=\"M 205.6 140.71005917159763 168.38726553912917 64.48916473649578\" marker-end=\"url(#arrow)\" stroke=\"black\" stroke-width=\"1\"/><path d=\"M 205.6 140.71005917159763 140.3798031668849 98.23806965942305\" marker-end=\"url(#arrow)\" stroke=\"black\" stroke-width=\"1\"/><path d=\"M 151.2 320.0 82.70653476539457 274.0886073455169\" marker-end=\"url(#arrow)\" stroke=\"black\" stroke-width=\"1\"/><path d=\"M 151.2 320.0 145.49167285234316 237.66835844725733\" marker-end=\"url(#arrow)\" stroke=\"black\" stroke-width=\"1\"/><path d=\"M 164.0 55.50295857988165 237.23621995591478 49.25271222497312\" marker-end=\"url(#arrow)\" stroke=\"black\" stroke-width=\"1\"/><path d=\"M 164.0 55.50295857988165 81.15457279927756 63.42660559076486\" marker-end=\"url(#arrow)\" stroke=\"black\" stroke-width=\"1\"/><path d=\"M 164.0 55.50295857988165 201.21273446087082 131.72385301498352\" marker-end=\"url(#arrow)\" stroke=\"black\" stroke-width=\"1\"/><path d=\"M 164.0 55.50295857988165 138.51346646325646 85.19326207128037\" marker-end=\"url(#arrow)\" stroke=\"black\" stroke-width=\"1\"/><path d=\"M 164.0 55.50295857988165 100.3796952640183 124.4834194370431\" marker-end=\"url(#arrow)\" stroke=\"black\" stroke-width=\"1\"/><path d=\"M 132.0 92.78106508875739 237.86847239254678 51.99716762491262\" marker-end=\"url(#arrow)\" stroke=\"black\" stroke-width=\"1\"/><path d=\"M 132.0 92.78106508875739 29.89978761742597 107.34523316953454\" marker-end=\"url(#arrow)\" stroke=\"black\" stroke-width=\"1\"/><path d=\"M 132.0 92.78106508875739 80.26017275329484 68.61110530362573\" marker-end=\"url(#arrow)\" stroke=\"black\" stroke-width=\"1\"/><path d=\"M 132.0 92.78106508875739 157.48653353674354 63.090761597358664\" marker-end=\"url(#arrow)\" stroke=\"black\" stroke-width=\"1\"/><path d=\"M 132.0 92.78106508875739 100.61117980923557 124.70386668809252\" marker-end=\"url(#arrow)\" stroke=\"black\" stroke-width=\"1\"/><path d=\"M 93.6 131.8343195266272 29.541956230457217 111.74923055206321\" marker-end=\"url(#arrow)\" stroke=\"black\" stroke-width=\"1\"/><path d=\"M 93.6 131.8343195266272 74.35148650243205 73.86912144117854\" marker-end=\"url(#arrow)\" stroke=\"black\" stroke-width=\"1\"/><path d=\"M 93.6 131.8343195266272 140.08869254137838 218.8716738131391\" marker-end=\"url(#arrow)\" stroke=\"black\" stroke-width=\"1\"/><path d=\"M 93.6 131.8343195266272 63.06257794972954 155.83284831983164\" marker-end=\"url(#arrow)\" stroke=\"black\" stroke-width=\"1\"/><path d=\"M 404.0 94.55621301775147 417.90174154678397 29.777387762767077\" marker-end=\"url(#arrow)\" stroke=\"black\" stroke-width=\"1\"/><path d=\"M 404.0 94.55621301775147 215.33992524149997 138.4442577041271\" marker-end=\"url(#arrow)\" stroke=\"black\" stroke-width=\"1\"/><circle cx=\"247.2\" cy=\"48.402366863905314\" r=\"5\" style=\"fill:blue;stroke:black;stroke-width:1\"/><circle cx=\"20.0\" cy=\"108.75739644970413\" r=\"5\" style=\"fill:blue;stroke:black;stroke-width:1\"/><circle cx=\"74.39999999999999\" cy=\"268.5207100591716\" r=\"5\" style=\"fill:red;stroke:black;stroke-width:1\"/><circle cx=\"71.19999999999999\" cy=\"64.37869822485206\" r=\"5\" style=\"fill:blue;stroke:black;stroke-width:1\"/><circle cx=\"144.79999999999998\" cy=\"227.69230769230768\" r=\"5\" style=\"fill:red;stroke:black;stroke-width:1\"/><circle cx=\"208.79999999999998\" cy=\"257.8698224852071\" r=\"5\" style=\"fill:red;stroke:black;stroke-width:1\"/><circle cx=\"420.0\" cy=\"20.0\" r=\"5\" style=\"fill:green;stroke:black;stroke-width:1\"/><circle cx=\"55.199999999999996\" cy=\"162.01183431952663\" r=\"5\" style=\"fill:blue;stroke:black;stroke-width:1\"/><circle cx=\"205.6\" cy=\"140.71005917159763\" r=\"5\" style=\"fill:blue;stroke:black;stroke-width:1\"/><circle cx=\"151.2\" cy=\"320.0\" r=\"5\" style=\"fill:red;stroke:black;stroke-width:1\"/><circle cx=\"164.0\" cy=\"55.50295857988165\" r=\"5\" style=\"fill:blue;stroke:black;stroke-width:1\"/><circle cx=\"132.0\" cy=\"92.78106508875739\" r=\"5\" style=\"fill:blue;stroke:black;stroke-width:1\"/><circle cx=\"93.6\" cy=\"131.8343195266272\" r=\"5\" style=\"fill:blue;stroke:black;stroke-width:1\"/><circle cx=\"404.0\" cy=\"94.55621301775147\" r=\"5\" style=\"fill:green;stroke:black;stroke-width:1\"/><text font-size=\"12\" x=\"257.2\" y=\"53.402366863905314\">Pablo Picasso</text><text font-size=\"12\" x=\"30.0\" y=\"113.75739644970413\">Claude Monet</text><text font-size=\"12\" x=\"84.39999999999999\" y=\"273.5207100591716\">Michel Angelo</text><text font-size=\"12\" x=\"81.19999999999999\" y=\"69.37869822485206\">Edouard Manet</text><text font-size=\"12\" x=\"154.79999999999998\" y=\"232.69230769230768\">Peter Paul Rubens</text><text font-size=\"12\" x=\"218.79999999999998\" y=\"262.8698224852071\">Rembrandt</text><text font-size=\"12\" x=\"430.0\" y=\"25.0\">Gustav Klimt</text><text font-size=\"12\" x=\"65.19999999999999\" y=\"167.01183431952663\">Edgar Degas</text><text font-size=\"12\" x=\"215.6\" y=\"145.71005917159763\">Vincent van Gogh</text><text font-size=\"12\" x=\"161.2\" y=\"325.0\">Leonardo da Vinci</text><text font-size=\"12\" x=\"174.0\" y=\"60.50295857988165\">Henri Matisse</text><text font-size=\"12\" x=\"142.0\" y=\"97.78106508875739\">Paul Cezanne</text><text font-size=\"12\" x=\"103.6\" y=\"136.8343195266272\">Pierre-Auguste Renoir</text><text font-size=\"12\" x=\"414.0\" y=\"99.55621301775147\">Egon Schiele</text></svg>"
      ],
      "text/plain": [
       "<IPython.core.display.SVG object>"
      ]
     },
     "execution_count": 29,
     "metadata": {},
     "output_type": "execute_result"
    }
   ],
   "source": [
    "SVG(image)"
   ]
  },
  {
   "cell_type": "markdown",
   "metadata": {},
   "source": [
    "**Soft classification**"
   ]
  },
  {
   "cell_type": "code",
   "execution_count": 33,
   "metadata": {},
   "outputs": [],
   "source": [
    "membership = diffusion.membership_"
   ]
  },
  {
   "cell_type": "code",
   "execution_count": 37,
   "metadata": {},
   "outputs": [],
   "source": [
    "scores = membership[:,0].toarray().ravel()"
   ]
  },
  {
   "cell_type": "markdown",
   "metadata": {},
   "source": [
    "**Visualization**"
   ]
  },
  {
   "cell_type": "code",
   "execution_count": 38,
   "metadata": {},
   "outputs": [],
   "source": [
    "image = svg_digraph(adjacency, position, names=names, scores=scores, seeds=[cezanne])"
   ]
  },
  {
   "cell_type": "code",
   "execution_count": 39,
   "metadata": {},
   "outputs": [
    {
     "data": {
      "image/svg+xml": [
       "<svg height=\"340\" width=\"566.0\"><defs><marker id=\"arrow\" markerHeight=\"10\" markerWidth=\"10\" orient=\"auto-start-reverse\" refX=\"5\" refY=\"5\" viewBox=\"0 0 10 10\"><path d=\"M 0 0 L 10 5 L 0 10 z\"/></marker></defs><path d=\"M 247.2 48.402366863905314 81.15905273286575 63.474669097003165\" marker-end=\"url(#arrow)\" stroke=\"black\" stroke-width=\"1\"/><path d=\"M 247.2 48.402366863905314 173.9637800440852 54.65261321881384\" marker-end=\"url(#arrow)\" stroke=\"black\" stroke-width=\"1\"/><path d=\"M 20.0 108.75739644970413 63.643501062831774 70.92845576330916\" marker-end=\"url(#arrow)\" stroke=\"black\" stroke-width=\"1\"/><path d=\"M 20.0 108.75739644970413 84.05804376954278 128.84248542426815\" marker-end=\"url(#arrow)\" stroke=\"black\" stroke-width=\"1\"/><path d=\"M 74.39999999999999 268.5207100591716 142.8934652346054 314.43210271365473\" marker-end=\"url(#arrow)\" stroke=\"black\" stroke-width=\"1\"/><path d=\"M 71.19999999999999 64.37869822485206 237.24094726713423 49.30639599175421\" marker-end=\"url(#arrow)\" stroke=\"black\" stroke-width=\"1\"/><path d=\"M 71.19999999999999 64.37869822485206 27.556498937168215 102.20763891124703\" marker-end=\"url(#arrow)\" stroke=\"black\" stroke-width=\"1\"/><path d=\"M 71.19999999999999 64.37869822485206 56.81721557830073 152.14347002886015\" marker-end=\"url(#arrow)\" stroke=\"black\" stroke-width=\"1\"/><path d=\"M 71.19999999999999 64.37869822485206 122.93982724670515 88.54865800998371\" marker-end=\"url(#arrow)\" stroke=\"black\" stroke-width=\"1\"/><path d=\"M 71.19999999999999 64.37869822485206 90.44851349756793 122.34389631030074\" marker-end=\"url(#arrow)\" stroke=\"black\" stroke-width=\"1\"/><path d=\"M 144.79999999999998 227.69230769230768 83.05050374306862 263.503859952665\" marker-end=\"url(#arrow)\" stroke=\"black\" stroke-width=\"1\"/><path d=\"M 144.79999999999998 227.69230769230768 199.75507536228338 253.60492643746724\" marker-end=\"url(#arrow)\" stroke=\"black\" stroke-width=\"1\"/><path d=\"M 144.79999999999998 227.69230769230768 150.50832714765681 310.02394924505035\" marker-end=\"url(#arrow)\" stroke=\"black\" stroke-width=\"1\"/><path d=\"M 208.79999999999998 257.8698224852071 84.36874616303675 267.7307100990831\" marker-end=\"url(#arrow)\" stroke=\"black\" stroke-width=\"1\"/><path d=\"M 208.79999999999998 257.8698224852071 153.8449246377166 231.95720374004756\" marker-end=\"url(#arrow)\" stroke=\"black\" stroke-width=\"1\"/><path d=\"M 208.79999999999998 257.8698224852071 205.87302949114255 150.7063312215654\" marker-end=\"url(#arrow)\" stroke=\"black\" stroke-width=\"1\"/><path d=\"M 208.79999999999998 257.8698224852071 157.9986582058237 312.6666347015585\" marker-end=\"url(#arrow)\" stroke=\"black\" stroke-width=\"1\"/><path d=\"M 420.0 20.0 257.06759663236 46.78047392630505\" marker-end=\"url(#arrow)\" stroke=\"black\" stroke-width=\"1\"/><path d=\"M 420.0 20.0 406.09825845321603 84.7788252549844\" marker-end=\"url(#arrow)\" stroke=\"black\" stroke-width=\"1\"/><path d=\"M 55.199999999999996 162.01183431952663 25.514102721471275 117.09973851755673\" marker-end=\"url(#arrow)\" stroke=\"black\" stroke-width=\"1\"/><path d=\"M 55.199999999999996 162.01183431952663 72.62592807016503 258.67933470875585\" marker-end=\"url(#arrow)\" stroke=\"black\" stroke-width=\"1\"/><path d=\"M 55.199999999999996 162.01183431952663 69.58278442169926 74.24706251551854\" marker-end=\"url(#arrow)\" stroke=\"black\" stroke-width=\"1\"/><path d=\"M 55.199999999999996 162.01183431952663 195.69881689611668 142.11240475788352\" marker-end=\"url(#arrow)\" stroke=\"black\" stroke-width=\"1\"/><path d=\"M 55.199999999999996 162.01183431952663 124.57238775151123 99.47662901467875\" marker-end=\"url(#arrow)\" stroke=\"black\" stroke-width=\"1\"/><path d=\"M 55.199999999999996 162.01183431952663 85.73742205027045 138.0133055263222\" marker-end=\"url(#arrow)\" stroke=\"black\" stroke-width=\"1\"/><path d=\"M 205.6 140.71005917159763 243.09129942092386 57.519306018660025\" marker-end=\"url(#arrow)\" stroke=\"black\" stroke-width=\"1\"/><path d=\"M 205.6 140.71005917159763 29.85502171063211 110.45402460076428\" marker-end=\"url(#arrow)\" stroke=\"black\" stroke-width=\"1\"/><path d=\"M 205.6 140.71005917159763 150.52908391141983 219.49611360383525\" marker-end=\"url(#arrow)\" stroke=\"black\" stroke-width=\"1\"/><path d=\"M 205.6 140.71005917159763 208.52697050885743 247.87355043523937\" marker-end=\"url(#arrow)\" stroke=\"black\" stroke-width=\"1\"/><path d=\"M 205.6 140.71005917159763 65.10118310388332 160.60948873324074\" marker-end=\"url(#arrow)\" stroke=\"black\" stroke-width=\"1\"/><path d=\"M 205.6 140.71005917159763 168.38726553912917 64.48916473649578\" marker-end=\"url(#arrow)\" stroke=\"black\" stroke-width=\"1\"/><path d=\"M 205.6 140.71005917159763 140.3798031668849 98.23806965942305\" marker-end=\"url(#arrow)\" stroke=\"black\" stroke-width=\"1\"/><path d=\"M 151.2 320.0 82.70653476539457 274.0886073455169\" marker-end=\"url(#arrow)\" stroke=\"black\" stroke-width=\"1\"/><path d=\"M 151.2 320.0 145.49167285234316 237.66835844725733\" marker-end=\"url(#arrow)\" stroke=\"black\" stroke-width=\"1\"/><path d=\"M 164.0 55.50295857988165 237.23621995591478 49.25271222497312\" marker-end=\"url(#arrow)\" stroke=\"black\" stroke-width=\"1\"/><path d=\"M 164.0 55.50295857988165 81.15457279927756 63.42660559076486\" marker-end=\"url(#arrow)\" stroke=\"black\" stroke-width=\"1\"/><path d=\"M 164.0 55.50295857988165 201.21273446087082 131.72385301498352\" marker-end=\"url(#arrow)\" stroke=\"black\" stroke-width=\"1\"/><path d=\"M 164.0 55.50295857988165 138.51346646325646 85.19326207128037\" marker-end=\"url(#arrow)\" stroke=\"black\" stroke-width=\"1\"/><path d=\"M 164.0 55.50295857988165 100.3796952640183 124.4834194370431\" marker-end=\"url(#arrow)\" stroke=\"black\" stroke-width=\"1\"/><path d=\"M 132.0 92.78106508875739 237.86847239254678 51.99716762491262\" marker-end=\"url(#arrow)\" stroke=\"black\" stroke-width=\"1\"/><path d=\"M 132.0 92.78106508875739 29.89978761742597 107.34523316953454\" marker-end=\"url(#arrow)\" stroke=\"black\" stroke-width=\"1\"/><path d=\"M 132.0 92.78106508875739 80.26017275329484 68.61110530362573\" marker-end=\"url(#arrow)\" stroke=\"black\" stroke-width=\"1\"/><path d=\"M 132.0 92.78106508875739 157.48653353674354 63.090761597358664\" marker-end=\"url(#arrow)\" stroke=\"black\" stroke-width=\"1\"/><path d=\"M 132.0 92.78106508875739 100.61117980923557 124.70386668809252\" marker-end=\"url(#arrow)\" stroke=\"black\" stroke-width=\"1\"/><path d=\"M 93.6 131.8343195266272 29.541956230457217 111.74923055206321\" marker-end=\"url(#arrow)\" stroke=\"black\" stroke-width=\"1\"/><path d=\"M 93.6 131.8343195266272 74.35148650243205 73.86912144117854\" marker-end=\"url(#arrow)\" stroke=\"black\" stroke-width=\"1\"/><path d=\"M 93.6 131.8343195266272 140.08869254137838 218.8716738131391\" marker-end=\"url(#arrow)\" stroke=\"black\" stroke-width=\"1\"/><path d=\"M 93.6 131.8343195266272 63.06257794972954 155.83284831983164\" marker-end=\"url(#arrow)\" stroke=\"black\" stroke-width=\"1\"/><path d=\"M 404.0 94.55621301775147 417.90174154678397 29.777387762767077\" marker-end=\"url(#arrow)\" stroke=\"black\" stroke-width=\"1\"/><path d=\"M 404.0 94.55621301775147 215.33992524149997 138.4442577041271\" marker-end=\"url(#arrow)\" stroke=\"black\" stroke-width=\"1\"/><circle cx=\"247.2\" cy=\"48.402366863905314\" r=\"5\" style=\"fill:rgb(244, 154, 123);stroke:black;stroke-width:1\"/><circle cx=\"20.0\" cy=\"108.75739644970413\" r=\"5\" style=\"fill:rgb(242, 200, 179);stroke:black;stroke-width:1\"/><circle cx=\"74.39999999999999\" cy=\"268.5207100591716\" r=\"5\" style=\"fill:rgb(72, 96, 209);stroke:black;stroke-width:1\"/><circle cx=\"71.19999999999999\" cy=\"64.37869822485206\" r=\"5\" style=\"fill:rgb(243, 150, 120);stroke:black;stroke-width:1\"/><circle cx=\"144.79999999999998\" cy=\"227.69230769230768\" r=\"5\" style=\"fill:rgb(66, 88, 202);stroke:black;stroke-width:1\"/><circle cx=\"208.79999999999998\" cy=\"257.8698224852071\" r=\"5\" style=\"fill:rgb(58, 76, 192);stroke:black;stroke-width:1\"/><circle cx=\"420.0\" cy=\"20.0\" r=\"5\" style=\"fill:rgb(58, 76, 192);stroke:black;stroke-width:1\"/><circle cx=\"55.199999999999996\" cy=\"162.01183431952663\" r=\"5\" style=\"fill:rgb(243, 198, 176);stroke:black;stroke-width:1\"/><circle cx=\"205.6\" cy=\"140.71005917159763\" r=\"5\" style=\"fill:rgb(219, 220, 222);stroke:black;stroke-width:1\"/><circle cx=\"151.2\" cy=\"320.0\" r=\"5\" style=\"fill:rgb(70, 93, 207);stroke:black;stroke-width:1\"/><circle cx=\"164.0\" cy=\"55.50295857988165\" r=\"5\" style=\"fill:rgb(242, 145, 115);stroke:black;stroke-width:1\"/><circle cx=\"132.0\" cy=\"92.78106508875739\" r=\"5\" style=\"fill:rgb(179, 3, 38);stroke:black;stroke-width:1\"/><circle cx=\"93.6\" cy=\"131.8343195266272\" r=\"5\" style=\"fill:rgb(202, 216, 238);stroke:black;stroke-width:1\"/><circle cx=\"404.0\" cy=\"94.55621301775147\" r=\"5\" style=\"fill:rgb(76, 102, 214);stroke:black;stroke-width:1\"/><text font-size=\"12\" x=\"257.2\" y=\"53.402366863905314\">Pablo Picasso</text><text font-size=\"12\" x=\"30.0\" y=\"113.75739644970413\">Claude Monet</text><text font-size=\"12\" x=\"84.39999999999999\" y=\"273.5207100591716\">Michel Angelo</text><text font-size=\"12\" x=\"81.19999999999999\" y=\"69.37869822485206\">Edouard Manet</text><text font-size=\"12\" x=\"154.79999999999998\" y=\"232.69230769230768\">Peter Paul Rubens</text><text font-size=\"12\" x=\"218.79999999999998\" y=\"262.8698224852071\">Rembrandt</text><text font-size=\"12\" x=\"430.0\" y=\"25.0\">Gustav Klimt</text><text font-size=\"12\" x=\"65.19999999999999\" y=\"167.01183431952663\">Edgar Degas</text><text font-size=\"12\" x=\"215.6\" y=\"145.71005917159763\">Vincent van Gogh</text><text font-size=\"12\" x=\"161.2\" y=\"325.0\">Leonardo da Vinci</text><text font-size=\"12\" x=\"174.0\" y=\"60.50295857988165\">Henri Matisse</text><text font-size=\"12\" x=\"142.0\" y=\"97.78106508875739\">Paul Cezanne</text><text font-size=\"12\" x=\"103.6\" y=\"136.8343195266272\">Pierre-Auguste Renoir</text><text font-size=\"12\" x=\"414.0\" y=\"99.55621301775147\">Egon Schiele</text></svg>"
      ],
      "text/plain": [
       "<IPython.core.display.SVG object>"
      ]
     },
     "execution_count": 39,
     "metadata": {},
     "output_type": "execute_result"
    }
   ],
   "source": [
    "SVG(image)"
   ]
  },
  {
   "cell_type": "markdown",
   "metadata": {},
   "source": [
    "## Bigraphs"
   ]
  },
  {
   "cell_type": "markdown",
   "metadata": {},
   "source": [
    "**Loading**"
   ]
  },
  {
   "cell_type": "code",
   "execution_count": 41,
   "metadata": {},
   "outputs": [],
   "source": [
    "graph = movie_actor(metadata=True)\n",
    "biadjacency = graph.biadjacency\n",
    "names_row = graph.names_row\n",
    "names_col = graph.names_col"
   ]
  },
  {
   "cell_type": "markdown",
   "metadata": {},
   "source": [
    "**Classification**"
   ]
  },
  {
   "cell_type": "code",
   "execution_count": 42,
   "metadata": {},
   "outputs": [],
   "source": [
    "inception = 0\n",
    "drive = 3\n",
    "budapest = 8"
   ]
  },
  {
   "cell_type": "code",
   "execution_count": 43,
   "metadata": {},
   "outputs": [],
   "source": [
    "seeds = {inception: 0, drive: 1, budapest: 2}"
   ]
  },
  {
   "cell_type": "code",
   "execution_count": 49,
   "metadata": {},
   "outputs": [],
   "source": [
    "bidiffusion = BiDiffusionClassifier()\n",
    "bidiffusion.fit(biadjacency, seeds)\n",
    "labels = bidiffusion.labels_"
   ]
  },
  {
   "cell_type": "markdown",
   "metadata": {},
   "source": [
    "**Visualization**"
   ]
  },
  {
   "cell_type": "code",
   "execution_count": 53,
   "metadata": {},
   "outputs": [],
   "source": [
    "image = svg_bigraph(biadjacency, names_row, names_col, labels_row=labels, seeds_row=seeds, color_col = 'white')"
   ]
  },
  {
   "cell_type": "code",
   "execution_count": 54,
   "metadata": {},
   "outputs": [
    {
     "data": {
      "image/svg+xml": [
       "<svg height=\"340\" width=\"728.0\"><path d=\"M 188.0 320.0 588.0 320.0\" stroke=\"black\" stroke-width=\"1\"/><path d=\"M 188.0 320.0 588.0 300.0\" stroke=\"black\" stroke-width=\"1\"/><path d=\"M 188.0 320.0 588.0 280.0\" stroke=\"black\" stroke-width=\"1\"/><path d=\"M 188.0 300.0 588.0 300.0\" stroke=\"black\" stroke-width=\"1\"/><path d=\"M 188.0 300.0 588.0 280.0\" stroke=\"black\" stroke-width=\"1\"/><path d=\"M 188.0 300.0 588.0 260.0\" stroke=\"black\" stroke-width=\"1\"/><path d=\"M 188.0 280.0 588.0 260.0\" stroke=\"black\" stroke-width=\"1\"/><path d=\"M 188.0 280.0 588.0 239.99999999999997\" stroke=\"black\" stroke-width=\"1\"/><path d=\"M 188.0 280.0 588.0 220.0\" stroke=\"black\" stroke-width=\"1\"/><path d=\"M 188.0 280.0 588.0 160.0\" stroke=\"black\" stroke-width=\"1\"/><path d=\"M 188.0 260.0 588.0 239.99999999999997\" stroke=\"black\" stroke-width=\"1\"/><path d=\"M 188.0 260.0 588.0 200.0\" stroke=\"black\" stroke-width=\"1\"/><path d=\"M 188.0 239.99999999999997 588.0 320.0\" stroke=\"black\" stroke-width=\"1\"/><path d=\"M 188.0 239.99999999999997 588.0 200.0\" stroke=\"black\" stroke-width=\"1\"/><path d=\"M 188.0 220.0 588.0 239.99999999999997\" stroke=\"black\" stroke-width=\"1\"/><path d=\"M 188.0 220.0 588.0 180.0\" stroke=\"black\" stroke-width=\"1\"/><path d=\"M 188.0 200.0 588.0 239.99999999999997\" stroke=\"black\" stroke-width=\"1\"/><path d=\"M 188.0 200.0 588.0 180.0\" stroke=\"black\" stroke-width=\"1\"/><path d=\"M 188.0 200.0 588.0 160.0\" stroke=\"black\" stroke-width=\"1\"/><path d=\"M 188.0 180.0 588.0 260.0\" stroke=\"black\" stroke-width=\"1\"/><path d=\"M 188.0 180.0 588.0 160.0\" stroke=\"black\" stroke-width=\"1\"/><path d=\"M 188.0 160.0 588.0 140.0\" stroke=\"black\" stroke-width=\"1\"/><path d=\"M 188.0 160.0 588.0 120.0\" stroke=\"black\" stroke-width=\"1\"/><path d=\"M 188.0 160.0 588.0 100.0\" stroke=\"black\" stroke-width=\"1\"/><path d=\"M 188.0 160.0 588.0 80.0\" stroke=\"black\" stroke-width=\"1\"/><path d=\"M 188.0 160.0 588.0 20.0\" stroke=\"black\" stroke-width=\"1\"/><path d=\"M 188.0 140.0 588.0 320.0\" stroke=\"black\" stroke-width=\"1\"/><path d=\"M 188.0 140.0 588.0 100.0\" stroke=\"black\" stroke-width=\"1\"/><path d=\"M 188.0 140.0 588.0 80.0\" stroke=\"black\" stroke-width=\"1\"/><path d=\"M 188.0 120.0 588.0 140.0\" stroke=\"black\" stroke-width=\"1\"/><path d=\"M 188.0 120.0 588.0 120.0\" stroke=\"black\" stroke-width=\"1\"/><path d=\"M 188.0 100.0 588.0 220.0\" stroke=\"black\" stroke-width=\"1\"/><path d=\"M 188.0 100.0 588.0 140.0\" stroke=\"black\" stroke-width=\"1\"/><path d=\"M 188.0 100.0 588.0 60.0\" stroke=\"black\" stroke-width=\"1\"/><path d=\"M 188.0 80.0 588.0 300.0\" stroke=\"black\" stroke-width=\"1\"/><path d=\"M 188.0 80.0 588.0 140.0\" stroke=\"black\" stroke-width=\"1\"/><path d=\"M 188.0 80.0 588.0 20.0\" stroke=\"black\" stroke-width=\"1\"/><path d=\"M 188.0 60.0 588.0 80.0\" stroke=\"black\" stroke-width=\"1\"/><path d=\"M 188.0 60.0 588.0 40.0\" stroke=\"black\" stroke-width=\"1\"/><path d=\"M 188.0 40.0 588.0 100.0\" stroke=\"black\" stroke-width=\"1\"/><path d=\"M 188.0 40.0 588.0 40.0\" stroke=\"black\" stroke-width=\"1\"/><circle cx=\"188.0\" cy=\"320.0\" r=\"5\" style=\"fill:blue;stroke:black;stroke-width:1\"/><circle cx=\"188.0\" cy=\"300.0\" r=\"5\" style=\"fill:blue;stroke:black;stroke-width:1\"/><circle cx=\"188.0\" cy=\"280.0\" r=\"5\" style=\"fill:red;stroke:black;stroke-width:1\"/><circle cx=\"188.0\" cy=\"260.0\" r=\"5\" style=\"fill:red;stroke:black;stroke-width:1\"/><circle cx=\"188.0\" cy=\"239.99999999999997\" r=\"5\" style=\"fill:red;stroke:black;stroke-width:1\"/><circle cx=\"188.0\" cy=\"220.0\" r=\"5\" style=\"fill:red;stroke:black;stroke-width:1\"/><circle cx=\"188.0\" cy=\"200.0\" r=\"5\" style=\"fill:red;stroke:black;stroke-width:1\"/><circle cx=\"188.0\" cy=\"180.0\" r=\"5\" style=\"fill:red;stroke:black;stroke-width:1\"/><circle cx=\"188.0\" cy=\"160.0\" r=\"5\" style=\"fill:green;stroke:black;stroke-width:1\"/><circle cx=\"188.0\" cy=\"140.0\" r=\"5\" style=\"fill:green;stroke:black;stroke-width:1\"/><circle cx=\"188.0\" cy=\"120.0\" r=\"5\" style=\"fill:green;stroke:black;stroke-width:1\"/><circle cx=\"188.0\" cy=\"100.0\" r=\"5\" style=\"fill:green;stroke:black;stroke-width:1\"/><circle cx=\"188.0\" cy=\"80.0\" r=\"5\" style=\"fill:green;stroke:black;stroke-width:1\"/><circle cx=\"188.0\" cy=\"60.0\" r=\"5\" style=\"fill:green;stroke:black;stroke-width:1\"/><circle cx=\"188.0\" cy=\"40.0\" r=\"5\" style=\"fill:green;stroke:black;stroke-width:1\"/><circle cx=\"588.0\" cy=\"320.0\" r=\"5\" style=\"fill:white;stroke:black;stroke-width:1\"/><circle cx=\"588.0\" cy=\"300.0\" r=\"5\" style=\"fill:white;stroke:black;stroke-width:1\"/><circle cx=\"588.0\" cy=\"280.0\" r=\"5\" style=\"fill:white;stroke:black;stroke-width:1\"/><circle cx=\"588.0\" cy=\"260.0\" r=\"5\" style=\"fill:white;stroke:black;stroke-width:1\"/><circle cx=\"588.0\" cy=\"239.99999999999997\" r=\"5\" style=\"fill:white;stroke:black;stroke-width:1\"/><circle cx=\"588.0\" cy=\"220.0\" r=\"5\" style=\"fill:white;stroke:black;stroke-width:1\"/><circle cx=\"588.0\" cy=\"200.0\" r=\"5\" style=\"fill:white;stroke:black;stroke-width:1\"/><circle cx=\"588.0\" cy=\"180.0\" r=\"5\" style=\"fill:white;stroke:black;stroke-width:1\"/><circle cx=\"588.0\" cy=\"160.0\" r=\"5\" style=\"fill:white;stroke:black;stroke-width:1\"/><circle cx=\"588.0\" cy=\"140.0\" r=\"5\" style=\"fill:white;stroke:black;stroke-width:1\"/><circle cx=\"588.0\" cy=\"120.0\" r=\"5\" style=\"fill:white;stroke:black;stroke-width:1\"/><circle cx=\"588.0\" cy=\"100.0\" r=\"5\" style=\"fill:white;stroke:black;stroke-width:1\"/><circle cx=\"588.0\" cy=\"80.0\" r=\"5\" style=\"fill:white;stroke:black;stroke-width:1\"/><circle cx=\"588.0\" cy=\"60.0\" r=\"5\" style=\"fill:white;stroke:black;stroke-width:1\"/><circle cx=\"588.0\" cy=\"40.0\" r=\"5\" style=\"fill:white;stroke:black;stroke-width:1\"/><circle cx=\"588.0\" cy=\"20.0\" r=\"5\" style=\"fill:white;stroke:black;stroke-width:1\"/><text font-size=\"12\" text-anchor=\"end\" x=\"178.0\" y=\"320.0\">Inception</text><text font-size=\"12\" text-anchor=\"end\" x=\"178.0\" y=\"300.0\">The Dark Knight Rises</text><text font-size=\"12\" text-anchor=\"end\" x=\"178.0\" y=\"280.0\">The Big Short</text><text font-size=\"12\" text-anchor=\"end\" x=\"178.0\" y=\"260.0\">Drive</text><text font-size=\"12\" text-anchor=\"end\" x=\"178.0\" y=\"239.99999999999997\">The Great Gatsby</text><text font-size=\"12\" text-anchor=\"end\" x=\"178.0\" y=\"220.0\">La La Land</text><text font-size=\"12\" text-anchor=\"end\" x=\"178.0\" y=\"200.0\">Crazy Stupid Love</text><text font-size=\"12\" text-anchor=\"end\" x=\"178.0\" y=\"180.0\">Vice</text><text font-size=\"12\" text-anchor=\"end\" x=\"178.0\" y=\"160.0\">The Grand Budapest Hotel</text><text font-size=\"12\" text-anchor=\"end\" x=\"178.0\" y=\"140.0\">Aviator</text><text font-size=\"12\" text-anchor=\"end\" x=\"178.0\" y=\"120.0\">007 Spectre</text><text font-size=\"12\" text-anchor=\"end\" x=\"178.0\" y=\"100.0\">Inglourious Basterds</text><text font-size=\"12\" text-anchor=\"end\" x=\"178.0\" y=\"80.0\">Midnight In Paris</text><text font-size=\"12\" text-anchor=\"end\" x=\"178.0\" y=\"60.0\">Murder on the Orient Express</text><text font-size=\"12\" text-anchor=\"end\" x=\"178.0\" y=\"40.0\">Fantastic Beasts 2</text><text font-size=\"12\" x=\"598.0\" y=\"320.0\">Leonardo DiCaprio</text><text font-size=\"12\" x=\"598.0\" y=\"300.0\">Marion Cotillard</text><text font-size=\"12\" x=\"598.0\" y=\"280.0\">Joseph Gordon Lewitt</text><text font-size=\"12\" x=\"598.0\" y=\"260.0\">Christian Bale</text><text font-size=\"12\" x=\"598.0\" y=\"239.99999999999997\">Ryan Gosling</text><text font-size=\"12\" x=\"598.0\" y=\"220.0\">Brad Pitt</text><text font-size=\"12\" x=\"598.0\" y=\"200.0\">Carey Mulligan</text><text font-size=\"12\" x=\"598.0\" y=\"180.0\">Emma Stone</text><text font-size=\"12\" x=\"598.0\" y=\"160.0\">Steve Carell</text><text font-size=\"12\" x=\"598.0\" y=\"140.0\">Lea Seydoux</text><text font-size=\"12\" x=\"598.0\" y=\"120.0\">Ralph Fiennes</text><text font-size=\"12\" x=\"598.0\" y=\"100.0\">Jude Law</text><text font-size=\"12\" x=\"598.0\" y=\"80.0\">Willem Dafoe</text><text font-size=\"12\" x=\"598.0\" y=\"60.0\">Christophe Waltz</text><text font-size=\"12\" x=\"598.0\" y=\"40.0\">Johnny Depp</text><text font-size=\"12\" x=\"598.0\" y=\"20.0\">Owen Wilson</text></svg>"
      ],
      "text/plain": [
       "<IPython.core.display.SVG object>"
      ]
     },
     "execution_count": 54,
     "metadata": {},
     "output_type": "execute_result"
    }
   ],
   "source": [
    "SVG(image)"
   ]
  }
 ],
 "metadata": {
  "kernelspec": {
   "display_name": "Python 3",
   "language": "python",
   "name": "python3"
  },
  "language_info": {
   "codemirror_mode": {
    "name": "ipython",
    "version": 3
   },
   "file_extension": ".py",
   "mimetype": "text/x-python",
   "name": "python",
   "nbconvert_exporter": "python",
   "pygments_lexer": "ipython3",
   "version": "3.7.7"
  }
 },
 "nbformat": 4,
 "nbformat_minor": 2
}

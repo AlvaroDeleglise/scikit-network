{
 "cells": [
  {
   "cell_type": "markdown",
   "metadata": {},
   "source": [
    "# Node ranking by PageRank"
   ]
  },
  {
   "cell_type": "markdown",
   "metadata": {},
   "source": [
    "This notebook illustrates the ranking of ndoes in a graph by [PageRank](https://scikit-network.readthedocs.io/en/latest/reference/ranking.html#pagerank)."
   ]
  },
  {
   "cell_type": "code",
   "execution_count": 1,
   "metadata": {
    "ExecuteTime": {
     "end_time": "2019-07-09T11:28:05.300374Z",
     "start_time": "2019-07-09T11:28:04.695417Z"
    }
   },
   "outputs": [],
   "source": [
    "from sknetwork.toy_graphs import miserables_graph\n",
    "from sknetwork.ranking import PageRank\n",
    "from numpy import array, argsort"
   ]
  },
  {
   "cell_type": "markdown",
   "metadata": {},
   "source": [
    "**Loading**"
   ]
  },
  {
   "cell_type": "code",
   "execution_count": 2,
   "metadata": {
    "ExecuteTime": {
     "end_time": "2019-07-09T11:28:06.573450Z",
     "start_time": "2019-07-09T11:28:06.557327Z"
    }
   },
   "outputs": [
    {
     "data": {
      "text/plain": [
       "<77x77 sparse matrix of type '<class 'numpy.int64'>'\n",
       "\twith 508 stored elements in Compressed Sparse Row format>"
      ]
     },
     "execution_count": 2,
     "metadata": {},
     "output_type": "execute_result"
    }
   ],
   "source": [
    "adj, labels = miserables_graph(return_labels=True)\n",
    "adj"
   ]
  },
  {
   "cell_type": "markdown",
   "metadata": {},
   "source": [
    "Find Cosette's node in the graph."
   ]
  },
  {
   "cell_type": "code",
   "execution_count": 3,
   "metadata": {
    "ExecuteTime": {
     "end_time": "2019-07-09T11:28:07.574978Z",
     "start_time": "2019-07-09T11:28:07.567783Z"
    }
   },
   "outputs": [],
   "source": [
    "cosette_node = [node for node, name in labels.items() if name=='Cosette'][0]"
   ]
  },
  {
   "cell_type": "markdown",
   "metadata": {},
   "source": [
    "**Ranking**"
   ]
  },
  {
   "cell_type": "markdown",
   "metadata": {},
   "source": [
    "Compute the ranking with a personalization vector set with Cosette."
   ]
  },
  {
   "cell_type": "code",
   "execution_count": 4,
   "metadata": {
    "ExecuteTime": {
     "end_time": "2019-07-09T11:28:09.342856Z",
     "start_time": "2019-07-09T11:28:08.486826Z"
    }
   },
   "outputs": [
    {
     "data": {
      "text/plain": [
       "PageRank(damping_factor=0.85, method='diter', n_iter=25)"
      ]
     },
     "execution_count": 4,
     "metadata": {},
     "output_type": "execute_result"
    }
   ],
   "source": [
    "pr = PageRank()\n",
    "pr.fit(adj, personalization=array([(node == cosette_node) for node in range(adj.shape[0])]))"
   ]
  },
  {
   "cell_type": "markdown",
   "metadata": {},
   "source": [
    "**Results**"
   ]
  },
  {
   "cell_type": "markdown",
   "metadata": {},
   "source": [
    "Display the top 5 nodes of the personalized PageRank from Cosette."
   ]
  },
  {
   "cell_type": "code",
   "execution_count": 5,
   "metadata": {
    "ExecuteTime": {
     "end_time": "2019-07-09T11:28:10.944232Z",
     "start_time": "2019-07-09T11:28:10.935820Z"
    }
   },
   "outputs": [
    {
     "name": "stdout",
     "output_type": "stream",
     "text": [
      "Cosette 0.8122398261884947\n",
      "Valjean 0.11506081906205759\n",
      "Marius 0.03912543863864285\n",
      "Mme Thenardier 0.007464167768533003\n",
      "Gillenormand 0.0060657134034498945\n"
     ]
    }
   ],
   "source": [
    "for node in argsort(pr.ranking_)[::-1][:5]:\n",
    "    print(labels[node], pr.ranking_[node])"
   ]
  }
 ],
 "metadata": {
  "kernelspec": {
   "display_name": "Python 3",
   "language": "python",
   "name": "python3"
  },
  "language_info": {
   "codemirror_mode": {
    "name": "ipython",
    "version": 3
   },
   "file_extension": ".py",
   "mimetype": "text/x-python",
   "name": "python",
   "nbconvert_exporter": "python",
   "pygments_lexer": "ipython3",
   "version": "3.7.1"
  },
  "toc": {
   "base_numbering": 1,
   "nav_menu": {},
   "number_sections": true,
   "sideBar": true,
   "skip_h1_title": false,
   "title_cell": "Table of Contents",
   "title_sidebar": "Contents",
   "toc_cell": false,
   "toc_position": {},
   "toc_section_display": true,
   "toc_window_display": false
  }
 },
 "nbformat": 4,
 "nbformat_minor": 2
}

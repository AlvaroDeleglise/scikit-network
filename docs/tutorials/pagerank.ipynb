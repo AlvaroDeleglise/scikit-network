{
 "cells": [
  {
   "cell_type": "code",
   "execution_count": 1,
   "metadata": {
    "ExecuteTime": {
     "end_time": "2019-07-04T14:56:35.568594Z",
     "start_time": "2019-07-04T14:56:34.876247Z"
    }
   },
   "outputs": [],
   "source": [
    "from sknetwork.toy_graphs import miserables_graph\n",
    "from sknetwork.ranking import PageRank\n",
    "from numpy import array, argsort"
   ]
  },
  {
   "cell_type": "code",
   "execution_count": 2,
   "metadata": {
    "ExecuteTime": {
     "end_time": "2019-07-04T14:56:35.587400Z",
     "start_time": "2019-07-04T14:56:35.570671Z"
    }
   },
   "outputs": [
    {
     "data": {
      "text/plain": [
       "<77x77 sparse matrix of type '<class 'numpy.int64'>'\n",
       "\twith 508 stored elements in Compressed Sparse Row format>"
      ]
     },
     "execution_count": 2,
     "metadata": {},
     "output_type": "execute_result"
    }
   ],
   "source": [
    "adj, labels = miserables_graph(return_labels=True)\n",
    "adj"
   ]
  },
  {
   "cell_type": "code",
   "execution_count": 3,
   "metadata": {
    "ExecuteTime": {
     "end_time": "2019-07-04T14:56:35.591814Z",
     "start_time": "2019-07-04T14:56:35.589137Z"
    }
   },
   "outputs": [],
   "source": [
    "cosette_node = [node for node, name in labels.items() if name=='Cosette'][0]"
   ]
  },
  {
   "cell_type": "code",
   "execution_count": 4,
   "metadata": {
    "ExecuteTime": {
     "end_time": "2019-07-04T14:56:36.475253Z",
     "start_time": "2019-07-04T14:56:35.605710Z"
    }
   },
   "outputs": [
    {
     "data": {
      "text/plain": [
       "<sknetwork.ranking.pagerank.PageRank at 0x10b086908>"
      ]
     },
     "execution_count": 4,
     "metadata": {},
     "output_type": "execute_result"
    }
   ],
   "source": [
    "pr = PageRank()\n",
    "pr.fit(adj, personalization=array([(node == cosette_node) for node in range(adj.shape[0])]))"
   ]
  },
  {
   "cell_type": "code",
   "execution_count": 5,
   "metadata": {
    "ExecuteTime": {
     "end_time": "2019-07-04T14:56:36.490724Z",
     "start_time": "2019-07-04T14:56:36.485188Z"
    }
   },
   "outputs": [
    {
     "name": "stdout",
     "output_type": "stream",
     "text": [
      "Cosette 0.7255542153481236\n",
      "Valjean 0.20614987398279871\n",
      "Marius 0.03528449961404959\n",
      "Mme Thenardier 0.006620011149296408\n",
      "Gillenormand 0.005435700536394272\n"
     ]
    }
   ],
   "source": [
    "for node in argsort(pr.ranking_)[::-1][:5]:\n",
    "    print(labels[node], pr.ranking_[node])"
   ]
  }
 ],
 "metadata": {
  "kernelspec": {
   "display_name": "Python 3",
   "language": "python",
   "name": "python3"
  },
  "language_info": {
   "codemirror_mode": {
    "name": "ipython",
    "version": 3
   },
   "file_extension": ".py",
   "mimetype": "text/x-python",
   "name": "python",
   "nbconvert_exporter": "python",
   "pygments_lexer": "ipython3",
   "version": "3.7.1"
  },
  "toc": {
   "base_numbering": 1,
   "nav_menu": {},
   "number_sections": true,
   "sideBar": true,
   "skip_h1_title": false,
   "title_cell": "Table of Contents",
   "title_sidebar": "Contents",
   "toc_cell": false,
   "toc_position": {},
   "toc_section_display": true,
   "toc_window_display": false
  }
 },
 "nbformat": 4,
 "nbformat_minor": 2
}

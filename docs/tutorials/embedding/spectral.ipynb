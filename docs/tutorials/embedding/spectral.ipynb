{
 "cells": [
  {
   "cell_type": "markdown",
   "metadata": {},
   "source": [
    "# Spectral"
   ]
  },
  {
   "cell_type": "markdown",
   "metadata": {},
   "source": [
    "This notebook illustrates the spectral embedding of a graph by the [spectral decomposition](https://scikit-network.readthedocs.io/en/latest/reference/embedding.html#module-sknetwork.embedding) of the Laplacian."
   ]
  },
  {
   "cell_type": "code",
   "execution_count": 38,
   "metadata": {},
   "outputs": [],
   "source": [
    "\n",
    "import sknetwork as skn"
   ]
  },
  {
   "cell_type": "markdown",
   "metadata": {},
   "source": [
    "## Undirected graphs"
   ]
  },
  {
   "cell_type": "markdown",
   "metadata": {},
   "source": [
    "**Loading**"
   ]
  },
  {
   "cell_type": "code",
   "execution_count": 39,
   "metadata": {
    "ExecuteTime": {
     "end_time": "2019-07-09T11:27:07.938019Z",
     "start_time": "2019-07-09T11:27:07.920535Z"
    }
   },
   "outputs": [
    {
     "data": {
      "text/plain": [
       "<34x34 sparse matrix of type '<class 'numpy.int64'>'\n\twith 156 stored elements in Compressed Sparse Row format>"
      ]
     },
     "execution_count": 39,
     "metadata": {},
     "output_type": "execute_result"
    }
   ],
   "source": [
    "adjacency, labels = skn.toy_graphs.karate_club(return_labels=True)\n",
    "adjacency"
   ]
  },
  {
   "cell_type": "markdown",
   "metadata": {},
   "source": [
    "**Embedding**"
   ]
  },
  {
   "cell_type": "code",
   "execution_count": 40,
   "metadata": {
    "ExecuteTime": {
     "end_time": "2019-07-09T11:27:09.211595Z",
     "start_time": "2019-07-09T11:27:08.440159Z"
    },
    "scrolled": true
   },
   "outputs": [
    {
     "data": {
      "text/plain": [
       "Spectral(embedding_dimension=2, normalized_laplacian=True, regularization=0.01, scaling='multiply', solver=LanczosEig(which='SM'))"
      ]
     },
     "execution_count": 40,
     "metadata": {},
     "output_type": "execute_result"
    }
   ],
   "source": [
    "spectral = skn.embedding.Spectral()\n",
    "spectral.fit(adjacency)"
   ]
  },
  {
   "cell_type": "code",
   "execution_count": 41,
   "metadata": {},
   "outputs": [
    {
     "data": {
      "text/plain": [
       "(34, 2)"
      ]
     },
     "execution_count": 41,
     "metadata": {},
     "output_type": "execute_result"
    }
   ],
   "source": [
    "embedding = spectral.embedding_\n",
    "embedding.shape"
   ]
  },
  {
   "cell_type": "markdown",
   "metadata": {},
   "source": [
    "**Visualization**"
   ]
  },
  {
   "cell_type": "code",
   "execution_count": 42,
   "metadata": {},
   "outputs": [],
   "source": [
    "from networkx import from_scipy_sparse_matrix, draw"
   ]
  },
  {
   "cell_type": "code",
   "execution_count": 43,
   "metadata": {
    "ExecuteTime": {
     "end_time": "2019-07-09T11:27:10.907094Z",
     "start_time": "2019-07-09T11:27:10.696188Z"
    }
   },
   "outputs": [],
   "source": [
    "graph = from_scipy_sparse_matrix(adjacency)"
   ]
  },
  {
   "cell_type": "code",
   "execution_count": 44,
   "metadata": {
    "ExecuteTime": {
     "end_time": "2019-07-09T11:27:11.402102Z",
     "start_time": "2019-07-09T11:27:11.396042Z"
    }
   },
   "outputs": [],
   "source": [
    "colors = ['r', 'b']"
   ]
  },
  {
   "cell_type": "code",
   "execution_count": 45,
   "metadata": {},
   "outputs": [
    {
     "data": {
      "image/png": "[encoded data removed]",
      "text/plain": [
       "<Figure size 432x288 with 1 Axes>"
      ]
     },
     "metadata": {},
     "output_type": "display_data"
    }
   ],
   "source": [
    "draw(graph, pos=embedding, node_color=[colors[l] for l in labels])"
   ]
  },
  {
   "cell_type": "markdown",
   "metadata": {},
   "source": [
    "**Metrics**"
   ]
  },
  {
   "cell_type": "code",
   "execution_count": 46,
   "metadata": {},
   "outputs": [
    {
     "data": {
      "text/plain": [
       "0.6457200205173321"
      ]
     },
     "execution_count": 46,
     "metadata": {},
     "output_type": "execute_result"
    }
   ],
   "source": [
    "skn.embedding.dot_modularity(adjacency, embedding)"
   ]
  },
  {
   "cell_type": "markdown",
   "metadata": {},
   "source": [
    "**Parameters**"
   ]
  },
  {
   "cell_type": "code",
   "execution_count": 47,
   "metadata": {},
   "outputs": [
    {
     "data": {
      "text/plain": [
       "Spectral(embedding_dimension=10, normalized_laplacian=True, regularization=0.01, scaling='multiply', solver=LanczosEig(which='SM'))"
      ]
     },
     "execution_count": 47,
     "metadata": {},
     "output_type": "execute_result"
    }
   ],
   "source": [
    "# embedding dimension\n",
    "spectral = skn.embedding.Spectral(embedding_dimension=10)\n",
    "spectral.fit(adjacency)"
   ]
  },
  {
   "cell_type": "code",
   "execution_count": 48,
   "metadata": {},
   "outputs": [
    {
     "data": {
      "text/plain": [
       "Spectral(embedding_dimension=2, normalized_laplacian=True, regularization=1, scaling='multiply', solver=LanczosEig(which='SM'))"
      ]
     },
     "execution_count": 48,
     "metadata": {},
     "output_type": "execute_result"
    }
   ],
   "source": [
    "# regularization\n",
    "spectral = skn.embedding.Spectral(regularization=1)\n",
    "spectral.fit(adjacency)"
   ]
  },
  {
   "cell_type": "code",
   "execution_count": 49,
   "metadata": {},
   "outputs": [
    {
     "data": {
      "text/plain": [
       "Spectral(embedding_dimension=2, normalized_laplacian=False, regularization=0.01, scaling='multiply', solver=LanczosEig(which='SM'))"
      ]
     },
     "execution_count": 49,
     "metadata": {},
     "output_type": "execute_result"
    }
   ],
   "source": [
    "# regular Laplacian\n",
    "spectral = skn.embedding.Spectral(normalized_laplacian=False)\n",
    "spectral.fit(adjacency)"
   ]
  },
  {
   "cell_type": "code",
   "execution_count": 50,
   "metadata": {},
   "outputs": [
    {
     "data": {
      "text/plain": [
       "Spectral(embedding_dimension=2, normalized_laplacian=True, regularization=0.01, scaling='multiply', solver=HalkoEig(which='SM', n_oversamples=10, n_iter='auto', power_iteration_normalizer='auto', one_pass=False))"
      ]
     },
     "execution_count": 50,
     "metadata": {},
     "output_type": "execute_result"
    }
   ],
   "source": [
    "# solver\n",
    "spectral = skn.embedding.Spectral(solver='halko')\n",
    "spectral.fit(adjacency)"
   ]
  },
  {
   "cell_type": "markdown",
   "metadata": {},
   "source": [
    "## Directed graphs"
   ]
  },
  {
   "cell_type": "markdown",
   "metadata": {},
   "source": [
    "**Loading**"
   ]
  },
  {
   "cell_type": "code",
   "execution_count": 51,
   "metadata": {},
   "outputs": [
    {
     "data": {
      "text/plain": [
       "<14x14 sparse matrix of type '<class 'numpy.int64'>'\n\twith 50 stored elements in Compressed Sparse Row format>"
      ]
     },
     "execution_count": 51,
     "metadata": {},
     "output_type": "execute_result"
    }
   ],
   "source": [
    "adjacency, names = skn.toy_graphs.painters(return_labels=True)\n",
    "adjacency"
   ]
  },
  {
   "cell_type": "markdown",
   "metadata": {},
   "source": [
    "**Embedding**"
   ]
  },
  {
   "cell_type": "code",
   "execution_count": 52,
   "metadata": {
    "scrolled": true
   },
   "outputs": [
    {
     "data": {
      "text/plain": [
       "Spectral(embedding_dimension=2, normalized_laplacian=True, regularization=0.01, scaling='multiply', solver=LanczosEig(which='SM'))"
      ]
     },
     "execution_count": 52,
     "metadata": {},
     "output_type": "execute_result"
    }
   ],
   "source": [
    "# embedding of the graph considered as bipartite (each node considered twice)\n",
    "spectral = skn.embedding.Spectral()\n",
    "spectral.fit(adjacency)"
   ]
  },
  {
   "cell_type": "code",
   "execution_count": 53,
   "metadata": {},
   "outputs": [
    {
     "data": {
      "text/plain": [
       "(14, 2)"
      ]
     },
     "execution_count": 53,
     "metadata": {},
     "output_type": "execute_result"
    }
   ],
   "source": [
    "embedding = spectral.embedding_\n",
    "embedding.shape"
   ]
  },
  {
   "cell_type": "markdown",
   "metadata": {},
   "source": [
    "**Visualization**"
   ]
  },
  {
   "cell_type": "code",
   "execution_count": 54,
   "metadata": {},
   "outputs": [],
   "source": [
    "from networkx import DiGraph"
   ]
  },
  {
   "cell_type": "code",
   "execution_count": 55,
   "metadata": {
    "ExecuteTime": {
     "end_time": "2019-07-09T11:27:10.907094Z",
     "start_time": "2019-07-09T11:27:10.696188Z"
    }
   },
   "outputs": [],
   "source": [
    "graph = from_scipy_sparse_matrix(adjacency, create_using=DiGraph())"
   ]
  },
  {
   "cell_type": "code",
   "execution_count": 56,
   "metadata": {
    "ExecuteTime": {
     "end_time": "2019-07-09T11:27:14.032509Z",
     "start_time": "2019-07-09T11:27:13.945785Z"
    },
    "scrolled": true
   },
   "outputs": [
    {
     "data": {
      "image/png": "[encoded data removed]",
      "text/plain": [
       "<Figure size 432x288 with 1 Axes>"
      ]
     },
     "metadata": {},
     "output_type": "display_data"
    }
   ],
   "source": [
    "# Warning: If the image does not appear, run the cell again.\n",
    "draw(graph, pos=embedding, node_color='r', labels = names)"
   ]
  },
  {
   "cell_type": "markdown",
   "metadata": {},
   "source": [
    "**Metrics**"
   ]
  },
  {
   "cell_type": "code",
   "execution_count": 57,
   "metadata": {},
   "outputs": [
    {
     "data": {
      "text/plain": [
       "0.4568905762446217"
      ]
     },
     "execution_count": 57,
     "metadata": {},
     "output_type": "execute_result"
    }
   ],
   "source": [
    "skn.embedding.dot_modularity(adjacency, embedding)"
   ]
  },
  {
   "cell_type": "markdown",
   "metadata": {},
   "source": [
    "## Bipartite graphs"
   ]
  },
  {
   "cell_type": "markdown",
   "metadata": {},
   "source": [
    "**Loading**"
   ]
  },
  {
   "cell_type": "code",
   "execution_count": 58,
   "metadata": {},
   "outputs": [
    {
     "data": {
      "text/plain": [
       "<15x16 sparse matrix of type '<class 'numpy.int64'>'\n\twith 41 stored elements in Compressed Sparse Row format>"
      ]
     },
     "execution_count": 58,
     "metadata": {},
     "output_type": "execute_result"
    }
   ],
   "source": [
    "biadjacency, movies, actors = skn.toy_graphs.movie_actor(return_labels=True)\n",
    "biadjacency"
   ]
  },
  {
   "cell_type": "markdown",
   "metadata": {},
   "source": [
    "**Embedding**"
   ]
  },
  {
   "cell_type": "code",
   "execution_count": 59,
   "metadata": {
    "scrolled": true
   },
   "outputs": [
    {
     "data": {
      "text/plain": [
       "Spectral(embedding_dimension=2, normalized_laplacian=True, regularization=0.01, scaling='multiply', solver=LanczosEig(which='SM'))"
      ]
     },
     "execution_count": 59,
     "metadata": {},
     "output_type": "execute_result"
    }
   ],
   "source": [
    "spectral = skn.embedding.Spectral()\n",
    "spectral.fit(biadjacency)"
   ]
  },
  {
   "cell_type": "code",
   "execution_count": 60,
   "metadata": {},
   "outputs": [
    {
     "data": {
      "text/plain": [
       "(15, 2)"
      ]
     },
     "execution_count": 60,
     "metadata": {},
     "output_type": "execute_result"
    }
   ],
   "source": [
    "embedding = spectral.embedding_\n",
    "embedding.shape"
   ]
  },
  {
   "cell_type": "code",
   "execution_count": 61,
   "metadata": {},
   "outputs": [
    {
     "data": {
      "text/plain": [
       "(16, 2)"
      ]
     },
     "execution_count": 61,
     "metadata": {},
     "output_type": "execute_result"
    }
   ],
   "source": [
    "coembedding = spectral.coembedding_\n",
    "coembedding.shape"
   ]
  },
  {
   "cell_type": "markdown",
   "metadata": {},
   "source": [
    "**Visualization**"
   ]
  },
  {
   "cell_type": "code",
   "execution_count": 62,
   "metadata": {},
   "outputs": [],
   "source": [
    "\n",
    "adjacency = skn.utils.bipartite2undirected(biadjacency)"
   ]
  },
  {
   "cell_type": "code",
   "execution_count": 63,
   "metadata": {
    "ExecuteTime": {
     "end_time": "2019-07-09T11:27:10.907094Z",
     "start_time": "2019-07-09T11:27:10.696188Z"
    }
   },
   "outputs": [],
   "source": [
    "graph = from_scipy_sparse_matrix(adjacency)"
   ]
  },
  {
   "cell_type": "code",
   "execution_count": 64,
   "metadata": {},
   "outputs": [],
   "source": [
    "n1, n2 = biadjacency.shape\n",
    "pos = {i: embedding[i, :] for i in range(n1)} \n",
    "pos.update({n1 + i: coembedding[i, :] for i in range(n2)})"
   ]
  },
  {
   "cell_type": "code",
   "execution_count": 65,
   "metadata": {},
   "outputs": [],
   "source": [
    "colors = n1 * ['r'] + n2 * ['b']"
   ]
  },
  {
   "cell_type": "code",
   "execution_count": 66,
   "metadata": {},
   "outputs": [],
   "source": [
    "names = movies\n",
    "names.update({n1 + i: actors[i] for i in actors})"
   ]
  },
  {
   "cell_type": "code",
   "execution_count": null,
   "metadata": {
    "ExecuteTime": {
     "end_time": "2019-07-09T11:27:14.032509Z",
     "start_time": "2019-07-09T11:27:13.945785Z"
    },
    "scrolled": false
   },
   "outputs": [],
   "source": [
    "# Warning: If the image does not appear, run the cell again.\n",
    "draw(graph, pos, node_color=colors, labels=names, edge_color='grey')\n",
    "\n",
    "\n",
    "\n"
   ]
  }
 ],
 "metadata": {
  "kernelspec": {
   "display_name": "Python 3",
   "language": "python",
   "name": "python3"
  },
  "language_info": {
   "codemirror_mode": {
    "name": "ipython",
    "version": 3
   },
   "file_extension": ".py",
   "mimetype": "text/x-python",
   "name": "python",
   "nbconvert_exporter": "python",
   "pygments_lexer": "ipython3",
   "version": "3.7.3"
  },
  "toc": {
   "base_numbering": 1.0,
   "nav_menu": {},
   "number_sections": true,
   "sideBar": true,
   "skip_h1_title": false,
   "title_cell": "Table of Contents",
   "title_sidebar": "Contents",
   "toc_cell": false,
   "toc_position": {},
   "toc_section_display": true,
   "toc_window_display": false
  },
  "widgets": {
   "application/vnd.jupyter.widget-state+json": {
    "state": {
     "0a13fb35a34143c5ac61884113699f99": {
      "model_module": "cytoscape-jupyter-widget",
      "model_module_version": "^0.1.0",
      "model_name": "CytoscapeModel",
      "state": {
       "_model_module_version": "^0.1.0",
       "_view_module_version": "^0.1.0",
       "background": "#FFFFFF",
       "data": {
        "directed": false,
        "elements": {
         "edges": [
          {
           "data": {
            "id": "8af1209b-c2a8-45a1-a592-3c780a5a4027",
            "source": "0",
            "target": "1",
            "weight": 1.0
           }
          },
          {
           "data": {
            "id": "f06735ba-0929-48be-8571-440a05ef1997",
            "source": "0",
            "target": "2",
            "weight": 1.0
           }
          },
          {
           "data": {
            "id": "a45f9d5e-6593-4a1f-abbb-c966be29e825",
            "source": "0",
            "target": "3",
            "weight": 1.0
           }
          },
          {
           "data": {
            "id": "d840b8c7-ef62-4a61-bbfc-91071864bd07",
            "source": "0",
            "target": "4",
            "weight": 1.0
           }
          },
          {
           "data": {
            "id": "5e7924af-37c1-4217-806a-abd8892b2f0d",
            "source": "0",
            "target": "5",
            "weight": 1.0
           }
          },
          {
           "data": {
            "id": "9647d9ce-a110-422b-b98a-c399cadc79f7",
            "source": "0",
            "target": "6",
            "weight": 1.0
           }
          },
          {
           "data": {
            "id": "ec886efd-24b7-4c46-8cf2-8ff89b285a93",
            "source": "0",
            "target": "7",
            "weight": 1.0
           }
          },
          {
           "data": {
            "id": "7f274155-be57-4024-8888-50c119f32d0e",
            "source": "0",
            "target": "8",
            "weight": 1.0
           }
          },
          {
           "data": {
            "id": "3a113d42-64dc-4e99-bfd7-ee7929d6899e",
            "source": "0",
            "target": "10",
            "weight": 1.0
           }
          },
          {
           "data": {
            "id": "eee3d5e6-0752-4c40-b8f8-e937174fc4ef",
            "source": "0",
            "target": "11",
            "weight": 1.0
           }
          },
          {
           "data": {
            "id": "bd9d2a89-9568-47af-ade9-0cad2d812d05",
            "source": "0",
            "target": "12",
            "weight": 1.0
           }
          },
          {
           "data": {
            "id": "3fd83b30-add5-477b-b4c4-b748945a951c",
            "source": "0",
            "target": "13",
            "weight": 1.0
           }
          },
          {
           "data": {
            "id": "622f4cf2-e2bc-4379-ac66-fa7a3ebc561e",
            "source": "0",
            "target": "17",
            "weight": 1.0
           }
          },
          {
           "data": {
            "id": "66cbc93e-a677-45ed-ae2f-09aadbb32b32",
            "source": "0",
            "target": "19",
            "weight": 1.0
           }
          },
          {
           "data": {
            "id": "255abc79-81d1-4b1b-a8da-f0f3ad096dab",
            "source": "0",
            "target": "21",
            "weight": 1.0
           }
          },
          {
           "data": {
            "id": "2417e2ca-a76b-4fcb-a0a7-f14db8b0e28c",
            "source": "0",
            "target": "31",
            "weight": 1.0
           }
          },
          {
           "data": {
            "id": "e67cf4ed-a8b0-448b-b609-f710dc8fd701",
            "source": "1",
            "target": "2",
            "weight": 1.0
           }
          },
          {
           "data": {
            "id": "170cad6e-02fb-4fe4-83ae-49faa3ce6e44",
            "source": "1",
            "target": "3",
            "weight": 1.0
           }
          },
          {
           "data": {
            "id": "f11b6a7d-84d0-46bb-b90d-db9ccbdfc65a",
            "source": "1",
            "target": "7",
            "weight": 1.0
           }
          },
          {
           "data": {
            "id": "993d6539-e92f-4356-8eff-b332ee302560",
            "source": "1",
            "target": "13",
            "weight": 1.0
           }
          },
          {
           "data": {
            "id": "62abe227-fd60-47aa-934f-7bda5f0e8351",
            "source": "1",
            "target": "17",
            "weight": 1.0
           }
          },
          {
           "data": {
            "id": "35172c25-f080-4c0c-abfe-e648c48f9b95",
            "source": "1",
            "target": "19",
            "weight": 1.0
           }
          },
          {
           "data": {
            "id": "daee017b-b1a8-4bfc-8876-37a7a1bf8e90",
            "source": "1",
            "target": "21",
            "weight": 1.0
           }
          },
          {
           "data": {
            "id": "45acb4dc-9345-4f48-bbee-8a06db88e00c",
            "source": "1",
            "target": "30",
            "weight": 1.0
           }
          },
          {
           "data": {
            "id": "a330d16c-ea2b-4834-96ee-abdedb6733bc",
            "source": "2",
            "target": "3",
            "weight": 1.0
           }
          },
          {
           "data": {
            "id": "e271c862-0043-40c6-9f19-a6d70e210f26",
            "source": "2",
            "target": "7",
            "weight": 1.0
           }
          },
          {
           "data": {
            "id": "99843c7e-c8bb-4506-9180-39a562971155",
            "source": "2",
            "target": "8",
            "weight": 1.0
           }
          },
          {
           "data": {
            "id": "c7e0fa18-ea34-4ac5-b2a8-1615f21bfac5",
            "source": "2",
            "target": "9",
            "weight": 1.0
           }
          },
          {
           "data": {
            "id": "071e309f-5f0b-4e47-809e-b21a26a75685",
            "source": "2",
            "target": "13",
            "weight": 1.0
           }
          },
          {
           "data": {
            "id": "19b3f084-cf2e-406b-b880-5d7e2f290b23",
            "source": "2",
            "target": "27",
            "weight": 1.0
           }
          },
          {
           "data": {
            "id": "d375b865-1541-49d2-a35c-e4d03c666159",
            "source": "2",
            "target": "28",
            "weight": 1.0
           }
          },
          {
           "data": {
            "id": "5f7f2bdf-1f73-4026-a5b9-4350effa8295",
            "source": "2",
            "target": "32",
            "weight": 1.0
           }
          },
          {
           "data": {
            "id": "69b809e1-4c9d-4cbc-a629-4d933f0444ae",
            "source": "3",
            "target": "7",
            "weight": 1.0
           }
          },
          {
           "data": {
            "id": "b187ff06-710b-4e16-a0f0-50a3d7c64aab",
            "source": "3",
            "target": "12",
            "weight": 1.0
           }
          },
          {
           "data": {
            "id": "20d58914-3941-4a25-9c51-484aae5edac2",
            "source": "3",
            "target": "13",
            "weight": 1.0
           }
          },
          {
           "data": {
            "id": "f98d2f44-4bad-4b00-a2b0-a9b971f04383",
            "source": "4",
            "target": "6",
            "weight": 1.0
           }
          },
          {
           "data": {
            "id": "54eca3f4-7acd-4aff-83d7-f431cd82397b",
            "source": "4",
            "target": "10",
            "weight": 1.0
           }
          },
          {
           "data": {
            "id": "9080245a-7f25-4cd5-95c2-04bdc9a09bd3",
            "source": "5",
            "target": "6",
            "weight": 1.0
           }
          },
          {
           "data": {
            "id": "f5a5eba9-925e-4e89-889d-ac1d0e77c012",
            "source": "5",
            "target": "10",
            "weight": 1.0
           }
          },
          {
           "data": {
            "id": "da6efa82-50e4-493a-ab22-750884cfe860",
            "source": "5",
            "target": "16",
            "weight": 1.0
           }
          },
          {
           "data": {
            "id": "830c6407-f546-4ae6-b310-6158bd857b75",
            "source": "6",
            "target": "16",
            "weight": 1.0
           }
          },
          {
           "data": {
            "id": "aaaf29ff-9024-48c4-9323-85e2088724bb",
            "source": "8",
            "target": "30",
            "weight": 1.0
           }
          },
          {
           "data": {
            "id": "bf9ece80-439e-4b9b-926c-f16c8ce217c1",
            "source": "8",
            "target": "32",
            "weight": 1.0
           }
          },
          {
           "data": {
            "id": "337e0e94-918e-4716-b827-34cea12bc9f9",
            "source": "8",
            "target": "33",
            "weight": 1.0
           }
          },
          {
           "data": {
            "id": "5b1cacda-225d-4c86-b987-f175c1a51287",
            "source": "9",
            "target": "33",
            "weight": 1.0
           }
          },
          {
           "data": {
            "id": "c018e5c6-6d90-467f-97c4-c0c387bff2fe",
            "source": "13",
            "target": "33",
            "weight": 1.0
           }
          },
          {
           "data": {
            "id": "d539b814-41a4-4c68-abbe-ce32fb7a0bb5",
            "source": "14",
            "target": "32",
            "weight": 1.0
           }
          },
          {
           "data": {
            "id": "1610ea43-042f-4fee-9f11-9d7a8fe4fa72",
            "source": "14",
            "target": "33",
            "weight": 1.0
           }
          },
          {
           "data": {
            "id": "03f4a8aa-1882-4572-9970-4fff282155c4",
            "source": "15",
            "target": "32",
            "weight": 1.0
           }
          },
          {
           "data": {
            "id": "08ede74d-8398-450d-b527-8b2e51c2c2cc",
            "source": "15",
            "target": "33",
            "weight": 1.0
           }
          },
          {
           "data": {
            "id": "ef6f89c9-4158-4914-9a05-5c34fd0310bf",
            "source": "18",
            "target": "32",
            "weight": 1.0
           }
          },
          {
           "data": {
            "id": "514b0524-3967-40af-b924-bd3f0a0fd32a",
            "source": "18",
            "target": "33",
            "weight": 1.0
           }
          },
          {
           "data": {
            "id": "02f46a12-065c-4f11-a31e-3871e3c6ee6d",
            "source": "19",
            "target": "33",
            "weight": 1.0
           }
          },
          {
           "data": {
            "id": "2d796471-3428-4558-ba26-b0a0201f36c4",
            "source": "20",
            "target": "32",
            "weight": 1.0
           }
          },
          {
           "data": {
            "id": "edcd2749-8926-4326-85e4-b9a89547359f",
            "source": "20",
            "target": "33",
            "weight": 1.0
           }
          },
          {
           "data": {
            "id": "eca2645b-7c3b-4e15-82b0-cf28cdabcfcd",
            "source": "22",
            "target": "32",
            "weight": 1.0
           }
          },
          {
           "data": {
            "id": "60f8e69e-d66b-4feb-a256-19c577b0741d",
            "source": "22",
            "target": "33",
            "weight": 1.0
           }
          },
          {
           "data": {
            "id": "97dc3e05-be38-4b36-be0e-f6f19e05b9a8",
            "source": "23",
            "target": "25",
            "weight": 1.0
           }
          },
          {
           "data": {
            "id": "869f4c98-502a-4e18-8f8b-c0542b4b94df",
            "source": "23",
            "target": "27",
            "weight": 1.0
           }
          },
          {
           "data": {
            "id": "36a1bfbb-25f9-4b1b-b45f-cc9e0636f61d",
            "source": "23",
            "target": "29",
            "weight": 1.0
           }
          },
          {
           "data": {
            "id": "466b4920-2991-443c-b5d6-90483c578dc1",
            "source": "23",
            "target": "32",
            "weight": 1.0
           }
          },
          {
           "data": {
            "id": "1d382449-4e47-4f92-b5b9-07091e3a7aa6",
            "source": "23",
            "target": "33",
            "weight": 1.0
           }
          },
          {
           "data": {
            "id": "4a52e4ae-ed6f-49f8-9107-06714102ccd5",
            "source": "24",
            "target": "25",
            "weight": 1.0
           }
          },
          {
           "data": {
            "id": "bfd2a32a-a45f-47d6-933d-4a8c123d7710",
            "source": "24",
            "target": "27",
            "weight": 1.0
           }
          },
          {
           "data": {
            "id": "b1c050f1-e87b-4a33-bfbd-8af748bfbbc8",
            "source": "24",
            "target": "31",
            "weight": 1.0
           }
          },
          {
           "data": {
            "id": "31e1fbc4-77be-45c5-b1e8-91b90577e050",
            "source": "25",
            "target": "31",
            "weight": 1.0
           }
          },
          {
           "data": {
            "id": "cafae5e9-a154-4660-8437-bf66d07c658a",
            "source": "26",
            "target": "29",
            "weight": 1.0
           }
          },
          {
           "data": {
            "id": "5d4c8d68-e8c8-41f1-a4e2-cd2548bca91d",
            "source": "26",
            "target": "33",
            "weight": 1.0
           }
          },
          {
           "data": {
            "id": "0f2e986d-0661-4a5c-9244-7fcb3d4ead9c",
            "source": "27",
            "target": "33",
            "weight": 1.0
           }
          },
          {
           "data": {
            "id": "07780435-91c5-4ad3-8997-35af47771285",
            "source": "28",
            "target": "31",
            "weight": 1.0
           }
          },
          {
           "data": {
            "id": "c7da7d3b-3a99-46eb-b2b6-a1d804cd02a1",
            "source": "28",
            "target": "33",
            "weight": 1.0
           }
          },
          {
           "data": {
            "id": "462e607a-0a56-4c96-aca9-5df6d52801ad",
            "source": "29",
            "target": "32",
            "weight": 1.0
           }
          },
          {
           "data": {
            "id": "47b70469-86fc-447e-bbb1-778410aaf141",
            "source": "29",
            "target": "33",
            "weight": 1.0
           }
          },
          {
           "data": {
            "id": "99628c5b-d324-4504-aac6-a29128b3a7de",
            "source": "30",
            "target": "32",
            "weight": 1.0
           }
          },
          {
           "data": {
            "id": "62a8d051-0eff-43c8-8655-ba1829ff869c",
            "source": "30",
            "target": "33",
            "weight": 1.0
           }
          },
          {
           "data": {
            "id": "dac9e4a1-6a8c-4fd3-987c-462db24f1e46",
            "source": "31",
            "target": "32",
            "weight": 1.0
           }
          },
          {
           "data": {
            "id": "d94b6331-6717-4bea-b384-cc47fbb1e826",
            "source": "31",
            "target": "33",
            "weight": 1.0
           }
          },
          {
           "data": {
            "id": "ab7f0d78-ffbf-4971-807d-b28a5c054dbb",
            "source": "32",
            "target": "33",
            "weight": 1.0
           }
          }
         ],
         "nodes": [
          {
           "data": {
            "id": "0",
            "name": "0",
            "value": 0.0
           }
          },
          {
           "data": {
            "id": "1",
            "name": "1",
            "value": 1.0
           }
          },
          {
           "data": {
            "id": "2",
            "name": "2",
            "value": 2.0
           }
          },
          {
           "data": {
            "id": "3",
            "name": "3",
            "value": 3.0
           }
          },
          {
           "data": {
            "id": "4",
            "name": "4",
            "value": 4.0
           }
          },
          {
           "data": {
            "id": "5",
            "name": "5",
            "value": 5.0
           }
          },
          {
           "data": {
            "id": "6",
            "name": "6",
            "value": 6.0
           }
          },
          {
           "data": {
            "id": "7",
            "name": "7",
            "value": 7.0
           }
          },
          {
           "data": {
            "id": "8",
            "name": "8",
            "value": 8.0
           }
          },
          {
           "data": {
            "id": "9",
            "name": "9",
            "value": 9.0
           }
          },
          {
           "data": {
            "id": "10",
            "name": "10",
            "value": 10.0
           }
          },
          {
           "data": {
            "id": "11",
            "name": "11",
            "value": 11.0
           }
          },
          {
           "data": {
            "id": "12",
            "name": "12",
            "value": 12.0
           }
          },
          {
           "data": {
            "id": "13",
            "name": "13",
            "value": 13.0
           }
          },
          {
           "data": {
            "id": "14",
            "name": "14",
            "value": 14.0
           }
          },
          {
           "data": {
            "id": "15",
            "name": "15",
            "value": 15.0
           }
          },
          {
           "data": {
            "id": "16",
            "name": "16",
            "value": 16.0
           }
          },
          {
           "data": {
            "id": "17",
            "name": "17",
            "value": 17.0
           }
          },
          {
           "data": {
            "id": "18",
            "name": "18",
            "value": 18.0
           }
          },
          {
           "data": {
            "id": "19",
            "name": "19",
            "value": 19.0
           }
          },
          {
           "data": {
            "id": "20",
            "name": "20",
            "value": 20.0
           }
          },
          {
           "data": {
            "id": "21",
            "name": "21",
            "value": 21.0
           }
          },
          {
           "data": {
            "id": "22",
            "name": "22",
            "value": 22.0
           }
          },
          {
           "data": {
            "id": "23",
            "name": "23",
            "value": 23.0
           }
          },
          {
           "data": {
            "id": "24",
            "name": "24",
            "value": 24.0
           }
          },
          {
           "data": {
            "id": "25",
            "name": "25",
            "value": 25.0
           }
          },
          {
           "data": {
            "id": "26",
            "name": "26",
            "value": 26.0
           }
          },
          {
           "data": {
            "id": "27",
            "name": "27",
            "value": 27.0
           }
          },
          {
           "data": {
            "id": "28",
            "name": "28",
            "value": 28.0
           }
          },
          {
           "data": {
            "id": "29",
            "name": "29",
            "value": 29.0
           }
          },
          {
           "data": {
            "id": "30",
            "name": "30",
            "value": 30.0
           }
          },
          {
           "data": {
            "id": "31",
            "name": "31",
            "value": 31.0
           }
          },
          {
           "data": {
            "id": "32",
            "name": "32",
            "value": 32.0
           }
          },
          {
           "data": {
            "id": "33",
            "name": "33",
            "value": 33.0
           }
          }
         ]
        }
       },
       "format": "cyjs",
       "layout": "IPY_MODEL_9f5d610348fb4ffca5c0c3ee90b5f7cf",
       "layout_name": "",
       "visual_style": null
      }
     },
     "2c77f8b3001b4da89d97b25878ed20ff": {
      "model_module": "@jupyter-widgets/base",
      "model_module_version": "1.1.0",
      "model_name": "LayoutModel",
      "state": {}
     },
     "43d52ad101dc4a50a64b000e2dfcd630": {
      "model_module": "@jupyter-widgets/base",
      "model_module_version": "1.1.0",
      "model_name": "LayoutModel",
      "state": {}
     },
     "4e268e1b29844de6baae0c6f6b29ef26": {
      "model_module": "cytoscape-jupyter-widget",
      "model_module_version": "^0.1.0",
      "model_name": "CytoscapeModel",
      "state": {
       "_model_module_version": "^0.1.0",
       "_view_module_version": "^0.1.0",
       "background": "#FFFFFF",
       "data": {
        "directed": false,
        "elements": {
         "edges": [
          {
           "data": {
            "id": "085aa101-e3f7-4fd4-b9b1-a8c1c87b0829",
            "source": "0",
            "target": "1",
            "weight": 1.0
           }
          },
          {
           "data": {
            "id": "e149c092-b964-4ddd-ba38-ab18720d7d65",
            "source": "0",
            "target": "2",
            "weight": 1.0
           }
          },
          {
           "data": {
            "id": "75efd62e-ab34-46db-a97f-9ec929afe1ac",
            "source": "0",
            "target": "3",
            "weight": 1.0
           }
          },
          {
           "data": {
            "id": "ad5c7966-e2ee-40a4-ab50-3896f501fe32",
            "source": "0",
            "target": "4",
            "weight": 1.0
           }
          },
          {
           "data": {
            "id": "45269174-3638-43f6-9c2c-6aa19a1e996a",
            "source": "0",
            "target": "5",
            "weight": 1.0
           }
          },
          {
           "data": {
            "id": "024ae065-d756-4307-ad12-a648b77ef44a",
            "source": "0",
            "target": "6",
            "weight": 1.0
           }
          },
          {
           "data": {
            "id": "5b4df428-66c0-4b1d-bf20-235d7d346311",
            "source": "0",
            "target": "7",
            "weight": 1.0
           }
          },
          {
           "data": {
            "id": "93d66563-a88c-4d3d-9bc0-b13062618c7c",
            "source": "0",
            "target": "8",
            "weight": 1.0
           }
          },
          {
           "data": {
            "id": "b647b0c9-175e-415d-81e5-2902bd642265",
            "source": "0",
            "target": "10",
            "weight": 1.0
           }
          },
          {
           "data": {
            "id": "d54c650a-74e5-48bf-84bd-f528e5e489f2",
            "source": "0",
            "target": "11",
            "weight": 1.0
           }
          },
          {
           "data": {
            "id": "65b7d31a-2bb4-463a-906b-68275b87b4d8",
            "source": "0",
            "target": "12",
            "weight": 1.0
           }
          },
          {
           "data": {
            "id": "b5bd1370-e0c7-430a-8dbb-a42e4138e2f0",
            "source": "0",
            "target": "13",
            "weight": 1.0
           }
          },
          {
           "data": {
            "id": "39b84ca5-14b4-4e55-903a-e31d20c2aa3b",
            "source": "0",
            "target": "17",
            "weight": 1.0
           }
          },
          {
           "data": {
            "id": "a5f4209e-d1f4-4823-8018-58d499b330f1",
            "source": "0",
            "target": "19",
            "weight": 1.0
           }
          },
          {
           "data": {
            "id": "c7e0799f-ac77-4d53-92ac-53262518dc8c",
            "source": "0",
            "target": "21",
            "weight": 1.0
           }
          },
          {
           "data": {
            "id": "bd141559-2cd0-49a7-9af0-d5ea33fd1ec1",
            "source": "0",
            "target": "31",
            "weight": 1.0
           }
          },
          {
           "data": {
            "id": "0d08c6a9-16a5-4cbf-ad60-ceea9388d7dd",
            "source": "1",
            "target": "2",
            "weight": 1.0
           }
          },
          {
           "data": {
            "id": "dddba5a7-86c4-437d-a194-8a17f23e0945",
            "source": "1",
            "target": "3",
            "weight": 1.0
           }
          },
          {
           "data": {
            "id": "3c56f40a-5531-4d13-9658-48aaa648ad79",
            "source": "1",
            "target": "7",
            "weight": 1.0
           }
          },
          {
           "data": {
            "id": "06a93c6e-47f5-4cda-8156-ed9a246c9a20",
            "source": "1",
            "target": "13",
            "weight": 1.0
           }
          },
          {
           "data": {
            "id": "612fa6f9-ddf1-4b82-833d-83291ffd73ad",
            "source": "1",
            "target": "17",
            "weight": 1.0
           }
          },
          {
           "data": {
            "id": "6f41cebc-6a62-407f-aef1-73825aee8f5e",
            "source": "1",
            "target": "19",
            "weight": 1.0
           }
          },
          {
           "data": {
            "id": "6368fb74-9eeb-4d1f-b945-d55f591522e7",
            "source": "1",
            "target": "21",
            "weight": 1.0
           }
          },
          {
           "data": {
            "id": "d1b0e70e-65a1-40bb-9ef1-49d5ec634380",
            "source": "1",
            "target": "30",
            "weight": 1.0
           }
          },
          {
           "data": {
            "id": "e1789f81-2667-41d3-9c08-7df10a59fef5",
            "source": "2",
            "target": "3",
            "weight": 1.0
           }
          },
          {
           "data": {
            "id": "6323ed2f-b5f1-49ba-851f-a072b8c3775b",
            "source": "2",
            "target": "7",
            "weight": 1.0
           }
          },
          {
           "data": {
            "id": "cf547378-ce49-4fa2-8c91-a013afe26ca6",
            "source": "2",
            "target": "8",
            "weight": 1.0
           }
          },
          {
           "data": {
            "id": "5e25d24a-4fe8-4d32-804a-c951b0f3416b",
            "source": "2",
            "target": "9",
            "weight": 1.0
           }
          },
          {
           "data": {
            "id": "4ac7fe0e-51f3-492a-ad59-ddd618cb42ce",
            "source": "2",
            "target": "13",
            "weight": 1.0
           }
          },
          {
           "data": {
            "id": "68761348-e829-4712-bd57-b5548c147493",
            "source": "2",
            "target": "27",
            "weight": 1.0
           }
          },
          {
           "data": {
            "id": "e83adc4a-12ed-4726-860d-d5fc96ec01b7",
            "source": "2",
            "target": "28",
            "weight": 1.0
           }
          },
          {
           "data": {
            "id": "69ce92df-c25f-468c-a0ca-15705b559859",
            "source": "2",
            "target": "32",
            "weight": 1.0
           }
          },
          {
           "data": {
            "id": "833db849-73cc-4a91-a9e5-6d5c8c7f4a5e",
            "source": "3",
            "target": "7",
            "weight": 1.0
           }
          },
          {
           "data": {
            "id": "589d0254-b4c0-44a6-9b13-4b2eec6c3492",
            "source": "3",
            "target": "12",
            "weight": 1.0
           }
          },
          {
           "data": {
            "id": "cd36b6d1-fe97-4a02-8be7-48750b7b239d",
            "source": "3",
            "target": "13",
            "weight": 1.0
           }
          },
          {
           "data": {
            "id": "f8d70b77-7092-4add-9f52-94ac87c18edb",
            "source": "4",
            "target": "6",
            "weight": 1.0
           }
          },
          {
           "data": {
            "id": "6135e50c-0ef5-41a9-834d-ab323450fe49",
            "source": "4",
            "target": "10",
            "weight": 1.0
           }
          },
          {
           "data": {
            "id": "fd4ff6d9-20bf-4b8a-ad31-3efa9e340ac7",
            "source": "5",
            "target": "6",
            "weight": 1.0
           }
          },
          {
           "data": {
            "id": "647ad804-74e2-4f53-b208-c037596619fe",
            "source": "5",
            "target": "10",
            "weight": 1.0
           }
          },
          {
           "data": {
            "id": "b576decc-47f9-4633-951e-7591bb48a6fc",
            "source": "5",
            "target": "16",
            "weight": 1.0
           }
          },
          {
           "data": {
            "id": "f854289e-8431-4a4f-b5f6-af3a5b760686",
            "source": "6",
            "target": "16",
            "weight": 1.0
           }
          },
          {
           "data": {
            "id": "1e51369f-c4db-4ebf-9f56-8b0831c7e53a",
            "source": "8",
            "target": "30",
            "weight": 1.0
           }
          },
          {
           "data": {
            "id": "082e1a14-3fed-43c6-9536-5111a7bd48fb",
            "source": "8",
            "target": "32",
            "weight": 1.0
           }
          },
          {
           "data": {
            "id": "a3411782-eefa-4a96-8241-e4dee9fa231b",
            "source": "8",
            "target": "33",
            "weight": 1.0
           }
          },
          {
           "data": {
            "id": "952918ea-c9b1-4cc7-acbf-57bb88208ada",
            "source": "9",
            "target": "33",
            "weight": 1.0
           }
          },
          {
           "data": {
            "id": "f9d06ad7-68ba-4490-9dd6-cf54e557a8ab",
            "source": "13",
            "target": "33",
            "weight": 1.0
           }
          },
          {
           "data": {
            "id": "8b9b2c05-8638-4e1f-a756-be29c6879959",
            "source": "14",
            "target": "32",
            "weight": 1.0
           }
          },
          {
           "data": {
            "id": "ad246b90-c307-402c-86aa-b1504c846df3",
            "source": "14",
            "target": "33",
            "weight": 1.0
           }
          },
          {
           "data": {
            "id": "364c68cb-87b1-49f0-a340-19dbba851841",
            "source": "15",
            "target": "32",
            "weight": 1.0
           }
          },
          {
           "data": {
            "id": "4cf6353c-ab7d-4353-8855-afe3f494c145",
            "source": "15",
            "target": "33",
            "weight": 1.0
           }
          },
          {
           "data": {
            "id": "1a99746d-c573-4195-9f67-e17eb5182d08",
            "source": "18",
            "target": "32",
            "weight": 1.0
           }
          },
          {
           "data": {
            "id": "50f9479f-29d6-4d63-be18-8a1a91dabd0d",
            "source": "18",
            "target": "33",
            "weight": 1.0
           }
          },
          {
           "data": {
            "id": "188f452d-074a-4210-8e8b-ab85fd3a993b",
            "source": "19",
            "target": "33",
            "weight": 1.0
           }
          },
          {
           "data": {
            "id": "d1b83182-0ccb-403a-a42d-afa8dc90f5c6",
            "source": "20",
            "target": "32",
            "weight": 1.0
           }
          },
          {
           "data": {
            "id": "c2cc2f11-ae7d-4c2f-8f7d-83fec6b81d85",
            "source": "20",
            "target": "33",
            "weight": 1.0
           }
          },
          {
           "data": {
            "id": "9355ea91-be49-4650-b322-8018faa15404",
            "source": "22",
            "target": "32",
            "weight": 1.0
           }
          },
          {
           "data": {
            "id": "463cd3e4-1e85-4f1a-9b82-40bb9e8ba17c",
            "source": "22",
            "target": "33",
            "weight": 1.0
           }
          },
          {
           "data": {
            "id": "a2341883-f641-487f-975f-fb15a2d98439",
            "source": "23",
            "target": "25",
            "weight": 1.0
           }
          },
          {
           "data": {
            "id": "d40bfd18-7151-47d6-ac3a-2c240cc47e51",
            "source": "23",
            "target": "27",
            "weight": 1.0
           }
          },
          {
           "data": {
            "id": "9b87f438-8282-4251-b36f-d9e291c3ec72",
            "source": "23",
            "target": "29",
            "weight": 1.0
           }
          },
          {
           "data": {
            "id": "16424e1c-a663-4729-8f7a-087731569c47",
            "source": "23",
            "target": "32",
            "weight": 1.0
           }
          },
          {
           "data": {
            "id": "fa00c17b-b5e0-40a4-a373-7a781fd6f257",
            "source": "23",
            "target": "33",
            "weight": 1.0
           }
          },
          {
           "data": {
            "id": "c3e015d4-ecb5-4c6d-a648-60102d3262a3",
            "source": "24",
            "target": "25",
            "weight": 1.0
           }
          },
          {
           "data": {
            "id": "c5cd9dcd-5226-4d18-a4f7-6b0f95fbd218",
            "source": "24",
            "target": "27",
            "weight": 1.0
           }
          },
          {
           "data": {
            "id": "da2e9560-4583-4e68-9b9f-4806f02982a0",
            "source": "24",
            "target": "31",
            "weight": 1.0
           }
          },
          {
           "data": {
            "id": "81b6f8c1-e327-481e-aa4a-bdff154ab642",
            "source": "25",
            "target": "31",
            "weight": 1.0
           }
          },
          {
           "data": {
            "id": "ba9019bd-2ca6-4aa2-ab99-64a2c67e067a",
            "source": "26",
            "target": "29",
            "weight": 1.0
           }
          },
          {
           "data": {
            "id": "76ec270a-0062-4ce6-bc72-6644a3b2ca3a",
            "source": "26",
            "target": "33",
            "weight": 1.0
           }
          },
          {
           "data": {
            "id": "c1c7721b-3ce5-4bb4-b6ca-c293184e4c67",
            "source": "27",
            "target": "33",
            "weight": 1.0
           }
          },
          {
           "data": {
            "id": "79d6053a-ed86-4fcc-8ac8-5935976e0793",
            "source": "28",
            "target": "31",
            "weight": 1.0
           }
          },
          {
           "data": {
            "id": "fe6c5aa6-f3af-4293-9289-44d95671d12f",
            "source": "28",
            "target": "33",
            "weight": 1.0
           }
          },
          {
           "data": {
            "id": "5b6015e1-bbfa-4898-b56e-72a25f7ef205",
            "source": "29",
            "target": "32",
            "weight": 1.0
           }
          },
          {
           "data": {
            "id": "14ebd0af-6647-4c9e-8543-d515787ae3be",
            "source": "29",
            "target": "33",
            "weight": 1.0
           }
          },
          {
           "data": {
            "id": "70ced8a7-1b57-4a17-a782-a2760651efb4",
            "source": "30",
            "target": "32",
            "weight": 1.0
           }
          },
          {
           "data": {
            "id": "34f84f00-9419-4835-9375-b334950b6fa2",
            "source": "30",
            "target": "33",
            "weight": 1.0
           }
          },
          {
           "data": {
            "id": "e34fd8c1-6369-4b5c-b0e9-5215de67e6e3",
            "source": "31",
            "target": "32",
            "weight": 1.0
           }
          },
          {
           "data": {
            "id": "75ebf962-1627-412a-876b-0b3640e11cdc",
            "source": "31",
            "target": "33",
            "weight": 1.0
           }
          },
          {
           "data": {
            "id": "f4dca068-f3a2-4dec-b185-62a1bf667298",
            "source": "32",
            "target": "33",
            "weight": 1.0
           }
          }
         ],
         "nodes": [
          {
           "data": {
            "id": "0",
            "name": "0",
            "value": 0.0
           }
          },
          {
           "data": {
            "id": "1",
            "name": "1",
            "value": 1.0
           }
          },
          {
           "data": {
            "id": "2",
            "name": "2",
            "value": 2.0
           }
          },
          {
           "data": {
            "id": "3",
            "name": "3",
            "value": 3.0
           }
          },
          {
           "data": {
            "id": "4",
            "name": "4",
            "value": 4.0
           }
          },
          {
           "data": {
            "id": "5",
            "name": "5",
            "value": 5.0
           }
          },
          {
           "data": {
            "id": "6",
            "name": "6",
            "value": 6.0
           }
          },
          {
           "data": {
            "id": "7",
            "name": "7",
            "value": 7.0
           }
          },
          {
           "data": {
            "id": "8",
            "name": "8",
            "value": 8.0
           }
          },
          {
           "data": {
            "id": "9",
            "name": "9",
            "value": 9.0
           }
          },
          {
           "data": {
            "id": "10",
            "name": "10",
            "value": 10.0
           }
          },
          {
           "data": {
            "id": "11",
            "name": "11",
            "value": 11.0
           }
          },
          {
           "data": {
            "id": "12",
            "name": "12",
            "value": 12.0
           }
          },
          {
           "data": {
            "id": "13",
            "name": "13",
            "value": 13.0
           }
          },
          {
           "data": {
            "id": "14",
            "name": "14",
            "value": 14.0
           }
          },
          {
           "data": {
            "id": "15",
            "name": "15",
            "value": 15.0
           }
          },
          {
           "data": {
            "id": "16",
            "name": "16",
            "value": 16.0
           }
          },
          {
           "data": {
            "id": "17",
            "name": "17",
            "value": 17.0
           }
          },
          {
           "data": {
            "id": "18",
            "name": "18",
            "value": 18.0
           }
          },
          {
           "data": {
            "id": "19",
            "name": "19",
            "value": 19.0
           }
          },
          {
           "data": {
            "id": "20",
            "name": "20",
            "value": 20.0
           }
          },
          {
           "data": {
            "id": "21",
            "name": "21",
            "value": 21.0
           }
          },
          {
           "data": {
            "id": "22",
            "name": "22",
            "value": 22.0
           }
          },
          {
           "data": {
            "id": "23",
            "name": "23",
            "value": 23.0
           }
          },
          {
           "data": {
            "id": "24",
            "name": "24",
            "value": 24.0
           }
          },
          {
           "data": {
            "id": "25",
            "name": "25",
            "value": 25.0
           }
          },
          {
           "data": {
            "id": "26",
            "name": "26",
            "value": 26.0
           }
          },
          {
           "data": {
            "id": "27",
            "name": "27",
            "value": 27.0
           }
          },
          {
           "data": {
            "id": "28",
            "name": "28",
            "value": 28.0
           }
          },
          {
           "data": {
            "id": "29",
            "name": "29",
            "value": 29.0
           }
          },
          {
           "data": {
            "id": "30",
            "name": "30",
            "value": 30.0
           }
          },
          {
           "data": {
            "id": "31",
            "name": "31",
            "value": 31.0
           }
          },
          {
           "data": {
            "id": "32",
            "name": "32",
            "value": 32.0
           }
          },
          {
           "data": {
            "id": "33",
            "name": "33",
            "value": 33.0
           }
          }
         ]
        }
       },
       "format": "cyjs",
       "layout": "IPY_MODEL_f8204cd1c2304f2ba9f1171c380efd8e",
       "layout_name": "",
       "visual_style": null
      }
     },
     "5365fba4aa4f46fca61dd346af8590df": {
      "model_module": "cytoscape-jupyter-widget",
      "model_module_version": "^0.1.0",
      "model_name": "CytoscapeModel",
      "state": {
       "_model_module_version": "^0.1.0",
       "_view_module_version": "^0.1.0",
       "background": "#FFFFFF",
       "data": {
        "directed": false,
        "elements": {
         "edges": [
          {
           "data": {
            "source": 0.0,
            "target": 1.0,
            "weight": 1.0
           }
          },
          {
           "data": {
            "source": 0.0,
            "target": 4.0,
            "weight": 1.0
           }
          },
          {
           "data": {
            "source": 1.0,
            "target": 2.0,
            "weight": 1.0
           }
          },
          {
           "data": {
            "source": 1.0,
            "target": 4.0,
            "weight": 1.0
           }
          },
          {
           "data": {
            "source": 2.0,
            "target": 3.0,
            "weight": 1.0
           }
          },
          {
           "data": {
            "source": 3.0,
            "target": 4.0,
            "weight": 1.0
           }
          }
         ],
         "nodes": [
          {
           "data": {
            "id": "0",
            "name": "0",
            "value": 0.0
           }
          },
          {
           "data": {
            "id": "1",
            "name": "1",
            "value": 1.0
           }
          },
          {
           "data": {
            "id": "2",
            "name": "2",
            "value": 2.0
           }
          },
          {
           "data": {
            "id": "3",
            "name": "3",
            "value": 3.0
           }
          },
          {
           "data": {
            "id": "4",
            "name": "4",
            "value": 4.0
           }
          }
         ]
        }
       },
       "format": "cyjs",
       "layout": "IPY_MODEL_c0812aa976f04d61beafb16f23710dd7",
       "layout_name": "",
       "visual_style": null
      }
     },
     "53e66b8310a943f59024fdf51d0b0aef": {
      "model_module": "@jupyter-widgets/base",
      "model_module_version": "1.1.0",
      "model_name": "LayoutModel",
      "state": {}
     },
     "8194e43918234deca734c36e6f545093": {
      "model_module": "cytoscape-jupyter-widget",
      "model_module_version": "^0.1.0",
      "model_name": "CytoscapeModel",
      "state": {
       "_model_module_version": "^0.1.0",
       "_view_module_version": "^0.1.0",
       "background": "#FFFFFF",
       "data": {
        "directed": false,
        "elements": {
         "edges": [
          {
           "data": {
            "id": "620f04e8-c6ee-470e-930b-6d0240430634",
            "source": "0",
            "target": "1",
            "weight": 1.0
           }
          },
          {
           "data": {
            "id": "68d58a21-c636-4671-896c-7c4a8e5d98b7",
            "source": "0",
            "target": "2",
            "weight": 1.0
           }
          },
          {
           "data": {
            "id": "8b198916-3067-44db-9ed4-b0da60de22c8",
            "source": "0",
            "target": "3",
            "weight": 1.0
           }
          },
          {
           "data": {
            "id": "f9467cb2-4761-4683-b105-450c13597fbc",
            "source": "0",
            "target": "4",
            "weight": 1.0
           }
          },
          {
           "data": {
            "id": "3d3ba002-9bb4-4236-be65-4aa3108e60ec",
            "source": "0",
            "target": "5",
            "weight": 1.0
           }
          },
          {
           "data": {
            "id": "9f4b0ce0-3802-46aa-9506-529c30d959be",
            "source": "0",
            "target": "6",
            "weight": 1.0
           }
          },
          {
           "data": {
            "id": "be99d84b-fd72-47b7-829c-844084a17bd8",
            "source": "0",
            "target": "7",
            "weight": 1.0
           }
          },
          {
           "data": {
            "id": "bd00d3e1-cd2d-4c2b-bba6-b9652183ec73",
            "source": "0",
            "target": "8",
            "weight": 1.0
           }
          },
          {
           "data": {
            "id": "34bb9318-c802-483a-b004-1f171ee3ec8e",
            "source": "0",
            "target": "10",
            "weight": 1.0
           }
          },
          {
           "data": {
            "id": "5aa8c4d9-ca9b-4d4d-a645-f11a6ddea783",
            "source": "0",
            "target": "11",
            "weight": 1.0
           }
          },
          {
           "data": {
            "id": "7b72fc84-cc3b-4d62-b531-ced96562989c",
            "source": "0",
            "target": "12",
            "weight": 1.0
           }
          },
          {
           "data": {
            "id": "b570f07d-4d71-46d6-bb84-0c36f52a2e2a",
            "source": "0",
            "target": "13",
            "weight": 1.0
           }
          },
          {
           "data": {
            "id": "0013a18f-86a5-4c44-b719-95b333f15a09",
            "source": "0",
            "target": "17",
            "weight": 1.0
           }
          },
          {
           "data": {
            "id": "cab9df27-fc49-4551-b4eb-fda81eb0796d",
            "source": "0",
            "target": "19",
            "weight": 1.0
           }
          },
          {
           "data": {
            "id": "103a1a0c-5e26-4fb9-b9db-8c16dd3c11d8",
            "source": "0",
            "target": "21",
            "weight": 1.0
           }
          },
          {
           "data": {
            "id": "34c56149-2fce-40a3-80a0-35850026c838",
            "source": "0",
            "target": "31",
            "weight": 1.0
           }
          },
          {
           "data": {
            "id": "85becf7b-6a44-427a-a3f6-edcdf7ecb3a1",
            "source": "1",
            "target": "2",
            "weight": 1.0
           }
          },
          {
           "data": {
            "id": "258a019b-d339-44b4-b5b0-46f7753c6675",
            "source": "1",
            "target": "3",
            "weight": 1.0
           }
          },
          {
           "data": {
            "id": "f3ab35d4-0adf-42f6-8c5b-12e82359889e",
            "source": "1",
            "target": "7",
            "weight": 1.0
           }
          },
          {
           "data": {
            "id": "5b5c451a-02b5-45ea-aff4-a07da2ff8500",
            "source": "1",
            "target": "13",
            "weight": 1.0
           }
          },
          {
           "data": {
            "id": "6ea4a4fa-1513-40b9-ba32-19286a2053ec",
            "source": "1",
            "target": "17",
            "weight": 1.0
           }
          },
          {
           "data": {
            "id": "89d18912-eb43-4cd8-99b7-53939f460023",
            "source": "1",
            "target": "19",
            "weight": 1.0
           }
          },
          {
           "data": {
            "id": "fdb41128-e261-4def-b8b9-dc0fd30b9495",
            "source": "1",
            "target": "21",
            "weight": 1.0
           }
          },
          {
           "data": {
            "id": "5ba5ddc6-7bb8-493e-9742-168f4dc0680f",
            "source": "1",
            "target": "30",
            "weight": 1.0
           }
          },
          {
           "data": {
            "id": "a6f41c9a-3c81-47ce-96c9-e66bb32cfddf",
            "source": "2",
            "target": "3",
            "weight": 1.0
           }
          },
          {
           "data": {
            "id": "d7628d0b-6da6-42e7-9bfa-250c7a0a5187",
            "source": "2",
            "target": "7",
            "weight": 1.0
           }
          },
          {
           "data": {
            "id": "19efee0b-c521-48c4-b9f5-b6d4ec13ddb9",
            "source": "2",
            "target": "8",
            "weight": 1.0
           }
          },
          {
           "data": {
            "id": "28317596-3de6-4cf5-a929-68d0f9940b7d",
            "source": "2",
            "target": "9",
            "weight": 1.0
           }
          },
          {
           "data": {
            "id": "bee0bd63-9cb7-4aa8-8e07-0df52f9a9183",
            "source": "2",
            "target": "13",
            "weight": 1.0
           }
          },
          {
           "data": {
            "id": "3eabf4b5-649f-4904-8e7b-68f9c0bfa2d3",
            "source": "2",
            "target": "27",
            "weight": 1.0
           }
          },
          {
           "data": {
            "id": "50e7b0aa-86b8-4509-b454-96fdf99a1419",
            "source": "2",
            "target": "28",
            "weight": 1.0
           }
          },
          {
           "data": {
            "id": "53f4bad1-b678-44ce-b629-19b0c2ae0073",
            "source": "2",
            "target": "32",
            "weight": 1.0
           }
          },
          {
           "data": {
            "id": "88b02e59-109e-484f-a1bd-2edc638c61b8",
            "source": "3",
            "target": "7",
            "weight": 1.0
           }
          },
          {
           "data": {
            "id": "3ea26939-66fd-4883-8167-78b496d7f820",
            "source": "3",
            "target": "12",
            "weight": 1.0
           }
          },
          {
           "data": {
            "id": "52949a82-d230-4734-b60e-000a114412b2",
            "source": "3",
            "target": "13",
            "weight": 1.0
           }
          },
          {
           "data": {
            "id": "34d8f605-46be-4833-aeb0-7b34569458f4",
            "source": "4",
            "target": "6",
            "weight": 1.0
           }
          },
          {
           "data": {
            "id": "a781407f-6ea9-447e-a4a7-78d5eba4382e",
            "source": "4",
            "target": "10",
            "weight": 1.0
           }
          },
          {
           "data": {
            "id": "30f3d5b9-5c50-4f4f-b4fa-0aefd6b4edd3",
            "source": "5",
            "target": "6",
            "weight": 1.0
           }
          },
          {
           "data": {
            "id": "b8e6cccc-6f69-40ab-9de9-1bf9f40ab4ed",
            "source": "5",
            "target": "10",
            "weight": 1.0
           }
          },
          {
           "data": {
            "id": "ac5a01e6-af66-4caf-989c-cd93e0290ea8",
            "source": "5",
            "target": "16",
            "weight": 1.0
           }
          },
          {
           "data": {
            "id": "bba44e08-f0f7-499c-9d81-1ba72230effd",
            "source": "6",
            "target": "16",
            "weight": 1.0
           }
          },
          {
           "data": {
            "id": "300d0502-3bfe-4ebc-9499-2e6701f0c836",
            "source": "8",
            "target": "30",
            "weight": 1.0
           }
          },
          {
           "data": {
            "id": "facbf0ae-1014-4905-8413-eb9a500a79f6",
            "source": "8",
            "target": "32",
            "weight": 1.0
           }
          },
          {
           "data": {
            "id": "147054c5-1385-4a3c-a749-d8c23ec01905",
            "source": "8",
            "target": "33",
            "weight": 1.0
           }
          },
          {
           "data": {
            "id": "6d87a9cc-5fd0-4bb0-975e-a9d43f88ed0d",
            "source": "9",
            "target": "33",
            "weight": 1.0
           }
          },
          {
           "data": {
            "id": "1a9e116f-0959-435f-bd8b-dfd7b7f127f0",
            "source": "13",
            "target": "33",
            "weight": 1.0
           }
          },
          {
           "data": {
            "id": "7c348d4b-0358-4113-bee7-e5e69165b34d",
            "source": "14",
            "target": "32",
            "weight": 1.0
           }
          },
          {
           "data": {
            "id": "ed89a088-7900-4095-92ba-587ce431b388",
            "source": "14",
            "target": "33",
            "weight": 1.0
           }
          },
          {
           "data": {
            "id": "91479544-bc11-4479-b888-aad10e8e5a94",
            "source": "15",
            "target": "32",
            "weight": 1.0
           }
          },
          {
           "data": {
            "id": "de69dc69-febb-4031-b60f-8039788251ab",
            "source": "15",
            "target": "33",
            "weight": 1.0
           }
          },
          {
           "data": {
            "id": "ba567e3f-5b30-42d9-8d07-ee53e7b6bbc6",
            "source": "18",
            "target": "32",
            "weight": 1.0
           }
          },
          {
           "data": {
            "id": "c4dbe0e5-43d0-4c8f-89bb-f8115a6d2645",
            "source": "18",
            "target": "33",
            "weight": 1.0
           }
          },
          {
           "data": {
            "id": "560a3062-4624-48ff-8538-c625cfd58958",
            "source": "19",
            "target": "33",
            "weight": 1.0
           }
          },
          {
           "data": {
            "id": "457410bb-dd44-4b18-a7ff-8ed4dc55071d",
            "source": "20",
            "target": "32",
            "weight": 1.0
           }
          },
          {
           "data": {
            "id": "6e781602-9d97-4765-9607-9bb1c3f43bf8",
            "source": "20",
            "target": "33",
            "weight": 1.0
           }
          },
          {
           "data": {
            "id": "33683a53-2a55-4e82-8144-e4dac89d1553",
            "source": "22",
            "target": "32",
            "weight": 1.0
           }
          },
          {
           "data": {
            "id": "38ae90bb-00b9-4977-9e13-be34ce92a8af",
            "source": "22",
            "target": "33",
            "weight": 1.0
           }
          },
          {
           "data": {
            "id": "6ed65ab5-f7f0-456e-a894-1a1247bda903",
            "source": "23",
            "target": "25",
            "weight": 1.0
           }
          },
          {
           "data": {
            "id": "07ade42a-2bcf-42d3-b11d-dc3a938819da",
            "source": "23",
            "target": "27",
            "weight": 1.0
           }
          },
          {
           "data": {
            "id": "3b1b1035-3177-45aa-b37d-48b971bcf3c9",
            "source": "23",
            "target": "29",
            "weight": 1.0
           }
          },
          {
           "data": {
            "id": "b7f43b21-32ca-43ed-97dd-19fa696207ae",
            "source": "23",
            "target": "32",
            "weight": 1.0
           }
          },
          {
           "data": {
            "id": "0176113c-be0a-4472-96bb-88aac0a4a2fd",
            "source": "23",
            "target": "33",
            "weight": 1.0
           }
          },
          {
           "data": {
            "id": "3cb29b1d-b369-46c7-bbb4-c99c54d9fd24",
            "source": "24",
            "target": "25",
            "weight": 1.0
           }
          },
          {
           "data": {
            "id": "b5db8d5e-e1ca-43ff-a2c7-5fc7ca9e38c8",
            "source": "24",
            "target": "27",
            "weight": 1.0
           }
          },
          {
           "data": {
            "id": "4e9277a3-0777-45b1-a45a-69e95344799f",
            "source": "24",
            "target": "31",
            "weight": 1.0
           }
          },
          {
           "data": {
            "id": "be87ef53-de3a-4b13-9773-fcb78ef9ea34",
            "source": "25",
            "target": "31",
            "weight": 1.0
           }
          },
          {
           "data": {
            "id": "c1a58aa7-212e-4cb4-b8a2-50af44656cad",
            "source": "26",
            "target": "29",
            "weight": 1.0
           }
          },
          {
           "data": {
            "id": "624417f6-e4ef-401f-a2cd-14248912c8fe",
            "source": "26",
            "target": "33",
            "weight": 1.0
           }
          },
          {
           "data": {
            "id": "41c33479-b634-4548-8ecb-5806bc26e6c2",
            "source": "27",
            "target": "33",
            "weight": 1.0
           }
          },
          {
           "data": {
            "id": "6a34e049-6cee-4e4a-9931-3343a810a51a",
            "source": "28",
            "target": "31",
            "weight": 1.0
           }
          },
          {
           "data": {
            "id": "a7406893-0852-404a-8119-648ddcd56664",
            "source": "28",
            "target": "33",
            "weight": 1.0
           }
          },
          {
           "data": {
            "id": "98fa5692-76da-41e3-8521-e8b84a01a435",
            "source": "29",
            "target": "32",
            "weight": 1.0
           }
          },
          {
           "data": {
            "id": "f6095009-2afa-48b1-8e43-7c372def30dc",
            "source": "29",
            "target": "33",
            "weight": 1.0
           }
          },
          {
           "data": {
            "id": "2ee4ce25-ddc0-4ebf-94bd-2889fcd49ddb",
            "source": "30",
            "target": "32",
            "weight": 1.0
           }
          },
          {
           "data": {
            "id": "b2103473-cff6-478c-87f9-4791b917b41e",
            "source": "30",
            "target": "33",
            "weight": 1.0
           }
          },
          {
           "data": {
            "id": "21d0de12-d17b-43b6-8984-e1784b23f2b8",
            "source": "31",
            "target": "32",
            "weight": 1.0
           }
          },
          {
           "data": {
            "id": "75bf7654-0d11-4da5-a801-f869a7c9d710",
            "source": "31",
            "target": "33",
            "weight": 1.0
           }
          },
          {
           "data": {
            "id": "8cf059be-1900-4632-8730-d0da7fe91ba2",
            "source": "32",
            "target": "33",
            "weight": 1.0
           }
          }
         ],
         "nodes": [
          {
           "data": {
            "id": "0",
            "name": "0",
            "value": 0.0
           }
          },
          {
           "data": {
            "id": "1",
            "name": "1",
            "value": 1.0
           }
          },
          {
           "data": {
            "id": "2",
            "name": "2",
            "value": 2.0
           }
          },
          {
           "data": {
            "id": "3",
            "name": "3",
            "value": 3.0
           }
          },
          {
           "data": {
            "id": "4",
            "name": "4",
            "value": 4.0
           }
          },
          {
           "data": {
            "id": "5",
            "name": "5",
            "value": 5.0
           }
          },
          {
           "data": {
            "id": "6",
            "name": "6",
            "value": 6.0
           }
          },
          {
           "data": {
            "id": "7",
            "name": "7",
            "value": 7.0
           }
          },
          {
           "data": {
            "id": "8",
            "name": "8",
            "value": 8.0
           }
          },
          {
           "data": {
            "id": "9",
            "name": "9",
            "value": 9.0
           }
          },
          {
           "data": {
            "id": "10",
            "name": "10",
            "value": 10.0
           }
          },
          {
           "data": {
            "id": "11",
            "name": "11",
            "value": 11.0
           }
          },
          {
           "data": {
            "id": "12",
            "name": "12",
            "value": 12.0
           }
          },
          {
           "data": {
            "id": "13",
            "name": "13",
            "value": 13.0
           }
          },
          {
           "data": {
            "id": "14",
            "name": "14",
            "value": 14.0
           }
          },
          {
           "data": {
            "id": "15",
            "name": "15",
            "value": 15.0
           }
          },
          {
           "data": {
            "id": "16",
            "name": "16",
            "value": 16.0
           }
          },
          {
           "data": {
            "id": "17",
            "name": "17",
            "value": 17.0
           }
          },
          {
           "data": {
            "id": "18",
            "name": "18",
            "value": 18.0
           }
          },
          {
           "data": {
            "id": "19",
            "name": "19",
            "value": 19.0
           }
          },
          {
           "data": {
            "id": "20",
            "name": "20",
            "value": 20.0
           }
          },
          {
           "data": {
            "id": "21",
            "name": "21",
            "value": 21.0
           }
          },
          {
           "data": {
            "id": "22",
            "name": "22",
            "value": 22.0
           }
          },
          {
           "data": {
            "id": "23",
            "name": "23",
            "value": 23.0
           }
          },
          {
           "data": {
            "id": "24",
            "name": "24",
            "value": 24.0
           }
          },
          {
           "data": {
            "id": "25",
            "name": "25",
            "value": 25.0
           }
          },
          {
           "data": {
            "id": "26",
            "name": "26",
            "value": 26.0
           }
          },
          {
           "data": {
            "id": "27",
            "name": "27",
            "value": 27.0
           }
          },
          {
           "data": {
            "id": "28",
            "name": "28",
            "value": 28.0
           }
          },
          {
           "data": {
            "id": "29",
            "name": "29",
            "value": 29.0
           }
          },
          {
           "data": {
            "id": "30",
            "name": "30",
            "value": 30.0
           }
          },
          {
           "data": {
            "id": "31",
            "name": "31",
            "value": 31.0
           }
          },
          {
           "data": {
            "id": "32",
            "name": "32",
            "value": 32.0
           }
          },
          {
           "data": {
            "id": "33",
            "name": "33",
            "value": 33.0
           }
          }
         ]
        }
       },
       "format": "cyjs",
       "layout": "IPY_MODEL_53e66b8310a943f59024fdf51d0b0aef",
       "layout_name": "",
       "visual_style": null
      }
     },
     "87466e27c8364bb6b3ee09f251635653": {
      "model_module": "cytoscape-jupyter-widget",
      "model_module_version": "^0.1.0",
      "model_name": "CytoscapeModel",
      "state": {
       "_model_module_version": "^0.1.0",
       "_view_module_version": "^0.1.0",
       "background": "#FFFFFF",
       "data": {
        "directed": false,
        "elements": {
         "edges": [
          {
           "data": {
            "id": "e6b5a987-0a09-41c6-aa59-6744980866b9",
            "source": "0",
            "target": "1",
            "weight": 1.0
           }
          },
          {
           "data": {
            "id": "dbfbdeda-04d9-47ef-9086-73a087f63230",
            "source": "0",
            "target": "2",
            "weight": 1.0
           }
          },
          {
           "data": {
            "id": "d04b685e-cf78-4f66-80c5-81964d1fe12b",
            "source": "0",
            "target": "3",
            "weight": 1.0
           }
          },
          {
           "data": {
            "id": "e3ef850a-25cb-455b-ae55-d11950a78f8f",
            "source": "0",
            "target": "4",
            "weight": 1.0
           }
          },
          {
           "data": {
            "id": "401fa79f-898a-4d17-9269-01a18805a7fe",
            "source": "0",
            "target": "5",
            "weight": 1.0
           }
          },
          {
           "data": {
            "id": "748dd0c0-7566-4ac5-95fe-96d2c988e748",
            "source": "0",
            "target": "6",
            "weight": 1.0
           }
          },
          {
           "data": {
            "id": "774f6f0d-94a4-4ac1-abc5-b516b177cebd",
            "source": "0",
            "target": "7",
            "weight": 1.0
           }
          },
          {
           "data": {
            "id": "765d1e0b-1146-4b8d-881d-1bf547cdc3d6",
            "source": "0",
            "target": "8",
            "weight": 1.0
           }
          },
          {
           "data": {
            "id": "56e43c73-9121-4343-880d-a5bf08112893",
            "source": "0",
            "target": "10",
            "weight": 1.0
           }
          },
          {
           "data": {
            "id": "4251b760-3a67-4442-9fc6-b04fe2b3d660",
            "source": "0",
            "target": "11",
            "weight": 1.0
           }
          },
          {
           "data": {
            "id": "23920fbb-a90f-44a2-a65b-ed52a26f2dde",
            "source": "0",
            "target": "12",
            "weight": 1.0
           }
          },
          {
           "data": {
            "id": "86aab285-a5e0-4548-b9e9-f7434fa0da2e",
            "source": "0",
            "target": "13",
            "weight": 1.0
           }
          },
          {
           "data": {
            "id": "de9029f7-9546-423b-bf07-17fd5df4630d",
            "source": "0",
            "target": "17",
            "weight": 1.0
           }
          },
          {
           "data": {
            "id": "dd9cd57f-62fa-4c2f-ae4d-00ab87bcb7c1",
            "source": "0",
            "target": "19",
            "weight": 1.0
           }
          },
          {
           "data": {
            "id": "aed6dcae-120a-489c-b52c-1c9713cf1720",
            "source": "0",
            "target": "21",
            "weight": 1.0
           }
          },
          {
           "data": {
            "id": "eb45eefb-923e-4ad0-b7d5-fe54a323c958",
            "source": "0",
            "target": "31",
            "weight": 1.0
           }
          },
          {
           "data": {
            "id": "1e552ed4-49a7-48b4-b913-cd4624dd0321",
            "source": "1",
            "target": "2",
            "weight": 1.0
           }
          },
          {
           "data": {
            "id": "bbdc6093-e158-4943-8f07-1c23fa87080f",
            "source": "1",
            "target": "3",
            "weight": 1.0
           }
          },
          {
           "data": {
            "id": "735ca118-a5a7-432d-b22c-76989e8828bd",
            "source": "1",
            "target": "7",
            "weight": 1.0
           }
          },
          {
           "data": {
            "id": "be82aeab-0815-4832-9164-6a3ab3f1706b",
            "source": "1",
            "target": "13",
            "weight": 1.0
           }
          },
          {
           "data": {
            "id": "a01b8742-9ed0-4554-b60d-be98c15273d9",
            "source": "1",
            "target": "17",
            "weight": 1.0
           }
          },
          {
           "data": {
            "id": "fb841ecf-ce55-4c96-b337-2770046a1fed",
            "source": "1",
            "target": "19",
            "weight": 1.0
           }
          },
          {
           "data": {
            "id": "6ba9b977-b7b4-4d16-a5b1-2d75c87a548f",
            "source": "1",
            "target": "21",
            "weight": 1.0
           }
          },
          {
           "data": {
            "id": "93737ca3-294b-4aa8-8676-be1f668eb881",
            "source": "1",
            "target": "30",
            "weight": 1.0
           }
          },
          {
           "data": {
            "id": "7d8d69c2-258a-4a23-b9a3-366f654dc511",
            "source": "2",
            "target": "3",
            "weight": 1.0
           }
          },
          {
           "data": {
            "id": "9418ff08-e252-47b5-b7eb-2dee869a8203",
            "source": "2",
            "target": "7",
            "weight": 1.0
           }
          },
          {
           "data": {
            "id": "7191c853-81f1-449d-86a8-502b3bd06731",
            "source": "2",
            "target": "8",
            "weight": 1.0
           }
          },
          {
           "data": {
            "id": "273353f4-e02a-429a-b350-b615df2625d0",
            "source": "2",
            "target": "9",
            "weight": 1.0
           }
          },
          {
           "data": {
            "id": "73003209-c15c-4444-be5f-bd60657f4429",
            "source": "2",
            "target": "13",
            "weight": 1.0
           }
          },
          {
           "data": {
            "id": "55464495-1623-46d7-a8da-a47a4209783b",
            "source": "2",
            "target": "27",
            "weight": 1.0
           }
          },
          {
           "data": {
            "id": "feebb1f7-c212-425b-a0f4-9b95b2dbe653",
            "source": "2",
            "target": "28",
            "weight": 1.0
           }
          },
          {
           "data": {
            "id": "1a9d10a8-34a8-4d71-aafc-6404988292ef",
            "source": "2",
            "target": "32",
            "weight": 1.0
           }
          },
          {
           "data": {
            "id": "683b3002-6fe1-4b70-95d6-d6970c254ac8",
            "source": "3",
            "target": "7",
            "weight": 1.0
           }
          },
          {
           "data": {
            "id": "f9aadc9f-65e3-433e-8248-414ef0197019",
            "source": "3",
            "target": "12",
            "weight": 1.0
           }
          },
          {
           "data": {
            "id": "b1bc184f-0393-4c50-9373-84507141ae87",
            "source": "3",
            "target": "13",
            "weight": 1.0
           }
          },
          {
           "data": {
            "id": "fd76429a-adc9-44fa-a455-fc1fad171b19",
            "source": "4",
            "target": "6",
            "weight": 1.0
           }
          },
          {
           "data": {
            "id": "99925a0d-fc35-4580-9540-67d38196531d",
            "source": "4",
            "target": "10",
            "weight": 1.0
           }
          },
          {
           "data": {
            "id": "d50a8336-64b9-4ee4-a722-399423f53c04",
            "source": "5",
            "target": "6",
            "weight": 1.0
           }
          },
          {
           "data": {
            "id": "b0244cb8-2eda-4154-8209-ac14e2052785",
            "source": "5",
            "target": "10",
            "weight": 1.0
           }
          },
          {
           "data": {
            "id": "53bf60c4-e7ab-4f0c-a003-eb8282d844a4",
            "source": "5",
            "target": "16",
            "weight": 1.0
           }
          },
          {
           "data": {
            "id": "fa087b1c-865f-4721-92e2-1b4c94ef9dcd",
            "source": "6",
            "target": "16",
            "weight": 1.0
           }
          },
          {
           "data": {
            "id": "132dbde2-99c5-4234-9fec-580c2045f6ba",
            "source": "8",
            "target": "30",
            "weight": 1.0
           }
          },
          {
           "data": {
            "id": "058dcd31-aa8d-4d30-ac6a-e1c9e4b772e7",
            "source": "8",
            "target": "32",
            "weight": 1.0
           }
          },
          {
           "data": {
            "id": "5d7a20d0-1a6b-4188-aa9c-04f361f406b9",
            "source": "8",
            "target": "33",
            "weight": 1.0
           }
          },
          {
           "data": {
            "id": "67939b85-c4bb-43b2-a143-986ba50d3727",
            "source": "9",
            "target": "33",
            "weight": 1.0
           }
          },
          {
           "data": {
            "id": "e993e29d-d2e8-4908-8c71-4d426f37b50f",
            "source": "13",
            "target": "33",
            "weight": 1.0
           }
          },
          {
           "data": {
            "id": "c1331ea8-b65b-45c0-81c6-bec45505a6a5",
            "source": "14",
            "target": "32",
            "weight": 1.0
           }
          },
          {
           "data": {
            "id": "5ba23511-5651-42ff-a0f4-d7f343f89f0b",
            "source": "14",
            "target": "33",
            "weight": 1.0
           }
          },
          {
           "data": {
            "id": "7b79c0be-1cbe-463e-996d-b008dc250861",
            "source": "15",
            "target": "32",
            "weight": 1.0
           }
          },
          {
           "data": {
            "id": "70b650f4-d0aa-42db-b57e-2a9785eb5ac9",
            "source": "15",
            "target": "33",
            "weight": 1.0
           }
          },
          {
           "data": {
            "id": "2b37bc91-2643-4847-af75-2e0706827e0d",
            "source": "18",
            "target": "32",
            "weight": 1.0
           }
          },
          {
           "data": {
            "id": "eb005df2-b3b7-48ee-baa9-99f223081a39",
            "source": "18",
            "target": "33",
            "weight": 1.0
           }
          },
          {
           "data": {
            "id": "e22cdbab-27d5-450e-8d24-5baf1cd85f0c",
            "source": "19",
            "target": "33",
            "weight": 1.0
           }
          },
          {
           "data": {
            "id": "cd67ec96-980d-466d-a03e-805054b0b71e",
            "source": "20",
            "target": "32",
            "weight": 1.0
           }
          },
          {
           "data": {
            "id": "d3451fbe-e812-4f97-a862-af590dde1450",
            "source": "20",
            "target": "33",
            "weight": 1.0
           }
          },
          {
           "data": {
            "id": "99bb4d1e-c532-4647-834e-dfc3664100e3",
            "source": "22",
            "target": "32",
            "weight": 1.0
           }
          },
          {
           "data": {
            "id": "4a837dfd-f7a3-4e76-a792-e81248bda264",
            "source": "22",
            "target": "33",
            "weight": 1.0
           }
          },
          {
           "data": {
            "id": "417f30f5-d791-425f-81b1-8ea8655b2416",
            "source": "23",
            "target": "25",
            "weight": 1.0
           }
          },
          {
           "data": {
            "id": "dd4db35b-eaec-4937-9009-86d5b511dbde",
            "source": "23",
            "target": "27",
            "weight": 1.0
           }
          },
          {
           "data": {
            "id": "f1b2e0a3-2e2f-43c2-8c50-7372a6f422d3",
            "source": "23",
            "target": "29",
            "weight": 1.0
           }
          },
          {
           "data": {
            "id": "65233fb2-9877-44be-b028-d36dd94041d9",
            "source": "23",
            "target": "32",
            "weight": 1.0
           }
          },
          {
           "data": {
            "id": "96f8626a-3a4d-4ed0-b74e-bbcf82e004d0",
            "source": "23",
            "target": "33",
            "weight": 1.0
           }
          },
          {
           "data": {
            "id": "502f2e57-8465-4e9c-8b6b-8b93898525f2",
            "source": "24",
            "target": "25",
            "weight": 1.0
           }
          },
          {
           "data": {
            "id": "6d23c1ef-bb4d-44a8-9771-fa3b077d8447",
            "source": "24",
            "target": "27",
            "weight": 1.0
           }
          },
          {
           "data": {
            "id": "dc6832f5-5c23-4ef4-9499-43b41818e0a3",
            "source": "24",
            "target": "31",
            "weight": 1.0
           }
          },
          {
           "data": {
            "id": "236a0a65-1e56-4a11-b521-ad88c2550119",
            "source": "25",
            "target": "31",
            "weight": 1.0
           }
          },
          {
           "data": {
            "id": "cc0ed55c-797e-44f5-a148-71e8056b21b9",
            "source": "26",
            "target": "29",
            "weight": 1.0
           }
          },
          {
           "data": {
            "id": "c8006287-f159-46c7-a700-8e50718791a5",
            "source": "26",
            "target": "33",
            "weight": 1.0
           }
          },
          {
           "data": {
            "id": "1d3582b1-ef5d-4669-b466-abd4eaf02d85",
            "source": "27",
            "target": "33",
            "weight": 1.0
           }
          },
          {
           "data": {
            "id": "6729b210-447e-41e8-adec-c6dff2a289b0",
            "source": "28",
            "target": "31",
            "weight": 1.0
           }
          },
          {
           "data": {
            "id": "8e96fffd-1fe3-4ed9-8c7b-8bde2aaf6e9f",
            "source": "28",
            "target": "33",
            "weight": 1.0
           }
          },
          {
           "data": {
            "id": "b49ee94e-e5f8-4801-8165-59d3ed4b1161",
            "source": "29",
            "target": "32",
            "weight": 1.0
           }
          },
          {
           "data": {
            "id": "bc268abf-507e-494d-aaed-dd58e5ff426c",
            "source": "29",
            "target": "33",
            "weight": 1.0
           }
          },
          {
           "data": {
            "id": "0a79677d-7273-4df3-a265-3e3e80c77b62",
            "source": "30",
            "target": "32",
            "weight": 1.0
           }
          },
          {
           "data": {
            "id": "b0ff63a8-38e4-4d64-b3fe-d806fad643cc",
            "source": "30",
            "target": "33",
            "weight": 1.0
           }
          },
          {
           "data": {
            "id": "22e8dedc-72c1-4fb2-97fd-68cd8d2a95ac",
            "source": "31",
            "target": "32",
            "weight": 1.0
           }
          },
          {
           "data": {
            "id": "3fb10e17-9250-4d83-b3e1-e40fd7629013",
            "source": "31",
            "target": "33",
            "weight": 1.0
           }
          },
          {
           "data": {
            "id": "c997c756-95ca-41d3-840b-7ea300a24bd5",
            "source": "32",
            "target": "33",
            "weight": 1.0
           }
          }
         ],
         "nodes": [
          {
           "data": {
            "id": "0",
            "name": "0",
            "value": 0.0
           }
          },
          {
           "data": {
            "id": "1",
            "name": "1",
            "value": 1.0
           }
          },
          {
           "data": {
            "id": "2",
            "name": "2",
            "value": 2.0
           }
          },
          {
           "data": {
            "id": "3",
            "name": "3",
            "value": 3.0
           }
          },
          {
           "data": {
            "id": "4",
            "name": "4",
            "value": 4.0
           }
          },
          {
           "data": {
            "id": "5",
            "name": "5",
            "value": 5.0
           }
          },
          {
           "data": {
            "id": "6",
            "name": "6",
            "value": 6.0
           }
          },
          {
           "data": {
            "id": "7",
            "name": "7",
            "value": 7.0
           }
          },
          {
           "data": {
            "id": "8",
            "name": "8",
            "value": 8.0
           }
          },
          {
           "data": {
            "id": "9",
            "name": "9",
            "value": 9.0
           }
          },
          {
           "data": {
            "id": "10",
            "name": "10",
            "value": 10.0
           }
          },
          {
           "data": {
            "id": "11",
            "name": "11",
            "value": 11.0
           }
          },
          {
           "data": {
            "id": "12",
            "name": "12",
            "value": 12.0
           }
          },
          {
           "data": {
            "id": "13",
            "name": "13",
            "value": 13.0
           }
          },
          {
           "data": {
            "id": "14",
            "name": "14",
            "value": 14.0
           }
          },
          {
           "data": {
            "id": "15",
            "name": "15",
            "value": 15.0
           }
          },
          {
           "data": {
            "id": "16",
            "name": "16",
            "value": 16.0
           }
          },
          {
           "data": {
            "id": "17",
            "name": "17",
            "value": 17.0
           }
          },
          {
           "data": {
            "id": "18",
            "name": "18",
            "value": 18.0
           }
          },
          {
           "data": {
            "id": "19",
            "name": "19",
            "value": 19.0
           }
          },
          {
           "data": {
            "id": "20",
            "name": "20",
            "value": 20.0
           }
          },
          {
           "data": {
            "id": "21",
            "name": "21",
            "value": 21.0
           }
          },
          {
           "data": {
            "id": "22",
            "name": "22",
            "value": 22.0
           }
          },
          {
           "data": {
            "id": "23",
            "name": "23",
            "value": 23.0
           }
          },
          {
           "data": {
            "id": "24",
            "name": "24",
            "value": 24.0
           }
          },
          {
           "data": {
            "id": "25",
            "name": "25",
            "value": 25.0
           }
          },
          {
           "data": {
            "id": "26",
            "name": "26",
            "value": 26.0
           }
          },
          {
           "data": {
            "id": "27",
            "name": "27",
            "value": 27.0
           }
          },
          {
           "data": {
            "id": "28",
            "name": "28",
            "value": 28.0
           }
          },
          {
           "data": {
            "id": "29",
            "name": "29",
            "value": 29.0
           }
          },
          {
           "data": {
            "id": "30",
            "name": "30",
            "value": 30.0
           }
          },
          {
           "data": {
            "id": "31",
            "name": "31",
            "value": 31.0
           }
          },
          {
           "data": {
            "id": "32",
            "name": "32",
            "value": 32.0
           }
          },
          {
           "data": {
            "id": "33",
            "name": "33",
            "value": 33.0
           }
          }
         ]
        }
       },
       "format": "cyjs",
       "layout": "IPY_MODEL_2c77f8b3001b4da89d97b25878ed20ff",
       "layout_name": "",
       "visual_style": null
      }
     },
     "8abac7bef51c46b6b4908c2606bfc8d8": {
      "model_module": "cytoscape-jupyter-widget",
      "model_module_version": "^0.1.0",
      "model_name": "CytoscapeModel",
      "state": {
       "_model_module_version": "^0.1.0",
       "_view_module_version": "^0.1.0",
       "background": "#FFFFFF",
       "data": {
        "directed": false,
        "elements": {
         "edges": [
          {
           "data": {
            "id": "57683d03-5e0e-4dc6-9348-76bf13360107",
            "source": "0",
            "target": "1",
            "weight": 1.0
           }
          },
          {
           "data": {
            "id": "0d3130dc-1f13-45ba-8b40-49299ab6e7f5",
            "source": "0",
            "target": "2",
            "weight": 1.0
           }
          },
          {
           "data": {
            "id": "f53595c4-d242-4e0e-8aa0-1890d40516fe",
            "source": "0",
            "target": "3",
            "weight": 1.0
           }
          },
          {
           "data": {
            "id": "10832546-c693-4648-8308-61787db29fa6",
            "source": "0",
            "target": "4",
            "weight": 1.0
           }
          },
          {
           "data": {
            "id": "9cdafbfc-a4e7-432a-a06b-927d203b8dd8",
            "source": "0",
            "target": "5",
            "weight": 1.0
           }
          },
          {
           "data": {
            "id": "d1481315-b5cf-4497-8d11-775140c97393",
            "source": "0",
            "target": "6",
            "weight": 1.0
           }
          },
          {
           "data": {
            "id": "44a41525-9920-4e09-b506-944fad7e7d5e",
            "source": "0",
            "target": "7",
            "weight": 1.0
           }
          },
          {
           "data": {
            "id": "9fcbbd25-59cc-40e3-86cf-570ceb4094f1",
            "source": "0",
            "target": "8",
            "weight": 1.0
           }
          },
          {
           "data": {
            "id": "9d224eed-35d2-47b2-be0e-86f7ee61d136",
            "source": "0",
            "target": "10",
            "weight": 1.0
           }
          },
          {
           "data": {
            "id": "64a122da-7d0b-425c-95ff-cf19b2c57799",
            "source": "0",
            "target": "11",
            "weight": 1.0
           }
          },
          {
           "data": {
            "id": "67cc5d26-f2e6-4591-b430-4e9527c76354",
            "source": "0",
            "target": "12",
            "weight": 1.0
           }
          },
          {
           "data": {
            "id": "4a85166d-2209-4497-8486-fa5df8a0f7c4",
            "source": "0",
            "target": "13",
            "weight": 1.0
           }
          },
          {
           "data": {
            "id": "818b0e02-9b3a-4b88-bcc1-621af9d3984c",
            "source": "0",
            "target": "17",
            "weight": 1.0
           }
          },
          {
           "data": {
            "id": "2818b998-6c48-40c6-9281-ff762c4576ba",
            "source": "0",
            "target": "19",
            "weight": 1.0
           }
          },
          {
           "data": {
            "id": "c926069c-b336-456e-a721-882b0b318c1f",
            "source": "0",
            "target": "21",
            "weight": 1.0
           }
          },
          {
           "data": {
            "id": "b5c821ff-064e-43fa-b5ef-7f22654eb9a4",
            "source": "0",
            "target": "31",
            "weight": 1.0
           }
          },
          {
           "data": {
            "id": "b93e10fe-da76-4f9e-aa30-976470048b4e",
            "source": "1",
            "target": "2",
            "weight": 1.0
           }
          },
          {
           "data": {
            "id": "f21ef70d-de60-4467-a796-2fe2b8979256",
            "source": "1",
            "target": "3",
            "weight": 1.0
           }
          },
          {
           "data": {
            "id": "9dd3ee2a-5ede-4799-950a-3edfe087cd15",
            "source": "1",
            "target": "7",
            "weight": 1.0
           }
          },
          {
           "data": {
            "id": "343a10b6-5988-43b6-8644-fc729cd39668",
            "source": "1",
            "target": "13",
            "weight": 1.0
           }
          },
          {
           "data": {
            "id": "fdf27ade-a018-4787-abca-c7ca41d3ccb4",
            "source": "1",
            "target": "17",
            "weight": 1.0
           }
          },
          {
           "data": {
            "id": "b2a5e74a-75d1-4778-9cb6-c2033a893ae7",
            "source": "1",
            "target": "19",
            "weight": 1.0
           }
          },
          {
           "data": {
            "id": "15a7b4ef-6e67-4428-8a57-1c8b13ca110a",
            "source": "1",
            "target": "21",
            "weight": 1.0
           }
          },
          {
           "data": {
            "id": "384ab13b-5885-4360-aac4-77402ac1ea8f",
            "source": "1",
            "target": "30",
            "weight": 1.0
           }
          },
          {
           "data": {
            "id": "b3a8e238-9c4f-4c6e-9ff8-3521f0e36481",
            "source": "2",
            "target": "3",
            "weight": 1.0
           }
          },
          {
           "data": {
            "id": "82887643-50b2-48a9-b650-567928ab6841",
            "source": "2",
            "target": "7",
            "weight": 1.0
           }
          },
          {
           "data": {
            "id": "99ca64f3-23fe-46cd-b610-5753545850ee",
            "source": "2",
            "target": "8",
            "weight": 1.0
           }
          },
          {
           "data": {
            "id": "a7ddc508-a962-4557-ad05-703f04cf822a",
            "source": "2",
            "target": "9",
            "weight": 1.0
           }
          },
          {
           "data": {
            "id": "a7ebbccb-05b4-4002-9a5d-113cce73537b",
            "source": "2",
            "target": "13",
            "weight": 1.0
           }
          },
          {
           "data": {
            "id": "6ac1d361-5470-472f-b465-23eb66c40f98",
            "source": "2",
            "target": "27",
            "weight": 1.0
           }
          },
          {
           "data": {
            "id": "fbce9fb2-e749-4e10-b623-28ab7f465086",
            "source": "2",
            "target": "28",
            "weight": 1.0
           }
          },
          {
           "data": {
            "id": "5aadd964-cd7a-43fa-a53a-d9058a1ea563",
            "source": "2",
            "target": "32",
            "weight": 1.0
           }
          },
          {
           "data": {
            "id": "802b58e9-9716-4b2e-809e-539abb4026f0",
            "source": "3",
            "target": "7",
            "weight": 1.0
           }
          },
          {
           "data": {
            "id": "ee0c4ee3-f785-4e7a-b0f9-3952afc05434",
            "source": "3",
            "target": "12",
            "weight": 1.0
           }
          },
          {
           "data": {
            "id": "202fe3cb-dca3-432c-9472-c2c606b66391",
            "source": "3",
            "target": "13",
            "weight": 1.0
           }
          },
          {
           "data": {
            "id": "499bbdee-7e45-43f4-bbd5-1e878febabca",
            "source": "4",
            "target": "6",
            "weight": 1.0
           }
          },
          {
           "data": {
            "id": "373b9990-06c9-44dc-8ecf-0177d742c6df",
            "source": "4",
            "target": "10",
            "weight": 1.0
           }
          },
          {
           "data": {
            "id": "3dbe6a3c-4d13-470a-854d-4f2e6526c5ef",
            "source": "5",
            "target": "6",
            "weight": 1.0
           }
          },
          {
           "data": {
            "id": "2444b3e9-4ba0-4865-b885-836d3ede9eaa",
            "source": "5",
            "target": "10",
            "weight": 1.0
           }
          },
          {
           "data": {
            "id": "4a80ae48-952a-436b-9451-8f0ca88fdbe3",
            "source": "5",
            "target": "16",
            "weight": 1.0
           }
          },
          {
           "data": {
            "id": "47d1ceb5-2fe0-42c7-bda4-31bd100b6da7",
            "source": "6",
            "target": "16",
            "weight": 1.0
           }
          },
          {
           "data": {
            "id": "732798e4-2031-4658-867f-9b4bbe8659c5",
            "source": "8",
            "target": "30",
            "weight": 1.0
           }
          },
          {
           "data": {
            "id": "b971a074-3b58-4a40-85b6-4ac7665e8907",
            "source": "8",
            "target": "32",
            "weight": 1.0
           }
          },
          {
           "data": {
            "id": "0cde8b2c-9897-49c7-a270-95598f553c7f",
            "source": "8",
            "target": "33",
            "weight": 1.0
           }
          },
          {
           "data": {
            "id": "f0a498a5-562f-4ce1-a429-0c27e452eb6d",
            "source": "9",
            "target": "33",
            "weight": 1.0
           }
          },
          {
           "data": {
            "id": "f2301bea-5d06-4a1d-810e-ee522e60c2a4",
            "source": "13",
            "target": "33",
            "weight": 1.0
           }
          },
          {
           "data": {
            "id": "bf1d042e-eac9-4b70-a0a1-4309f1e77282",
            "source": "14",
            "target": "32",
            "weight": 1.0
           }
          },
          {
           "data": {
            "id": "afdd392a-1a22-42d2-a278-61714d9553aa",
            "source": "14",
            "target": "33",
            "weight": 1.0
           }
          },
          {
           "data": {
            "id": "9eaa2100-9872-45fa-87ab-ea6341163179",
            "source": "15",
            "target": "32",
            "weight": 1.0
           }
          },
          {
           "data": {
            "id": "84f12456-ed72-49d9-a97d-eff47a4618d0",
            "source": "15",
            "target": "33",
            "weight": 1.0
           }
          },
          {
           "data": {
            "id": "fca2e358-8e22-48e6-b6ce-0ad119feb0fd",
            "source": "18",
            "target": "32",
            "weight": 1.0
           }
          },
          {
           "data": {
            "id": "8ac132f9-1e5c-48f7-a73e-eb5d8cedcab9",
            "source": "18",
            "target": "33",
            "weight": 1.0
           }
          },
          {
           "data": {
            "id": "24fe0d53-1dc6-46c5-964a-4653be2eee05",
            "source": "19",
            "target": "33",
            "weight": 1.0
           }
          },
          {
           "data": {
            "id": "1418f9c1-d67c-4c48-8b24-f611caaebb7d",
            "source": "20",
            "target": "32",
            "weight": 1.0
           }
          },
          {
           "data": {
            "id": "fc11a592-39cf-44a3-9fb7-4c53c9287408",
            "source": "20",
            "target": "33",
            "weight": 1.0
           }
          },
          {
           "data": {
            "id": "dd038e26-f5f9-4888-bf11-16688cc4e47f",
            "source": "22",
            "target": "32",
            "weight": 1.0
           }
          },
          {
           "data": {
            "id": "4dcd4567-d207-424d-8f08-89f3cbea3f40",
            "source": "22",
            "target": "33",
            "weight": 1.0
           }
          },
          {
           "data": {
            "id": "e2c3aa0f-84d6-4910-94ca-d1f833bbcb42",
            "source": "23",
            "target": "25",
            "weight": 1.0
           }
          },
          {
           "data": {
            "id": "8f4c250c-2a6b-45c6-85e5-18ad6483d646",
            "source": "23",
            "target": "27",
            "weight": 1.0
           }
          },
          {
           "data": {
            "id": "0a620bf5-7167-47fb-9f75-9f18bc6b64b7",
            "source": "23",
            "target": "29",
            "weight": 1.0
           }
          },
          {
           "data": {
            "id": "2ebd1099-6fd2-43bc-b32b-57900fd46e00",
            "source": "23",
            "target": "32",
            "weight": 1.0
           }
          },
          {
           "data": {
            "id": "285065a2-6f57-4869-bbb6-ddbdd86f79af",
            "source": "23",
            "target": "33",
            "weight": 1.0
           }
          },
          {
           "data": {
            "id": "5aed2dc9-7a79-4275-8298-402a93814048",
            "source": "24",
            "target": "25",
            "weight": 1.0
           }
          },
          {
           "data": {
            "id": "d9fd98d6-7153-4f39-9d99-4646afbe7c19",
            "source": "24",
            "target": "27",
            "weight": 1.0
           }
          },
          {
           "data": {
            "id": "cd6da3ae-6640-4787-8c93-e2ef69c0c958",
            "source": "24",
            "target": "31",
            "weight": 1.0
           }
          },
          {
           "data": {
            "id": "2ae8dc81-17a4-4c08-aed8-c44e32c9dcf9",
            "source": "25",
            "target": "31",
            "weight": 1.0
           }
          },
          {
           "data": {
            "id": "5f593c39-d703-49f0-b25a-e62af4a242e3",
            "source": "26",
            "target": "29",
            "weight": 1.0
           }
          },
          {
           "data": {
            "id": "2cdddeb3-6bbf-4bf7-bac5-b715ede01f83",
            "source": "26",
            "target": "33",
            "weight": 1.0
           }
          },
          {
           "data": {
            "id": "2c2e8436-2cf5-4544-a314-c95550c35240",
            "source": "27",
            "target": "33",
            "weight": 1.0
           }
          },
          {
           "data": {
            "id": "46807576-2dc8-4403-aba6-5379dfe65599",
            "source": "28",
            "target": "31",
            "weight": 1.0
           }
          },
          {
           "data": {
            "id": "e29bab8b-ab88-4fdb-a449-e6b211ed96ba",
            "source": "28",
            "target": "33",
            "weight": 1.0
           }
          },
          {
           "data": {
            "id": "7a82bb13-91f4-415b-a5a6-d0f4e1902b96",
            "source": "29",
            "target": "32",
            "weight": 1.0
           }
          },
          {
           "data": {
            "id": "0e8add9d-d0ad-4de0-8c45-12f25bb18cf6",
            "source": "29",
            "target": "33",
            "weight": 1.0
           }
          },
          {
           "data": {
            "id": "0c032f97-c2f1-4dc5-875f-0285b0e5c7bb",
            "source": "30",
            "target": "32",
            "weight": 1.0
           }
          },
          {
           "data": {
            "id": "85551060-3f52-4b92-8fd7-66995a3ead87",
            "source": "30",
            "target": "33",
            "weight": 1.0
           }
          },
          {
           "data": {
            "id": "78f958a4-9de3-4457-9129-6cbb2625130a",
            "source": "31",
            "target": "32",
            "weight": 1.0
           }
          },
          {
           "data": {
            "id": "68084c65-23a8-4d3c-80e6-d87f481254c0",
            "source": "31",
            "target": "33",
            "weight": 1.0
           }
          },
          {
           "data": {
            "id": "33df238f-2b89-4530-9a3c-e5714cd84e59",
            "source": "32",
            "target": "33",
            "weight": 1.0
           }
          }
         ],
         "nodes": [
          {
           "data": {
            "id": "0",
            "name": "0",
            "value": 0.0
           }
          },
          {
           "data": {
            "id": "1",
            "name": "1",
            "value": 1.0
           }
          },
          {
           "data": {
            "id": "2",
            "name": "2",
            "value": 2.0
           }
          },
          {
           "data": {
            "id": "3",
            "name": "3",
            "value": 3.0
           }
          },
          {
           "data": {
            "id": "4",
            "name": "4",
            "value": 4.0
           }
          },
          {
           "data": {
            "id": "5",
            "name": "5",
            "value": 5.0
           }
          },
          {
           "data": {
            "id": "6",
            "name": "6",
            "value": 6.0
           }
          },
          {
           "data": {
            "id": "7",
            "name": "7",
            "value": 7.0
           }
          },
          {
           "data": {
            "id": "8",
            "name": "8",
            "value": 8.0
           }
          },
          {
           "data": {
            "id": "9",
            "name": "9",
            "value": 9.0
           }
          },
          {
           "data": {
            "id": "10",
            "name": "10",
            "value": 10.0
           }
          },
          {
           "data": {
            "id": "11",
            "name": "11",
            "value": 11.0
           }
          },
          {
           "data": {
            "id": "12",
            "name": "12",
            "value": 12.0
           }
          },
          {
           "data": {
            "id": "13",
            "name": "13",
            "value": 13.0
           }
          },
          {
           "data": {
            "id": "14",
            "name": "14",
            "value": 14.0
           }
          },
          {
           "data": {
            "id": "15",
            "name": "15",
            "value": 15.0
           }
          },
          {
           "data": {
            "id": "16",
            "name": "16",
            "value": 16.0
           }
          },
          {
           "data": {
            "id": "17",
            "name": "17",
            "value": 17.0
           }
          },
          {
           "data": {
            "id": "18",
            "name": "18",
            "value": 18.0
           }
          },
          {
           "data": {
            "id": "19",
            "name": "19",
            "value": 19.0
           }
          },
          {
           "data": {
            "id": "20",
            "name": "20",
            "value": 20.0
           }
          },
          {
           "data": {
            "id": "21",
            "name": "21",
            "value": 21.0
           }
          },
          {
           "data": {
            "id": "22",
            "name": "22",
            "value": 22.0
           }
          },
          {
           "data": {
            "id": "23",
            "name": "23",
            "value": 23.0
           }
          },
          {
           "data": {
            "id": "24",
            "name": "24",
            "value": 24.0
           }
          },
          {
           "data": {
            "id": "25",
            "name": "25",
            "value": 25.0
           }
          },
          {
           "data": {
            "id": "26",
            "name": "26",
            "value": 26.0
           }
          },
          {
           "data": {
            "id": "27",
            "name": "27",
            "value": 27.0
           }
          },
          {
           "data": {
            "id": "28",
            "name": "28",
            "value": 28.0
           }
          },
          {
           "data": {
            "id": "29",
            "name": "29",
            "value": 29.0
           }
          },
          {
           "data": {
            "id": "30",
            "name": "30",
            "value": 30.0
           }
          },
          {
           "data": {
            "id": "31",
            "name": "31",
            "value": 31.0
           }
          },
          {
           "data": {
            "id": "32",
            "name": "32",
            "value": 32.0
           }
          },
          {
           "data": {
            "id": "33",
            "name": "33",
            "value": 33.0
           }
          }
         ]
        }
       },
       "format": "cyjs",
       "layout": "IPY_MODEL_9473e33ce18f4834a2ba9c667aec18e1",
       "layout_name": "",
       "visual_style": null
      }
     },
     "9473e33ce18f4834a2ba9c667aec18e1": {
      "model_module": "@jupyter-widgets/base",
      "model_module_version": "1.1.0",
      "model_name": "LayoutModel",
      "state": {}
     },
     "9f5d610348fb4ffca5c0c3ee90b5f7cf": {
      "model_module": "@jupyter-widgets/base",
      "model_module_version": "1.1.0",
      "model_name": "LayoutModel",
      "state": {}
     },
     "9ffc3317ab944210bf0b9e3683c61a72": {
      "model_module": "cytoscape-jupyter-widget",
      "model_module_version": "^0.1.0",
      "model_name": "CytoscapeModel",
      "state": {
       "_model_module_version": "^0.1.0",
       "_view_module_version": "^0.1.0",
       "background": "#FFFFFF",
       "data": {
        "directed": false,
        "elements": {
         "edges": [
          {
           "data": {
            "source": 0.0,
            "target": 1.0,
            "weight": 1.0
           }
          },
          {
           "data": {
            "source": 0.0,
            "target": 4.0,
            "weight": 1.0
           }
          },
          {
           "data": {
            "source": 1.0,
            "target": 2.0,
            "weight": 1.0
           }
          },
          {
           "data": {
            "source": 1.0,
            "target": 4.0,
            "weight": 1.0
           }
          },
          {
           "data": {
            "source": 2.0,
            "target": 3.0,
            "weight": 1.0
           }
          },
          {
           "data": {
            "source": 3.0,
            "target": 4.0,
            "weight": 1.0
           }
          }
         ],
         "nodes": [
          {
           "data": {
            "id": "0",
            "name": "0",
            "value": 0.0
           }
          },
          {
           "data": {
            "id": "1",
            "name": "1",
            "value": 1.0
           }
          },
          {
           "data": {
            "id": "2",
            "name": "2",
            "value": 2.0
           }
          },
          {
           "data": {
            "id": "3",
            "name": "3",
            "value": 3.0
           }
          },
          {
           "data": {
            "id": "4",
            "name": "4",
            "value": 4.0
           }
          }
         ]
        }
       },
       "format": "cyjs",
       "layout": "IPY_MODEL_e4943a9b41434a8d90e4b6de8c5dae00",
       "layout_name": "",
       "visual_style": null
      }
     },
     "ac56a0b1d30747b084f96bed81b5f703": {
      "model_module": "@jupyter-widgets/base",
      "model_module_version": "1.1.0",
      "model_name": "LayoutModel",
      "state": {}
     },
     "c0812aa976f04d61beafb16f23710dd7": {
      "model_module": "@jupyter-widgets/base",
      "model_module_version": "1.1.0",
      "model_name": "LayoutModel",
      "state": {}
     },
     "e196df3e1d5b425aaefc14a1a6396a0e": {
      "model_module": "cytoscape-jupyter-widget",
      "model_module_version": "^0.1.0",
      "model_name": "CytoscapeModel",
      "state": {
       "_model_module_version": "^0.1.0",
       "_view_module_version": "^0.1.0",
       "background": "#FFFFFF",
       "data": {
        "directed": false,
        "elements": {
         "edges": [
          {
           "data": {
            "id": "551fd1b3-5a93-4f15-ab93-7485f9cc2116",
            "source": "0",
            "target": "1",
            "weight": 1.0
           }
          },
          {
           "data": {
            "id": "a8b84537-7766-46a9-9c2a-adeccd0b7d32",
            "source": "0",
            "target": "2",
            "weight": 1.0
           }
          },
          {
           "data": {
            "id": "c1b923e3-df7c-47ef-9a05-b566e8bb04f7",
            "source": "0",
            "target": "3",
            "weight": 1.0
           }
          },
          {
           "data": {
            "id": "13aaf40f-e97b-4171-ba7f-621e9defb345",
            "source": "0",
            "target": "4",
            "weight": 1.0
           }
          },
          {
           "data": {
            "id": "51aad585-f5e8-4a66-8780-54af075e62c4",
            "source": "0",
            "target": "5",
            "weight": 1.0
           }
          },
          {
           "data": {
            "id": "27c8fad8-6f0b-4747-aa1b-77b1c670e9c2",
            "source": "0",
            "target": "6",
            "weight": 1.0
           }
          },
          {
           "data": {
            "id": "bbef9a77-12f1-4062-9170-22d8dc1ecfea",
            "source": "0",
            "target": "7",
            "weight": 1.0
           }
          },
          {
           "data": {
            "id": "a27e6411-140d-4f85-bbf3-3d959d7791f7",
            "source": "0",
            "target": "8",
            "weight": 1.0
           }
          },
          {
           "data": {
            "id": "d9da351e-fa80-4ddb-8fe6-6a2d0c60cb2f",
            "source": "0",
            "target": "10",
            "weight": 1.0
           }
          },
          {
           "data": {
            "id": "7064826a-c7e9-46a3-9dce-548fd4f77f4b",
            "source": "0",
            "target": "11",
            "weight": 1.0
           }
          },
          {
           "data": {
            "id": "da2f93bc-eb6b-42c4-9090-384c4be6f5e8",
            "source": "0",
            "target": "12",
            "weight": 1.0
           }
          },
          {
           "data": {
            "id": "9886c237-0eba-4bff-b534-5190bd03c398",
            "source": "0",
            "target": "13",
            "weight": 1.0
           }
          },
          {
           "data": {
            "id": "ecd26111-bba7-4d5a-bacf-9a41885ccbd1",
            "source": "0",
            "target": "17",
            "weight": 1.0
           }
          },
          {
           "data": {
            "id": "f387b0a4-55b1-46e0-b572-fb443520654a",
            "source": "0",
            "target": "19",
            "weight": 1.0
           }
          },
          {
           "data": {
            "id": "aed37cac-12c1-4b74-8c90-15de76ec30e5",
            "source": "0",
            "target": "21",
            "weight": 1.0
           }
          },
          {
           "data": {
            "id": "e07f34a2-960e-4311-a9ac-5c40b93b3409",
            "source": "0",
            "target": "31",
            "weight": 1.0
           }
          },
          {
           "data": {
            "id": "cdf78fd3-1738-4be6-b965-2fab494bf40c",
            "source": "1",
            "target": "2",
            "weight": 1.0
           }
          },
          {
           "data": {
            "id": "4dcd6b4d-2e01-443e-ab03-723a6e48692f",
            "source": "1",
            "target": "3",
            "weight": 1.0
           }
          },
          {
           "data": {
            "id": "d163602b-b33b-4cc2-bb76-18e4a102bce3",
            "source": "1",
            "target": "7",
            "weight": 1.0
           }
          },
          {
           "data": {
            "id": "b912f732-e191-4d0a-9ef0-3b8aef5f3b45",
            "source": "1",
            "target": "13",
            "weight": 1.0
           }
          },
          {
           "data": {
            "id": "bab99a05-d216-4908-9ec2-e50bbb1ff8da",
            "source": "1",
            "target": "17",
            "weight": 1.0
           }
          },
          {
           "data": {
            "id": "d8b94174-566d-48d6-b29d-cc796505f8dd",
            "source": "1",
            "target": "19",
            "weight": 1.0
           }
          },
          {
           "data": {
            "id": "f1893c52-a51a-439b-bda3-1c67cc2fad34",
            "source": "1",
            "target": "21",
            "weight": 1.0
           }
          },
          {
           "data": {
            "id": "75f82446-cf15-461e-b520-f527c95eae2b",
            "source": "1",
            "target": "30",
            "weight": 1.0
           }
          },
          {
           "data": {
            "id": "633b270c-52a4-4c4d-a943-59791a61bad8",
            "source": "2",
            "target": "3",
            "weight": 1.0
           }
          },
          {
           "data": {
            "id": "1dbd0ced-983b-420a-ae51-83711be0e97c",
            "source": "2",
            "target": "7",
            "weight": 1.0
           }
          },
          {
           "data": {
            "id": "6908943f-051c-4845-83e7-c7f05529261d",
            "source": "2",
            "target": "8",
            "weight": 1.0
           }
          },
          {
           "data": {
            "id": "b9368201-d47b-4cf5-8c2b-1fb82013d868",
            "source": "2",
            "target": "9",
            "weight": 1.0
           }
          },
          {
           "data": {
            "id": "46d53645-d59a-4f21-ac95-ac014e8f046d",
            "source": "2",
            "target": "13",
            "weight": 1.0
           }
          },
          {
           "data": {
            "id": "bd4ab14f-e279-4a88-8c12-ab5d8413a281",
            "source": "2",
            "target": "27",
            "weight": 1.0
           }
          },
          {
           "data": {
            "id": "156aa20e-dce1-4c62-ae25-4cbf439e2911",
            "source": "2",
            "target": "28",
            "weight": 1.0
           }
          },
          {
           "data": {
            "id": "e76a5751-40f3-4d30-bc7c-2e48e988d8c2",
            "source": "2",
            "target": "32",
            "weight": 1.0
           }
          },
          {
           "data": {
            "id": "714a1e78-0d04-4729-8189-0e7f6bc52b56",
            "source": "3",
            "target": "7",
            "weight": 1.0
           }
          },
          {
           "data": {
            "id": "a7699505-ce04-4b40-88de-c1573e19c563",
            "source": "3",
            "target": "12",
            "weight": 1.0
           }
          },
          {
           "data": {
            "id": "4404d7f1-7eb1-47b4-9c2b-264ff5483461",
            "source": "3",
            "target": "13",
            "weight": 1.0
           }
          },
          {
           "data": {
            "id": "f531fc39-1653-424e-8485-f23237bbf745",
            "source": "4",
            "target": "6",
            "weight": 1.0
           }
          },
          {
           "data": {
            "id": "26737cae-d454-46e4-9378-1c8b874639bd",
            "source": "4",
            "target": "10",
            "weight": 1.0
           }
          },
          {
           "data": {
            "id": "d03a21d9-2031-4b21-934f-35331e6f3a96",
            "source": "5",
            "target": "6",
            "weight": 1.0
           }
          },
          {
           "data": {
            "id": "79549152-aa85-4d12-915f-ad5309bac470",
            "source": "5",
            "target": "10",
            "weight": 1.0
           }
          },
          {
           "data": {
            "id": "d79bc45d-120b-4aec-9cfa-8bccc4cb9642",
            "source": "5",
            "target": "16",
            "weight": 1.0
           }
          },
          {
           "data": {
            "id": "501b135c-c393-4e56-9146-05783401b44f",
            "source": "6",
            "target": "16",
            "weight": 1.0
           }
          },
          {
           "data": {
            "id": "8dfc3091-e3ee-4137-8d6f-496622f48eb6",
            "source": "8",
            "target": "30",
            "weight": 1.0
           }
          },
          {
           "data": {
            "id": "91242b9e-d62a-4250-ada3-b02de728b6cb",
            "source": "8",
            "target": "32",
            "weight": 1.0
           }
          },
          {
           "data": {
            "id": "b3afc64e-8bb0-4bfc-8e80-77a09ed33d80",
            "source": "8",
            "target": "33",
            "weight": 1.0
           }
          },
          {
           "data": {
            "id": "b6f50c48-2e7c-450c-8f03-90b598597278",
            "source": "9",
            "target": "33",
            "weight": 1.0
           }
          },
          {
           "data": {
            "id": "76ceae9f-c4ef-4941-824a-db1b76f8920f",
            "source": "13",
            "target": "33",
            "weight": 1.0
           }
          },
          {
           "data": {
            "id": "bfbd8a56-04be-4149-b32a-6df964d21a2f",
            "source": "14",
            "target": "32",
            "weight": 1.0
           }
          },
          {
           "data": {
            "id": "ff907bf4-fc81-4072-85e9-01a81fc4c99d",
            "source": "14",
            "target": "33",
            "weight": 1.0
           }
          },
          {
           "data": {
            "id": "09460376-2f72-4cd0-b9f7-02206f6917ed",
            "source": "15",
            "target": "32",
            "weight": 1.0
           }
          },
          {
           "data": {
            "id": "9a569d58-79cf-4f89-841a-d8ed9f8c9526",
            "source": "15",
            "target": "33",
            "weight": 1.0
           }
          },
          {
           "data": {
            "id": "b5af13c8-7f4c-4d06-a4c0-2a5cfa9b20ab",
            "source": "18",
            "target": "32",
            "weight": 1.0
           }
          },
          {
           "data": {
            "id": "af7f6587-56eb-466e-9307-cb992b558277",
            "source": "18",
            "target": "33",
            "weight": 1.0
           }
          },
          {
           "data": {
            "id": "44b6da03-c650-4a71-8d7b-9e21a7c03ba8",
            "source": "19",
            "target": "33",
            "weight": 1.0
           }
          },
          {
           "data": {
            "id": "a596cdad-9e21-4012-af92-df7ff9c35fce",
            "source": "20",
            "target": "32",
            "weight": 1.0
           }
          },
          {
           "data": {
            "id": "c3567bd5-2096-4355-a009-4c9b9e801dbb",
            "source": "20",
            "target": "33",
            "weight": 1.0
           }
          },
          {
           "data": {
            "id": "f4a91c35-48e4-42a7-8b79-1dfb10059542",
            "source": "22",
            "target": "32",
            "weight": 1.0
           }
          },
          {
           "data": {
            "id": "f496efcc-ec4b-41d0-b726-7b22e9355cf5",
            "source": "22",
            "target": "33",
            "weight": 1.0
           }
          },
          {
           "data": {
            "id": "aead3dc6-0009-4a06-832a-74bfc6961efa",
            "source": "23",
            "target": "25",
            "weight": 1.0
           }
          },
          {
           "data": {
            "id": "66cdd7a7-0c3d-4433-b4c3-22f5450d2d83",
            "source": "23",
            "target": "27",
            "weight": 1.0
           }
          },
          {
           "data": {
            "id": "c8e52f03-c603-47f7-9d01-b6cacd068b17",
            "source": "23",
            "target": "29",
            "weight": 1.0
           }
          },
          {
           "data": {
            "id": "e86fd050-58b5-459c-bc0a-5d77594834d5",
            "source": "23",
            "target": "32",
            "weight": 1.0
           }
          },
          {
           "data": {
            "id": "1441c9dc-bbc5-4ee7-b1a2-4cceee2d4641",
            "source": "23",
            "target": "33",
            "weight": 1.0
           }
          },
          {
           "data": {
            "id": "7459b539-f799-44f4-bb32-b279db9c35c5",
            "source": "24",
            "target": "25",
            "weight": 1.0
           }
          },
          {
           "data": {
            "id": "8ced93d4-6a69-448d-a79b-ba56688b8b58",
            "source": "24",
            "target": "27",
            "weight": 1.0
           }
          },
          {
           "data": {
            "id": "330eb1db-0a72-450d-933e-1f4517da5494",
            "source": "24",
            "target": "31",
            "weight": 1.0
           }
          },
          {
           "data": {
            "id": "9b0e8ac3-fefd-4bcf-822e-f68e0bc08269",
            "source": "25",
            "target": "31",
            "weight": 1.0
           }
          },
          {
           "data": {
            "id": "073c2ccb-dc0a-454c-80c2-db85f941eec3",
            "source": "26",
            "target": "29",
            "weight": 1.0
           }
          },
          {
           "data": {
            "id": "e86868c3-598c-4cc7-833f-bfb6044bfab0",
            "source": "26",
            "target": "33",
            "weight": 1.0
           }
          },
          {
           "data": {
            "id": "cedd9a3e-802d-4b2d-b4bc-093027e03b3a",
            "source": "27",
            "target": "33",
            "weight": 1.0
           }
          },
          {
           "data": {
            "id": "3d0c1607-7d98-42d8-8af7-7e5983d1a83b",
            "source": "28",
            "target": "31",
            "weight": 1.0
           }
          },
          {
           "data": {
            "id": "109cfef3-3546-434a-b7f1-e00ec58de98f",
            "source": "28",
            "target": "33",
            "weight": 1.0
           }
          },
          {
           "data": {
            "id": "16656ef3-eec5-4983-8f3f-89a120c53ed9",
            "source": "29",
            "target": "32",
            "weight": 1.0
           }
          },
          {
           "data": {
            "id": "4eaf2dd0-893a-4d81-90e5-e595fc437bb3",
            "source": "29",
            "target": "33",
            "weight": 1.0
           }
          },
          {
           "data": {
            "id": "aae455c6-d869-4419-a43b-105015d44fa0",
            "source": "30",
            "target": "32",
            "weight": 1.0
           }
          },
          {
           "data": {
            "id": "ec38985e-cb49-4830-b088-b72c3202bf74",
            "source": "30",
            "target": "33",
            "weight": 1.0
           }
          },
          {
           "data": {
            "id": "92391c0c-80cb-41a7-9af7-ffe3adcdd55e",
            "source": "31",
            "target": "32",
            "weight": 1.0
           }
          },
          {
           "data": {
            "id": "d1c6707c-7def-4d80-8e36-10c85f48e082",
            "source": "31",
            "target": "33",
            "weight": 1.0
           }
          },
          {
           "data": {
            "id": "dfdae34a-12e1-4b82-abe8-95a36d6e6b00",
            "source": "32",
            "target": "33",
            "weight": 1.0
           }
          }
         ],
         "nodes": [
          {
           "data": {
            "id": "0",
            "name": "0",
            "value": 0.0
           }
          },
          {
           "data": {
            "id": "1",
            "name": "1",
            "value": 1.0
           }
          },
          {
           "data": {
            "id": "2",
            "name": "2",
            "value": 2.0
           }
          },
          {
           "data": {
            "id": "3",
            "name": "3",
            "value": 3.0
           }
          },
          {
           "data": {
            "id": "4",
            "name": "4",
            "value": 4.0
           }
          },
          {
           "data": {
            "id": "5",
            "name": "5",
            "value": 5.0
           }
          },
          {
           "data": {
            "id": "6",
            "name": "6",
            "value": 6.0
           }
          },
          {
           "data": {
            "id": "7",
            "name": "7",
            "value": 7.0
           }
          },
          {
           "data": {
            "id": "8",
            "name": "8",
            "value": 8.0
           }
          },
          {
           "data": {
            "id": "9",
            "name": "9",
            "value": 9.0
           }
          },
          {
           "data": {
            "id": "10",
            "name": "10",
            "value": 10.0
           }
          },
          {
           "data": {
            "id": "11",
            "name": "11",
            "value": 11.0
           }
          },
          {
           "data": {
            "id": "12",
            "name": "12",
            "value": 12.0
           }
          },
          {
           "data": {
            "id": "13",
            "name": "13",
            "value": 13.0
           }
          },
          {
           "data": {
            "id": "14",
            "name": "14",
            "value": 14.0
           }
          },
          {
           "data": {
            "id": "15",
            "name": "15",
            "value": 15.0
           }
          },
          {
           "data": {
            "id": "16",
            "name": "16",
            "value": 16.0
           }
          },
          {
           "data": {
            "id": "17",
            "name": "17",
            "value": 17.0
           }
          },
          {
           "data": {
            "id": "18",
            "name": "18",
            "value": 18.0
           }
          },
          {
           "data": {
            "id": "19",
            "name": "19",
            "value": 19.0
           }
          },
          {
           "data": {
            "id": "20",
            "name": "20",
            "value": 20.0
           }
          },
          {
           "data": {
            "id": "21",
            "name": "21",
            "value": 21.0
           }
          },
          {
           "data": {
            "id": "22",
            "name": "22",
            "value": 22.0
           }
          },
          {
           "data": {
            "id": "23",
            "name": "23",
            "value": 23.0
           }
          },
          {
           "data": {
            "id": "24",
            "name": "24",
            "value": 24.0
           }
          },
          {
           "data": {
            "id": "25",
            "name": "25",
            "value": 25.0
           }
          },
          {
           "data": {
            "id": "26",
            "name": "26",
            "value": 26.0
           }
          },
          {
           "data": {
            "id": "27",
            "name": "27",
            "value": 27.0
           }
          },
          {
           "data": {
            "id": "28",
            "name": "28",
            "value": 28.0
           }
          },
          {
           "data": {
            "id": "29",
            "name": "29",
            "value": 29.0
           }
          },
          {
           "data": {
            "id": "30",
            "name": "30",
            "value": 30.0
           }
          },
          {
           "data": {
            "id": "31",
            "name": "31",
            "value": 31.0
           }
          },
          {
           "data": {
            "id": "32",
            "name": "32",
            "value": 32.0
           }
          },
          {
           "data": {
            "id": "33",
            "name": "33",
            "value": 33.0
           }
          }
         ]
        }
       },
       "format": "cyjs",
       "layout": "IPY_MODEL_ac56a0b1d30747b084f96bed81b5f703",
       "layout_name": "",
       "visual_style": null
      }
     },
     "e3b49028807b4029bfa475b8e595e6d8": {
      "model_module": "cytoscape-jupyter-widget",
      "model_module_version": "^0.1.0",
      "model_name": "CytoscapeModel",
      "state": {
       "_model_module_version": "^0.1.0",
       "_view_module_version": "^0.1.0",
       "background": "#FFFFFF",
       "data": {
        "directed": false,
        "elements": {
         "edges": [
          {
           "data": {
            "id": "69cf026c-2b87-4239-9902-b0286091d1ff",
            "source": "0",
            "target": "1",
            "weight": 1.0
           }
          },
          {
           "data": {
            "id": "013dbbaf-6b50-4e8e-b89f-f1a8427ecc17",
            "source": "0",
            "target": "2",
            "weight": 1.0
           }
          },
          {
           "data": {
            "id": "7747d99d-bef6-4a0b-a7c4-ea04fa224210",
            "source": "0",
            "target": "3",
            "weight": 1.0
           }
          },
          {
           "data": {
            "id": "daecda1b-bb5c-4579-afe7-43bef94f2e3d",
            "source": "0",
            "target": "4",
            "weight": 1.0
           }
          },
          {
           "data": {
            "id": "4e6e4d85-e164-4b1e-bad6-7425bf683888",
            "source": "0",
            "target": "5",
            "weight": 1.0
           }
          },
          {
           "data": {
            "id": "cf4acb9e-7321-4060-bc94-d28dfea5af74",
            "source": "0",
            "target": "6",
            "weight": 1.0
           }
          },
          {
           "data": {
            "id": "ddfb0397-326e-4669-9826-76fb5dbb5463",
            "source": "0",
            "target": "7",
            "weight": 1.0
           }
          },
          {
           "data": {
            "id": "67d8a961-3304-4471-8e94-7eeec25a3811",
            "source": "0",
            "target": "8",
            "weight": 1.0
           }
          },
          {
           "data": {
            "id": "439f6b38-4d18-4a34-8c1a-cbc527b85ecb",
            "source": "0",
            "target": "10",
            "weight": 1.0
           }
          },
          {
           "data": {
            "id": "b219383f-64c7-479c-ba11-981c849d9749",
            "source": "0",
            "target": "11",
            "weight": 1.0
           }
          },
          {
           "data": {
            "id": "0edd6d9a-45f2-432a-b49b-587974b4c251",
            "source": "0",
            "target": "12",
            "weight": 1.0
           }
          },
          {
           "data": {
            "id": "61b5d875-6927-4bd9-b862-92fd2bbbc3a4",
            "source": "0",
            "target": "13",
            "weight": 1.0
           }
          },
          {
           "data": {
            "id": "7a5a99ab-dadc-4629-b666-0b58bac95c65",
            "source": "0",
            "target": "17",
            "weight": 1.0
           }
          },
          {
           "data": {
            "id": "cb793e1e-6a7d-45f2-9da9-ea115954edbf",
            "source": "0",
            "target": "19",
            "weight": 1.0
           }
          },
          {
           "data": {
            "id": "a80a7620-03c0-44ac-82aa-983199c529e2",
            "source": "0",
            "target": "21",
            "weight": 1.0
           }
          },
          {
           "data": {
            "id": "112c1508-b761-42a6-9388-b48b6496b3e1",
            "source": "0",
            "target": "31",
            "weight": 1.0
           }
          },
          {
           "data": {
            "id": "a872e718-cfef-4b0a-8625-92e3a30a9026",
            "source": "1",
            "target": "2",
            "weight": 1.0
           }
          },
          {
           "data": {
            "id": "0920d503-4bd5-4666-85bc-f29e09c4b0a8",
            "source": "1",
            "target": "3",
            "weight": 1.0
           }
          },
          {
           "data": {
            "id": "fbd41d4e-365f-4391-bd04-d62b66ae623a",
            "source": "1",
            "target": "7",
            "weight": 1.0
           }
          },
          {
           "data": {
            "id": "ce0c05f5-81b8-4e16-a4e4-b3ec1f2ffe3f",
            "source": "1",
            "target": "13",
            "weight": 1.0
           }
          },
          {
           "data": {
            "id": "70d27dae-2a22-4532-a189-53dc13ff2dfd",
            "source": "1",
            "target": "17",
            "weight": 1.0
           }
          },
          {
           "data": {
            "id": "6d1598f9-4597-4a64-a625-9eb206b38e05",
            "source": "1",
            "target": "19",
            "weight": 1.0
           }
          },
          {
           "data": {
            "id": "87bd8fc5-979d-4238-ab0b-b7e9f168adf3",
            "source": "1",
            "target": "21",
            "weight": 1.0
           }
          },
          {
           "data": {
            "id": "1924a66a-4e50-481f-ac66-b70362c12760",
            "source": "1",
            "target": "30",
            "weight": 1.0
           }
          },
          {
           "data": {
            "id": "2ce06962-01d9-49aa-b0a9-bada37f436f6",
            "source": "2",
            "target": "3",
            "weight": 1.0
           }
          },
          {
           "data": {
            "id": "661b1a9b-0d4e-435e-b78f-e4dfb82eface",
            "source": "2",
            "target": "7",
            "weight": 1.0
           }
          },
          {
           "data": {
            "id": "18b791d0-1476-453c-a5cb-b9acab3bba46",
            "source": "2",
            "target": "8",
            "weight": 1.0
           }
          },
          {
           "data": {
            "id": "3387950a-fb7a-42b5-a61c-97d9f292ac09",
            "source": "2",
            "target": "9",
            "weight": 1.0
           }
          },
          {
           "data": {
            "id": "b4027e1e-bac5-4dfa-93b4-77d763e2799b",
            "source": "2",
            "target": "13",
            "weight": 1.0
           }
          },
          {
           "data": {
            "id": "091b2510-bdb9-4d41-9aa5-6c9710085533",
            "source": "2",
            "target": "27",
            "weight": 1.0
           }
          },
          {
           "data": {
            "id": "9794d554-1358-4fd3-ad8c-101779ae73d0",
            "source": "2",
            "target": "28",
            "weight": 1.0
           }
          },
          {
           "data": {
            "id": "fb094633-d26d-408a-ae8c-417458375e95",
            "source": "2",
            "target": "32",
            "weight": 1.0
           }
          },
          {
           "data": {
            "id": "22e8399b-e3d7-4de6-9a45-3479b7031c12",
            "source": "3",
            "target": "7",
            "weight": 1.0
           }
          },
          {
           "data": {
            "id": "fca22c0d-e185-4fb9-9755-3e8e5eb53067",
            "source": "3",
            "target": "12",
            "weight": 1.0
           }
          },
          {
           "data": {
            "id": "b8c864c0-cdb1-42bc-b261-627292219c85",
            "source": "3",
            "target": "13",
            "weight": 1.0
           }
          },
          {
           "data": {
            "id": "a7edd9c3-63c5-4866-9aa1-801204cb2a27",
            "source": "4",
            "target": "6",
            "weight": 1.0
           }
          },
          {
           "data": {
            "id": "72947c3f-64c8-4af8-9842-10a364ec140e",
            "source": "4",
            "target": "10",
            "weight": 1.0
           }
          },
          {
           "data": {
            "id": "3d141097-a979-4d10-aea3-8d6b0d44998b",
            "source": "5",
            "target": "6",
            "weight": 1.0
           }
          },
          {
           "data": {
            "id": "7f1782b6-8764-4ec9-8ec8-9e3dee18f69d",
            "source": "5",
            "target": "10",
            "weight": 1.0
           }
          },
          {
           "data": {
            "id": "97e5cedc-26f5-413c-8be4-9a0fa2cc14e1",
            "source": "5",
            "target": "16",
            "weight": 1.0
           }
          },
          {
           "data": {
            "id": "edf7c579-53e0-48f4-99e5-9db83df3f43e",
            "source": "6",
            "target": "16",
            "weight": 1.0
           }
          },
          {
           "data": {
            "id": "4367b3eb-e57c-4a00-ba06-b09e8c75f07e",
            "source": "8",
            "target": "30",
            "weight": 1.0
           }
          },
          {
           "data": {
            "id": "fee59c2e-f41c-46f4-9831-70659c07f046",
            "source": "8",
            "target": "32",
            "weight": 1.0
           }
          },
          {
           "data": {
            "id": "0bd652c9-6cb8-46f4-8109-ce2c0bc32691",
            "source": "8",
            "target": "33",
            "weight": 1.0
           }
          },
          {
           "data": {
            "id": "96445dfe-f053-44ab-85c7-ecfb43069157",
            "source": "9",
            "target": "33",
            "weight": 1.0
           }
          },
          {
           "data": {
            "id": "5c505b16-e0c3-4f2d-bb94-7c656927dbed",
            "source": "13",
            "target": "33",
            "weight": 1.0
           }
          },
          {
           "data": {
            "id": "2fd56502-e084-4f98-aabb-6bd5467607b2",
            "source": "14",
            "target": "32",
            "weight": 1.0
           }
          },
          {
           "data": {
            "id": "11afc4cb-ecf8-4705-8fc7-73a4fd32f118",
            "source": "14",
            "target": "33",
            "weight": 1.0
           }
          },
          {
           "data": {
            "id": "67d68151-1f57-4fcf-a424-73b49bab2739",
            "source": "15",
            "target": "32",
            "weight": 1.0
           }
          },
          {
           "data": {
            "id": "fcb1cc2f-c9f4-4050-8697-6542474eefa8",
            "source": "15",
            "target": "33",
            "weight": 1.0
           }
          },
          {
           "data": {
            "id": "6949a0e6-674c-4e7a-a5bb-802b480b6428",
            "source": "18",
            "target": "32",
            "weight": 1.0
           }
          },
          {
           "data": {
            "id": "5a8da6e0-7682-4aa9-a2b5-facb5460b1e5",
            "source": "18",
            "target": "33",
            "weight": 1.0
           }
          },
          {
           "data": {
            "id": "7107f8fe-8240-44fb-a10e-d43cd8ee6d72",
            "source": "19",
            "target": "33",
            "weight": 1.0
           }
          },
          {
           "data": {
            "id": "07ec3c9e-d23d-4547-87dd-b969ed2db746",
            "source": "20",
            "target": "32",
            "weight": 1.0
           }
          },
          {
           "data": {
            "id": "63ebd213-5e8f-4106-8799-fee48af0a409",
            "source": "20",
            "target": "33",
            "weight": 1.0
           }
          },
          {
           "data": {
            "id": "b9d5fb21-79ad-480d-a735-98170275f89c",
            "source": "22",
            "target": "32",
            "weight": 1.0
           }
          },
          {
           "data": {
            "id": "34bd52db-52c2-4a46-88fe-d10020f6980a",
            "source": "22",
            "target": "33",
            "weight": 1.0
           }
          },
          {
           "data": {
            "id": "cee6cd3a-8c22-4e79-a199-8666f3736de4",
            "source": "23",
            "target": "25",
            "weight": 1.0
           }
          },
          {
           "data": {
            "id": "6b49e9ca-4a16-46c7-a8c1-7fc70e34b5bf",
            "source": "23",
            "target": "27",
            "weight": 1.0
           }
          },
          {
           "data": {
            "id": "c211366b-7bf9-46c4-b78c-663aa7c29242",
            "source": "23",
            "target": "29",
            "weight": 1.0
           }
          },
          {
           "data": {
            "id": "64abdfa4-29eb-4c79-832c-13b7ae2cadbf",
            "source": "23",
            "target": "32",
            "weight": 1.0
           }
          },
          {
           "data": {
            "id": "0b005c48-e639-427f-9c98-c0e3aa1915a6",
            "source": "23",
            "target": "33",
            "weight": 1.0
           }
          },
          {
           "data": {
            "id": "ee77dedd-280b-4f82-808b-93d01da14317",
            "source": "24",
            "target": "25",
            "weight": 1.0
           }
          },
          {
           "data": {
            "id": "2ce0e7d3-ee26-48a3-a00f-614dd59fefbe",
            "source": "24",
            "target": "27",
            "weight": 1.0
           }
          },
          {
           "data": {
            "id": "3c7aafdf-e04e-4afd-a637-8d1c618913f4",
            "source": "24",
            "target": "31",
            "weight": 1.0
           }
          },
          {
           "data": {
            "id": "7869ddc3-8ebb-40be-b026-c1f637e8f0ce",
            "source": "25",
            "target": "31",
            "weight": 1.0
           }
          },
          {
           "data": {
            "id": "2e045a4f-e737-453a-8282-9f76f4dd4913",
            "source": "26",
            "target": "29",
            "weight": 1.0
           }
          },
          {
           "data": {
            "id": "eabd5845-3061-4c13-9e7b-72425ca29e08",
            "source": "26",
            "target": "33",
            "weight": 1.0
           }
          },
          {
           "data": {
            "id": "108877ef-9ee6-4c19-b90a-abe57bfa72f0",
            "source": "27",
            "target": "33",
            "weight": 1.0
           }
          },
          {
           "data": {
            "id": "7f61ac42-3de2-4a11-9419-9ce9656fdd38",
            "source": "28",
            "target": "31",
            "weight": 1.0
           }
          },
          {
           "data": {
            "id": "d7b2cd53-7458-4173-9b3c-81d8f582c046",
            "source": "28",
            "target": "33",
            "weight": 1.0
           }
          },
          {
           "data": {
            "id": "96c6a6d7-5171-4f67-ad77-f836649c4e67",
            "source": "29",
            "target": "32",
            "weight": 1.0
           }
          },
          {
           "data": {
            "id": "ad775633-de73-4c8d-90f5-17f296f5cfad",
            "source": "29",
            "target": "33",
            "weight": 1.0
           }
          },
          {
           "data": {
            "id": "0390aa4d-76b8-4e84-8bcd-0396ed622630",
            "source": "30",
            "target": "32",
            "weight": 1.0
           }
          },
          {
           "data": {
            "id": "e34228ad-65e3-4b3b-88c6-256eb709fd5f",
            "source": "30",
            "target": "33",
            "weight": 1.0
           }
          },
          {
           "data": {
            "id": "dc075716-e405-45ed-a66f-f20927ddbda7",
            "source": "31",
            "target": "32",
            "weight": 1.0
           }
          },
          {
           "data": {
            "id": "ea4ef7ce-61e9-43e4-b426-4c7ab05c2835",
            "source": "31",
            "target": "33",
            "weight": 1.0
           }
          },
          {
           "data": {
            "id": "f224455f-e2f4-4066-aeba-b964e831a2da",
            "source": "32",
            "target": "33",
            "weight": 1.0
           }
          }
         ],
         "nodes": [
          {
           "data": {
            "id": "0",
            "name": "0",
            "value": 0.0
           }
          },
          {
           "data": {
            "id": "1",
            "name": "1",
            "value": 1.0
           }
          },
          {
           "data": {
            "id": "2",
            "name": "2",
            "value": 2.0
           }
          },
          {
           "data": {
            "id": "3",
            "name": "3",
            "value": 3.0
           }
          },
          {
           "data": {
            "id": "4",
            "name": "4",
            "value": 4.0
           }
          },
          {
           "data": {
            "id": "5",
            "name": "5",
            "value": 5.0
           }
          },
          {
           "data": {
            "id": "6",
            "name": "6",
            "value": 6.0
           }
          },
          {
           "data": {
            "id": "7",
            "name": "7",
            "value": 7.0
           }
          },
          {
           "data": {
            "id": "8",
            "name": "8",
            "value": 8.0
           }
          },
          {
           "data": {
            "id": "9",
            "name": "9",
            "value": 9.0
           }
          },
          {
           "data": {
            "id": "10",
            "name": "10",
            "value": 10.0
           }
          },
          {
           "data": {
            "id": "11",
            "name": "11",
            "value": 11.0
           }
          },
          {
           "data": {
            "id": "12",
            "name": "12",
            "value": 12.0
           }
          },
          {
           "data": {
            "id": "13",
            "name": "13",
            "value": 13.0
           }
          },
          {
           "data": {
            "id": "14",
            "name": "14",
            "value": 14.0
           }
          },
          {
           "data": {
            "id": "15",
            "name": "15",
            "value": 15.0
           }
          },
          {
           "data": {
            "id": "16",
            "name": "16",
            "value": 16.0
           }
          },
          {
           "data": {
            "id": "17",
            "name": "17",
            "value": 17.0
           }
          },
          {
           "data": {
            "id": "18",
            "name": "18",
            "value": 18.0
           }
          },
          {
           "data": {
            "id": "19",
            "name": "19",
            "value": 19.0
           }
          },
          {
           "data": {
            "id": "20",
            "name": "20",
            "value": 20.0
           }
          },
          {
           "data": {
            "id": "21",
            "name": "21",
            "value": 21.0
           }
          },
          {
           "data": {
            "id": "22",
            "name": "22",
            "value": 22.0
           }
          },
          {
           "data": {
            "id": "23",
            "name": "23",
            "value": 23.0
           }
          },
          {
           "data": {
            "id": "24",
            "name": "24",
            "value": 24.0
           }
          },
          {
           "data": {
            "id": "25",
            "name": "25",
            "value": 25.0
           }
          },
          {
           "data": {
            "id": "26",
            "name": "26",
            "value": 26.0
           }
          },
          {
           "data": {
            "id": "27",
            "name": "27",
            "value": 27.0
           }
          },
          {
           "data": {
            "id": "28",
            "name": "28",
            "value": 28.0
           }
          },
          {
           "data": {
            "id": "29",
            "name": "29",
            "value": 29.0
           }
          },
          {
           "data": {
            "id": "30",
            "name": "30",
            "value": 30.0
           }
          },
          {
           "data": {
            "id": "31",
            "name": "31",
            "value": 31.0
           }
          },
          {
           "data": {
            "id": "32",
            "name": "32",
            "value": 32.0
           }
          },
          {
           "data": {
            "id": "33",
            "name": "33",
            "value": 33.0
           }
          }
         ]
        }
       },
       "format": "cyjs",
       "layout": "IPY_MODEL_43d52ad101dc4a50a64b000e2dfcd630",
       "layout_name": "",
       "visual_style": null
      }
     },
     "e4943a9b41434a8d90e4b6de8c5dae00": {
      "model_module": "@jupyter-widgets/base",
      "model_module_version": "1.1.0",
      "model_name": "LayoutModel",
      "state": {}
     },
     "f8204cd1c2304f2ba9f1171c380efd8e": {
      "model_module": "@jupyter-widgets/base",
      "model_module_version": "1.1.0",
      "model_name": "LayoutModel",
      "state": {}
     }
    },
    "version_major": 2.0,
    "version_minor": 0.0
   }
  }
 },
 "nbformat": 4,
 "nbformat_minor": 2
}

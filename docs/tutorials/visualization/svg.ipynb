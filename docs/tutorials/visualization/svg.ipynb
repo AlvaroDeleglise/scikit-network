{
 "cells": [
  {
   "cell_type": "markdown",
   "metadata": {},
   "source": [
    "# SVG"
   ]
  },
  {
   "cell_type": "markdown",
   "metadata": {},
   "source": [
    "Visualization of graphs as SVG images."
   ]
  },
  {
   "cell_type": "code",
   "execution_count": 1,
   "metadata": {
    "scrolled": true,
    "pycharm": {
     "is_executing": false
    }
   },
   "outputs": [],
   "source": [
    "from IPython.display import SVG"
   ]
  },
  {
   "cell_type": "code",
   "execution_count": 2,
   "metadata": {
    "pycharm": {
     "is_executing": false
    }
   },
   "outputs": [],
   "source": [
    "import numpy as np"
   ]
  },
  {
   "cell_type": "code",
   "execution_count": 3,
   "metadata": {
    "pycharm": {
     "is_executing": false
    }
   },
   "outputs": [],
   "source": [
    "from sknetwork.data import karate_club, painters, movie_actor\n",
    "from sknetwork.visualization import svg_graph, svg_digraph, svg_bigraph"
   ]
  },
  {
   "cell_type": "markdown",
   "metadata": {},
   "source": [
    "## Undirected graphs"
   ]
  },
  {
   "cell_type": "code",
   "execution_count": 4,
   "metadata": {
    "pycharm": {
     "is_executing": false
    }
   },
   "outputs": [],
   "source": [
    "graph = karate_club(metadata=True)\n",
    "adjacency = graph.adjacency\n",
    "position = graph.position\n",
    "labels = graph.labels"
   ]
  },
  {
   "cell_type": "code",
   "execution_count": 5,
   "metadata": {
    "pycharm": {
     "is_executing": false
    }
   },
   "outputs": [],
   "source": [
    "image = svg_graph(adjacency, position, labels=labels)"
   ]
  },
  {
   "cell_type": "code",
   "execution_count": 6,
   "metadata": {
    "pycharm": {
     "is_executing": false
    }
   },
   "outputs": [
    {
     "data": {
      "text/plain": "<IPython.core.display.SVG object>",
      "image/svg+xml": "<svg width=\"440\" height=\"340\"><path stroke-width=\"1\" stroke=\"black\" d=\"M 264.44444444444446 200.35714285714286 353.3333333333333 168.21428571428572\"/><path stroke-width=\"1\" stroke=\"black\" d=\"M 264.44444444444446 200.35714285714286 251.11111111111114 143.21428571428572\"/><path stroke-width=\"1\" stroke=\"black\" d=\"M 264.44444444444446 200.35714285714286 304.44444444444446 191.42857142857142\"/><path stroke-width=\"1\" stroke=\"black\" d=\"M 264.44444444444446 200.35714285714286 255.55555555555557 255.71428571428572\"/><path stroke-width=\"1\" stroke=\"black\" d=\"M 264.44444444444446 200.35714285714286 211.1111111111111 275.3571428571429\"/><path stroke-width=\"1\" stroke=\"black\" d=\"M 264.44444444444446 200.35714285714286 264.44444444444446 277.1428571428571\"/><path stroke-width=\"1\" stroke=\"black\" d=\"M 264.44444444444446 200.35714285714286 340.0 186.07142857142858\"/><path stroke-width=\"1\" stroke=\"black\" d=\"M 264.44444444444446 200.35714285714286 282.22222222222223 125.35714285714286\"/><path stroke-width=\"1\" stroke=\"black\" d=\"M 264.44444444444446 200.35714285714286 188.88888888888889 252.1428571428571\"/><path stroke-width=\"1\" stroke=\"black\" d=\"M 264.44444444444446 200.35714285714286 122.22222222222221 212.85714285714283\"/><path stroke-width=\"1\" stroke=\"black\" d=\"M 264.44444444444446 200.35714285714286 335.55555555555554 236.07142857142853\"/><path stroke-width=\"1\" stroke=\"black\" d=\"M 264.44444444444446 200.35714285714286 282.22222222222223 153.92857142857142\"/><path stroke-width=\"1\" stroke=\"black\" d=\"M 264.44444444444446 200.35714285714286 388.8888888888889 216.42857142857142\"/><path stroke-width=\"1\" stroke=\"black\" d=\"M 264.44444444444446 200.35714285714286 331.1111111111111 143.21428571428572\"/><path stroke-width=\"1\" stroke=\"black\" d=\"M 264.44444444444446 200.35714285714286 420.0 202.14285714285714\"/><path stroke-width=\"1\" stroke=\"black\" d=\"M 264.44444444444446 200.35714285714286 153.33333333333334 125.35714285714286\"/><path stroke-width=\"1\" stroke=\"black\" d=\"M 353.3333333333333 168.21428571428572 264.44444444444446 200.35714285714286\"/><path stroke-width=\"1\" stroke=\"black\" d=\"M 353.3333333333333 168.21428571428572 251.11111111111114 143.21428571428572\"/><path stroke-width=\"1\" stroke=\"black\" d=\"M 353.3333333333333 168.21428571428572 304.44444444444446 191.42857142857142\"/><path stroke-width=\"1\" stroke=\"black\" d=\"M 353.3333333333333 168.21428571428572 340.0 186.07142857142858\"/><path stroke-width=\"1\" stroke=\"black\" d=\"M 353.3333333333333 168.21428571428572 282.22222222222223 153.92857142857142\"/><path stroke-width=\"1\" stroke=\"black\" d=\"M 353.3333333333333 168.21428571428572 388.8888888888889 216.42857142857142\"/><path stroke-width=\"1\" stroke=\"black\" d=\"M 353.3333333333333 168.21428571428572 331.1111111111111 143.21428571428572\"/><path stroke-width=\"1\" stroke=\"black\" d=\"M 353.3333333333333 168.21428571428572 420.0 202.14285714285714\"/><path stroke-width=\"1\" stroke=\"black\" d=\"M 353.3333333333333 168.21428571428572 344.44444444444446 107.5\"/><path stroke-width=\"1\" stroke=\"black\" d=\"M 251.11111111111114 143.21428571428572 264.44444444444446 200.35714285714286\"/><path stroke-width=\"1\" stroke=\"black\" d=\"M 251.11111111111114 143.21428571428572 353.3333333333333 168.21428571428572\"/><path stroke-width=\"1\" stroke=\"black\" d=\"M 251.11111111111114 143.21428571428572 304.44444444444446 191.42857142857142\"/><path stroke-width=\"1\" stroke=\"black\" d=\"M 251.11111111111114 143.21428571428572 340.0 186.07142857142858\"/><path stroke-width=\"1\" stroke=\"black\" d=\"M 251.11111111111114 143.21428571428572 282.22222222222223 125.35714285714286\"/><path stroke-width=\"1\" stroke=\"black\" d=\"M 251.11111111111114 143.21428571428572 197.7777777777778 100.35714285714286\"/><path stroke-width=\"1\" stroke=\"black\" d=\"M 251.11111111111114 143.21428571428572 282.22222222222223 153.92857142857142\"/><path stroke-width=\"1\" stroke=\"black\" d=\"M 251.11111111111114 143.21428571428572 122.22222222222221 103.92857142857143\"/><path stroke-width=\"1\" stroke=\"black\" d=\"M 251.11111111111114 143.21428571428572 197.7777777777778 120.0\"/><path stroke-width=\"1\" stroke=\"black\" d=\"M 251.11111111111114 143.21428571428572 260.0 73.57142857142857\"/><path stroke-width=\"1\" stroke=\"black\" d=\"M 304.44444444444446 191.42857142857142 264.44444444444446 200.35714285714286\"/><path stroke-width=\"1\" stroke=\"black\" d=\"M 304.44444444444446 191.42857142857142 353.3333333333333 168.21428571428572\"/><path stroke-width=\"1\" stroke=\"black\" d=\"M 304.44444444444446 191.42857142857142 251.11111111111114 143.21428571428572\"/><path stroke-width=\"1\" stroke=\"black\" d=\"M 304.44444444444446 191.42857142857142 340.0 186.07142857142858\"/><path stroke-width=\"1\" stroke=\"black\" d=\"M 304.44444444444446 191.42857142857142 335.55555555555554 236.07142857142853\"/><path stroke-width=\"1\" stroke=\"black\" d=\"M 304.44444444444446 191.42857142857142 282.22222222222223 153.92857142857142\"/><path stroke-width=\"1\" stroke=\"black\" d=\"M 255.55555555555557 255.71428571428572 264.44444444444446 200.35714285714286\"/><path stroke-width=\"1\" stroke=\"black\" d=\"M 255.55555555555557 255.71428571428572 264.44444444444446 277.1428571428571\"/><path stroke-width=\"1\" stroke=\"black\" d=\"M 255.55555555555557 255.71428571428572 188.88888888888889 252.1428571428571\"/><path stroke-width=\"1\" stroke=\"black\" d=\"M 211.1111111111111 275.3571428571429 264.44444444444446 200.35714285714286\"/><path stroke-width=\"1\" stroke=\"black\" d=\"M 211.1111111111111 275.3571428571429 264.44444444444446 277.1428571428571\"/><path stroke-width=\"1\" stroke=\"black\" d=\"M 211.1111111111111 275.3571428571429 188.88888888888889 252.1428571428571\"/><path stroke-width=\"1\" stroke=\"black\" d=\"M 211.1111111111111 275.3571428571429 220.0 320.0\"/><path stroke-width=\"1\" stroke=\"black\" d=\"M 264.44444444444446 277.1428571428571 264.44444444444446 200.35714285714286\"/><path stroke-width=\"1\" stroke=\"black\" d=\"M 264.44444444444446 277.1428571428571 255.55555555555557 255.71428571428572\"/><path stroke-width=\"1\" stroke=\"black\" d=\"M 264.44444444444446 277.1428571428571 211.1111111111111 275.3571428571429\"/><path stroke-width=\"1\" stroke=\"black\" d=\"M 264.44444444444446 277.1428571428571 220.0 320.0\"/><path stroke-width=\"1\" stroke=\"black\" d=\"M 340.0 186.07142857142858 264.44444444444446 200.35714285714286\"/><path stroke-width=\"1\" stroke=\"black\" d=\"M 340.0 186.07142857142858 353.3333333333333 168.21428571428572\"/><path stroke-width=\"1\" stroke=\"black\" d=\"M 340.0 186.07142857142858 251.11111111111114 143.21428571428572\"/><path stroke-width=\"1\" stroke=\"black\" d=\"M 340.0 186.07142857142858 304.44444444444446 191.42857142857142\"/><path stroke-width=\"1\" stroke=\"black\" d=\"M 282.22222222222223 125.35714285714286 264.44444444444446 200.35714285714286\"/><path stroke-width=\"1\" stroke=\"black\" d=\"M 282.22222222222223 125.35714285714286 251.11111111111114 143.21428571428572\"/><path stroke-width=\"1\" stroke=\"black\" d=\"M 282.22222222222223 125.35714285714286 344.44444444444446 107.5\"/><path stroke-width=\"1\" stroke=\"black\" d=\"M 282.22222222222223 125.35714285714286 260.0 73.57142857142857\"/><path stroke-width=\"1\" stroke=\"black\" d=\"M 282.22222222222223 125.35714285714286 246.66666666666666 82.5\"/><path stroke-width=\"1\" stroke=\"black\" d=\"M 197.7777777777778 100.35714285714286 251.11111111111114 143.21428571428572\"/><path stroke-width=\"1\" stroke=\"black\" d=\"M 197.7777777777778 100.35714285714286 246.66666666666666 82.5\"/><path stroke-width=\"1\" stroke=\"black\" d=\"M 188.88888888888889 252.1428571428571 264.44444444444446 200.35714285714286\"/><path stroke-width=\"1\" stroke=\"black\" d=\"M 188.88888888888889 252.1428571428571 255.55555555555557 255.71428571428572\"/><path stroke-width=\"1\" stroke=\"black\" d=\"M 188.88888888888889 252.1428571428571 211.1111111111111 275.3571428571429\"/><path stroke-width=\"1\" stroke=\"black\" d=\"M 122.22222222222221 212.85714285714283 264.44444444444446 200.35714285714286\"/><path stroke-width=\"1\" stroke=\"black\" d=\"M 335.55555555555554 236.07142857142853 264.44444444444446 200.35714285714286\"/><path stroke-width=\"1\" stroke=\"black\" d=\"M 335.55555555555554 236.07142857142853 304.44444444444446 191.42857142857142\"/><path stroke-width=\"1\" stroke=\"black\" d=\"M 282.22222222222223 153.92857142857142 264.44444444444446 200.35714285714286\"/><path stroke-width=\"1\" stroke=\"black\" d=\"M 282.22222222222223 153.92857142857142 353.3333333333333 168.21428571428572\"/><path stroke-width=\"1\" stroke=\"black\" d=\"M 282.22222222222223 153.92857142857142 251.11111111111114 143.21428571428572\"/><path stroke-width=\"1\" stroke=\"black\" d=\"M 282.22222222222223 153.92857142857142 304.44444444444446 191.42857142857142\"/><path stroke-width=\"1\" stroke=\"black\" d=\"M 282.22222222222223 153.92857142857142 246.66666666666666 82.5\"/><path stroke-width=\"1\" stroke=\"black\" d=\"M 348.88888888888886 43.21428571428571 260.0 73.57142857142857\"/><path stroke-width=\"1\" stroke=\"black\" d=\"M 348.88888888888886 43.21428571428571 246.66666666666666 82.5\"/><path stroke-width=\"1\" stroke=\"black\" d=\"M 273.33333333333337 27.14285714285715 260.0 73.57142857142857\"/><path stroke-width=\"1\" stroke=\"black\" d=\"M 273.33333333333337 27.14285714285715 246.66666666666666 82.5\"/><path stroke-width=\"1\" stroke=\"black\" d=\"M 220.0 320.0 211.1111111111111 275.3571428571429\"/><path stroke-width=\"1\" stroke=\"black\" d=\"M 220.0 320.0 264.44444444444446 277.1428571428571\"/><path stroke-width=\"1\" stroke=\"black\" d=\"M 388.8888888888889 216.42857142857142 264.44444444444446 200.35714285714286\"/><path stroke-width=\"1\" stroke=\"black\" d=\"M 388.8888888888889 216.42857142857142 353.3333333333333 168.21428571428572\"/><path stroke-width=\"1\" stroke=\"black\" d=\"M 313.33333333333337 34.2857142857143 260.0 73.57142857142857\"/><path stroke-width=\"1\" stroke=\"black\" d=\"M 313.33333333333337 34.2857142857143 246.66666666666666 82.5\"/><path stroke-width=\"1\" stroke=\"black\" d=\"M 331.1111111111111 143.21428571428572 264.44444444444446 200.35714285714286\"/><path stroke-width=\"1\" stroke=\"black\" d=\"M 331.1111111111111 143.21428571428572 353.3333333333333 168.21428571428572\"/><path stroke-width=\"1\" stroke=\"black\" d=\"M 331.1111111111111 143.21428571428572 246.66666666666666 82.5\"/><path stroke-width=\"1\" stroke=\"black\" d=\"M 366.6666666666667 61.07142857142858 260.0 73.57142857142857\"/><path stroke-width=\"1\" stroke=\"black\" d=\"M 366.6666666666667 61.07142857142858 246.66666666666666 82.5\"/><path stroke-width=\"1\" stroke=\"black\" d=\"M 420.0 202.14285714285714 264.44444444444446 200.35714285714286\"/><path stroke-width=\"1\" stroke=\"black\" d=\"M 420.0 202.14285714285714 353.3333333333333 168.21428571428572\"/><path stroke-width=\"1\" stroke=\"black\" d=\"M 228.8888888888889 32.50000000000001 260.0 73.57142857142857\"/><path stroke-width=\"1\" stroke=\"black\" d=\"M 228.8888888888889 32.50000000000001 246.66666666666666 82.5\"/><path stroke-width=\"1\" stroke=\"black\" d=\"M 131.11111111111111 68.21428571428572 28.888888888888896 91.42857142857143\"/><path stroke-width=\"1\" stroke=\"black\" d=\"M 131.11111111111111 68.21428571428572 122.22222222222221 103.92857142857143\"/><path stroke-width=\"1\" stroke=\"black\" d=\"M 131.11111111111111 68.21428571428572 171.1111111111111 45.0\"/><path stroke-width=\"1\" stroke=\"black\" d=\"M 131.11111111111111 68.21428571428572 260.0 73.57142857142857\"/><path stroke-width=\"1\" stroke=\"black\" d=\"M 131.11111111111111 68.21428571428572 246.66666666666666 82.5\"/><path stroke-width=\"1\" stroke=\"black\" d=\"M 20.0 116.42857142857142 28.888888888888896 91.42857142857143\"/><path stroke-width=\"1\" stroke=\"black\" d=\"M 20.0 116.42857142857142 122.22222222222221 103.92857142857143\"/><path stroke-width=\"1\" stroke=\"black\" d=\"M 20.0 116.42857142857142 153.33333333333334 125.35714285714286\"/><path stroke-width=\"1\" stroke=\"black\" d=\"M 28.888888888888896 91.42857142857143 131.11111111111111 68.21428571428572\"/><path stroke-width=\"1\" stroke=\"black\" d=\"M 28.888888888888896 91.42857142857143 20.0 116.42857142857142\"/><path stroke-width=\"1\" stroke=\"black\" d=\"M 28.888888888888896 91.42857142857143 153.33333333333334 125.35714285714286\"/><path stroke-width=\"1\" stroke=\"black\" d=\"M 162.22222222222223 20.0 171.1111111111111 45.0\"/><path stroke-width=\"1\" stroke=\"black\" d=\"M 162.22222222222223 20.0 246.66666666666666 82.5\"/><path stroke-width=\"1\" stroke=\"black\" d=\"M 122.22222222222221 103.92857142857143 251.11111111111114 143.21428571428572\"/><path stroke-width=\"1\" stroke=\"black\" d=\"M 122.22222222222221 103.92857142857143 131.11111111111111 68.21428571428572\"/><path stroke-width=\"1\" stroke=\"black\" d=\"M 122.22222222222221 103.92857142857143 20.0 116.42857142857142\"/><path stroke-width=\"1\" stroke=\"black\" d=\"M 122.22222222222221 103.92857142857143 246.66666666666666 82.5\"/><path stroke-width=\"1\" stroke=\"black\" d=\"M 197.7777777777778 120.0 251.11111111111114 143.21428571428572\"/><path stroke-width=\"1\" stroke=\"black\" d=\"M 197.7777777777778 120.0 153.33333333333334 125.35714285714286\"/><path stroke-width=\"1\" stroke=\"black\" d=\"M 197.7777777777778 120.0 246.66666666666666 82.5\"/><path stroke-width=\"1\" stroke=\"black\" d=\"M 171.1111111111111 45.0 131.11111111111111 68.21428571428572\"/><path stroke-width=\"1\" stroke=\"black\" d=\"M 171.1111111111111 45.0 162.22222222222223 20.0\"/><path stroke-width=\"1\" stroke=\"black\" d=\"M 171.1111111111111 45.0 260.0 73.57142857142857\"/><path stroke-width=\"1\" stroke=\"black\" d=\"M 171.1111111111111 45.0 246.66666666666666 82.5\"/><path stroke-width=\"1\" stroke=\"black\" d=\"M 344.44444444444446 107.5 353.3333333333333 168.21428571428572\"/><path stroke-width=\"1\" stroke=\"black\" d=\"M 344.44444444444446 107.5 282.22222222222223 125.35714285714286\"/><path stroke-width=\"1\" stroke=\"black\" d=\"M 344.44444444444446 107.5 260.0 73.57142857142857\"/><path stroke-width=\"1\" stroke=\"black\" d=\"M 344.44444444444446 107.5 246.66666666666666 82.5\"/><path stroke-width=\"1\" stroke=\"black\" d=\"M 153.33333333333334 125.35714285714286 264.44444444444446 200.35714285714286\"/><path stroke-width=\"1\" stroke=\"black\" d=\"M 153.33333333333334 125.35714285714286 20.0 116.42857142857142\"/><path stroke-width=\"1\" stroke=\"black\" d=\"M 153.33333333333334 125.35714285714286 28.888888888888896 91.42857142857143\"/><path stroke-width=\"1\" stroke=\"black\" d=\"M 153.33333333333334 125.35714285714286 197.7777777777778 120.0\"/><path stroke-width=\"1\" stroke=\"black\" d=\"M 153.33333333333334 125.35714285714286 260.0 73.57142857142857\"/><path stroke-width=\"1\" stroke=\"black\" d=\"M 153.33333333333334 125.35714285714286 246.66666666666666 82.5\"/><path stroke-width=\"1\" stroke=\"black\" d=\"M 260.0 73.57142857142857 251.11111111111114 143.21428571428572\"/><path stroke-width=\"1\" stroke=\"black\" d=\"M 260.0 73.57142857142857 282.22222222222223 125.35714285714286\"/><path stroke-width=\"1\" stroke=\"black\" d=\"M 260.0 73.57142857142857 348.88888888888886 43.21428571428571\"/><path stroke-width=\"1\" stroke=\"black\" d=\"M 260.0 73.57142857142857 273.33333333333337 27.14285714285715\"/><path stroke-width=\"1\" stroke=\"black\" d=\"M 260.0 73.57142857142857 313.33333333333337 34.2857142857143\"/><path stroke-width=\"1\" stroke=\"black\" d=\"M 260.0 73.57142857142857 366.6666666666667 61.07142857142858\"/><path stroke-width=\"1\" stroke=\"black\" d=\"M 260.0 73.57142857142857 228.8888888888889 32.50000000000001\"/><path stroke-width=\"1\" stroke=\"black\" d=\"M 260.0 73.57142857142857 131.11111111111111 68.21428571428572\"/><path stroke-width=\"1\" stroke=\"black\" d=\"M 260.0 73.57142857142857 171.1111111111111 45.0\"/><path stroke-width=\"1\" stroke=\"black\" d=\"M 260.0 73.57142857142857 344.44444444444446 107.5\"/><path stroke-width=\"1\" stroke=\"black\" d=\"M 260.0 73.57142857142857 153.33333333333334 125.35714285714286\"/><path stroke-width=\"1\" stroke=\"black\" d=\"M 260.0 73.57142857142857 246.66666666666666 82.5\"/><path stroke-width=\"1\" stroke=\"black\" d=\"M 246.66666666666666 82.5 282.22222222222223 125.35714285714286\"/><path stroke-width=\"1\" stroke=\"black\" d=\"M 246.66666666666666 82.5 197.7777777777778 100.35714285714286\"/><path stroke-width=\"1\" stroke=\"black\" d=\"M 246.66666666666666 82.5 282.22222222222223 153.92857142857142\"/><path stroke-width=\"1\" stroke=\"black\" d=\"M 246.66666666666666 82.5 348.88888888888886 43.21428571428571\"/><path stroke-width=\"1\" stroke=\"black\" d=\"M 246.66666666666666 82.5 273.33333333333337 27.14285714285715\"/><path stroke-width=\"1\" stroke=\"black\" d=\"M 246.66666666666666 82.5 313.33333333333337 34.2857142857143\"/><path stroke-width=\"1\" stroke=\"black\" d=\"M 246.66666666666666 82.5 331.1111111111111 143.21428571428572\"/><path stroke-width=\"1\" stroke=\"black\" d=\"M 246.66666666666666 82.5 366.6666666666667 61.07142857142858\"/><path stroke-width=\"1\" stroke=\"black\" d=\"M 246.66666666666666 82.5 228.8888888888889 32.50000000000001\"/><path stroke-width=\"1\" stroke=\"black\" d=\"M 246.66666666666666 82.5 131.11111111111111 68.21428571428572\"/><path stroke-width=\"1\" stroke=\"black\" d=\"M 246.66666666666666 82.5 162.22222222222223 20.0\"/><path stroke-width=\"1\" stroke=\"black\" d=\"M 246.66666666666666 82.5 122.22222222222221 103.92857142857143\"/><path stroke-width=\"1\" stroke=\"black\" d=\"M 246.66666666666666 82.5 197.7777777777778 120.0\"/><path stroke-width=\"1\" stroke=\"black\" d=\"M 246.66666666666666 82.5 171.1111111111111 45.0\"/><path stroke-width=\"1\" stroke=\"black\" d=\"M 246.66666666666666 82.5 344.44444444444446 107.5\"/><path stroke-width=\"1\" stroke=\"black\" d=\"M 246.66666666666666 82.5 153.33333333333334 125.35714285714286\"/><path stroke-width=\"1\" stroke=\"black\" d=\"M 246.66666666666666 82.5 260.0 73.57142857142857\"/><circle cx=\"264.44444444444446\" cy=\"200.35714285714286\" r=\"7\" style=\"fill:red;stroke:black;stroke-width:1\"/><circle cx=\"353.3333333333333\" cy=\"168.21428571428572\" r=\"7\" style=\"fill:red;stroke:black;stroke-width:1\"/><circle cx=\"251.11111111111114\" cy=\"143.21428571428572\" r=\"7\" style=\"fill:red;stroke:black;stroke-width:1\"/><circle cx=\"304.44444444444446\" cy=\"191.42857142857142\" r=\"7\" style=\"fill:red;stroke:black;stroke-width:1\"/><circle cx=\"255.55555555555557\" cy=\"255.71428571428572\" r=\"7\" style=\"fill:red;stroke:black;stroke-width:1\"/><circle cx=\"211.1111111111111\" cy=\"275.3571428571429\" r=\"7\" style=\"fill:red;stroke:black;stroke-width:1\"/><circle cx=\"264.44444444444446\" cy=\"277.1428571428571\" r=\"7\" style=\"fill:red;stroke:black;stroke-width:1\"/><circle cx=\"340.0\" cy=\"186.07142857142858\" r=\"7\" style=\"fill:red;stroke:black;stroke-width:1\"/><circle cx=\"282.22222222222223\" cy=\"125.35714285714286\" r=\"7\" style=\"fill:red;stroke:black;stroke-width:1\"/><circle cx=\"197.7777777777778\" cy=\"100.35714285714286\" r=\"7\" style=\"fill:blue;stroke:black;stroke-width:1\"/><circle cx=\"188.88888888888889\" cy=\"252.1428571428571\" r=\"7\" style=\"fill:red;stroke:black;stroke-width:1\"/><circle cx=\"122.22222222222221\" cy=\"212.85714285714283\" r=\"7\" style=\"fill:red;stroke:black;stroke-width:1\"/><circle cx=\"335.55555555555554\" cy=\"236.07142857142853\" r=\"7\" style=\"fill:red;stroke:black;stroke-width:1\"/><circle cx=\"282.22222222222223\" cy=\"153.92857142857142\" r=\"7\" style=\"fill:red;stroke:black;stroke-width:1\"/><circle cx=\"348.88888888888886\" cy=\"43.21428571428571\" r=\"7\" style=\"fill:blue;stroke:black;stroke-width:1\"/><circle cx=\"273.33333333333337\" cy=\"27.14285714285715\" r=\"7\" style=\"fill:blue;stroke:black;stroke-width:1\"/><circle cx=\"220.0\" cy=\"320.0\" r=\"7\" style=\"fill:red;stroke:black;stroke-width:1\"/><circle cx=\"388.8888888888889\" cy=\"216.42857142857142\" r=\"7\" style=\"fill:red;stroke:black;stroke-width:1\"/><circle cx=\"313.33333333333337\" cy=\"34.2857142857143\" r=\"7\" style=\"fill:blue;stroke:black;stroke-width:1\"/><circle cx=\"331.1111111111111\" cy=\"143.21428571428572\" r=\"7\" style=\"fill:red;stroke:black;stroke-width:1\"/><circle cx=\"366.6666666666667\" cy=\"61.07142857142858\" r=\"7\" style=\"fill:blue;stroke:black;stroke-width:1\"/><circle cx=\"420.0\" cy=\"202.14285714285714\" r=\"7\" style=\"fill:red;stroke:black;stroke-width:1\"/><circle cx=\"228.8888888888889\" cy=\"32.50000000000001\" r=\"7\" style=\"fill:blue;stroke:black;stroke-width:1\"/><circle cx=\"131.11111111111111\" cy=\"68.21428571428572\" r=\"7\" style=\"fill:blue;stroke:black;stroke-width:1\"/><circle cx=\"20.0\" cy=\"116.42857142857142\" r=\"7\" style=\"fill:blue;stroke:black;stroke-width:1\"/><circle cx=\"28.888888888888896\" cy=\"91.42857142857143\" r=\"7\" style=\"fill:blue;stroke:black;stroke-width:1\"/><circle cx=\"162.22222222222223\" cy=\"20.0\" r=\"7\" style=\"fill:blue;stroke:black;stroke-width:1\"/><circle cx=\"122.22222222222221\" cy=\"103.92857142857143\" r=\"7\" style=\"fill:blue;stroke:black;stroke-width:1\"/><circle cx=\"197.7777777777778\" cy=\"120.0\" r=\"7\" style=\"fill:blue;stroke:black;stroke-width:1\"/><circle cx=\"171.1111111111111\" cy=\"45.0\" r=\"7\" style=\"fill:blue;stroke:black;stroke-width:1\"/><circle cx=\"344.44444444444446\" cy=\"107.5\" r=\"7\" style=\"fill:blue;stroke:black;stroke-width:1\"/><circle cx=\"153.33333333333334\" cy=\"125.35714285714286\" r=\"7\" style=\"fill:blue;stroke:black;stroke-width:1\"/><circle cx=\"260.0\" cy=\"73.57142857142857\" r=\"7\" style=\"fill:blue;stroke:black;stroke-width:1\"/><circle cx=\"246.66666666666666\" cy=\"82.5\" r=\"7\" style=\"fill:blue;stroke:black;stroke-width:1\"/></svg>"
     },
     "metadata": {},
     "output_type": "execute_result",
     "execution_count": 6
    }
   ],
   "source": [
    "SVG(image)"
   ]
  },
  {
   "cell_type": "code",
   "execution_count": null,
   "metadata": {},
   "outputs": [],
   "source": [
    "scores = adjacency.dot(np.ones(adjacency.shape[0]))"
   ]
  },
  {
   "cell_type": "code",
   "execution_count": null,
   "metadata": {},
   "outputs": [],
   "source": [
    "image = svg_graph(adjacency, position, scores=scores)"
   ]
  },
  {
   "cell_type": "markdown",
   "metadata": {},
   "source": [
    "## Directed graphs"
   ]
  },
  {
   "cell_type": "code",
   "execution_count": 7,
   "metadata": {
    "pycharm": {
     "is_executing": false
    }
   },
   "outputs": [],
   "source": [
    "graph = painters(metadata=True)\n",
    "adjacency = graph.adjacency\n",
    "names = graph.names\n",
    "position = graph.position"
   ]
  },
  {
   "cell_type": "code",
   "execution_count": 8,
   "metadata": {
    "pycharm": {
     "is_executing": false
    }
   },
   "outputs": [],
   "source": [
    "image = svg_digraph(adjacency, position, names)"
   ]
  },
  {
   "cell_type": "code",
   "execution_count": 9,
   "metadata": {
    "pycharm": {
     "is_executing": false
    }
   },
   "outputs": [
    {
     "data": {
      "text/plain": "<IPython.core.display.SVG object>",
      "image/svg+xml": "<svg width=\"566.0\" height=\"340\"><defs><marker id=\"arrow\" viewBox=\"0 0 10 10\" refX=\"5\" refY=\"5\" markerWidth=\"10\" markerHeight=\"10\" orient=\"auto-start-reverse\"><path d=\"M 0 0 L 10 5 L 0 10 z\"/></marker></defs><path stroke-width=\"1\" stroke=\"black\" d=\"M 247.2 48.402366863905314 85.14267382601204 63.1130574458636\" marker-end=\"url(#arrow)\"/><path stroke-width=\"1\" stroke=\"black\" d=\"M 247.2 48.402366863905314 177.9492920617193 54.31247507438672\" marker-end=\"url(#arrow)\"/><path stroke-width=\"1\" stroke=\"black\" d=\"M 20.0 108.75739644970413 60.62090148796449 73.548358778692\" marker-end=\"url(#arrow)\"/><path stroke-width=\"1\" stroke=\"black\" d=\"M 20.0 108.75739644970413 80.2412612773599 127.6457517833245\" marker-end=\"url(#arrow)\"/><path stroke-width=\"1\" stroke=\"black\" d=\"M 74.39999999999999 268.5207100591716 139.5708513284476 312.20494379911656\" marker-end=\"url(#arrow)\"/><path stroke-width=\"1\" stroke=\"black\" d=\"M 71.19999999999999 64.37869822485206 233.25732617398793 49.66800764289377\" marker-end=\"url(#arrow)\"/><path stroke-width=\"1\" stroke=\"black\" d=\"M 71.19999999999999 64.37869822485206 30.5790985120355 99.58773589586418\" marker-end=\"url(#arrow)\"/><path stroke-width=\"1\" stroke=\"black\" d=\"M 71.19999999999999 64.37869822485206 57.46410180962103 148.19612431259355\" marker-end=\"url(#arrow)\"/><path stroke-width=\"1\" stroke=\"black\" d=\"M 71.19999999999999 64.37869822485206 119.3157581453872 86.85569517847424\" marker-end=\"url(#arrow)\"/><path stroke-width=\"1\" stroke=\"black\" d=\"M 71.19999999999999 64.37869822485206 89.18791889659511 118.54772702377015\" marker-end=\"url(#arrow)\"/><path stroke-width=\"1\" stroke=\"black\" d=\"M 144.79999999999998 227.69230769230768 86.51070524029606 261.4971199100623\" marker-end=\"url(#arrow)\"/><path stroke-width=\"1\" stroke=\"black\" d=\"M 144.79999999999998 227.69230769230768 196.13710550719676 251.89896801837128\" marker-end=\"url(#arrow)\"/><path stroke-width=\"1\" stroke=\"black\" d=\"M 144.79999999999998 227.69230769230768 150.23165800671956 306.0335289430705\" marker-end=\"url(#arrow)\"/><path stroke-width=\"1\" stroke=\"black\" d=\"M 208.79999999999998 257.8698224852071 88.35624462825146 267.41471011504774\" marker-end=\"url(#arrow)\"/><path stroke-width=\"1\" stroke=\"black\" d=\"M 208.79999999999998 257.8698224852071 157.4628944928032 233.66316215914352\" marker-end=\"url(#arrow)\"/><path stroke-width=\"1\" stroke=\"black\" d=\"M 208.79999999999998 257.8698224852071 205.98224128759958 154.70484004155247\" marker-end=\"url(#arrow)\"/><path stroke-width=\"1\" stroke=\"black\" d=\"M 208.79999999999998 257.8698224852071 160.71812148815317 309.7332885821819\" marker-end=\"url(#arrow)\"/><path stroke-width=\"1\" stroke=\"black\" d=\"M 420.0 20.0 261.014635285304 46.131716751264946\" marker-end=\"url(#arrow)\"/><path stroke-width=\"1\" stroke=\"black\" d=\"M 420.0 20.0 406.93756183450245 80.86787014987756\" marker-end=\"url(#arrow)\"/><path stroke-width=\"1\" stroke=\"black\" d=\"M 55.199999999999996 162.01183431952663 27.71974381005979 120.43667534469776\" marker-end=\"url(#arrow)\"/><path stroke-width=\"1\" stroke=\"black\" d=\"M 55.199999999999996 162.01183431952663 71.91629929823105 254.7427845685895\" marker-end=\"url(#arrow)\"/><path stroke-width=\"1\" stroke=\"black\" d=\"M 55.199999999999996 162.01183431952663 68.93589819037896 78.19440823178513\" marker-end=\"url(#arrow)\"/><path stroke-width=\"1\" stroke=\"black\" d=\"M 55.199999999999996 162.01183431952663 191.73834365456335 142.67334299239786\" marker-end=\"url(#arrow)\"/><path stroke-width=\"1\" stroke=\"black\" d=\"M 55.199999999999996 162.01183431952663 121.60134285211572 102.1548545850473\" marker-end=\"url(#arrow)\"/><path stroke-width=\"1\" stroke=\"black\" d=\"M 55.199999999999996 162.01183431952663 82.59239087037864 140.4848999262002\" marker-end=\"url(#arrow)\"/><path stroke-width=\"1\" stroke=\"black\" d=\"M 205.6 140.71005917159763 241.44781918929343 61.16608168056191\" marker-end=\"url(#arrow)\"/><path stroke-width=\"1\" stroke=\"black\" d=\"M 205.6 140.71005917159763 33.79703039488495 111.13267586118836\" marker-end=\"url(#arrow)\"/><path stroke-width=\"1\" stroke=\"black\" d=\"M 205.6 140.71005917159763 152.82071747598778 216.2176359684463\" marker-end=\"url(#arrow)\"/><path stroke-width=\"1\" stroke=\"black\" d=\"M 205.6 140.71005917159763 208.4177587124004 243.8750416152523\" marker-end=\"url(#arrow)\"/><path stroke-width=\"1\" stroke=\"black\" d=\"M 205.6 140.71005917159763 69.06165634543665 160.0485504987264\" marker-end=\"url(#arrow)\"/><path stroke-width=\"1\" stroke=\"black\" d=\"M 205.6 140.71005917159763 170.14217175478083 68.08364719914144\" marker-end=\"url(#arrow)\"/><path stroke-width=\"1\" stroke=\"black\" d=\"M 205.6 140.71005917159763 143.73172443363885 100.42087148768931\" marker-end=\"url(#arrow)\"/><path stroke-width=\"1\" stroke=\"black\" d=\"M 151.2 320.0 86.0291486715524 276.31576626005506\" marker-end=\"url(#arrow)\"/><path stroke-width=\"1\" stroke=\"black\" d=\"M 151.2 320.0 145.76834199328042 241.65877874923717\" marker-end=\"url(#arrow)\"/><path stroke-width=\"1\" stroke=\"black\" d=\"M 164.0 55.50295857988165 233.2507079382807 49.592850369400246\" marker-end=\"url(#arrow)\"/><path stroke-width=\"1\" stroke=\"black\" d=\"M 164.0 55.50295857988165 85.13640191898858 63.04576853712998\" marker-end=\"url(#arrow)\"/><path stroke-width=\"1\" stroke=\"black\" d=\"M 164.0 55.50295857988165 199.45782824521916 128.12937055233786\" marker-end=\"url(#arrow)\"/><path stroke-width=\"1\" stroke=\"black\" d=\"M 164.0 55.50295857988165 141.11885304855906 82.15814086428956\" marker-end=\"url(#arrow)\"/><path stroke-width=\"1\" stroke=\"black\" d=\"M 164.0 55.50295857988165 103.09157336962562 121.54305940120943\" marker-end=\"url(#arrow)\"/><path stroke-width=\"1\" stroke=\"black\" d=\"M 132.0 92.78106508875739 234.13586134956552 53.43508792931554\" marker-end=\"url(#arrow)\"/><path stroke-width=\"1\" stroke=\"black\" d=\"M 132.0 92.78106508875739 33.859702664396366 106.7803678574667\" marker-end=\"url(#arrow)\"/><path stroke-width=\"1\" stroke=\"black\" d=\"M 132.0 92.78106508875739 83.88424185461278 70.30406813513521\" marker-end=\"url(#arrow)\"/><path stroke-width=\"1\" stroke=\"black\" d=\"M 132.0 92.78106508875739 154.88114695144094 66.12588280434947\" marker-end=\"url(#arrow)\"/><path stroke-width=\"1\" stroke=\"black\" d=\"M 132.0 92.78106508875739 103.41565173292979 121.85168555267865\" marker-end=\"url(#arrow)\"/><path stroke-width=\"1\" stroke=\"black\" d=\"M 93.6 131.8343195266272 33.3587387226401 112.94596419300684\" marker-end=\"url(#arrow)\"/><path stroke-width=\"1\" stroke=\"black\" d=\"M 93.6 131.8343195266272 75.61208110340488 77.66529072770912\" marker-end=\"url(#arrow)\"/><path stroke-width=\"1\" stroke=\"black\" d=\"M 93.6 131.8343195266272 138.20416955792976 215.34342026147166\" marker-end=\"url(#arrow)\"/><path stroke-width=\"1\" stroke=\"black\" d=\"M 93.6 131.8343195266272 66.20760912962135 153.36125391995364\" marker-end=\"url(#arrow)\"/><path stroke-width=\"1\" stroke=\"black\" d=\"M 404.0 94.55621301775147 417.06243816549755 33.688342867873914\" marker-end=\"url(#arrow)\"/><path stroke-width=\"1\" stroke=\"black\" d=\"M 404.0 94.55621301775147 219.23589533809997 137.53793711713888\" marker-end=\"url(#arrow)\"/><circle cx=\"247.2\" cy=\"48.402366863905314\" r=\"7\" style=\"fill:blue;stroke:black;stroke-width:1\"/><circle cx=\"20.0\" cy=\"108.75739644970413\" r=\"7\" style=\"fill:blue;stroke:black;stroke-width:1\"/><circle cx=\"74.39999999999999\" cy=\"268.5207100591716\" r=\"7\" style=\"fill:blue;stroke:black;stroke-width:1\"/><circle cx=\"71.19999999999999\" cy=\"64.37869822485206\" r=\"7\" style=\"fill:blue;stroke:black;stroke-width:1\"/><circle cx=\"144.79999999999998\" cy=\"227.69230769230768\" r=\"7\" style=\"fill:blue;stroke:black;stroke-width:1\"/><circle cx=\"208.79999999999998\" cy=\"257.8698224852071\" r=\"7\" style=\"fill:blue;stroke:black;stroke-width:1\"/><circle cx=\"420.0\" cy=\"20.0\" r=\"7\" style=\"fill:blue;stroke:black;stroke-width:1\"/><circle cx=\"55.199999999999996\" cy=\"162.01183431952663\" r=\"7\" style=\"fill:blue;stroke:black;stroke-width:1\"/><circle cx=\"205.6\" cy=\"140.71005917159763\" r=\"7\" style=\"fill:blue;stroke:black;stroke-width:1\"/><circle cx=\"151.2\" cy=\"320.0\" r=\"7\" style=\"fill:blue;stroke:black;stroke-width:1\"/><circle cx=\"164.0\" cy=\"55.50295857988165\" r=\"7\" style=\"fill:blue;stroke:black;stroke-width:1\"/><circle cx=\"132.0\" cy=\"92.78106508875739\" r=\"7\" style=\"fill:blue;stroke:black;stroke-width:1\"/><circle cx=\"93.6\" cy=\"131.8343195266272\" r=\"7\" style=\"fill:blue;stroke:black;stroke-width:1\"/><circle cx=\"404.0\" cy=\"94.55621301775147\" r=\"7\" style=\"fill:blue;stroke:black;stroke-width:1\"/><text x=\"257.2\" y=\"55.402366863905314\" font-size=\"12\">Pablo Picasso</text><text x=\"30.0\" y=\"115.75739644970413\" font-size=\"12\">Claude Monet</text><text x=\"84.39999999999999\" y=\"275.5207100591716\" font-size=\"12\">Michel Angelo</text><text x=\"81.19999999999999\" y=\"71.37869822485206\" font-size=\"12\">Edouard Manet</text><text x=\"154.79999999999998\" y=\"234.69230769230768\" font-size=\"12\">Peter Paul Rubens</text><text x=\"218.79999999999998\" y=\"264.8698224852071\" font-size=\"12\">Rembrandt</text><text x=\"430.0\" y=\"27.0\" font-size=\"12\">Gustav Klimt</text><text x=\"65.19999999999999\" y=\"169.01183431952663\" font-size=\"12\">Edgar Degas</text><text x=\"215.6\" y=\"147.71005917159763\" font-size=\"12\">Vincent van Gogh</text><text x=\"161.2\" y=\"327.0\" font-size=\"12\">Leonardo da Vinci</text><text x=\"174.0\" y=\"62.50295857988165\" font-size=\"12\">Henri Matisse</text><text x=\"142.0\" y=\"99.78106508875739\" font-size=\"12\">Paul Cezanne</text><text x=\"103.6\" y=\"138.8343195266272\" font-size=\"12\">Pierre-Auguste Renoir</text><text x=\"414.0\" y=\"101.55621301775147\" font-size=\"12\">Egon Schiele</text></svg>"
     },
     "metadata": {},
     "output_type": "execute_result",
     "execution_count": 9
    }
   ],
   "source": [
    "SVG(image)"
   ]
  },
  {
   "cell_type": "markdown",
   "metadata": {},
   "source": [
    "## Bipartite graphs"
   ]
  },
  {
   "cell_type": "code",
   "execution_count": null,
   "metadata": {},
   "outputs": [],
   "source": [
    "graph = movie_actor(metadata=True)\n",
    "biadjacency = graph.biadjacency\n",
    "names_row = graph.names_row\n",
    "names_col = graph.names_col\n",
    "position_row = graph.position_row\n",
    "position_col = graph.position_col"
   ]
  },
  {
   "cell_type": "code",
   "execution_count": null,
   "metadata": {},
   "outputs": [],
   "source": [
    "image = svg_bigraph(biadjacency, position_row, position_col, names_row, names_col)"
   ]
  },
  {
   "cell_type": "code",
   "execution_count": null,
   "metadata": {},
   "outputs": [],
   "source": [
    "SVG(image)"
   ]
  }
 ],
 "metadata": {
  "kernelspec": {
   "name": "pycharm-897a5132",
   "language": "python",
   "display_name": "PyCharm (scikit-network)"
  },
  "language_info": {
   "codemirror_mode": {
    "name": "ipython",
    "version": 3
   },
   "file_extension": ".py",
   "mimetype": "text/x-python",
   "name": "python",
   "nbconvert_exporter": "python",
   "pygments_lexer": "ipython3",
   "version": "3.7.7"
  },
  "toc": {
   "base_numbering": 1,
   "nav_menu": {},
   "number_sections": true,
   "sideBar": true,
   "skip_h1_title": false,
   "title_cell": "Table of Contents",
   "title_sidebar": "Contents",
   "toc_cell": false,
   "toc_position": {},
   "toc_section_display": true,
   "toc_window_display": false
  },
  "pycharm": {
   "stem_cell": {
    "cell_type": "raw",
    "source": [],
    "metadata": {
     "collapsed": false
    }
   }
  }
 },
 "nbformat": 4,
 "nbformat_minor": 2
}

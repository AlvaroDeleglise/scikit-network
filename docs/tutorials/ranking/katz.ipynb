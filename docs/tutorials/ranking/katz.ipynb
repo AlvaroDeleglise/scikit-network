{
 "cells": [
  {
   "cell_type": "markdown",
   "metadata": {},
   "source": [
    "# Katz"
   ]
  },
  {
   "cell_type": "markdown",
   "metadata": {},
   "source": [
    "This notebook illustrates the ranking of the nodes of a graph by [Katz](https://scikit-network.readthedocs.io/en/latest/reference/ranking.html#katz).\n",
    "\n",
    "[Katz centrality](https://en.wikipedia.org/wiki/Katz_centrality) is a very old score that computes weighted path lenghts between nodes. The more paths from a node to the rest of the graph, the better."
   ]
  },
  {
   "cell_type": "code",
   "execution_count": 34,
   "metadata": {},
   "outputs": [],
   "source": [
    "from IPython.display import SVG"
   ]
  },
  {
   "cell_type": "code",
   "execution_count": 35,
   "metadata": {
    "ExecuteTime": {
     "end_time": "2019-07-15T12:29:50.554431Z",
     "start_time": "2019-07-15T12:29:50.414075Z"
    }
   },
   "outputs": [],
   "source": [
    "import numpy as np"
   ]
  },
  {
   "cell_type": "code",
   "execution_count": 36,
   "metadata": {},
   "outputs": [],
   "source": [
    "from sknetwork.data import painters, movie_actor\n",
    "from sknetwork.ranking import Katz, BiKatz\n",
    "from sknetwork.visualization import svg_digraph, svg_bigraph"
   ]
  },
  {
   "cell_type": "markdown",
   "metadata": {},
   "source": [
    "## Graphs and Digraphs\n"
   ]
  },
  {
   "cell_type": "code",
   "execution_count": 37,
   "metadata": {
    "ExecuteTime": {
     "end_time": "2019-07-15T12:29:58.542147Z",
     "start_time": "2019-07-15T12:29:58.529699Z"
    }
   },
   "outputs": [],
   "source": [
    "graph = painters(metadata=True)\n",
    "adjacency = graph.adjacency\n",
    "names = graph.names\n",
    "position = graph.position"
   ]
  },
  {
   "cell_type": "markdown",
   "metadata": {},
   "source": [
    "**Ranking**"
   ]
  },
  {
   "cell_type": "code",
   "execution_count": 38,
   "metadata": {},
   "outputs": [],
   "source": [
    "katz = Katz()\n",
    "scores = katz.fit_transform(adjacency)"
   ]
  },
  {
   "cell_type": "code",
   "execution_count": 39,
   "metadata": {},
   "outputs": [
    {
     "data": {
      "text/plain": "<IPython.core.display.SVG object>",
      "image/svg+xml": "<svg xmlns=\"http://www.w3.org/2000/svg\" width=\"566.0\" height=\"340\"><defs><marker id=\"arrow\" markerWidth=\"10\" markerHeight=\"10\" refX=\"9\" refY=\"3\" orient=\"auto\"><path d=\"M0,0 L0,6 L9,3 z\" fill=\"gray\"/></marker></defs><path stroke-width=\"1\" stroke=\"gray\" d=\"M 247 48 77 64\" marker-end=\"url(#arrow)\"/><path stroke-width=\"1\" stroke=\"gray\" d=\"M 247 48 170 55\" marker-end=\"url(#arrow)\"/><path stroke-width=\"1\" stroke=\"gray\" d=\"M 20 108 66 68\" marker-end=\"url(#arrow)\"/><path stroke-width=\"1\" stroke=\"gray\" d=\"M 20 108 87 129\" marker-end=\"url(#arrow)\"/><path stroke-width=\"1\" stroke=\"gray\" d=\"M 74 268 146 317\" marker-end=\"url(#arrow)\"/><path stroke-width=\"1\" stroke=\"gray\" d=\"M 71 64 241 48\" marker-end=\"url(#arrow)\"/><path stroke-width=\"1\" stroke=\"gray\" d=\"M 71 64 25 104\" marker-end=\"url(#arrow)\"/><path stroke-width=\"1\" stroke=\"gray\" d=\"M 71 64 56 156\" marker-end=\"url(#arrow)\"/><path stroke-width=\"1\" stroke=\"gray\" d=\"M 71 64 126 90\" marker-end=\"url(#arrow)\"/><path stroke-width=\"1\" stroke=\"gray\" d=\"M 71 64 91 125\" marker-end=\"url(#arrow)\"/><path stroke-width=\"1\" stroke=\"gray\" d=\"M 144 227 80 265\" marker-end=\"url(#arrow)\"/><path stroke-width=\"1\" stroke=\"gray\" d=\"M 144 227 202 255\" marker-end=\"url(#arrow)\"/><path stroke-width=\"1\" stroke=\"gray\" d=\"M 144 227 151 314\" marker-end=\"url(#arrow)\"/><path stroke-width=\"1\" stroke=\"gray\" d=\"M 208 257 80 268\" marker-end=\"url(#arrow)\"/><path stroke-width=\"1\" stroke=\"gray\" d=\"M 208 257 150 229\" marker-end=\"url(#arrow)\"/><path stroke-width=\"1\" stroke=\"gray\" d=\"M 208 257 205 146\" marker-end=\"url(#arrow)\"/><path stroke-width=\"1\" stroke=\"gray\" d=\"M 208 257 155 315\" marker-end=\"url(#arrow)\"/><path stroke-width=\"1\" stroke=\"gray\" d=\"M 420 20 253 47\" marker-end=\"url(#arrow)\"/><path stroke-width=\"1\" stroke=\"gray\" d=\"M 420 20 405 88\" marker-end=\"url(#arrow)\"/><path stroke-width=\"1\" stroke=\"gray\" d=\"M 55 162 23 113\" marker-end=\"url(#arrow)\"/><path stroke-width=\"1\" stroke=\"gray\" d=\"M 55 162 73 262\" marker-end=\"url(#arrow)\"/><path stroke-width=\"1\" stroke=\"gray\" d=\"M 55 162 70 70\" marker-end=\"url(#arrow)\"/><path stroke-width=\"1\" stroke=\"gray\" d=\"M 55 162 199 140\" marker-end=\"url(#arrow)\"/><path stroke-width=\"1\" stroke=\"gray\" d=\"M 55 162 127 96\" marker-end=\"url(#arrow)\"/><path stroke-width=\"1\" stroke=\"gray\" d=\"M 55 162 88 135\" marker-end=\"url(#arrow)\"/><path stroke-width=\"1\" stroke=\"gray\" d=\"M 205 140 245 54\" marker-end=\"url(#arrow)\"/><path stroke-width=\"1\" stroke=\"gray\" d=\"M 205 140 26 109\" marker-end=\"url(#arrow)\"/><path stroke-width=\"1\" stroke=\"gray\" d=\"M 205 140 148 222\" marker-end=\"url(#arrow)\"/><path stroke-width=\"1\" stroke=\"gray\" d=\"M 205 140 208 251\" marker-end=\"url(#arrow)\"/><path stroke-width=\"1\" stroke=\"gray\" d=\"M 205 140 61 162\" marker-end=\"url(#arrow)\"/><path stroke-width=\"1\" stroke=\"gray\" d=\"M 205 140 167 61\" marker-end=\"url(#arrow)\"/><path stroke-width=\"1\" stroke=\"gray\" d=\"M 205 140 137 95\" marker-end=\"url(#arrow)\"/><path stroke-width=\"1\" stroke=\"gray\" d=\"M 151 320 79 271\" marker-end=\"url(#arrow)\"/><path stroke-width=\"1\" stroke=\"gray\" d=\"M 151 320 144 233\" marker-end=\"url(#arrow)\"/><path stroke-width=\"1\" stroke=\"gray\" d=\"M 164 55 241 48\" marker-end=\"url(#arrow)\"/><path stroke-width=\"1\" stroke=\"gray\" d=\"M 164 55 77 64\" marker-end=\"url(#arrow)\"/><path stroke-width=\"1\" stroke=\"gray\" d=\"M 164 55 202 134\" marker-end=\"url(#arrow)\"/><path stroke-width=\"1\" stroke=\"gray\" d=\"M 164 55 136 87\" marker-end=\"url(#arrow)\"/><path stroke-width=\"1\" stroke=\"gray\" d=\"M 164 55 97 126\" marker-end=\"url(#arrow)\"/><path stroke-width=\"1\" stroke=\"gray\" d=\"M 132 92 241 50\" marker-end=\"url(#arrow)\"/><path stroke-width=\"1\" stroke=\"gray\" d=\"M 132 92 26 108\" marker-end=\"url(#arrow)\"/><path stroke-width=\"1\" stroke=\"gray\" d=\"M 132 92 77 66\" marker-end=\"url(#arrow)\"/><path stroke-width=\"1\" stroke=\"gray\" d=\"M 132 92 160 60\" marker-end=\"url(#arrow)\"/><path stroke-width=\"1\" stroke=\"gray\" d=\"M 132 92 97 127\" marker-end=\"url(#arrow)\"/><path stroke-width=\"1\" stroke=\"gray\" d=\"M 93 131 26 110\" marker-end=\"url(#arrow)\"/><path stroke-width=\"1\" stroke=\"gray\" d=\"M 93 131 73 70\" marker-end=\"url(#arrow)\"/><path stroke-width=\"1\" stroke=\"gray\" d=\"M 93 131 141 221\" marker-end=\"url(#arrow)\"/><path stroke-width=\"1\" stroke=\"gray\" d=\"M 93 131 60 158\" marker-end=\"url(#arrow)\"/><path stroke-width=\"1\" stroke=\"gray\" d=\"M 404 94 419 26\" marker-end=\"url(#arrow)\"/><path stroke-width=\"1\" stroke=\"gray\" d=\"M 404 94 211 139\" marker-end=\"url(#arrow)\"/><circle cx=\"247\" cy=\"48\" r=\"7.0\" style=\"fill:rgb(246, 169, 138);stroke:black;stroke-width:1.0\"/><circle cx=\"20\" cy=\"108\" r=\"7.0\" style=\"fill:rgb(246, 189, 164);stroke:black;stroke-width:1.0\"/><circle cx=\"74\" cy=\"268\" r=\"7.0\" style=\"fill:rgb(58, 76, 192);stroke:black;stroke-width:1.0\"/><circle cx=\"71\" cy=\"64\" r=\"7.0\" style=\"fill:rgb(214, 82, 67);stroke:black;stroke-width:1.0\"/><circle cx=\"144\" cy=\"227\" r=\"7.0\" style=\"fill:rgb(210, 218, 231);stroke:black;stroke-width:1.0\"/><circle cx=\"208\" cy=\"257\" r=\"7.0\" style=\"fill:rgb(247, 173, 143);stroke:black;stroke-width:1.0\"/><circle cx=\"420\" cy=\"20\" r=\"7.0\" style=\"fill:rgb(210, 218, 231);stroke:black;stroke-width:1.0\"/><circle cx=\"55\" cy=\"162\" r=\"7.0\" style=\"fill:rgb(194, 45, 49);stroke:black;stroke-width:1.0\"/><circle cx=\"205\" cy=\"140\" r=\"7.0\" style=\"fill:rgb(179, 3, 38);stroke:black;stroke-width:1.0\"/><circle cx=\"151\" cy=\"320\" r=\"7.0\" style=\"fill:rgb(138, 173, 253);stroke:black;stroke-width:1.0\"/><circle cx=\"164\" cy=\"55\" r=\"7.0\" style=\"fill:rgb(197, 50, 51);stroke:black;stroke-width:1.0\"/><circle cx=\"132\" cy=\"92\" r=\"7.0\" style=\"fill:rgb(214, 82, 67);stroke:black;stroke-width:1.0\"/><circle cx=\"93\" cy=\"131\" r=\"7.0\" style=\"fill:rgb(234, 123, 96);stroke:black;stroke-width:1.0\"/><circle cx=\"404\" cy=\"94\" r=\"7.0\" style=\"fill:rgb(244, 195, 171);stroke:black;stroke-width:1.0\"/><text x=\"264\" y=\"55\" font-size=\"12\">Pablo Picasso</text><text x=\"37\" y=\"115\" font-size=\"12\">Claude Monet</text><text x=\"91\" y=\"275\" font-size=\"12\">Michel Angelo</text><text x=\"88\" y=\"71\" font-size=\"12\">Edouard Manet</text><text x=\"161\" y=\"234\" font-size=\"12\">Peter Paul Rubens</text><text x=\"225\" y=\"264\" font-size=\"12\">Rembrandt</text><text x=\"437\" y=\"27\" font-size=\"12\">Gustav Klimt</text><text x=\"72\" y=\"169\" font-size=\"12\">Edgar Degas</text><text x=\"222\" y=\"147\" font-size=\"12\">Vincent van Gogh</text><text x=\"168\" y=\"327\" font-size=\"12\">Leonardo da Vinci</text><text x=\"181\" y=\"62\" font-size=\"12\">Henri Matisse</text><text x=\"149\" y=\"99\" font-size=\"12\">Paul Cezanne</text><text x=\"110\" y=\"138\" font-size=\"12\">Pierre-Auguste Renoir</text><text x=\"421\" y=\"101\" font-size=\"12\">Egon Schiele</text></svg>"
     },
     "execution_count": 39,
     "metadata": {},
     "output_type": "execute_result"
    }
   ],
   "source": [
    "image = svg_digraph(adjacency, position, scores=np.log(scores), names=names)\n",
    "SVG(image)"
   ]
  },
  {
   "cell_type": "markdown",
   "metadata": {},
   "source": [
    "## Bigraphs"
   ]
  },
  {
   "cell_type": "code",
   "execution_count": 40,
   "metadata": {},
   "outputs": [],
   "source": [
    "graph = movie_actor(metadata=True)\n",
    "biadjacency = graph.biadjacency\n",
    "names_row = graph.names_row\n",
    "names_col = graph.names_col"
   ]
  },
  {
   "cell_type": "markdown",
   "metadata": {},
   "source": [
    "**Ranking**"
   ]
  },
  {
   "cell_type": "code",
   "execution_count": 41,
   "metadata": {},
   "outputs": [],
   "source": [
    "bikatz = BiKatz()"
   ]
  },
  {
   "cell_type": "code",
   "execution_count": 42,
   "metadata": {},
   "outputs": [],
   "source": [
    "bikatz.fit(biadjacency)\n",
    "scores_row = bikatz.scores_row_\n",
    "scores_col = bikatz.scores_col_"
   ]
  },
  {
   "cell_type": "code",
   "execution_count": 43,
   "metadata": {
    "pycharm": {
     "name": "#%%\n"
    }
   },
   "outputs": [
    {
     "data": {
      "text/plain": "<IPython.core.display.SVG object>",
      "image/svg+xml": "<svg xmlns=\"http://www.w3.org/2000/svg\" width=\"728.0\" height=\"340\"><path stroke-width=\"1\" stroke=\"black\" d=\"M 188 90 588 140\"/><path stroke-width=\"1\" stroke=\"black\" d=\"M 188 90 588 60\"/><path stroke-width=\"1\" stroke=\"black\" d=\"M 188 90 588 40\"/><path stroke-width=\"1\" stroke=\"black\" d=\"M 188 70 588 60\"/><path stroke-width=\"1\" stroke=\"black\" d=\"M 188 70 588 40\"/><path stroke-width=\"1\" stroke=\"black\" d=\"M 188 70 588 220\"/><path stroke-width=\"1\" stroke=\"black\" d=\"M 188 230 588 220\"/><path stroke-width=\"1\" stroke=\"black\" d=\"M 188 230 588 200\"/><path stroke-width=\"1\" stroke=\"black\" d=\"M 188 230 588 320\"/><path stroke-width=\"1\" stroke=\"black\" d=\"M 188 230 588 160\"/><path stroke-width=\"1\" stroke=\"black\" d=\"M 188 50 588 200\"/><path stroke-width=\"1\" stroke=\"black\" d=\"M 188 50 588 20\"/><path stroke-width=\"1\" stroke=\"black\" d=\"M 188 30 588 140\"/><path stroke-width=\"1\" stroke=\"black\" d=\"M 188 30 588 20\"/><path stroke-width=\"1\" stroke=\"black\" d=\"M 188 210 588 200\"/><path stroke-width=\"1\" stroke=\"black\" d=\"M 188 210 588 180\"/><path stroke-width=\"1\" stroke=\"black\" d=\"M 188 190 588 200\"/><path stroke-width=\"1\" stroke=\"black\" d=\"M 188 190 588 180\"/><path stroke-width=\"1\" stroke=\"black\" d=\"M 188 190 588 160\"/><path stroke-width=\"1\" stroke=\"black\" d=\"M 188 170 588 220\"/><path stroke-width=\"1\" stroke=\"black\" d=\"M 188 170 588 160\"/><path stroke-width=\"1\" stroke=\"black\" d=\"M 188 310 588 300\"/><path stroke-width=\"1\" stroke=\"black\" d=\"M 188 310 588 280\"/><path stroke-width=\"1\" stroke=\"black\" d=\"M 188 310 588 120\"/><path stroke-width=\"1\" stroke=\"black\" d=\"M 188 310 588 100\"/><path stroke-width=\"1\" stroke=\"black\" d=\"M 188 310 588 239\"/><path stroke-width=\"1\" stroke=\"black\" d=\"M 188 150 588 140\"/><path stroke-width=\"1\" stroke=\"black\" d=\"M 188 150 588 120\"/><path stroke-width=\"1\" stroke=\"black\" d=\"M 188 150 588 100\"/><path stroke-width=\"1\" stroke=\"black\" d=\"M 188 290 588 300\"/><path stroke-width=\"1\" stroke=\"black\" d=\"M 188 290 588 280\"/><path stroke-width=\"1\" stroke=\"black\" d=\"M 188 290 588 260\"/><path stroke-width=\"1\" stroke=\"black\" d=\"M 188 270 588 320\"/><path stroke-width=\"1\" stroke=\"black\" d=\"M 188 270 588 300\"/><path stroke-width=\"1\" stroke=\"black\" d=\"M 188 270 588 260\"/><path stroke-width=\"1\" stroke=\"black\" d=\"M 188 250 588 60\"/><path stroke-width=\"1\" stroke=\"black\" d=\"M 188 250 588 300\"/><path stroke-width=\"1\" stroke=\"black\" d=\"M 188 250 588 239\"/><path stroke-width=\"1\" stroke=\"black\" d=\"M 188 130 588 100\"/><path stroke-width=\"1\" stroke=\"black\" d=\"M 188 130 588 80\"/><path stroke-width=\"1\" stroke=\"black\" d=\"M 188 110 588 120\"/><path stroke-width=\"1\" stroke=\"black\" d=\"M 188 110 588 80\"/><circle cx=\"188\" cy=\"90\" r=\"7.0\" style=\"fill:rgb(205, 217, 236);stroke:black;stroke-width:1.0\"/><circle cx=\"188\" cy=\"70\" r=\"7.0\" style=\"fill:rgb(210, 218, 231);stroke:black;stroke-width:1.0\"/><circle cx=\"188\" cy=\"230\" r=\"7.0\" style=\"fill:rgb(239, 137, 108);stroke:black;stroke-width:1.0\"/><circle cx=\"188\" cy=\"50\" r=\"7.0\" style=\"fill:rgb(105, 139, 239);stroke:black;stroke-width:1.0\"/><circle cx=\"188\" cy=\"30\" r=\"7.0\" style=\"fill:rgb(58, 76, 192);stroke:black;stroke-width:1.0\"/><circle cx=\"188\" cy=\"210\" r=\"7.0\" style=\"fill:rgb(120, 155, 247);stroke:black;stroke-width:1.0\"/><circle cx=\"188\" cy=\"190\" r=\"7.0\" style=\"fill:rgb(230, 215, 207);stroke:black;stroke-width:1.0\"/><circle cx=\"188\" cy=\"170\" r=\"7.0\" style=\"fill:rgb(141, 175, 253);stroke:black;stroke-width:1.0\"/><circle cx=\"188\" cy=\"310\" r=\"7.0\" style=\"fill:rgb(179, 3, 38);stroke:black;stroke-width:1.0\"/><circle cx=\"188\" cy=\"150\" r=\"7.0\" style=\"fill:rgb(236, 210, 196);stroke:black;stroke-width:1.0\"/><circle cx=\"188\" cy=\"290\" r=\"7.0\" style=\"fill:rgb(231, 214, 204);stroke:black;stroke-width:1.0\"/><circle cx=\"188\" cy=\"270\" r=\"7.0\" style=\"fill:rgb(230, 215, 207);stroke:black;stroke-width:1.0\"/><circle cx=\"188\" cy=\"250\" r=\"7.0\" style=\"fill:rgb(244, 195, 171);stroke:black;stroke-width:1.0\"/><circle cx=\"188\" cy=\"130\" r=\"7.0\" style=\"fill:rgb(80, 107, 218);stroke:black;stroke-width:1.0\"/><circle cx=\"188\" cy=\"110\" r=\"7.0\" style=\"fill:rgb(80, 107, 218);stroke:black;stroke-width:1.0\"/><circle cx=\"588\" cy=\"140\" r=\"7.0\" style=\"fill:rgb(230, 215, 207);stroke:black;stroke-width:1.0\"/><circle cx=\"588\" cy=\"60\" r=\"7.0\" style=\"fill:rgb(245, 193, 168);stroke:black;stroke-width:1.0\"/><circle cx=\"588\" cy=\"40\" r=\"7.0\" style=\"fill:rgb(155, 187, 254);stroke:black;stroke-width:1.0\"/><circle cx=\"588\" cy=\"220\" r=\"7.0\" style=\"fill:rgb(246, 189, 164);stroke:black;stroke-width:1.0\"/><circle cx=\"588\" cy=\"200\" r=\"7.0\" style=\"fill:rgb(237, 132, 103);stroke:black;stroke-width:1.0\"/><circle cx=\"588\" cy=\"320\" r=\"7.0\" style=\"fill:rgb(208, 218, 233);stroke:black;stroke-width:1.0\"/><circle cx=\"588\" cy=\"20\" r=\"7.0\" style=\"fill:rgb(58, 76, 192);stroke:black;stroke-width:1.0\"/><circle cx=\"588\" cy=\"180\" r=\"7.0\" style=\"fill:rgb(127, 162, 250);stroke:black;stroke-width:1.0\"/><circle cx=\"588\" cy=\"160\" r=\"7.0\" style=\"fill:rgb(246, 186, 159);stroke:black;stroke-width:1.0\"/><circle cx=\"588\" cy=\"300\" r=\"7.0\" style=\"fill:rgb(179, 3, 38);stroke:black;stroke-width:1.0\"/><circle cx=\"588\" cy=\"280\" r=\"7.0\" style=\"fill:rgb(236, 210, 196);stroke:black;stroke-width:1.0\"/><circle cx=\"588\" cy=\"120\" r=\"7.0\" style=\"fill:rgb(245, 161, 130);stroke:black;stroke-width:1.0\"/><circle cx=\"588\" cy=\"100\" r=\"7.0\" style=\"fill:rgb(245, 161, 130);stroke:black;stroke-width:1.0\"/><circle cx=\"588\" cy=\"260\" r=\"7.0\" style=\"fill:rgb(172, 200, 252);stroke:black;stroke-width:1.0\"/><circle cx=\"588\" cy=\"80\" r=\"7.0\" style=\"fill:rgb(58, 76, 192);stroke:black;stroke-width:1.0\"/><circle cx=\"588\" cy=\"239\" r=\"7.0\" style=\"fill:rgb(239, 206, 188);stroke:black;stroke-width:1.0\"/><text text-anchor=\"end\" x=\"178\" y=\"90\" font-size=\"12\">Inception</text><text text-anchor=\"end\" x=\"178\" y=\"70\" font-size=\"12\">The Dark Knight Rises</text><text text-anchor=\"end\" x=\"178\" y=\"230\" font-size=\"12\">The Big Short</text><text text-anchor=\"end\" x=\"178\" y=\"50\" font-size=\"12\">Drive</text><text text-anchor=\"end\" x=\"178\" y=\"30\" font-size=\"12\">The Great Gatsby</text><text text-anchor=\"end\" x=\"178\" y=\"210\" font-size=\"12\">La La Land</text><text text-anchor=\"end\" x=\"178\" y=\"190\" font-size=\"12\">Crazy Stupid Love</text><text text-anchor=\"end\" x=\"178\" y=\"170\" font-size=\"12\">Vice</text><text text-anchor=\"end\" x=\"178\" y=\"310\" font-size=\"12\">The Grand Budapest Hotel</text><text text-anchor=\"end\" x=\"178\" y=\"150\" font-size=\"12\">Aviator</text><text text-anchor=\"end\" x=\"178\" y=\"290\" font-size=\"12\">007 Spectre</text><text text-anchor=\"end\" x=\"178\" y=\"270\" font-size=\"12\">Inglourious Basterds</text><text text-anchor=\"end\" x=\"178\" y=\"250\" font-size=\"12\">Midnight In Paris</text><text text-anchor=\"end\" x=\"178\" y=\"130\" font-size=\"12\">Murder on the Orient Express</text><text text-anchor=\"end\" x=\"178\" y=\"110\" font-size=\"12\">Fantastic Beasts 2</text><text x=\"598\" y=\"140\" font-size=\"12\">Leonardo DiCaprio</text><text x=\"598\" y=\"60\" font-size=\"12\">Marion Cotillard</text><text x=\"598\" y=\"40\" font-size=\"12\">Joseph Gordon Lewitt</text><text x=\"598\" y=\"220\" font-size=\"12\">Christian Bale</text><text x=\"598\" y=\"200\" font-size=\"12\">Ryan Gosling</text><text x=\"598\" y=\"320\" font-size=\"12\">Brad Pitt</text><text x=\"598\" y=\"20\" font-size=\"12\">Carey Mulligan</text><text x=\"598\" y=\"180\" font-size=\"12\">Emma Stone</text><text x=\"598\" y=\"160\" font-size=\"12\">Steve Carell</text><text x=\"598\" y=\"300\" font-size=\"12\">Lea Seydoux</text><text x=\"598\" y=\"280\" font-size=\"12\">Ralph Fiennes</text><text x=\"598\" y=\"120\" font-size=\"12\">Jude Law</text><text x=\"598\" y=\"100\" font-size=\"12\">Willem Dafoe</text><text x=\"598\" y=\"260\" font-size=\"12\">Christophe Waltz</text><text x=\"598\" y=\"80\" font-size=\"12\">Johnny Depp</text><text x=\"598\" y=\"239\" font-size=\"12\">Owen Wilson</text></svg>"
     },
     "execution_count": 43,
     "metadata": {},
     "output_type": "execute_result"
    }
   ],
   "source": [
    "image = svg_bigraph(biadjacency, names_row, names_col,\n",
    "                    scores_row=np.log(scores_row), scores_col=np.log(scores_col))\n",
    "SVG(image)"
   ]
  }
 ],
 "metadata": {
  "kernelspec": {
   "display_name": "Python 3",
   "language": "python",
   "name": "python3"
  },
  "language_info": {
   "codemirror_mode": {
    "name": "ipython",
    "version": 3
   },
   "file_extension": ".py",
   "mimetype": "text/x-python",
   "name": "python",
   "nbconvert_exporter": "python",
   "pygments_lexer": "ipython3",
   "version": "3.8.3rc1"
  },
  "toc": {
   "base_numbering": 1,
   "nav_menu": {},
   "number_sections": true,
   "sideBar": true,
   "skip_h1_title": false,
   "title_cell": "Table of Contents",
   "title_sidebar": "Contents",
   "toc_cell": false,
   "toc_position": {},
   "toc_section_display": true,
   "toc_window_display": false
  }
 },
 "nbformat": 4,
 "nbformat_minor": 4
}
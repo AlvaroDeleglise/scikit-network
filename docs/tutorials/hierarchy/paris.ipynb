{
 "cells": [
  {
   "cell_type": "markdown",
   "metadata": {
    "collapsed": true
   },
   "source": [
    "# Paris"
   ]
  },
  {
   "cell_type": "markdown",
   "metadata": {},
   "source": [
    "This notebook illustrates the hierarchical clustering of graphs by the [Paris algorithm](https://scikit-network.readthedocs.io/en/latest/reference/hierarchy.html)."
   ]
  },
  {
   "cell_type": "code",
   "execution_count": 1,
   "metadata": {},
   "outputs": [],
   "source": [
    "from IPython.display import SVG"
   ]
  },
  {
   "cell_type": "code",
   "execution_count": 3,
   "metadata": {},
   "outputs": [],
   "source": [
    "%matplotlib inline"
   ]
  },
  {
   "cell_type": "code",
   "execution_count": 4,
   "metadata": {
    "pycharm": {
     "is_executing": false
    }
   },
   "outputs": [],
   "source": [
    "import numpy as np\n",
    "from scipy.cluster.hierarchy import dendrogram as show_dendrogram"
   ]
  },
  {
   "cell_type": "code",
   "execution_count": 5,
   "metadata": {
    "pycharm": {
     "is_executing": false,
     "name": "#%%\n"
    }
   },
   "outputs": [],
   "source": [
    "from sknetwork.data import karate_club, painters, movie_actor\n",
    "from sknetwork.hierarchy import Paris, BiParis, cut_straight, dasgupta_score, tree_sampling_divergence\n",
    "from sknetwork.visualization import svg_graph, svg_digraph, svg_bigraph"
   ]
  },
  {
   "cell_type": "markdown",
   "metadata": {},
   "source": [
    "## Graphs"
   ]
  },
  {
   "cell_type": "markdown",
   "metadata": {},
   "source": [
    "**Loading**"
   ]
  },
  {
   "cell_type": "code",
   "execution_count": 6,
   "metadata": {
    "pycharm": {
     "is_executing": false
    }
   },
   "outputs": [],
   "source": [
    "graph = karate_club(metadata=True)\n",
    "adjacency = graph.adjacency\n",
    "position = graph.position"
   ]
  },
  {
   "cell_type": "markdown",
   "metadata": {},
   "source": [
    "**Clustering**"
   ]
  },
  {
   "cell_type": "code",
   "execution_count": 7,
   "metadata": {
    "pycharm": {
     "is_executing": false
    }
   },
   "outputs": [],
   "source": [
    "paris = Paris()\n",
    "dendrogram = paris.fit_transform(adjacency)"
   ]
  },
  {
   "cell_type": "markdown",
   "metadata": {},
   "source": [
    "**Visualization**"
   ]
  },
  {
   "cell_type": "code",
   "execution_count": 8,
   "metadata": {
    "pycharm": {
     "is_executing": false
    }
   },
   "outputs": [
    {
     "data": {
      "image/png": "[encoded data removed]",
      "text/plain": [
       "<Figure size 432x288 with 1 Axes>"
      ]
     },
     "metadata": {
      "needs_background": "light"
     },
     "output_type": "display_data"
    }
   ],
   "source": [
    "_ = show_dendrogram(dendrogram, no_labels=True)"
   ]
  },
  {
   "cell_type": "markdown",
   "metadata": {},
   "source": [
    "**Cuts of the dendrogram**"
   ]
  },
  {
   "cell_type": "code",
   "execution_count": 9,
   "metadata": {
    "pycharm": {
     "is_executing": false
    },
    "scrolled": true
   },
   "outputs": [
    {
     "name": "stdout",
     "output_type": "stream",
     "text": [
      "[1 1 1 1 1 1 1 1 0 1 1 1 1 1 0 0 1 1 0 1 0 1 0 0 0 0 0 0 0 0 0 0 0 0]\n"
     ]
    }
   ],
   "source": [
    "labels = cut_straight(dendrogram)\n",
    "print(labels)"
   ]
  },
  {
   "cell_type": "code",
   "execution_count": 10,
   "metadata": {
    "pycharm": {
     "is_executing": false
    }
   },
   "outputs": [
    {
     "name": "stdout",
     "output_type": "stream",
     "text": [
      "[0 0 0 0 3 3 3 0 1 0 3 0 0 0 1 1 3 0 1 0 1 0 1 2 2 2 2 2 2 2 1 2 1 1]\n"
     ]
    }
   ],
   "source": [
    "labels = cut_straight(dendrogram, n_clusters = 4)\n",
    "print(labels)"
   ]
  },
  {
   "cell_type": "code",
   "execution_count": 11,
   "metadata": {
    "pycharm": {
     "is_executing": false
    }
   },
   "outputs": [
    {
     "data": {
      "image/png": "[encoded data removed]",
      "text/plain": [
       "<Figure size 432x288 with 1 Axes>"
      ]
     },
     "metadata": {
      "needs_background": "light"
     },
     "output_type": "display_data"
    }
   ],
   "source": [
    "labels, dendrogram_aggregate = cut_straight(dendrogram, n_clusters = 4, return_dendrogram=True)\n",
    "_ = show_dendrogram(dendrogram_aggregate)"
   ]
  },
  {
   "cell_type": "markdown",
   "metadata": {},
   "source": [
    "**Visualization**"
   ]
  },
  {
   "cell_type": "code",
   "execution_count": 12,
   "metadata": {
    "pycharm": {
     "is_executing": false
    }
   },
   "outputs": [],
   "source": [
    "image = svg_graph(adjacency, position, labels=labels)"
   ]
  },
  {
   "cell_type": "code",
   "execution_count": 13,
   "metadata": {
    "pycharm": {
     "is_executing": false
    }
   },
   "outputs": [
    {
     "data": {
      "image/svg+xml": [
       "<svg height=\"340\" width=\"440\"><path d=\"M 264.44444444444446 200.35714285714286 353.3333333333333 168.21428571428572\" stroke=\"black\" stroke-width=\"1\"/><path d=\"M 264.44444444444446 200.35714285714286 251.11111111111114 143.21428571428572\" stroke=\"black\" stroke-width=\"1\"/><path d=\"M 264.44444444444446 200.35714285714286 304.44444444444446 191.42857142857142\" stroke=\"black\" stroke-width=\"1\"/><path d=\"M 264.44444444444446 200.35714285714286 255.55555555555557 255.71428571428572\" stroke=\"black\" stroke-width=\"1\"/><path d=\"M 264.44444444444446 200.35714285714286 211.1111111111111 275.3571428571429\" stroke=\"black\" stroke-width=\"1\"/><path d=\"M 264.44444444444446 200.35714285714286 264.44444444444446 277.1428571428571\" stroke=\"black\" stroke-width=\"1\"/><path d=\"M 264.44444444444446 200.35714285714286 340.0 186.07142857142858\" stroke=\"black\" stroke-width=\"1\"/><path d=\"M 264.44444444444446 200.35714285714286 282.22222222222223 125.35714285714286\" stroke=\"black\" stroke-width=\"1\"/><path d=\"M 264.44444444444446 200.35714285714286 188.88888888888889 252.1428571428571\" stroke=\"black\" stroke-width=\"1\"/><path d=\"M 264.44444444444446 200.35714285714286 122.22222222222221 212.85714285714283\" stroke=\"black\" stroke-width=\"1\"/><path d=\"M 264.44444444444446 200.35714285714286 335.55555555555554 236.07142857142853\" stroke=\"black\" stroke-width=\"1\"/><path d=\"M 264.44444444444446 200.35714285714286 282.22222222222223 153.92857142857142\" stroke=\"black\" stroke-width=\"1\"/><path d=\"M 264.44444444444446 200.35714285714286 388.8888888888889 216.42857142857142\" stroke=\"black\" stroke-width=\"1\"/><path d=\"M 264.44444444444446 200.35714285714286 331.1111111111111 143.21428571428572\" stroke=\"black\" stroke-width=\"1\"/><path d=\"M 264.44444444444446 200.35714285714286 420.0 202.14285714285714\" stroke=\"black\" stroke-width=\"1\"/><path d=\"M 264.44444444444446 200.35714285714286 153.33333333333334 125.35714285714286\" stroke=\"black\" stroke-width=\"1\"/><path d=\"M 353.3333333333333 168.21428571428572 264.44444444444446 200.35714285714286\" stroke=\"black\" stroke-width=\"1\"/><path d=\"M 353.3333333333333 168.21428571428572 251.11111111111114 143.21428571428572\" stroke=\"black\" stroke-width=\"1\"/><path d=\"M 353.3333333333333 168.21428571428572 304.44444444444446 191.42857142857142\" stroke=\"black\" stroke-width=\"1\"/><path d=\"M 353.3333333333333 168.21428571428572 340.0 186.07142857142858\" stroke=\"black\" stroke-width=\"1\"/><path d=\"M 353.3333333333333 168.21428571428572 282.22222222222223 153.92857142857142\" stroke=\"black\" stroke-width=\"1\"/><path d=\"M 353.3333333333333 168.21428571428572 388.8888888888889 216.42857142857142\" stroke=\"black\" stroke-width=\"1\"/><path d=\"M 353.3333333333333 168.21428571428572 331.1111111111111 143.21428571428572\" stroke=\"black\" stroke-width=\"1\"/><path d=\"M 353.3333333333333 168.21428571428572 420.0 202.14285714285714\" stroke=\"black\" stroke-width=\"1\"/><path d=\"M 353.3333333333333 168.21428571428572 344.44444444444446 107.5\" stroke=\"black\" stroke-width=\"1\"/><path d=\"M 251.11111111111114 143.21428571428572 264.44444444444446 200.35714285714286\" stroke=\"black\" stroke-width=\"1\"/><path d=\"M 251.11111111111114 143.21428571428572 353.3333333333333 168.21428571428572\" stroke=\"black\" stroke-width=\"1\"/><path d=\"M 251.11111111111114 143.21428571428572 304.44444444444446 191.42857142857142\" stroke=\"black\" stroke-width=\"1\"/><path d=\"M 251.11111111111114 143.21428571428572 340.0 186.07142857142858\" stroke=\"black\" stroke-width=\"1\"/><path d=\"M 251.11111111111114 143.21428571428572 282.22222222222223 125.35714285714286\" stroke=\"black\" stroke-width=\"1\"/><path d=\"M 251.11111111111114 143.21428571428572 197.7777777777778 100.35714285714286\" stroke=\"black\" stroke-width=\"1\"/><path d=\"M 251.11111111111114 143.21428571428572 282.22222222222223 153.92857142857142\" stroke=\"black\" stroke-width=\"1\"/><path d=\"M 251.11111111111114 143.21428571428572 122.22222222222221 103.92857142857143\" stroke=\"black\" stroke-width=\"1\"/><path d=\"M 251.11111111111114 143.21428571428572 197.7777777777778 120.0\" stroke=\"black\" stroke-width=\"1\"/><path d=\"M 251.11111111111114 143.21428571428572 260.0 73.57142857142857\" stroke=\"black\" stroke-width=\"1\"/><path d=\"M 304.44444444444446 191.42857142857142 264.44444444444446 200.35714285714286\" stroke=\"black\" stroke-width=\"1\"/><path d=\"M 304.44444444444446 191.42857142857142 353.3333333333333 168.21428571428572\" stroke=\"black\" stroke-width=\"1\"/><path d=\"M 304.44444444444446 191.42857142857142 251.11111111111114 143.21428571428572\" stroke=\"black\" stroke-width=\"1\"/><path d=\"M 304.44444444444446 191.42857142857142 340.0 186.07142857142858\" stroke=\"black\" stroke-width=\"1\"/><path d=\"M 304.44444444444446 191.42857142857142 335.55555555555554 236.07142857142853\" stroke=\"black\" stroke-width=\"1\"/><path d=\"M 304.44444444444446 191.42857142857142 282.22222222222223 153.92857142857142\" stroke=\"black\" stroke-width=\"1\"/><path d=\"M 255.55555555555557 255.71428571428572 264.44444444444446 200.35714285714286\" stroke=\"black\" stroke-width=\"1\"/><path d=\"M 255.55555555555557 255.71428571428572 264.44444444444446 277.1428571428571\" stroke=\"black\" stroke-width=\"1\"/><path d=\"M 255.55555555555557 255.71428571428572 188.88888888888889 252.1428571428571\" stroke=\"black\" stroke-width=\"1\"/><path d=\"M 211.1111111111111 275.3571428571429 264.44444444444446 200.35714285714286\" stroke=\"black\" stroke-width=\"1\"/><path d=\"M 211.1111111111111 275.3571428571429 264.44444444444446 277.1428571428571\" stroke=\"black\" stroke-width=\"1\"/><path d=\"M 211.1111111111111 275.3571428571429 188.88888888888889 252.1428571428571\" stroke=\"black\" stroke-width=\"1\"/><path d=\"M 211.1111111111111 275.3571428571429 220.0 320.0\" stroke=\"black\" stroke-width=\"1\"/><path d=\"M 264.44444444444446 277.1428571428571 264.44444444444446 200.35714285714286\" stroke=\"black\" stroke-width=\"1\"/><path d=\"M 264.44444444444446 277.1428571428571 255.55555555555557 255.71428571428572\" stroke=\"black\" stroke-width=\"1\"/><path d=\"M 264.44444444444446 277.1428571428571 211.1111111111111 275.3571428571429\" stroke=\"black\" stroke-width=\"1\"/><path d=\"M 264.44444444444446 277.1428571428571 220.0 320.0\" stroke=\"black\" stroke-width=\"1\"/><path d=\"M 340.0 186.07142857142858 264.44444444444446 200.35714285714286\" stroke=\"black\" stroke-width=\"1\"/><path d=\"M 340.0 186.07142857142858 353.3333333333333 168.21428571428572\" stroke=\"black\" stroke-width=\"1\"/><path d=\"M 340.0 186.07142857142858 251.11111111111114 143.21428571428572\" stroke=\"black\" stroke-width=\"1\"/><path d=\"M 340.0 186.07142857142858 304.44444444444446 191.42857142857142\" stroke=\"black\" stroke-width=\"1\"/><path d=\"M 282.22222222222223 125.35714285714286 264.44444444444446 200.35714285714286\" stroke=\"black\" stroke-width=\"1\"/><path d=\"M 282.22222222222223 125.35714285714286 251.11111111111114 143.21428571428572\" stroke=\"black\" stroke-width=\"1\"/><path d=\"M 282.22222222222223 125.35714285714286 344.44444444444446 107.5\" stroke=\"black\" stroke-width=\"1\"/><path d=\"M 282.22222222222223 125.35714285714286 260.0 73.57142857142857\" stroke=\"black\" stroke-width=\"1\"/><path d=\"M 282.22222222222223 125.35714285714286 246.66666666666666 82.5\" stroke=\"black\" stroke-width=\"1\"/><path d=\"M 197.7777777777778 100.35714285714286 251.11111111111114 143.21428571428572\" stroke=\"black\" stroke-width=\"1\"/><path d=\"M 197.7777777777778 100.35714285714286 246.66666666666666 82.5\" stroke=\"black\" stroke-width=\"1\"/><path d=\"M 188.88888888888889 252.1428571428571 264.44444444444446 200.35714285714286\" stroke=\"black\" stroke-width=\"1\"/><path d=\"M 188.88888888888889 252.1428571428571 255.55555555555557 255.71428571428572\" stroke=\"black\" stroke-width=\"1\"/><path d=\"M 188.88888888888889 252.1428571428571 211.1111111111111 275.3571428571429\" stroke=\"black\" stroke-width=\"1\"/><path d=\"M 122.22222222222221 212.85714285714283 264.44444444444446 200.35714285714286\" stroke=\"black\" stroke-width=\"1\"/><path d=\"M 335.55555555555554 236.07142857142853 264.44444444444446 200.35714285714286\" stroke=\"black\" stroke-width=\"1\"/><path d=\"M 335.55555555555554 236.07142857142853 304.44444444444446 191.42857142857142\" stroke=\"black\" stroke-width=\"1\"/><path d=\"M 282.22222222222223 153.92857142857142 264.44444444444446 200.35714285714286\" stroke=\"black\" stroke-width=\"1\"/><path d=\"M 282.22222222222223 153.92857142857142 353.3333333333333 168.21428571428572\" stroke=\"black\" stroke-width=\"1\"/><path d=\"M 282.22222222222223 153.92857142857142 251.11111111111114 143.21428571428572\" stroke=\"black\" stroke-width=\"1\"/><path d=\"M 282.22222222222223 153.92857142857142 304.44444444444446 191.42857142857142\" stroke=\"black\" stroke-width=\"1\"/><path d=\"M 282.22222222222223 153.92857142857142 246.66666666666666 82.5\" stroke=\"black\" stroke-width=\"1\"/><path d=\"M 348.88888888888886 43.21428571428571 260.0 73.57142857142857\" stroke=\"black\" stroke-width=\"1\"/><path d=\"M 348.88888888888886 43.21428571428571 246.66666666666666 82.5\" stroke=\"black\" stroke-width=\"1\"/><path d=\"M 273.33333333333337 27.14285714285715 260.0 73.57142857142857\" stroke=\"black\" stroke-width=\"1\"/><path d=\"M 273.33333333333337 27.14285714285715 246.66666666666666 82.5\" stroke=\"black\" stroke-width=\"1\"/><path d=\"M 220.0 320.0 211.1111111111111 275.3571428571429\" stroke=\"black\" stroke-width=\"1\"/><path d=\"M 220.0 320.0 264.44444444444446 277.1428571428571\" stroke=\"black\" stroke-width=\"1\"/><path d=\"M 388.8888888888889 216.42857142857142 264.44444444444446 200.35714285714286\" stroke=\"black\" stroke-width=\"1\"/><path d=\"M 388.8888888888889 216.42857142857142 353.3333333333333 168.21428571428572\" stroke=\"black\" stroke-width=\"1\"/><path d=\"M 313.33333333333337 34.2857142857143 260.0 73.57142857142857\" stroke=\"black\" stroke-width=\"1\"/><path d=\"M 313.33333333333337 34.2857142857143 246.66666666666666 82.5\" stroke=\"black\" stroke-width=\"1\"/><path d=\"M 331.1111111111111 143.21428571428572 264.44444444444446 200.35714285714286\" stroke=\"black\" stroke-width=\"1\"/><path d=\"M 331.1111111111111 143.21428571428572 353.3333333333333 168.21428571428572\" stroke=\"black\" stroke-width=\"1\"/><path d=\"M 331.1111111111111 143.21428571428572 246.66666666666666 82.5\" stroke=\"black\" stroke-width=\"1\"/><path d=\"M 366.6666666666667 61.07142857142858 260.0 73.57142857142857\" stroke=\"black\" stroke-width=\"1\"/><path d=\"M 366.6666666666667 61.07142857142858 246.66666666666666 82.5\" stroke=\"black\" stroke-width=\"1\"/><path d=\"M 420.0 202.14285714285714 264.44444444444446 200.35714285714286\" stroke=\"black\" stroke-width=\"1\"/><path d=\"M 420.0 202.14285714285714 353.3333333333333 168.21428571428572\" stroke=\"black\" stroke-width=\"1\"/><path d=\"M 228.8888888888889 32.50000000000001 260.0 73.57142857142857\" stroke=\"black\" stroke-width=\"1\"/><path d=\"M 228.8888888888889 32.50000000000001 246.66666666666666 82.5\" stroke=\"black\" stroke-width=\"1\"/><path d=\"M 131.11111111111111 68.21428571428572 28.888888888888896 91.42857142857143\" stroke=\"black\" stroke-width=\"1\"/><path d=\"M 131.11111111111111 68.21428571428572 122.22222222222221 103.92857142857143\" stroke=\"black\" stroke-width=\"1\"/><path d=\"M 131.11111111111111 68.21428571428572 171.1111111111111 45.0\" stroke=\"black\" stroke-width=\"1\"/><path d=\"M 131.11111111111111 68.21428571428572 260.0 73.57142857142857\" stroke=\"black\" stroke-width=\"1\"/><path d=\"M 131.11111111111111 68.21428571428572 246.66666666666666 82.5\" stroke=\"black\" stroke-width=\"1\"/><path d=\"M 20.0 116.42857142857142 28.888888888888896 91.42857142857143\" stroke=\"black\" stroke-width=\"1\"/><path d=\"M 20.0 116.42857142857142 122.22222222222221 103.92857142857143\" stroke=\"black\" stroke-width=\"1\"/><path d=\"M 20.0 116.42857142857142 153.33333333333334 125.35714285714286\" stroke=\"black\" stroke-width=\"1\"/><path d=\"M 28.888888888888896 91.42857142857143 131.11111111111111 68.21428571428572\" stroke=\"black\" stroke-width=\"1\"/><path d=\"M 28.888888888888896 91.42857142857143 20.0 116.42857142857142\" stroke=\"black\" stroke-width=\"1\"/><path d=\"M 28.888888888888896 91.42857142857143 153.33333333333334 125.35714285714286\" stroke=\"black\" stroke-width=\"1\"/><path d=\"M 162.22222222222223 20.0 171.1111111111111 45.0\" stroke=\"black\" stroke-width=\"1\"/><path d=\"M 162.22222222222223 20.0 246.66666666666666 82.5\" stroke=\"black\" stroke-width=\"1\"/><path d=\"M 122.22222222222221 103.92857142857143 251.11111111111114 143.21428571428572\" stroke=\"black\" stroke-width=\"1\"/><path d=\"M 122.22222222222221 103.92857142857143 131.11111111111111 68.21428571428572\" stroke=\"black\" stroke-width=\"1\"/><path d=\"M 122.22222222222221 103.92857142857143 20.0 116.42857142857142\" stroke=\"black\" stroke-width=\"1\"/><path d=\"M 122.22222222222221 103.92857142857143 246.66666666666666 82.5\" stroke=\"black\" stroke-width=\"1\"/><path d=\"M 197.7777777777778 120.0 251.11111111111114 143.21428571428572\" stroke=\"black\" stroke-width=\"1\"/><path d=\"M 197.7777777777778 120.0 153.33333333333334 125.35714285714286\" stroke=\"black\" stroke-width=\"1\"/><path d=\"M 197.7777777777778 120.0 246.66666666666666 82.5\" stroke=\"black\" stroke-width=\"1\"/><path d=\"M 171.1111111111111 45.0 131.11111111111111 68.21428571428572\" stroke=\"black\" stroke-width=\"1\"/><path d=\"M 171.1111111111111 45.0 162.22222222222223 20.0\" stroke=\"black\" stroke-width=\"1\"/><path d=\"M 171.1111111111111 45.0 260.0 73.57142857142857\" stroke=\"black\" stroke-width=\"1\"/><path d=\"M 171.1111111111111 45.0 246.66666666666666 82.5\" stroke=\"black\" stroke-width=\"1\"/><path d=\"M 344.44444444444446 107.5 353.3333333333333 168.21428571428572\" stroke=\"black\" stroke-width=\"1\"/><path d=\"M 344.44444444444446 107.5 282.22222222222223 125.35714285714286\" stroke=\"black\" stroke-width=\"1\"/><path d=\"M 344.44444444444446 107.5 260.0 73.57142857142857\" stroke=\"black\" stroke-width=\"1\"/><path d=\"M 344.44444444444446 107.5 246.66666666666666 82.5\" stroke=\"black\" stroke-width=\"1\"/><path d=\"M 153.33333333333334 125.35714285714286 264.44444444444446 200.35714285714286\" stroke=\"black\" stroke-width=\"1\"/><path d=\"M 153.33333333333334 125.35714285714286 20.0 116.42857142857142\" stroke=\"black\" stroke-width=\"1\"/><path d=\"M 153.33333333333334 125.35714285714286 28.888888888888896 91.42857142857143\" stroke=\"black\" stroke-width=\"1\"/><path d=\"M 153.33333333333334 125.35714285714286 197.7777777777778 120.0\" stroke=\"black\" stroke-width=\"1\"/><path d=\"M 153.33333333333334 125.35714285714286 260.0 73.57142857142857\" stroke=\"black\" stroke-width=\"1\"/><path d=\"M 153.33333333333334 125.35714285714286 246.66666666666666 82.5\" stroke=\"black\" stroke-width=\"1\"/><path d=\"M 260.0 73.57142857142857 251.11111111111114 143.21428571428572\" stroke=\"black\" stroke-width=\"1\"/><path d=\"M 260.0 73.57142857142857 282.22222222222223 125.35714285714286\" stroke=\"black\" stroke-width=\"1\"/><path d=\"M 260.0 73.57142857142857 348.88888888888886 43.21428571428571\" stroke=\"black\" stroke-width=\"1\"/><path d=\"M 260.0 73.57142857142857 273.33333333333337 27.14285714285715\" stroke=\"black\" stroke-width=\"1\"/><path d=\"M 260.0 73.57142857142857 313.33333333333337 34.2857142857143\" stroke=\"black\" stroke-width=\"1\"/><path d=\"M 260.0 73.57142857142857 366.6666666666667 61.07142857142858\" stroke=\"black\" stroke-width=\"1\"/><path d=\"M 260.0 73.57142857142857 228.8888888888889 32.50000000000001\" stroke=\"black\" stroke-width=\"1\"/><path d=\"M 260.0 73.57142857142857 131.11111111111111 68.21428571428572\" stroke=\"black\" stroke-width=\"1\"/><path d=\"M 260.0 73.57142857142857 171.1111111111111 45.0\" stroke=\"black\" stroke-width=\"1\"/><path d=\"M 260.0 73.57142857142857 344.44444444444446 107.5\" stroke=\"black\" stroke-width=\"1\"/><path d=\"M 260.0 73.57142857142857 153.33333333333334 125.35714285714286\" stroke=\"black\" stroke-width=\"1\"/><path d=\"M 260.0 73.57142857142857 246.66666666666666 82.5\" stroke=\"black\" stroke-width=\"1\"/><path d=\"M 246.66666666666666 82.5 282.22222222222223 125.35714285714286\" stroke=\"black\" stroke-width=\"1\"/><path d=\"M 246.66666666666666 82.5 197.7777777777778 100.35714285714286\" stroke=\"black\" stroke-width=\"1\"/><path d=\"M 246.66666666666666 82.5 282.22222222222223 153.92857142857142\" stroke=\"black\" stroke-width=\"1\"/><path d=\"M 246.66666666666666 82.5 348.88888888888886 43.21428571428571\" stroke=\"black\" stroke-width=\"1\"/><path d=\"M 246.66666666666666 82.5 273.33333333333337 27.14285714285715\" stroke=\"black\" stroke-width=\"1\"/><path d=\"M 246.66666666666666 82.5 313.33333333333337 34.2857142857143\" stroke=\"black\" stroke-width=\"1\"/><path d=\"M 246.66666666666666 82.5 331.1111111111111 143.21428571428572\" stroke=\"black\" stroke-width=\"1\"/><path d=\"M 246.66666666666666 82.5 366.6666666666667 61.07142857142858\" stroke=\"black\" stroke-width=\"1\"/><path d=\"M 246.66666666666666 82.5 228.8888888888889 32.50000000000001\" stroke=\"black\" stroke-width=\"1\"/><path d=\"M 246.66666666666666 82.5 131.11111111111111 68.21428571428572\" stroke=\"black\" stroke-width=\"1\"/><path d=\"M 246.66666666666666 82.5 162.22222222222223 20.0\" stroke=\"black\" stroke-width=\"1\"/><path d=\"M 246.66666666666666 82.5 122.22222222222221 103.92857142857143\" stroke=\"black\" stroke-width=\"1\"/><path d=\"M 246.66666666666666 82.5 197.7777777777778 120.0\" stroke=\"black\" stroke-width=\"1\"/><path d=\"M 246.66666666666666 82.5 171.1111111111111 45.0\" stroke=\"black\" stroke-width=\"1\"/><path d=\"M 246.66666666666666 82.5 344.44444444444446 107.5\" stroke=\"black\" stroke-width=\"1\"/><path d=\"M 246.66666666666666 82.5 153.33333333333334 125.35714285714286\" stroke=\"black\" stroke-width=\"1\"/><path d=\"M 246.66666666666666 82.5 260.0 73.57142857142857\" stroke=\"black\" stroke-width=\"1\"/><circle cx=\"264.44444444444446\" cy=\"200.35714285714286\" r=\"7\" style=\"fill:blue;stroke:black;stroke-width:1\"/><circle cx=\"353.3333333333333\" cy=\"168.21428571428572\" r=\"7\" style=\"fill:blue;stroke:black;stroke-width:1\"/><circle cx=\"251.11111111111114\" cy=\"143.21428571428572\" r=\"7\" style=\"fill:blue;stroke:black;stroke-width:1\"/><circle cx=\"304.44444444444446\" cy=\"191.42857142857142\" r=\"7\" style=\"fill:blue;stroke:black;stroke-width:1\"/><circle cx=\"255.55555555555557\" cy=\"255.71428571428572\" r=\"7\" style=\"fill:orange;stroke:black;stroke-width:1\"/><circle cx=\"211.1111111111111\" cy=\"275.3571428571429\" r=\"7\" style=\"fill:orange;stroke:black;stroke-width:1\"/><circle cx=\"264.44444444444446\" cy=\"277.1428571428571\" r=\"7\" style=\"fill:orange;stroke:black;stroke-width:1\"/><circle cx=\"340.0\" cy=\"186.07142857142858\" r=\"7\" style=\"fill:blue;stroke:black;stroke-width:1\"/><circle cx=\"282.22222222222223\" cy=\"125.35714285714286\" r=\"7\" style=\"fill:red;stroke:black;stroke-width:1\"/><circle cx=\"197.7777777777778\" cy=\"100.35714285714286\" r=\"7\" style=\"fill:blue;stroke:black;stroke-width:1\"/><circle cx=\"188.88888888888889\" cy=\"252.1428571428571\" r=\"7\" style=\"fill:orange;stroke:black;stroke-width:1\"/><circle cx=\"122.22222222222221\" cy=\"212.85714285714283\" r=\"7\" style=\"fill:blue;stroke:black;stroke-width:1\"/><circle cx=\"335.55555555555554\" cy=\"236.07142857142853\" r=\"7\" style=\"fill:blue;stroke:black;stroke-width:1\"/><circle cx=\"282.22222222222223\" cy=\"153.92857142857142\" r=\"7\" style=\"fill:blue;stroke:black;stroke-width:1\"/><circle cx=\"348.88888888888886\" cy=\"43.21428571428571\" r=\"7\" style=\"fill:red;stroke:black;stroke-width:1\"/><circle cx=\"273.33333333333337\" cy=\"27.14285714285715\" r=\"7\" style=\"fill:red;stroke:black;stroke-width:1\"/><circle cx=\"220.0\" cy=\"320.0\" r=\"7\" style=\"fill:orange;stroke:black;stroke-width:1\"/><circle cx=\"388.8888888888889\" cy=\"216.42857142857142\" r=\"7\" style=\"fill:blue;stroke:black;stroke-width:1\"/><circle cx=\"313.33333333333337\" cy=\"34.2857142857143\" r=\"7\" style=\"fill:red;stroke:black;stroke-width:1\"/><circle cx=\"331.1111111111111\" cy=\"143.21428571428572\" r=\"7\" style=\"fill:blue;stroke:black;stroke-width:1\"/><circle cx=\"366.6666666666667\" cy=\"61.07142857142858\" r=\"7\" style=\"fill:red;stroke:black;stroke-width:1\"/><circle cx=\"420.0\" cy=\"202.14285714285714\" r=\"7\" style=\"fill:blue;stroke:black;stroke-width:1\"/><circle cx=\"228.8888888888889\" cy=\"32.50000000000001\" r=\"7\" style=\"fill:red;stroke:black;stroke-width:1\"/><circle cx=\"131.11111111111111\" cy=\"68.21428571428572\" r=\"7\" style=\"fill:green;stroke:black;stroke-width:1\"/><circle cx=\"20.0\" cy=\"116.42857142857142\" r=\"7\" style=\"fill:green;stroke:black;stroke-width:1\"/><circle cx=\"28.888888888888896\" cy=\"91.42857142857143\" r=\"7\" style=\"fill:green;stroke:black;stroke-width:1\"/><circle cx=\"162.22222222222223\" cy=\"20.0\" r=\"7\" style=\"fill:green;stroke:black;stroke-width:1\"/><circle cx=\"122.22222222222221\" cy=\"103.92857142857143\" r=\"7\" style=\"fill:green;stroke:black;stroke-width:1\"/><circle cx=\"197.7777777777778\" cy=\"120.0\" r=\"7\" style=\"fill:green;stroke:black;stroke-width:1\"/><circle cx=\"171.1111111111111\" cy=\"45.0\" r=\"7\" style=\"fill:green;stroke:black;stroke-width:1\"/><circle cx=\"344.44444444444446\" cy=\"107.5\" r=\"7\" style=\"fill:red;stroke:black;stroke-width:1\"/><circle cx=\"153.33333333333334\" cy=\"125.35714285714286\" r=\"7\" style=\"fill:green;stroke:black;stroke-width:1\"/><circle cx=\"260.0\" cy=\"73.57142857142857\" r=\"7\" style=\"fill:red;stroke:black;stroke-width:1\"/><circle cx=\"246.66666666666666\" cy=\"82.5\" r=\"7\" style=\"fill:red;stroke:black;stroke-width:1\"/></svg>"
      ],
      "text/plain": [
       "<IPython.core.display.SVG object>"
      ]
     },
     "execution_count": 13,
     "metadata": {},
     "output_type": "execute_result"
    }
   ],
   "source": [
    "SVG(image)"
   ]
  },
  {
   "cell_type": "markdown",
   "metadata": {},
   "source": [
    "**Metrics**"
   ]
  },
  {
   "cell_type": "code",
   "execution_count": 14,
   "metadata": {
    "pycharm": {
     "is_executing": false
    }
   },
   "outputs": [
    {
     "data": {
      "text/plain": [
       "0.6666666666666667"
      ]
     },
     "execution_count": 14,
     "metadata": {},
     "output_type": "execute_result"
    }
   ],
   "source": [
    "dasgupta_score(adjacency, dendrogram)"
   ]
  },
  {
   "cell_type": "code",
   "execution_count": 15,
   "metadata": {
    "pycharm": {
     "is_executing": false
    }
   },
   "outputs": [
    {
     "data": {
      "text/plain": [
       "0.4873296566055281"
      ]
     },
     "execution_count": 15,
     "metadata": {},
     "output_type": "execute_result"
    }
   ],
   "source": [
    "tree_sampling_divergence(adjacency, dendrogram)"
   ]
  },
  {
   "cell_type": "markdown",
   "metadata": {},
   "source": [
    "## Digraphs"
   ]
  },
  {
   "cell_type": "markdown",
   "metadata": {},
   "source": [
    "**Loading**"
   ]
  },
  {
   "cell_type": "code",
   "execution_count": 16,
   "metadata": {
    "pycharm": {
     "is_executing": false
    }
   },
   "outputs": [],
   "source": [
    "graph = painters(metadata=True)\n",
    "adjacency = graph.adjacency\n",
    "position = graph.position\n",
    "names = graph.names"
   ]
  },
  {
   "cell_type": "markdown",
   "metadata": {},
   "source": [
    "**Clustering**"
   ]
  },
  {
   "cell_type": "code",
   "execution_count": 17,
   "metadata": {
    "pycharm": {
     "is_executing": false
    }
   },
   "outputs": [],
   "source": [
    "paris = Paris()\n",
    "dendrogram = paris.fit_transform(adjacency)"
   ]
  },
  {
   "cell_type": "markdown",
   "metadata": {},
   "source": [
    "**Visualization**"
   ]
  },
  {
   "cell_type": "code",
   "execution_count": 18,
   "metadata": {
    "pycharm": {
     "is_executing": false
    }
   },
   "outputs": [
    {
     "data": {
      "image/png": "[encoded data removed]",
      "text/plain": [
       "<Figure size 432x288 with 1 Axes>"
      ]
     },
     "metadata": {
      "needs_background": "light"
     },
     "output_type": "display_data"
    }
   ],
   "source": [
    "_ = show_dendrogram(dendrogram, labels = names, orientation = 'left')"
   ]
  },
  {
   "cell_type": "markdown",
   "metadata": {},
   "source": [
    "**Cuts of the dendrogram**"
   ]
  },
  {
   "cell_type": "code",
   "execution_count": 19,
   "metadata": {
    "pycharm": {
     "is_executing": false
    }
   },
   "outputs": [
    {
     "name": "stdout",
     "output_type": "stream",
     "text": [
      "[0 0 1 0 1 1 2 0 0 1 0 0 0 2]\n"
     ]
    }
   ],
   "source": [
    "# cut with 3 clusters\n",
    "labels = cut_straight(dendrogram, n_clusters = 3)\n",
    "print(labels)"
   ]
  },
  {
   "cell_type": "markdown",
   "metadata": {},
   "source": [
    "**Visualization**"
   ]
  },
  {
   "cell_type": "code",
   "execution_count": 20,
   "metadata": {
    "pycharm": {
     "is_executing": false
    }
   },
   "outputs": [],
   "source": [
    "image = svg_digraph(adjacency, position, names=names, labels=labels)"
   ]
  },
  {
   "cell_type": "code",
   "execution_count": 21,
   "metadata": {},
   "outputs": [
    {
     "data": {
      "image/svg+xml": [
       "<svg height=\"340\" width=\"566.0\"><defs><marker id=\"arrow\" markerHeight=\"10\" markerWidth=\"10\" orient=\"auto-start-reverse\" refX=\"5\" refY=\"5\" viewBox=\"0 0 10 10\"><path d=\"M 0 0 L 10 5 L 0 10 z\"/></marker></defs><path d=\"M 247.2 48.402366863905314 85.14267382601204 63.1130574458636\" marker-end=\"url(#arrow)\" stroke=\"black\" stroke-width=\"1\"/><path d=\"M 247.2 48.402366863905314 177.9492920617193 54.31247507438672\" marker-end=\"url(#arrow)\" stroke=\"black\" stroke-width=\"1\"/><path d=\"M 20.0 108.75739644970413 60.62090148796449 73.548358778692\" marker-end=\"url(#arrow)\" stroke=\"black\" stroke-width=\"1\"/><path d=\"M 20.0 108.75739644970413 80.2412612773599 127.6457517833245\" marker-end=\"url(#arrow)\" stroke=\"black\" stroke-width=\"1\"/><path d=\"M 74.39999999999999 268.5207100591716 139.5708513284476 312.20494379911656\" marker-end=\"url(#arrow)\" stroke=\"black\" stroke-width=\"1\"/><path d=\"M 71.19999999999999 64.37869822485206 233.25732617398793 49.66800764289377\" marker-end=\"url(#arrow)\" stroke=\"black\" stroke-width=\"1\"/><path d=\"M 71.19999999999999 64.37869822485206 30.5790985120355 99.58773589586418\" marker-end=\"url(#arrow)\" stroke=\"black\" stroke-width=\"1\"/><path d=\"M 71.19999999999999 64.37869822485206 57.46410180962103 148.19612431259355\" marker-end=\"url(#arrow)\" stroke=\"black\" stroke-width=\"1\"/><path d=\"M 71.19999999999999 64.37869822485206 119.3157581453872 86.85569517847424\" marker-end=\"url(#arrow)\" stroke=\"black\" stroke-width=\"1\"/><path d=\"M 71.19999999999999 64.37869822485206 89.18791889659511 118.54772702377015\" marker-end=\"url(#arrow)\" stroke=\"black\" stroke-width=\"1\"/><path d=\"M 144.79999999999998 227.69230769230768 86.51070524029606 261.4971199100623\" marker-end=\"url(#arrow)\" stroke=\"black\" stroke-width=\"1\"/><path d=\"M 144.79999999999998 227.69230769230768 196.13710550719676 251.89896801837128\" marker-end=\"url(#arrow)\" stroke=\"black\" stroke-width=\"1\"/><path d=\"M 144.79999999999998 227.69230769230768 150.23165800671956 306.0335289430705\" marker-end=\"url(#arrow)\" stroke=\"black\" stroke-width=\"1\"/><path d=\"M 208.79999999999998 257.8698224852071 88.35624462825146 267.41471011504774\" marker-end=\"url(#arrow)\" stroke=\"black\" stroke-width=\"1\"/><path d=\"M 208.79999999999998 257.8698224852071 157.4628944928032 233.66316215914352\" marker-end=\"url(#arrow)\" stroke=\"black\" stroke-width=\"1\"/><path d=\"M 208.79999999999998 257.8698224852071 205.98224128759958 154.70484004155247\" marker-end=\"url(#arrow)\" stroke=\"black\" stroke-width=\"1\"/><path d=\"M 208.79999999999998 257.8698224852071 160.71812148815317 309.7332885821819\" marker-end=\"url(#arrow)\" stroke=\"black\" stroke-width=\"1\"/><path d=\"M 420.0 20.0 261.014635285304 46.131716751264946\" marker-end=\"url(#arrow)\" stroke=\"black\" stroke-width=\"1\"/><path d=\"M 420.0 20.0 406.93756183450245 80.86787014987756\" marker-end=\"url(#arrow)\" stroke=\"black\" stroke-width=\"1\"/><path d=\"M 55.199999999999996 162.01183431952663 27.71974381005979 120.43667534469776\" marker-end=\"url(#arrow)\" stroke=\"black\" stroke-width=\"1\"/><path d=\"M 55.199999999999996 162.01183431952663 71.91629929823105 254.7427845685895\" marker-end=\"url(#arrow)\" stroke=\"black\" stroke-width=\"1\"/><path d=\"M 55.199999999999996 162.01183431952663 68.93589819037896 78.19440823178513\" marker-end=\"url(#arrow)\" stroke=\"black\" stroke-width=\"1\"/><path d=\"M 55.199999999999996 162.01183431952663 191.73834365456335 142.67334299239786\" marker-end=\"url(#arrow)\" stroke=\"black\" stroke-width=\"1\"/><path d=\"M 55.199999999999996 162.01183431952663 121.60134285211572 102.1548545850473\" marker-end=\"url(#arrow)\" stroke=\"black\" stroke-width=\"1\"/><path d=\"M 55.199999999999996 162.01183431952663 82.59239087037864 140.4848999262002\" marker-end=\"url(#arrow)\" stroke=\"black\" stroke-width=\"1\"/><path d=\"M 205.6 140.71005917159763 241.44781918929343 61.16608168056191\" marker-end=\"url(#arrow)\" stroke=\"black\" stroke-width=\"1\"/><path d=\"M 205.6 140.71005917159763 33.79703039488495 111.13267586118836\" marker-end=\"url(#arrow)\" stroke=\"black\" stroke-width=\"1\"/><path d=\"M 205.6 140.71005917159763 152.82071747598778 216.2176359684463\" marker-end=\"url(#arrow)\" stroke=\"black\" stroke-width=\"1\"/><path d=\"M 205.6 140.71005917159763 208.4177587124004 243.8750416152523\" marker-end=\"url(#arrow)\" stroke=\"black\" stroke-width=\"1\"/><path d=\"M 205.6 140.71005917159763 69.06165634543665 160.0485504987264\" marker-end=\"url(#arrow)\" stroke=\"black\" stroke-width=\"1\"/><path d=\"M 205.6 140.71005917159763 170.14217175478083 68.08364719914144\" marker-end=\"url(#arrow)\" stroke=\"black\" stroke-width=\"1\"/><path d=\"M 205.6 140.71005917159763 143.73172443363885 100.42087148768931\" marker-end=\"url(#arrow)\" stroke=\"black\" stroke-width=\"1\"/><path d=\"M 151.2 320.0 86.0291486715524 276.31576626005506\" marker-end=\"url(#arrow)\" stroke=\"black\" stroke-width=\"1\"/><path d=\"M 151.2 320.0 145.76834199328042 241.65877874923717\" marker-end=\"url(#arrow)\" stroke=\"black\" stroke-width=\"1\"/><path d=\"M 164.0 55.50295857988165 233.2507079382807 49.592850369400246\" marker-end=\"url(#arrow)\" stroke=\"black\" stroke-width=\"1\"/><path d=\"M 164.0 55.50295857988165 85.13640191898858 63.04576853712998\" marker-end=\"url(#arrow)\" stroke=\"black\" stroke-width=\"1\"/><path d=\"M 164.0 55.50295857988165 199.45782824521916 128.12937055233786\" marker-end=\"url(#arrow)\" stroke=\"black\" stroke-width=\"1\"/><path d=\"M 164.0 55.50295857988165 141.11885304855906 82.15814086428956\" marker-end=\"url(#arrow)\" stroke=\"black\" stroke-width=\"1\"/><path d=\"M 164.0 55.50295857988165 103.09157336962562 121.54305940120943\" marker-end=\"url(#arrow)\" stroke=\"black\" stroke-width=\"1\"/><path d=\"M 132.0 92.78106508875739 234.13586134956552 53.43508792931554\" marker-end=\"url(#arrow)\" stroke=\"black\" stroke-width=\"1\"/><path d=\"M 132.0 92.78106508875739 33.859702664396366 106.7803678574667\" marker-end=\"url(#arrow)\" stroke=\"black\" stroke-width=\"1\"/><path d=\"M 132.0 92.78106508875739 83.88424185461278 70.30406813513521\" marker-end=\"url(#arrow)\" stroke=\"black\" stroke-width=\"1\"/><path d=\"M 132.0 92.78106508875739 154.88114695144094 66.12588280434947\" marker-end=\"url(#arrow)\" stroke=\"black\" stroke-width=\"1\"/><path d=\"M 132.0 92.78106508875739 103.41565173292979 121.85168555267865\" marker-end=\"url(#arrow)\" stroke=\"black\" stroke-width=\"1\"/><path d=\"M 93.6 131.8343195266272 33.3587387226401 112.94596419300684\" marker-end=\"url(#arrow)\" stroke=\"black\" stroke-width=\"1\"/><path d=\"M 93.6 131.8343195266272 75.61208110340488 77.66529072770912\" marker-end=\"url(#arrow)\" stroke=\"black\" stroke-width=\"1\"/><path d=\"M 93.6 131.8343195266272 138.20416955792976 215.34342026147166\" marker-end=\"url(#arrow)\" stroke=\"black\" stroke-width=\"1\"/><path d=\"M 93.6 131.8343195266272 66.20760912962135 153.36125391995364\" marker-end=\"url(#arrow)\" stroke=\"black\" stroke-width=\"1\"/><path d=\"M 404.0 94.55621301775147 417.06243816549755 33.688342867873914\" marker-end=\"url(#arrow)\" stroke=\"black\" stroke-width=\"1\"/><path d=\"M 404.0 94.55621301775147 219.23589533809997 137.53793711713888\" marker-end=\"url(#arrow)\" stroke=\"black\" stroke-width=\"1\"/><circle cx=\"247.2\" cy=\"48.402366863905314\" r=\"7\" style=\"fill:blue;stroke:black;stroke-width:1\"/><circle cx=\"20.0\" cy=\"108.75739644970413\" r=\"7\" style=\"fill:blue;stroke:black;stroke-width:1\"/><circle cx=\"74.39999999999999\" cy=\"268.5207100591716\" r=\"7\" style=\"fill:red;stroke:black;stroke-width:1\"/><circle cx=\"71.19999999999999\" cy=\"64.37869822485206\" r=\"7\" style=\"fill:blue;stroke:black;stroke-width:1\"/><circle cx=\"144.79999999999998\" cy=\"227.69230769230768\" r=\"7\" style=\"fill:red;stroke:black;stroke-width:1\"/><circle cx=\"208.79999999999998\" cy=\"257.8698224852071\" r=\"7\" style=\"fill:red;stroke:black;stroke-width:1\"/><circle cx=\"420.0\" cy=\"20.0\" r=\"7\" style=\"fill:green;stroke:black;stroke-width:1\"/><circle cx=\"55.199999999999996\" cy=\"162.01183431952663\" r=\"7\" style=\"fill:blue;stroke:black;stroke-width:1\"/><circle cx=\"205.6\" cy=\"140.71005917159763\" r=\"7\" style=\"fill:blue;stroke:black;stroke-width:1\"/><circle cx=\"151.2\" cy=\"320.0\" r=\"7\" style=\"fill:red;stroke:black;stroke-width:1\"/><circle cx=\"164.0\" cy=\"55.50295857988165\" r=\"7\" style=\"fill:blue;stroke:black;stroke-width:1\"/><circle cx=\"132.0\" cy=\"92.78106508875739\" r=\"7\" style=\"fill:blue;stroke:black;stroke-width:1\"/><circle cx=\"93.6\" cy=\"131.8343195266272\" r=\"7\" style=\"fill:blue;stroke:black;stroke-width:1\"/><circle cx=\"404.0\" cy=\"94.55621301775147\" r=\"7\" style=\"fill:green;stroke:black;stroke-width:1\"/><text font-size=\"12\" x=\"257.2\" y=\"55.402366863905314\">Pablo Picasso</text><text font-size=\"12\" x=\"30.0\" y=\"115.75739644970413\">Claude Monet</text><text font-size=\"12\" x=\"84.39999999999999\" y=\"275.5207100591716\">Michel Angelo</text><text font-size=\"12\" x=\"81.19999999999999\" y=\"71.37869822485206\">Edouard Manet</text><text font-size=\"12\" x=\"154.79999999999998\" y=\"234.69230769230768\">Peter Paul Rubens</text><text font-size=\"12\" x=\"218.79999999999998\" y=\"264.8698224852071\">Rembrandt</text><text font-size=\"12\" x=\"430.0\" y=\"27.0\">Gustav Klimt</text><text font-size=\"12\" x=\"65.19999999999999\" y=\"169.01183431952663\">Edgar Degas</text><text font-size=\"12\" x=\"215.6\" y=\"147.71005917159763\">Vincent van Gogh</text><text font-size=\"12\" x=\"161.2\" y=\"327.0\">Leonardo da Vinci</text><text font-size=\"12\" x=\"174.0\" y=\"62.50295857988165\">Henri Matisse</text><text font-size=\"12\" x=\"142.0\" y=\"99.78106508875739\">Paul Cezanne</text><text font-size=\"12\" x=\"103.6\" y=\"138.8343195266272\">Pierre-Auguste Renoir</text><text font-size=\"12\" x=\"414.0\" y=\"101.55621301775147\">Egon Schiele</text></svg>"
      ],
      "text/plain": [
       "<IPython.core.display.SVG object>"
      ]
     },
     "execution_count": 21,
     "metadata": {},
     "output_type": "execute_result"
    }
   ],
   "source": [
    "SVG(image)"
   ]
  },
  {
   "cell_type": "markdown",
   "metadata": {},
   "source": [
    "**Metrics**"
   ]
  },
  {
   "cell_type": "code",
   "execution_count": 22,
   "metadata": {
    "pycharm": {
     "is_executing": false
    }
   },
   "outputs": [
    {
     "data": {
      "text/plain": [
       "0.5842857142857143"
      ]
     },
     "execution_count": 22,
     "metadata": {},
     "output_type": "execute_result"
    }
   ],
   "source": [
    "dasgupta_score(adjacency, dendrogram)"
   ]
  },
  {
   "cell_type": "code",
   "execution_count": 23,
   "metadata": {
    "pycharm": {
     "is_executing": false
    }
   },
   "outputs": [
    {
     "data": {
      "text/plain": [
       "0.4685697020629489"
      ]
     },
     "execution_count": 23,
     "metadata": {},
     "output_type": "execute_result"
    }
   ],
   "source": [
    "tree_sampling_divergence(adjacency, dendrogram)"
   ]
  },
  {
   "cell_type": "markdown",
   "metadata": {},
   "source": [
    "## Bigraphs"
   ]
  },
  {
   "cell_type": "markdown",
   "metadata": {},
   "source": [
    "**Loading**"
   ]
  },
  {
   "cell_type": "code",
   "execution_count": 24,
   "metadata": {
    "pycharm": {
     "is_executing": false,
     "name": "#%%\n"
    }
   },
   "outputs": [],
   "source": [
    "graph = movie_actor(metadata=True)\n",
    "biadjacency = graph.biadjacency\n",
    "names_row = graph.names_row\n",
    "names_col = graph.names_col"
   ]
  },
  {
   "cell_type": "markdown",
   "metadata": {},
   "source": [
    "**Clustering**"
   ]
  },
  {
   "cell_type": "code",
   "execution_count": 25,
   "metadata": {
    "pycharm": {
     "is_executing": false,
     "name": "#%%\n"
    }
   },
   "outputs": [],
   "source": [
    "biparis = BiParis()\n",
    "biparis.fit(biadjacency)\n",
    "dendrogram_row = biparis.dendrogram_row_\n",
    "dendrogram_col = biparis.dendrogram_col_\n",
    "dendrogram_full = biparis.dendrogram_full_"
   ]
  },
  {
   "cell_type": "markdown",
   "metadata": {},
   "source": [
    "**Visualization**"
   ]
  },
  {
   "cell_type": "code",
   "execution_count": 26,
   "metadata": {
    "pycharm": {
     "is_executing": false,
     "name": "#%%\n"
    }
   },
   "outputs": [
    {
     "data": {
      "image/png": "[encoded data removed]",
      "text/plain": [
       "<Figure size 432x288 with 1 Axes>"
      ]
     },
     "metadata": {
      "needs_background": "light"
     },
     "output_type": "display_data"
    }
   ],
   "source": [
    "_ = show_dendrogram(dendrogram_row, labels = names_row, orientation = 'left')"
   ]
  },
  {
   "cell_type": "code",
   "execution_count": 27,
   "metadata": {},
   "outputs": [
    {
     "data": {
      "image/png": "[encoded data removed]",
      "text/plain": [
       "<Figure size 432x288 with 1 Axes>"
      ]
     },
     "metadata": {
      "needs_background": "light"
     },
     "output_type": "display_data"
    }
   ],
   "source": [
    "_ = show_dendrogram(dendrogram_col, labels = names_col, orientation = 'left')"
   ]
  },
  {
   "cell_type": "markdown",
   "metadata": {},
   "source": [
    "**Cuts of the dendrogram**"
   ]
  },
  {
   "cell_type": "code",
   "execution_count": 28,
   "metadata": {
    "pycharm": {
     "is_executing": false,
     "name": "#%%\n"
    }
   },
   "outputs": [],
   "source": [
    "labels = cut_straight(dendrogram_full, n_clusters = 4)\n",
    "n_row = biadjacency.shape[0]\n",
    "labels_row = labels[:n_row]\n",
    "labels_col = labels[n_row:]"
   ]
  },
  {
   "cell_type": "markdown",
   "metadata": {},
   "source": [
    "**Visualization**"
   ]
  },
  {
   "cell_type": "code",
   "execution_count": 29,
   "metadata": {},
   "outputs": [],
   "source": [
    "image = svg_bigraph(biadjacency, names_row, names_col, labels_row, labels_col)"
   ]
  },
  {
   "cell_type": "code",
   "execution_count": 30,
   "metadata": {},
   "outputs": [
    {
     "data": {
      "image/svg+xml": [
       "<svg height=\"340\" width=\"728.0\"><path d=\"M 188.0 320.0 588.0 320.0\" stroke=\"black\" stroke-width=\"1\"/><path d=\"M 188.0 320.0 588.0 300.0\" stroke=\"black\" stroke-width=\"1\"/><path d=\"M 188.0 320.0 588.0 280.0\" stroke=\"black\" stroke-width=\"1\"/><path d=\"M 188.0 300.0 588.0 300.0\" stroke=\"black\" stroke-width=\"1\"/><path d=\"M 188.0 300.0 588.0 280.0\" stroke=\"black\" stroke-width=\"1\"/><path d=\"M 188.0 300.0 588.0 260.0\" stroke=\"black\" stroke-width=\"1\"/><path d=\"M 188.0 280.0 588.0 260.0\" stroke=\"black\" stroke-width=\"1\"/><path d=\"M 188.0 280.0 588.0 239.99999999999997\" stroke=\"black\" stroke-width=\"1\"/><path d=\"M 188.0 280.0 588.0 220.0\" stroke=\"black\" stroke-width=\"1\"/><path d=\"M 188.0 280.0 588.0 160.0\" stroke=\"black\" stroke-width=\"1\"/><path d=\"M 188.0 260.0 588.0 239.99999999999997\" stroke=\"black\" stroke-width=\"1\"/><path d=\"M 188.0 260.0 588.0 200.0\" stroke=\"black\" stroke-width=\"1\"/><path d=\"M 188.0 239.99999999999997 588.0 320.0\" stroke=\"black\" stroke-width=\"1\"/><path d=\"M 188.0 239.99999999999997 588.0 200.0\" stroke=\"black\" stroke-width=\"1\"/><path d=\"M 188.0 220.0 588.0 239.99999999999997\" stroke=\"black\" stroke-width=\"1\"/><path d=\"M 188.0 220.0 588.0 180.0\" stroke=\"black\" stroke-width=\"1\"/><path d=\"M 188.0 200.0 588.0 239.99999999999997\" stroke=\"black\" stroke-width=\"1\"/><path d=\"M 188.0 200.0 588.0 180.0\" stroke=\"black\" stroke-width=\"1\"/><path d=\"M 188.0 200.0 588.0 160.0\" stroke=\"black\" stroke-width=\"1\"/><path d=\"M 188.0 180.0 588.0 260.0\" stroke=\"black\" stroke-width=\"1\"/><path d=\"M 188.0 180.0 588.0 160.0\" stroke=\"black\" stroke-width=\"1\"/><path d=\"M 188.0 160.0 588.0 140.0\" stroke=\"black\" stroke-width=\"1\"/><path d=\"M 188.0 160.0 588.0 120.0\" stroke=\"black\" stroke-width=\"1\"/><path d=\"M 188.0 160.0 588.0 100.0\" stroke=\"black\" stroke-width=\"1\"/><path d=\"M 188.0 160.0 588.0 80.0\" stroke=\"black\" stroke-width=\"1\"/><path d=\"M 188.0 160.0 588.0 20.0\" stroke=\"black\" stroke-width=\"1\"/><path d=\"M 188.0 140.0 588.0 320.0\" stroke=\"black\" stroke-width=\"1\"/><path d=\"M 188.0 140.0 588.0 100.0\" stroke=\"black\" stroke-width=\"1\"/><path d=\"M 188.0 140.0 588.0 80.0\" stroke=\"black\" stroke-width=\"1\"/><path d=\"M 188.0 120.0 588.0 140.0\" stroke=\"black\" stroke-width=\"1\"/><path d=\"M 188.0 120.0 588.0 120.0\" stroke=\"black\" stroke-width=\"1\"/><path d=\"M 188.0 100.0 588.0 220.0\" stroke=\"black\" stroke-width=\"1\"/><path d=\"M 188.0 100.0 588.0 140.0\" stroke=\"black\" stroke-width=\"1\"/><path d=\"M 188.0 100.0 588.0 60.0\" stroke=\"black\" stroke-width=\"1\"/><path d=\"M 188.0 80.0 588.0 300.0\" stroke=\"black\" stroke-width=\"1\"/><path d=\"M 188.0 80.0 588.0 140.0\" stroke=\"black\" stroke-width=\"1\"/><path d=\"M 188.0 80.0 588.0 20.0\" stroke=\"black\" stroke-width=\"1\"/><path d=\"M 188.0 60.0 588.0 80.0\" stroke=\"black\" stroke-width=\"1\"/><path d=\"M 188.0 60.0 588.0 40.0\" stroke=\"black\" stroke-width=\"1\"/><path d=\"M 188.0 40.0 588.0 100.0\" stroke=\"black\" stroke-width=\"1\"/><path d=\"M 188.0 40.0 588.0 40.0\" stroke=\"black\" stroke-width=\"1\"/><circle cx=\"188.0\" cy=\"320.0\" r=\"7\" style=\"fill:orange;stroke:black;stroke-width:1\"/><circle cx=\"188.0\" cy=\"300.0\" r=\"7\" style=\"fill:orange;stroke:black;stroke-width:1\"/><circle cx=\"188.0\" cy=\"280.0\" r=\"7\" style=\"fill:blue;stroke:black;stroke-width:1\"/><circle cx=\"188.0\" cy=\"260.0\" r=\"7\" style=\"fill:blue;stroke:black;stroke-width:1\"/><circle cx=\"188.0\" cy=\"239.99999999999997\" r=\"7\" style=\"fill:blue;stroke:black;stroke-width:1\"/><circle cx=\"188.0\" cy=\"220.0\" r=\"7\" style=\"fill:blue;stroke:black;stroke-width:1\"/><circle cx=\"188.0\" cy=\"200.0\" r=\"7\" style=\"fill:blue;stroke:black;stroke-width:1\"/><circle cx=\"188.0\" cy=\"180.0\" r=\"7\" style=\"fill:blue;stroke:black;stroke-width:1\"/><circle cx=\"188.0\" cy=\"160.0\" r=\"7\" style=\"fill:red;stroke:black;stroke-width:1\"/><circle cx=\"188.0\" cy=\"140.0\" r=\"7\" style=\"fill:green;stroke:black;stroke-width:1\"/><circle cx=\"188.0\" cy=\"120.0\" r=\"7\" style=\"fill:red;stroke:black;stroke-width:1\"/><circle cx=\"188.0\" cy=\"100.0\" r=\"7\" style=\"fill:red;stroke:black;stroke-width:1\"/><circle cx=\"188.0\" cy=\"80.0\" r=\"7\" style=\"fill:red;stroke:black;stroke-width:1\"/><circle cx=\"188.0\" cy=\"60.0\" r=\"7\" style=\"fill:green;stroke:black;stroke-width:1\"/><circle cx=\"188.0\" cy=\"40.0\" r=\"7\" style=\"fill:green;stroke:black;stroke-width:1\"/><circle cx=\"588.0\" cy=\"320.0\" r=\"7\" style=\"fill:blue;stroke:black;stroke-width:1\"/><circle cx=\"588.0\" cy=\"300.0\" r=\"7\" style=\"fill:orange;stroke:black;stroke-width:1\"/><circle cx=\"588.0\" cy=\"280.0\" r=\"7\" style=\"fill:orange;stroke:black;stroke-width:1\"/><circle cx=\"588.0\" cy=\"260.0\" r=\"7\" style=\"fill:blue;stroke:black;stroke-width:1\"/><circle cx=\"588.0\" cy=\"239.99999999999997\" r=\"7\" style=\"fill:blue;stroke:black;stroke-width:1\"/><circle cx=\"588.0\" cy=\"220.0\" r=\"7\" style=\"fill:blue;stroke:black;stroke-width:1\"/><circle cx=\"588.0\" cy=\"200.0\" r=\"7\" style=\"fill:blue;stroke:black;stroke-width:1\"/><circle cx=\"588.0\" cy=\"180.0\" r=\"7\" style=\"fill:blue;stroke:black;stroke-width:1\"/><circle cx=\"588.0\" cy=\"160.0\" r=\"7\" style=\"fill:blue;stroke:black;stroke-width:1\"/><circle cx=\"588.0\" cy=\"140.0\" r=\"7\" style=\"fill:red;stroke:black;stroke-width:1\"/><circle cx=\"588.0\" cy=\"120.0\" r=\"7\" style=\"fill:red;stroke:black;stroke-width:1\"/><circle cx=\"588.0\" cy=\"100.0\" r=\"7\" style=\"fill:green;stroke:black;stroke-width:1\"/><circle cx=\"588.0\" cy=\"80.0\" r=\"7\" style=\"fill:green;stroke:black;stroke-width:1\"/><circle cx=\"588.0\" cy=\"60.0\" r=\"7\" style=\"fill:red;stroke:black;stroke-width:1\"/><circle cx=\"588.0\" cy=\"40.0\" r=\"7\" style=\"fill:green;stroke:black;stroke-width:1\"/><circle cx=\"588.0\" cy=\"20.0\" r=\"7\" style=\"fill:red;stroke:black;stroke-width:1\"/><text font-size=\"12\" text-anchor=\"end\" x=\"178.0\" y=\"320.0\">Inception</text><text font-size=\"12\" text-anchor=\"end\" x=\"178.0\" y=\"300.0\">The Dark Knight Rises</text><text font-size=\"12\" text-anchor=\"end\" x=\"178.0\" y=\"280.0\">The Big Short</text><text font-size=\"12\" text-anchor=\"end\" x=\"178.0\" y=\"260.0\">Drive</text><text font-size=\"12\" text-anchor=\"end\" x=\"178.0\" y=\"239.99999999999997\">The Great Gatsby</text><text font-size=\"12\" text-anchor=\"end\" x=\"178.0\" y=\"220.0\">La La Land</text><text font-size=\"12\" text-anchor=\"end\" x=\"178.0\" y=\"200.0\">Crazy Stupid Love</text><text font-size=\"12\" text-anchor=\"end\" x=\"178.0\" y=\"180.0\">Vice</text><text font-size=\"12\" text-anchor=\"end\" x=\"178.0\" y=\"160.0\">The Grand Budapest Hotel</text><text font-size=\"12\" text-anchor=\"end\" x=\"178.0\" y=\"140.0\">Aviator</text><text font-size=\"12\" text-anchor=\"end\" x=\"178.0\" y=\"120.0\">007 Spectre</text><text font-size=\"12\" text-anchor=\"end\" x=\"178.0\" y=\"100.0\">Inglourious Basterds</text><text font-size=\"12\" text-anchor=\"end\" x=\"178.0\" y=\"80.0\">Midnight In Paris</text><text font-size=\"12\" text-anchor=\"end\" x=\"178.0\" y=\"60.0\">Murder on the Orient Express</text><text font-size=\"12\" text-anchor=\"end\" x=\"178.0\" y=\"40.0\">Fantastic Beasts 2</text><text font-size=\"12\" x=\"598.0\" y=\"320.0\">Leonardo DiCaprio</text><text font-size=\"12\" x=\"598.0\" y=\"300.0\">Marion Cotillard</text><text font-size=\"12\" x=\"598.0\" y=\"280.0\">Joseph Gordon Lewitt</text><text font-size=\"12\" x=\"598.0\" y=\"260.0\">Christian Bale</text><text font-size=\"12\" x=\"598.0\" y=\"239.99999999999997\">Ryan Gosling</text><text font-size=\"12\" x=\"598.0\" y=\"220.0\">Brad Pitt</text><text font-size=\"12\" x=\"598.0\" y=\"200.0\">Carey Mulligan</text><text font-size=\"12\" x=\"598.0\" y=\"180.0\">Emma Stone</text><text font-size=\"12\" x=\"598.0\" y=\"160.0\">Steve Carell</text><text font-size=\"12\" x=\"598.0\" y=\"140.0\">Lea Seydoux</text><text font-size=\"12\" x=\"598.0\" y=\"120.0\">Ralph Fiennes</text><text font-size=\"12\" x=\"598.0\" y=\"100.0\">Jude Law</text><text font-size=\"12\" x=\"598.0\" y=\"80.0\">Willem Dafoe</text><text font-size=\"12\" x=\"598.0\" y=\"60.0\">Christophe Waltz</text><text font-size=\"12\" x=\"598.0\" y=\"40.0\">Johnny Depp</text><text font-size=\"12\" x=\"598.0\" y=\"20.0\">Owen Wilson</text></svg>"
      ],
      "text/plain": [
       "<IPython.core.display.SVG object>"
      ]
     },
     "execution_count": 30,
     "metadata": {},
     "output_type": "execute_result"
    }
   ],
   "source": [
    "SVG(image)"
   ]
  }
 ],
 "metadata": {
  "kernelspec": {
   "display_name": "PyCharm (scikit-network)",
   "language": "python",
   "name": "pycharm-ac94289e"
  },
  "language_info": {
   "codemirror_mode": {
    "name": "ipython",
    "version": 3
   },
   "file_extension": ".py",
   "mimetype": "text/x-python",
   "name": "python",
   "nbconvert_exporter": "python",
   "pygments_lexer": "ipython3",
   "version": "3.7.4"
  },
  "pycharm": {
   "stem_cell": {
    "cell_type": "raw",
    "metadata": {
     "collapsed": false
    },
    "source": []
   }
  },
  "toc": {
   "base_numbering": 1,
   "nav_menu": {},
   "number_sections": true,
   "sideBar": true,
   "skip_h1_title": false,
   "title_cell": "Table of Contents",
   "title_sidebar": "Contents",
   "toc_cell": false,
   "toc_position": {},
   "toc_section_display": true,
   "toc_window_display": false
  }
 },
 "nbformat": 4,
 "nbformat_minor": 1
}

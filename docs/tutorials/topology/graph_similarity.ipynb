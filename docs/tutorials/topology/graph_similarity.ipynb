{
 "cells": [
  {
   "cell_type": "markdown",
   "metadata": {
    "collapsed": true,
    "pycharm": {
     "name": "#%% md\n"
    }
   },
   "source": [
    "# Graph Similarity Estimation"
   ]
  },
  {
   "cell_type": "markdown",
   "source": [
    "This notebook illustrates canonical labelling of a graph, Weisfeiler-Lehman test of isomorphism, and Weisfeiler-Lehman graph kernels."
   ],
   "metadata": {
    "collapsed": false,
    "pycharm": {
     "name": "#%% md\n"
    }
   }
  },
  {
   "cell_type": "markdown",
   "metadata": {
    "pycharm": {
     "name": "#%% md\n"
    }
   },
   "source": [
    "## Canonical labelling of a graph\n",
    "\n",
    "This section will show you how to apply the Weisfeiler-Lehman algorithm to a graph.\n",
    "First, import the class from the package, and the graph you want to label."
   ]
  },
  {
   "cell_type": "code",
   "execution_count": 1,
   "metadata": {
    "pycharm": {
     "name": "#%%\n"
    }
   },
   "outputs": [],
   "source": [
    "from sknetwork.topology import WLColoring, wl_kernel\n",
    "from sknetwork.data import house"
   ]
  },
  {
   "cell_type": "markdown",
   "metadata": {},
   "source": [
    "Then, instantiate the class.\n",
    "You will use it to obtain the labels for your graph."
   ]
  },
  {
   "cell_type": "code",
   "execution_count": 2,
   "metadata": {
    "pycharm": {
     "name": "#%%\n"
    }
   },
   "outputs": [],
   "source": [
    "wlc = WLColoring()\n",
    "adjacency = house()"
   ]
  },
  {
   "cell_type": "markdown",
   "metadata": {
    "pycharm": {
     "name": "#%% md\n"
    }
   },
   "source": [
    "To obtain the labelling, we use the fit method.\n",
    "There is an optional argument for maximum number of iterations."
   ]
  },
  {
   "cell_type": "code",
   "execution_count": 3,
   "metadata": {
    "pycharm": {
     "name": "#%%\n"
    }
   },
   "outputs": [],
   "source": [
    "labels = wlc.fit_transform(adjacency)"
   ]
  },
  {
   "cell_type": "markdown",
   "metadata": {
    "pycharm": {
     "name": "#%% md\n"
    }
   },
   "source": [
    "The 'labels' list now contains labels for the vertices of the input graph, where\n",
    "labels[i] is the label of the i-th vertex according to the indices given by adjacency\n",
    "\n",
    "scikit-network provides a way to represent graphs in the SVG format. You will need a few more imports :"
   ]
  },
  {
   "cell_type": "code",
   "execution_count": 4,
   "metadata": {
    "pycharm": {
     "name": "#%%\n"
    }
   },
   "outputs": [],
   "source": [
    "from IPython.display import SVG\n",
    "from sknetwork.visualization import svg_graph"
   ]
  },
  {
   "cell_type": "markdown",
   "metadata": {
    "pycharm": {
     "name": "#%% md\n"
    }
   },
   "source": [
    "Next, we gather some extra information that is necessary to the visualization of our graph :"
   ]
  },
  {
   "cell_type": "code",
   "execution_count": 5,
   "metadata": {
    "pycharm": {
     "name": "#%%\n"
    }
   },
   "outputs": [
    {
     "data": {
      "text/plain": "<IPython.core.display.SVG object>",
      "image/svg+xml": "<svg height=\"340\" width=\"440\" xmlns=\"http://www.w3.org/2000/svg\"><path d=\"M 220 20 20 120\" stroke=\"black\" stroke-width=\"1\"/><path d=\"M 220 20 420 120\" stroke=\"black\" stroke-width=\"1\"/><path d=\"M 20 120 220 20\" stroke=\"black\" stroke-width=\"1\"/><path d=\"M 20 120 20 320\" stroke=\"black\" stroke-width=\"1\"/><path d=\"M 20 120 420 120\" stroke=\"black\" stroke-width=\"1\"/><path d=\"M 20 320 20 120\" stroke=\"black\" stroke-width=\"1\"/><path d=\"M 20 320 420 320\" stroke=\"black\" stroke-width=\"1\"/><path d=\"M 420 320 20 320\" stroke=\"black\" stroke-width=\"1\"/><path d=\"M 420 320 420 120\" stroke=\"black\" stroke-width=\"1\"/><path d=\"M 420 120 220 20\" stroke=\"black\" stroke-width=\"1\"/><path d=\"M 420 120 20 120\" stroke=\"black\" stroke-width=\"1\"/><path d=\"M 420 120 420 320\" stroke=\"black\" stroke-width=\"1\"/><circle cx=\"220\" cy=\"20\" r=\"7.0\" style=\"fill:green;stroke:black;stroke-width:1.0\"/><circle cx=\"20\" cy=\"120\" r=\"7.0\" style=\"fill:blue;stroke:black;stroke-width:1.0\"/><circle cx=\"20\" cy=\"320\" r=\"7.0\" style=\"fill:red;stroke:black;stroke-width:1.0\"/><circle cx=\"420\" cy=\"320\" r=\"7.0\" style=\"fill:red;stroke:black;stroke-width:1.0\"/><circle cx=\"420\" cy=\"120\" r=\"7.0\" style=\"fill:blue;stroke:black;stroke-width:1.0\"/></svg>"
     },
     "execution_count": 5,
     "metadata": {},
     "output_type": "execute_result"
    }
   ],
   "source": [
    "graph = house(metadata=True)\n",
    "adjacency = graph.adjacency\n",
    "position = graph.position\n",
    "image = svg_graph(adjacency, position, labels=labels)\n",
    "SVG(image)"
   ]
  },
  {
   "cell_type": "markdown",
   "metadata": {
    "pycharm": {
     "name": "#%% md\n"
    }
   },
   "source": [
    "Note that you can, if you prefer, use the labels as names for the vertices :"
   ]
  },
  {
   "cell_type": "code",
   "execution_count": 6,
   "metadata": {
    "pycharm": {
     "name": "#%%\n"
    }
   },
   "outputs": [
    {
     "data": {
      "text/plain": "<IPython.core.display.SVG object>",
      "image/svg+xml": "<svg height=\"340\" width=\"446.0\" xmlns=\"http://www.w3.org/2000/svg\"><path d=\"M 220 20 20 120\" stroke=\"gray\" stroke-width=\"1\"/><path d=\"M 220 20 420 120\" stroke=\"gray\" stroke-width=\"1\"/><path d=\"M 20 120 220 20\" stroke=\"gray\" stroke-width=\"1\"/><path d=\"M 20 120 20 320\" stroke=\"gray\" stroke-width=\"1\"/><path d=\"M 20 120 420 120\" stroke=\"gray\" stroke-width=\"1\"/><path d=\"M 20 320 20 120\" stroke=\"gray\" stroke-width=\"1\"/><path d=\"M 20 320 420 320\" stroke=\"gray\" stroke-width=\"1\"/><path d=\"M 420 320 20 320\" stroke=\"gray\" stroke-width=\"1\"/><path d=\"M 420 320 420 120\" stroke=\"gray\" stroke-width=\"1\"/><path d=\"M 420 120 220 20\" stroke=\"gray\" stroke-width=\"1\"/><path d=\"M 420 120 20 120\" stroke=\"gray\" stroke-width=\"1\"/><path d=\"M 420 120 420 320\" stroke=\"gray\" stroke-width=\"1\"/><circle cx=\"220\" cy=\"20\" r=\"7.0\" style=\"fill:gray;stroke:black;stroke-width:1.0\"/><circle cx=\"20\" cy=\"120\" r=\"7.0\" style=\"fill:gray;stroke:black;stroke-width:1.0\"/><circle cx=\"20\" cy=\"320\" r=\"7.0\" style=\"fill:gray;stroke:black;stroke-width:1.0\"/><circle cx=\"420\" cy=\"320\" r=\"7.0\" style=\"fill:gray;stroke:black;stroke-width:1.0\"/><circle cx=\"420\" cy=\"120\" r=\"7.0\" style=\"fill:gray;stroke:black;stroke-width:1.0\"/><text font-size=\"12\" x=\"230\" y=\"27\">2</text><text font-size=\"12\" x=\"30\" y=\"127\">0</text><text font-size=\"12\" x=\"30\" y=\"327\">1</text><text font-size=\"12\" x=\"430\" y=\"327\">1</text><text font-size=\"12\" x=\"430\" y=\"127\">0</text></svg>"
     },
     "execution_count": 6,
     "metadata": {},
     "output_type": "execute_result"
    }
   ],
   "source": [
    "image = svg_graph(adjacency, position, names=labels)\n",
    "SVG(image)"
   ]
  },
  {
   "cell_type": "markdown",
   "metadata": {
    "pycharm": {
     "name": "#%% md\n"
    }
   },
   "source": [
    "## Weisfeiler-Lehman Test of Isomorphism\n",
    "\n",
    "The previous section shows how to find a labelling of vertices of a graph.\n",
    "\n",
    "The algorithm used\n",
    "was designed by Weisfeiler and Lehman as a test of isomorphism. In this section,\n",
    "we will see how to apply it to two graphs to determine wether they are isomorphic or not."
   ]
  },
  {
   "cell_type": "markdown",
   "metadata": {
    "pycharm": {
     "name": "#%% md\n"
    }
   },
   "source": [
    "We need to have two adjacency representations of the graphs we want to compare.\n",
    "From the toy graphs, they can be obtained quite easily :"
   ]
  },
  {
   "cell_type": "code",
   "execution_count": 8,
   "metadata": {
    "pycharm": {
     "name": "#%%\n"
    }
   },
   "outputs": [],
   "source": [
    "adjacency_1 = house()\n",
    "adjacency_2 = house()"
   ]
  },
  {
   "cell_type": "markdown",
   "metadata": {},
   "source": [
    "Then they can simply be passed as arguments to wl_kernel.\n",
    "It will return 1 if the graphs are isomorphic, 0 otherwise.\n",
    "\n",
    "\n",
    "You must specify the number of iterations you want the algorithm to run for.\n",
    "-1 is the default value, and will make it run as many times as there are vertices.\n",
    "If after h iterations, the algorithm returns 1, it means either the graphs are isomorphics,\n",
    "or the algorithm was not able to determine they are not."
   ]
  },
  {
   "cell_type": "code",
   "execution_count": 9,
   "metadata": {
    "pycharm": {
     "name": "#%%\n"
    }
   },
   "outputs": [
    {
     "name": "stdout",
     "output_type": "stream",
     "text": [
      "1\n"
     ]
    }
   ],
   "source": [
    "similarity = wl_kernel(adjacency_1, adjacency_2, \"isomorphism\")\n",
    "print(similarity)"
   ]
  },
  {
   "cell_type": "markdown",
   "metadata": {
    "pycharm": {
     "name": "#%% md\n"
    }
   },
   "source": [
    "##  Weisfeiler-Lehman Kernels\n",
    "\n",
    "Shervashidze, Schweitzer, van Leeuwen, Mehlhorn, Borgwardt proposed an approach to graph kernels based\n",
    "on the Weisfeiler-Lehman test of isomorphism. This section will show you how to apply such kernels to your graphs."
   ]
  },
  {
   "cell_type": "markdown",
   "metadata": {
    "pycharm": {
     "name": "#%% md\n"
    }
   },
   "source": [
    "We use the same function as previously for the test of isomorphism : only the arguments change.\n",
    "You can choose either the subtree kernel, or the edge kernel. The former is a lot faster than the latter, as it does not take edges into account."
   ]
  },
  {
   "cell_type": "code",
   "execution_count": null,
   "outputs": [],
   "source": [
    "adjacency_1 = house()\n",
    "adjacency_2 = house()\n",
    "similarity = wl_kernel(adjacency_1, adjacency_2, \"subtree\")\n",
    "print(similarity)"
   ],
   "metadata": {
    "collapsed": false,
    "pycharm": {
     "name": "#%%\n"
    }
   }
  },
  {
   "cell_type": "markdown",
   "metadata": {
    "pycharm": {
     "name": "#%% md\n"
    }
   },
   "source": [
    "The return is an integer that measures the similarity between two graphs.\n",
    "Note that it is not normalized, and can only be evaluated with respect to a specific graph.\n",
    "For instance, you can determine how similar graphs A and B are, and then compare that result to\n",
    "the similarity between graphs A and C.\n",
    "The similarity is maximal for isomorphic graphs."
   ]
  }
 ],
 "metadata": {
  "kernelspec": {
   "display_name": "Python 3",
   "language": "python",
   "name": "python3"
  },
  "language_info": {
   "codemirror_mode": {
    "name": "ipython",
    "version": 3
   },
   "file_extension": ".py",
   "mimetype": "text/x-python",
   "name": "python",
   "nbconvert_exporter": "python",
   "pygments_lexer": "ipython3",
   "version": "3.6.9"
  }
 },
 "nbformat": 4,
 "nbformat_minor": 1
}
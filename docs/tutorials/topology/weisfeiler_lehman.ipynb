{
 "cells": [
  {
   "cell_type": "markdown",
   "metadata": {
    "collapsed": true,
    "pycharm": {
     "name": "#%% md\n"
    }
   },
   "source": [
    "# Graph Similarity Estimation"
   ]
  },
  {
   "cell_type": "markdown",
   "metadata": {
    "pycharm": {
     "name": "#%% md\n"
    }
   },
   "source": [
    "This notebook illustrates the canonical labelling of a graph, Weisfeiler-Lehman test of isomorphism."
   ]
  },
  {
   "cell_type": "code",
   "execution_count": 1,
   "metadata": {
    "pycharm": {
     "name": "#%%\n"
    }
   },
   "outputs": [],
   "source": [
    "from IPython.display import SVG\n",
    "\n",
    "from sknetwork.data import house\n",
    "from sknetwork.topology import WeisfeilerLehman, are_isomorphic\n",
    "from sknetwork.visualization import svg_graph"
   ]
  },
  {
   "cell_type": "code",
   "execution_count": 2,
   "metadata": {
    "pycharm": {
     "name": "#%%\n"
    }
   },
   "outputs": [],
   "source": [
    "graph = house(metadata=True)\n",
    "adjacency = graph.adjacency\n",
    "position = graph.position"
   ]
  },
  {
   "cell_type": "code",
   "execution_count": null,
   "metadata": {
    "pycharm": {
     "name": "#%%\n"
    }
   },
   "outputs": [],
   "source": [
    "weisfeiler_lehman = WeisfeilerLehman()\n",
    "labels = weisfeiler_lehman.fit_transform(adjacency)"
   ]
  },
  {
   "cell_type": "code",
   "execution_count": 5,
   "metadata": {
    "pycharm": {
     "name": "#%%\n"
    }
   },
   "outputs": [
    {
     "data": {
      "image/svg+xml": [
       "<svg height=\"340\" width=\"440\" xmlns=\"http://www.w3.org/2000/svg\"><path d=\"M 220 20 20 120\" stroke=\"black\" stroke-width=\"1\"/><path d=\"M 220 20 420 120\" stroke=\"black\" stroke-width=\"1\"/><path d=\"M 20 120 220 20\" stroke=\"black\" stroke-width=\"1\"/><path d=\"M 20 120 20 320\" stroke=\"black\" stroke-width=\"1\"/><path d=\"M 20 120 420 120\" stroke=\"black\" stroke-width=\"1\"/><path d=\"M 20 320 20 120\" stroke=\"black\" stroke-width=\"1\"/><path d=\"M 20 320 420 320\" stroke=\"black\" stroke-width=\"1\"/><path d=\"M 420 320 20 320\" stroke=\"black\" stroke-width=\"1\"/><path d=\"M 420 320 420 120\" stroke=\"black\" stroke-width=\"1\"/><path d=\"M 420 120 220 20\" stroke=\"black\" stroke-width=\"1\"/><path d=\"M 420 120 20 120\" stroke=\"black\" stroke-width=\"1\"/><path d=\"M 420 120 420 320\" stroke=\"black\" stroke-width=\"1\"/><circle cx=\"220\" cy=\"20\" r=\"7.0\" style=\"fill:green;stroke:black;stroke-width:1.0\"/><circle cx=\"20\" cy=\"120\" r=\"7.0\" style=\"fill:blue;stroke:black;stroke-width:1.0\"/><circle cx=\"20\" cy=\"320\" r=\"7.0\" style=\"fill:red;stroke:black;stroke-width:1.0\"/><circle cx=\"420\" cy=\"320\" r=\"7.0\" style=\"fill:red;stroke:black;stroke-width:1.0\"/><circle cx=\"420\" cy=\"120\" r=\"7.0\" style=\"fill:blue;stroke:black;stroke-width:1.0\"/></svg>"
      ],
      "text/plain": [
       "<IPython.core.display.SVG object>"
      ]
     },
     "execution_count": 5,
     "metadata": {},
     "output_type": "execute_result"
    }
   ],
   "source": [
    "image = svg_graph(adjacency, position, labels=labels)\n",
    "SVG(image)"
   ]
  },
  {
   "cell_type": "code",
   "execution_count": null,
   "metadata": {
    "pycharm": {
     "name": "#%%\n"
    }
   },
   "outputs": [],
   "source": [
    "weisfeiler_lehman = WeisfeilerLehman(max_iter=1)\n",
    "labels = weisfeiler_lehman.fit_transform(adjacency)"
   ]
  },
  {
   "cell_type": "code",
   "execution_count": 6,
   "metadata": {
    "pycharm": {
     "name": "#%%\n"
    }
   },
   "outputs": [
    {
     "data": {
      "image/svg+xml": [
       "<svg height=\"340\" width=\"446.0\" xmlns=\"http://www.w3.org/2000/svg\"><path d=\"M 220 20 20 120\" stroke=\"gray\" stroke-width=\"1\"/><path d=\"M 220 20 420 120\" stroke=\"gray\" stroke-width=\"1\"/><path d=\"M 20 120 220 20\" stroke=\"gray\" stroke-width=\"1\"/><path d=\"M 20 120 20 320\" stroke=\"gray\" stroke-width=\"1\"/><path d=\"M 20 120 420 120\" stroke=\"gray\" stroke-width=\"1\"/><path d=\"M 20 320 20 120\" stroke=\"gray\" stroke-width=\"1\"/><path d=\"M 20 320 420 320\" stroke=\"gray\" stroke-width=\"1\"/><path d=\"M 420 320 20 320\" stroke=\"gray\" stroke-width=\"1\"/><path d=\"M 420 320 420 120\" stroke=\"gray\" stroke-width=\"1\"/><path d=\"M 420 120 220 20\" stroke=\"gray\" stroke-width=\"1\"/><path d=\"M 420 120 20 120\" stroke=\"gray\" stroke-width=\"1\"/><path d=\"M 420 120 420 320\" stroke=\"gray\" stroke-width=\"1\"/><circle cx=\"220\" cy=\"20\" r=\"7.0\" style=\"fill:gray;stroke:black;stroke-width:1.0\"/><circle cx=\"20\" cy=\"120\" r=\"7.0\" style=\"fill:gray;stroke:black;stroke-width:1.0\"/><circle cx=\"20\" cy=\"320\" r=\"7.0\" style=\"fill:gray;stroke:black;stroke-width:1.0\"/><circle cx=\"420\" cy=\"320\" r=\"7.0\" style=\"fill:gray;stroke:black;stroke-width:1.0\"/><circle cx=\"420\" cy=\"120\" r=\"7.0\" style=\"fill:gray;stroke:black;stroke-width:1.0\"/><text font-size=\"12\" x=\"230\" y=\"27\">2</text><text font-size=\"12\" x=\"30\" y=\"127\">0</text><text font-size=\"12\" x=\"30\" y=\"327\">1</text><text font-size=\"12\" x=\"430\" y=\"327\">1</text><text font-size=\"12\" x=\"430\" y=\"127\">0</text></svg>"
      ],
      "text/plain": [
       "<IPython.core.display.SVG object>"
      ]
     },
     "execution_count": 6,
     "metadata": {},
     "output_type": "execute_result"
    }
   ],
   "source": [
    "image = svg_graph(adjacency, position, names=labels)\n",
    "SVG(image)"
   ]
  },
  {
   "cell_type": "markdown",
   "metadata": {
    "pycharm": {
     "name": "#%% md\n"
    }
   },
   "source": [
    "## Weisfeiler-Lehman Test of Isomorphism"
   ]
  },
  {
   "cell_type": "code",
   "execution_count": 8,
   "metadata": {
    "pycharm": {
     "name": "#%%\n"
    }
   },
   "outputs": [],
   "source": [
    "adjacency_1 = house()\n",
    "adjacency_2 = house()\n",
    "\n",
    "are_isomorphic(adjacency_1, adjacency_2)"
   ]
  }
 ],
 "metadata": {
  "kernelspec": {
   "display_name": "Python 3",
   "language": "python",
   "name": "python3"
  },
  "language_info": {
   "codemirror_mode": {
    "name": "ipython",
    "version": 3
   },
   "file_extension": ".py",
   "mimetype": "text/x-python",
   "name": "python",
   "nbconvert_exporter": "python",
   "pygments_lexer": "ipython3",
   "version": "3.7.4"
  }
 },
 "nbformat": 4,
 "nbformat_minor": 1
}

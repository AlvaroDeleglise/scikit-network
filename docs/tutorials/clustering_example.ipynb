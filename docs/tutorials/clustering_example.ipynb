{
 "cells": [
  {
   "cell_type": "markdown",
   "metadata": {},
   "source": [
    "# Using Louvain to find communities in graphs"
   ]
  },
  {
   "cell_type": "markdown",
   "metadata": {
    "ExecuteTime": {
     "end_time": "2019-06-28T09:46:51.491652Z",
     "start_time": "2019-06-28T09:46:51.483017Z"
    }
   },
   "source": [
    "[CyJupyter](https://github.com/cytoscape/cytoscape-jupyter-widget) is used for visualization."
   ]
  },
  {
   "cell_type": "code",
   "execution_count": 1,
   "metadata": {
    "ExecuteTime": {
     "end_time": "2019-07-04T11:47:15.190581Z",
     "start_time": "2019-07-04T11:47:14.511511Z"
    }
   },
   "outputs": [],
   "source": [
    "import numpy as np\n",
    "from sknetwork.toy_graphs import house_graph\n",
    "from cyjupyter import Cytoscape"
   ]
  },
  {
   "cell_type": "code",
   "execution_count": 2,
   "metadata": {
    "ExecuteTime": {
     "end_time": "2019-07-04T11:47:15.208156Z",
     "start_time": "2019-07-04T11:47:15.193529Z"
    }
   },
   "outputs": [],
   "source": [
    "def to_cytoscape_json(adj, labels=None):\n",
    "    if labels==None:\n",
    "        labels = np.arange(adj.shape[0])\n",
    "\n",
    "    res = {}\n",
    "    res['directed'] = False\n",
    "    res[\"elements\"] = {\"nodes\": [], \"edges\": []}\n",
    "    nodes = res[\"elements\"][\"nodes\"]\n",
    "    edges = res[\"elements\"][\"edges\"]\n",
    "\n",
    "    for i in range(adj.shape[0]):\n",
    "        n = {\"data\": {'name' : str(labels[i])}}\n",
    "        n[\"data\"][\"id\"] = str(labels[i])\n",
    "        n[\"data\"][\"value\"] = i\n",
    "        n[\"data\"][\"name\"] = str(labels[i])\n",
    "        nodes.append(n)\n",
    "\n",
    "    for i in range(adj.shape[0]):\n",
    "        for j in range(i, adj.shape[0]):\n",
    "            if adj[i,j]:\n",
    "                n = {\"data\": {'weight' : float(adj[i,j])}}\n",
    "                n[\"data\"][\"source\"] = labels[i]\n",
    "                n[\"data\"][\"target\"] = labels[j]\n",
    "                edges.append(n)\n",
    "    return res"
   ]
  },
  {
   "cell_type": "code",
   "execution_count": 3,
   "metadata": {
    "ExecuteTime": {
     "end_time": "2019-07-04T11:47:15.223970Z",
     "start_time": "2019-07-04T11:47:15.210919Z"
    }
   },
   "outputs": [
    {
     "data": {
      "application/vnd.jupyter.widget-view+json": {
       "model_id": "dbdc4c1e2beb45df91610e5460b7957d",
       "version_major": 2,
       "version_minor": 0
      },
      "text/plain": [
       "Cytoscape(data={'directed': False, 'elements': {'nodes': [{'data': {'name': '0', 'id': '0', 'value': 0}}, {'da…"
      ]
     },
     "metadata": {},
     "output_type": "display_data"
    }
   ],
   "source": [
    "Cytoscape(data = to_cytoscape_json(house_graph()))"
   ]
  },
  {
   "cell_type": "code",
   "execution_count": null,
   "metadata": {},
   "outputs": [],
   "source": []
  }
 ],
 "metadata": {
  "kernelspec": {
   "display_name": "Python 3",
   "language": "python",
   "name": "python3"
  },
  "language_info": {
   "codemirror_mode": {
    "name": "ipython",
    "version": 3
   },
   "file_extension": ".py",
   "mimetype": "text/x-python",
   "name": "python",
   "nbconvert_exporter": "python",
   "pygments_lexer": "ipython3",
   "version": "3.7.1"
  },
  "toc": {
   "base_numbering": 1,
   "nav_menu": {},
   "number_sections": true,
   "sideBar": true,
   "skip_h1_title": false,
   "title_cell": "Table of Contents",
   "title_sidebar": "Contents",
   "toc_cell": false,
   "toc_position": {},
   "toc_section_display": true,
   "toc_window_display": false
  }
 },
 "nbformat": 4,
 "nbformat_minor": 2
}

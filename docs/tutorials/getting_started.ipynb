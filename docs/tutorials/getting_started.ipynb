{
 "cells": [
  {
   "cell_type": "markdown",
   "metadata": {},
   "source": [
    "## Getting started"
   ]
  },
  {
   "cell_type": "markdown",
   "metadata": {},
   "source": [
    "Scikit-network uses the [Compressed Sparse Row format](https://docs.scipy.org/doc/scipy/reference/generated/scipy.sparse.csr_matrix.html) from Scipy to represent the adjacency matrices of graphs.\n",
    "\n",
    "This is the format to give to almost every algorithm in Scikit-network.\n",
    "\n",
    "In this tutorial, we will see a few methods to instantiate such inputs."
   ]
  },
  {
   "cell_type": "code",
   "execution_count": 16,
   "metadata": {
    "collapsed": false,
    "jupyter": {
     "outputs_hidden": false
    },
    "pycharm": {
     "name": "#%%\n"
    }
   },
   "outputs": [],
   "source": [
    "from IPython.display import SVG\n",
    "\n",
    "import numpy as np\n",
    "from scipy import sparse\n",
    "\n",
    "from sknetwork.utils import edgelist2csr\n",
    "from sknetwork.visualization import svg_graph, svg_digraph"
   ]
  },
  {
   "cell_type": "markdown",
   "metadata": {},
   "source": [
    "### From a numpy array\n",
    "For small graphs, you can build an adjacency as a dense numpy array and turn it into a CSR.\n",
    "Here is how to build a random graph with 10 nodes."
   ]
  },
  {
   "cell_type": "code",
   "execution_count": 17,
   "metadata": {
    "collapsed": false,
    "jupyter": {
     "outputs_hidden": false
    },
    "pycharm": {
     "name": "#%%\n"
    }
   },
   "outputs": [
    {
     "data": {
      "text/plain": "<IPython.core.display.SVG object>",
      "image/svg+xml": "<svg xmlns=\"http://www.w3.org/2000/svg\" width=\"440\" height=\"340\"><path stroke-width=\"1\" stroke=\"black\" d=\"M 420 87 320 90\"/><path stroke-width=\"1\" stroke=\"black\" d=\"M 322 149 420 87\"/><path stroke-width=\"1\" stroke=\"black\" d=\"M 108 37 108 37\"/><path stroke-width=\"1\" stroke=\"black\" d=\"M 108 37 157 126\"/><path stroke-width=\"1\" stroke=\"black\" d=\"M 108 37 226 61\"/><path stroke-width=\"1\" stroke=\"black\" d=\"M 352 20 420 87\"/><path stroke-width=\"1\" stroke=\"black\" d=\"M 352 20 226 61\"/><path stroke-width=\"1\" stroke=\"black\" d=\"M 20 320 20 320\"/><path stroke-width=\"1\" stroke=\"black\" d=\"M 157 126 322 149\"/><path stroke-width=\"1\" stroke=\"black\" d=\"M 157 126 105 230\"/><path stroke-width=\"1\" stroke=\"black\" d=\"M 157 126 226 61\"/><path stroke-width=\"1\" stroke=\"black\" d=\"M 213 162 320 90\"/><path stroke-width=\"1\" stroke=\"black\" d=\"M 213 162 226 61\"/><path stroke-width=\"1\" stroke=\"black\" d=\"M 320 90 322 149\"/><path stroke-width=\"1\" stroke=\"black\" d=\"M 320 90 352 20\"/><path stroke-width=\"1\" stroke=\"black\" d=\"M 320 90 213 162\"/><path stroke-width=\"1\" stroke=\"black\" d=\"M 320 90 226 61\"/><path stroke-width=\"1\" stroke=\"black\" d=\"M 105 230 20 320\"/><path stroke-width=\"1\" stroke=\"black\" d=\"M 105 230 213 162\"/><path stroke-width=\"1\" stroke=\"black\" d=\"M 105 230 105 230\"/><path stroke-width=\"1\" stroke=\"black\" d=\"M 226 61 157 126\"/><circle cx=\"420\" cy=\"87\" r=\"7.0\" style=\"fill:gray;stroke:black;stroke-width:1.0\"/><circle cx=\"322\" cy=\"149\" r=\"7.0\" style=\"fill:gray;stroke:black;stroke-width:1.0\"/><circle cx=\"108\" cy=\"37\" r=\"7.0\" style=\"fill:gray;stroke:black;stroke-width:1.0\"/><circle cx=\"352\" cy=\"20\" r=\"7.0\" style=\"fill:gray;stroke:black;stroke-width:1.0\"/><circle cx=\"20\" cy=\"320\" r=\"7.0\" style=\"fill:gray;stroke:black;stroke-width:1.0\"/><circle cx=\"157\" cy=\"126\" r=\"7.0\" style=\"fill:gray;stroke:black;stroke-width:1.0\"/><circle cx=\"213\" cy=\"162\" r=\"7.0\" style=\"fill:gray;stroke:black;stroke-width:1.0\"/><circle cx=\"320\" cy=\"90\" r=\"7.0\" style=\"fill:gray;stroke:black;stroke-width:1.0\"/><circle cx=\"105\" cy=\"230\" r=\"7.0\" style=\"fill:gray;stroke:black;stroke-width:1.0\"/><circle cx=\"226\" cy=\"61\" r=\"7.0\" style=\"fill:gray;stroke:black;stroke-width:1.0\"/></svg>"
     },
     "execution_count": 17,
     "metadata": {},
     "output_type": "execute_result"
    }
   ],
   "source": [
    "adjacency = (np.random.rand(100) > 0.8).reshape((10, 10))\n",
    "adjacency = sparse.csr_matrix(adjacency)\n",
    "\n",
    "image = svg_graph(adjacency)\n",
    "SVG(image)"
   ]
  },
  {
   "cell_type": "markdown",
   "metadata": {},
   "source": [
    "### From an edgelist\n",
    "Another natural way to build a graph is to build an edgelist first.\n",
    "Then, Scikit-network provides a function to transform it into a CSR."
   ]
  },
  {
   "cell_type": "code",
   "execution_count": 18,
   "metadata": {
    "collapsed": false,
    "jupyter": {
     "outputs_hidden": false
    },
    "pycharm": {
     "name": "#%%\n"
    }
   },
   "outputs": [
    {
     "data": {
      "text/plain": "<IPython.core.display.SVG object>",
      "image/svg+xml": "<svg xmlns=\"http://www.w3.org/2000/svg\" width=\"440\" height=\"340\"><defs><marker id=\"arrow\" markerWidth=\"10\" markerHeight=\"10\" refX=\"9\" refY=\"3\" orient=\"auto\"><path d=\"M0,0 L0,6 L9,3 z\" fill=\"black\"/></marker></defs><path stroke-width=\"1\" stroke=\"black\" d=\"M 420 188 122 318\" marker-end=\"url(#arrow)\"/><path stroke-width=\"1\" stroke=\"black\" d=\"M 420 188 26 154\" marker-end=\"url(#arrow)\"/><path stroke-width=\"1\" stroke=\"black\" d=\"M 116 320 23 160\" marker-end=\"url(#arrow)\"/><path stroke-width=\"1\" stroke=\"black\" d=\"M 20 154 315 22\" marker-end=\"url(#arrow)\"/><path stroke-width=\"1\" stroke=\"black\" d=\"M 321 20 417 182\" marker-end=\"url(#arrow)\"/><circle cx=\"420\" cy=\"188\" r=\"7.0\" style=\"fill:gray;stroke:black;stroke-width:1.0\"/><circle cx=\"116\" cy=\"320\" r=\"7.0\" style=\"fill:gray;stroke:black;stroke-width:1.0\"/><circle cx=\"20\" cy=\"154\" r=\"7.0\" style=\"fill:gray;stroke:black;stroke-width:1.0\"/><circle cx=\"321\" cy=\"20\" r=\"7.0\" style=\"fill:gray;stroke:black;stroke-width:1.0\"/></svg>"
     },
     "execution_count": 18,
     "metadata": {},
     "output_type": "execute_result"
    }
   ],
   "source": [
    "edgelist = [(0, 1), (1, 2), (2, 3), (3, 0), (0, 2)]\n",
    "adjacency = edgelist2csr(edgelist)\n",
    "\n",
    "image = svg_digraph(adjacency)\n",
    "SVG(image)"
   ]
  },
  {
   "cell_type": "markdown",
   "metadata": {},
   "source": [
    "By default, the graph is treated as directed, but you can use the **undirected** option to make it undirected."
   ]
  },
  {
   "cell_type": "code",
   "execution_count": 19,
   "metadata": {
    "collapsed": false,
    "jupyter": {
     "outputs_hidden": false
    },
    "pycharm": {
     "name": "#%%\n"
    }
   },
   "outputs": [
    {
     "data": {
      "text/plain": "<IPython.core.display.SVG object>",
      "image/svg+xml": "<svg xmlns=\"http://www.w3.org/2000/svg\" width=\"440\" height=\"340\"><defs><marker id=\"arrow\" markerWidth=\"10\" markerHeight=\"10\" refX=\"9\" refY=\"3\" orient=\"auto\"><path d=\"M0,0 L0,6 L9,3 z\" fill=\"black\"/></marker></defs><path stroke-width=\"1\" stroke=\"black\" d=\"M 420 180 287 25\" marker-end=\"url(#arrow)\"/><path stroke-width=\"1\" stroke=\"black\" d=\"M 420 180 26 159\" marker-end=\"url(#arrow)\"/><path stroke-width=\"1\" stroke=\"black\" d=\"M 420 180 162 317\" marker-end=\"url(#arrow)\"/><path stroke-width=\"1\" stroke=\"black\" d=\"M 283 20 416 175\" marker-end=\"url(#arrow)\"/><path stroke-width=\"1\" stroke=\"black\" d=\"M 283 20 26 156\" marker-end=\"url(#arrow)\"/><path stroke-width=\"1\" stroke=\"black\" d=\"M 20 159 414 180\" marker-end=\"url(#arrow)\"/><path stroke-width=\"1\" stroke=\"black\" d=\"M 20 159 277 23\" marker-end=\"url(#arrow)\"/><path stroke-width=\"1\" stroke=\"black\" d=\"M 20 159 152 315\" marker-end=\"url(#arrow)\"/><path stroke-width=\"1\" stroke=\"black\" d=\"M 156 320 414 183\" marker-end=\"url(#arrow)\"/><path stroke-width=\"1\" stroke=\"black\" d=\"M 156 320 24 164\" marker-end=\"url(#arrow)\"/><circle cx=\"420\" cy=\"180\" r=\"7.0\" style=\"fill:gray;stroke:black;stroke-width:1.0\"/><circle cx=\"283\" cy=\"20\" r=\"7.0\" style=\"fill:gray;stroke:black;stroke-width:1.0\"/><circle cx=\"20\" cy=\"159\" r=\"7.0\" style=\"fill:gray;stroke:black;stroke-width:1.0\"/><circle cx=\"156\" cy=\"320\" r=\"7.0\" style=\"fill:gray;stroke:black;stroke-width:1.0\"/></svg>"
     },
     "execution_count": 19,
     "metadata": {},
     "output_type": "execute_result"
    }
   ],
   "source": [
    "adjacency = edgelist2csr(edgelist, undirected=True)\n",
    "\n",
    "image = svg_digraph(adjacency)\n",
    "SVG(image)"
   ]
  },
  {
   "cell_type": "markdown",
   "metadata": {},
   "source": [
    "You might also want to add weights to your edges. Just use triplets instead of pairs!"
   ]
  },
  {
   "cell_type": "code",
   "execution_count": 20,
   "metadata": {
    "collapsed": false,
    "jupyter": {
     "outputs_hidden": false
    },
    "pycharm": {
     "name": "#%%\n"
    }
   },
   "outputs": [
    {
     "data": {
      "text/plain": "<IPython.core.display.SVG object>",
      "image/svg+xml": "<svg xmlns=\"http://www.w3.org/2000/svg\" width=\"440\" height=\"340\"><defs><marker id=\"arrow\" markerWidth=\"10\" markerHeight=\"10\" refX=\"9\" refY=\"3\" orient=\"auto\"><path d=\"M0,0 L0,6 L9,3 z\" fill=\"black\"/></marker></defs><path stroke-width=\"5.25\" stroke=\"black\" d=\"M 420 199 68 318\" marker-end=\"url(#arrow)\"/><path stroke-width=\"10.0\" stroke=\"black\" d=\"M 420 199 26 141\" marker-end=\"url(#arrow)\"/><path stroke-width=\"2.875\" stroke=\"black\" d=\"M 62 320 21 146\" marker-end=\"url(#arrow)\"/><path stroke-width=\"5.25\" stroke=\"black\" d=\"M 20 140 371 22\" marker-end=\"url(#arrow)\"/><path stroke-width=\"2.875\" stroke=\"black\" d=\"M 377 20 419 193\" marker-end=\"url(#arrow)\"/><circle cx=\"420\" cy=\"199\" r=\"7.0\" style=\"fill:gray;stroke:black;stroke-width:1.0\"/><circle cx=\"62\" cy=\"320\" r=\"7.0\" style=\"fill:gray;stroke:black;stroke-width:1.0\"/><circle cx=\"20\" cy=\"140\" r=\"7.0\" style=\"fill:gray;stroke:black;stroke-width:1.0\"/><circle cx=\"377\" cy=\"20\" r=\"7.0\" style=\"fill:gray;stroke:black;stroke-width:1.0\"/></svg>"
     },
     "execution_count": 20,
     "metadata": {},
     "output_type": "execute_result"
    }
   ],
   "source": [
    "edgelist = [(0, 1, 1), (1, 2, 0.5), (2, 3, 1), (3, 0, 0.5), (0, 2, 2)]\n",
    "adjacency = edgelist2csr(edgelist)\n",
    "\n",
    "image = svg_digraph(adjacency)\n",
    "SVG(image)"
   ]
  },
  {
   "cell_type": "markdown",
   "metadata": {},
   "source": [
    "### Other options:\n",
    "* You have a tsv file containing an edgelist\n",
    "* You want to test our toy graphs\n",
    "* You want to generate a graph from a model\n",
    "* You want to load a graph from one of our partner repositories\n",
    "\n",
    "Go take a look at the tutorials of the **data** section !"
   ]
  }
 ],
 "metadata": {
  "kernelspec": {
   "display_name": "Python 3",
   "language": "python",
   "name": "python3"
  },
  "language_info": {
   "codemirror_mode": {
    "name": "ipython",
    "version": 3
   },
   "file_extension": ".py",
   "mimetype": "text/x-python",
   "name": "python",
   "nbconvert_exporter": "python",
   "pygments_lexer": "ipython3",
   "version": "3.8.3rc1"
  }
 },
 "nbformat": 4,
 "nbformat_minor": 4
}